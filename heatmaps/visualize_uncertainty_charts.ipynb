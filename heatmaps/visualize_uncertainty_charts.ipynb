{
 "cells": [
  {
   "cell_type": "code",
   "execution_count": 2,
   "metadata": {},
   "outputs": [],
   "source": [
    "import sys\n",
    "sys.path.append('/home/ahabis/2-Scribble_project')\n",
    "from config import *\n",
    "import matplotlib.pyplot as plt\n",
    "import numpy as np\n",
    "import seaborn as sns\n",
    "from scipy import stats\n",
    "from uncertainty_metrics import *\n",
    "import pandas as pd"
   ]
  },
  {
   "cell_type": "code",
   "execution_count": 3,
   "metadata": {},
   "outputs": [],
   "source": [
    "def metrics(predictions, trues):\n",
    "    tp = np.sum((predictions) * trues)\n",
    "    tn = np.sum((1 - predictions) * (1 - trues))\n",
    "    fp = np.sum((predictions) * (1 - trues))\n",
    "    fn = np.sum((1 - predictions) * trues)\n",
    "    eps = 1e-6\n",
    "    precision_healthy = tn / (tn + fn + eps)\n",
    "    precision_tumor = tp / (tp + fp + eps)\n",
    "    # print(precision_tumor)\n",
    "    m_precision = (precision_healthy + precision_tumor) / 2\n",
    "    recall_tumor = tp / (tp + fn + eps)\n",
    "    # print(recall_tumor)\n",
    "\n",
    "    recall_healthy = tn / (tn + fp + eps)\n",
    "    m_recall = (recall_tumor + recall_healthy) / 2\n",
    "    f1 = 2 * (m_precision * m_recall) / (m_precision + m_recall + eps)\n",
    "    balanced_accuracy = (m_precision + m_recall) / 2\n",
    "    \n",
    "    return balanced_accuracy, m_precision, m_recall, f1"
   ]
  },
  {
   "cell_type": "code",
   "execution_count": 38,
   "metadata": {},
   "outputs": [],
   "source": [
    "image_list = os.listdir(path_prediction_features)\n",
    "normalized_stds = np.zeros(len(image_list))\n",
    "normalized_entropies = np.zeros(len(image_list))\n",
    "# normalized_binary_ratios = np.zeros(len(image_list))\n",
    "images_f_scores = np.zeros(len(image_list))\n",
    "\n",
    "for i, image in enumerate(image_list[:]):\n",
    "\n",
    "    current_image_prediction_path = os.path.join(path_prediction_features, image, 'predictions.npy')\n",
    "    current_image_trues_path = os.path.join(path_prediction_features, image, 'trues.npy')\n",
    "    trues = np.load(current_image_trues_path)\n",
    "    mc_predictions = np.squeeze(np.load(current_image_prediction_path))\n",
    "    # print(mc_predictions.shape)\n",
    "    # STDs\n",
    "    normalized_stds[i] = compute_std(mc_predictions,\n",
    "                                     patch_level=False,\n",
    "                                     optimal_threshold=0.33)\n",
    "    # Entropy\n",
    "    normalized_entropies[i] = compute_entropy(mc_predictions,\n",
    "                                              patch_level=False,\n",
    "                                              optimal_threshold=0.33)\n",
    "    # normalized_binary_ratios[i] = compute_minority_vote_ratio(mc_predictions, patch_level=False)\n",
    "    #F1 Scores\n",
    "    f1 = metrics(np.mean(mc_predictions,0),trues)[3]\n",
    "    images_f_scores[i] = f1\n",
    "\n",
    "_, _, r_value_entropy, _, _ = stats.linregress(normalized_entropies, images_f_scores)\n",
    "_, _, r_value_stds, _, _ = stats.linregress(normalized_stds, images_f_scores)\n"
   ]
  },
  {
   "cell_type": "code",
   "execution_count": null,
   "metadata": {},
   "outputs": [],
   "source": [
    "n = normalized_entropies.shape[0]\n",
    "sns.set_theme()\n",
    "\n",
    "sns.set(font_scale=1.3)\n",
    "\n",
    "uncertainty_values = np.concatenate([normalized_entropies, normalized_stds])\n",
    "uncertainty = np.concatenate([np.repeat(\"Entropy\", n), np.repeat(\"Std\", n)])\n",
    "images_f_scores_fin = np.concatenate([images_f_scores, images_f_scores])\n",
    "x = np.stack([uncertainty_values, images_f_scores_fin], axis=-1)\n",
    "\n",
    "df = pd.DataFrame(x, columns=[\"WSI-level Uncertainty value\", \"WSI-level F1 score\"])\n",
    "df[\"WSI-level Uncertainty\"] = uncertainty\n",
    "\n",
    "sns.lmplot(\n",
    "    data=df,\n",
    "    x=\"WSI-level F1 score\",\n",
    "    y=\"WSI-level Uncertainty value\",\n",
    "    hue=\"WSI-level Uncertainty\",\n",
    "    col=\"WSI-level Uncertainty\",\n",
    "    sharey=False,\n",
    "    facet_kws=dict(sharex=False, sharey=False),\n",
    ")\n",
    "props = dict(boxstyle=\"round\", facecolor=\"wheat\", alpha=0.5)\n",
    "\n",
    "plt.text(\n",
    "    0.17,\n",
    "    0.09,\n",
    "    \"R² ={}\".format(np.round(r_value_entropy**2, 2)),\n",
    "    fontsize=18,\n",
    "    verticalalignment=\"top\",\n",
    "    bbox=props,\n",
    ")\n",
    "\n",
    "plt.text(\n",
    "    0.75,\n",
    "    0.09,\n",
    "    \"R² ={}\".format(np.round(r_value_stds**2, 2)),\n",
    "    fontsize=18,\n",
    "    verticalalignment=\"top\",\n",
    "    bbox=props,\n",
    ")\n",
    "\n",
    "# plt.grid()\n",
    "# seaborn.set_style('ticks')\n",
    "import matplotlib\n",
    "\n",
    "matplotlib.rc(\"xtick\", labelsize=5)\n",
    "matplotlib.rc(\"ytick\", labelsize=5)\n",
    "plt.show()"
   ]
  },
  {
   "cell_type": "code",
   "execution_count": 10,
   "metadata": {},
   "outputs": [],
   "source": [
    "from openslide import OpenSlide\n",
    "import os\n",
    "filename = os.listdir(path_slide_true_masks)[0]\n"
   ]
  },
  {
   "cell_type": "code",
   "execution_count": 15,
   "metadata": {},
   "outputs": [
    {
     "data": {
      "image/png": "[encoded data removed]",
      "text/plain": [
       "<PIL.Image.Image image mode=RGB size=500x500>"
      ]
     },
     "execution_count": 15,
     "metadata": {},
     "output_type": "execute_result"
    }
   ],
   "source": [
    "img = OpenSlide(os.path.join(path_slide_true_masks,filename))\n",
    "img.get_thumbnail((500,500))"
   ]
  }
 ],
 "metadata": {
  "kernelspec": {
   "display_name": "Python 3 (ipykernel)",
   "language": "python",
   "name": "python3"
  },
  "language_info": {
   "codemirror_mode": {
    "name": "ipython",
    "version": 3
   },
   "file_extension": ".py",
   "mimetype": "text/x-python",
   "name": "python",
   "nbconvert_exporter": "python",
   "pygments_lexer": "ipython3",
   "version": "3.8.10"
  },
  "orig_nbformat": 4
 },
 "nbformat": 4,
 "nbformat_minor": 2
}
