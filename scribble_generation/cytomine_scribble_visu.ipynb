{
 "cells": [
  {
   "cell_type": "markdown",
   "id": "b9117745",
   "metadata": {},
   "source": [
    "# Scribble visualisation:\n",
    "\n",
    "#### This Notebook is a visualisation tool:\n",
    "#### With this notebook you can:\n",
    "#### - Visualize pathologist annotations\n",
    "#### - Create scribbles for healthy regions and metastatic regions\n",
    "#### - Send pathologist annotations and scribbles annotations to cytomine"
   ]
  },
  {
   "cell_type": "code",
   "execution_count": 1,
   "id": "fd346bb8",
   "metadata": {},
   "outputs": [],
   "source": [
    "import sys\n",
    "from pathlib import Path\n",
    "sys.path.append('/home/ahabis/2-Scribble_project')"
   ]
  },
  {
   "cell_type": "markdown",
   "id": "8adf30ba",
   "metadata": {},
   "source": [
    "### Libraries to import "
   ]
  },
  {
   "cell_type": "code",
   "execution_count": 2,
   "id": "8e3fdd49",
   "metadata": {},
   "outputs": [],
   "source": [
    "from config import *\n",
    "from utils import *\n",
    "from cytomine.models import ProjectCollection\n",
    "from cytomine import Cytomine\n",
    "from cytomine.models import CurrentUser\n",
    "from send_annotation import *\n",
    "from dell_annotation import delete_annotations\n",
    "from send_annotation import Send\n",
    "from scribble_inside_shape import Scribble\n",
    "import warnings\n",
    "import numpy as np\n",
    "import matplotlib.pyplot as plt\n",
    "\n",
    "warnings.filterwarnings('ignore')\n",
    "pb_key = os.environ['PB_KEY']\n",
    "pv_key = os.environ['PV_KEY']\n",
    "host = 'https://nsclc.cytomine.com'"
   ]
  },
  {
   "cell_type": "code",
   "execution_count": 3,
   "id": "0d4286f8",
   "metadata": {},
   "outputs": [
    {
     "data": {
      "text/plain": [
       "(60494, 3)"
      ]
     },
     "execution_count": 3,
     "metadata": {},
     "output_type": "execute_result"
    }
   ],
   "source": [
    "import pandas as pd\n",
    "dataframe_test = pd.read_csv(path_dataframe_test,index_col = 0)\n",
    "dataframe_test.shape\n"
   ]
  },
  {
   "cell_type": "markdown",
   "id": "60209185",
   "metadata": {},
   "source": [
    "### Image Selection"
   ]
  },
  {
   "cell_type": "code",
   "execution_count": 4,
   "id": "5aed606b",
   "metadata": {},
   "outputs": [],
   "source": [
    "### CHOOSE THE IMAGE YOU WANT TO WOR WITH \n",
    "filename = 'test_046'\n",
    "#### Write if the image comes from train or test set\n",
    "split = 'test'\n",
    "###### CHECK THE ID on CYTOMINE\n",
    "project = 10355395\n",
    "image = 16770152\n",
    "####\n",
    "if split == 'train':\n",
    "    path_image = os.path.join(path_slide_tumor_train,filename+'.tif')\n",
    "else:\n",
    "    path_image = os.path.join(path_slide_tumor_test,filename+'.tif')"
   ]
  },
  {
   "cell_type": "code",
   "execution_count": 5,
   "id": "e7b34e00",
   "metadata": {},
   "outputs": [],
   "source": [
    "img = OpenSlide(path_image)"
   ]
  },
  {
   "cell_type": "markdown",
   "id": "5fb3f0cc",
   "metadata": {},
   "source": [
    "### Visualisation of the Scribble"
   ]
  },
  {
   "cell_type": "code",
   "execution_count": 6,
   "id": "91dd2faf",
   "metadata": {},
   "outputs": [],
   "source": [
    "s = Scribble(filename,\n",
    "             percent=0.0,\n",
    "             show = True,\n",
    "             split =split)\n",
    "dataframe_annotation = s.create_dataframe_annotations()"
   ]
  },
  {
   "cell_type": "code",
   "execution_count": 7,
   "id": "d0763526",
   "metadata": {},
   "outputs": [],
   "source": [
    "# x = 0\n",
    "\n",
    "# # for filename in os.listdir(path_slide_tumor_train):\n",
    "#     # print(filename)\n",
    "# s = Scribble(filename.split('.')[0],\n",
    "#             percent=0.0,\n",
    "#             show = True,\n",
    "#             split =split)\n",
    "# dataframe_annotation = s.create_dataframe_annotations()\n",
    "# x += np.minimum(dataframe_annotation.shape[-1],10)\n"
   ]
  },
  {
   "cell_type": "code",
   "execution_count": 8,
   "id": "2dc1af11",
   "metadata": {},
   "outputs": [],
   "source": [
    "def visualize_scribble(dataframe_annotation,annotation_id):\n",
    "\n",
    "    size1 = 15\n",
    "    size2 = 12\n",
    "    \n",
    "    ann = dataframe_annotation[annotation_id]\n",
    "    ann = ann[~ann.isnull()]\n",
    "    ann_not_null = np.stack(ann)\n",
    "    top = ann_not_null[:10]\n",
    "    ann = np.concatenate([ann_not_null, top],0)\n",
    "\n",
    "\n",
    "    plt.plot(ann[:,0], ann[:,1],color='orange',label='original contour')\n",
    "    plt.legend(loc=3, prop={'size': size1})\n",
    "    plt.axis('off')\n",
    "\n",
    "    plt.show()\n",
    "    arr, contour, scribble,coordinates = s.scribble(ann_not_null)\n",
    "\n",
    "    plt.plot(contour[:,0], contour[:,1])\n",
    "    plt.scatter(coordinates[:,0], coordinates[:,1],color='k', label='sampled points')\n",
    "    plt.axis('off')\n",
    "\n",
    "        "
   ]
  },
  {
   "cell_type": "code",
   "execution_count": 16,
   "id": "7f306877",
   "metadata": {
    "scrolled": false
   },
   "outputs": [
    {
     "name": "stdout",
     "output_type": "stream",
     "text": [
      "test_046\n"
     ]
    }
   ],
   "source": [
    "# visualize_scribble(dataframe_annotation,annotation_id)\n",
    "print(filename)"
   ]
  },
  {
   "cell_type": "markdown",
   "id": "886ca40a",
   "metadata": {},
   "source": [
    "### This code will get the pathologist's annotations, generate scribbles and send them to cytomine"
   ]
  },
  {
   "cell_type": "code",
   "execution_count": 9,
   "id": "ae803b45",
   "metadata": {
    "scrolled": false
   },
   "outputs": [
    {
     "ename": "HistolabException",
     "evalue": "NotADirectoryError(20, 'Not a directory'). This slide may be corrupted or have a non-standard format not handled by the openslide and PIL libraries. Consider setting use_largeimage to True when instantiating this Slide.",
     "output_type": "error",
     "traceback": [
      "\u001b[0;31m---------------------------------------------------------------------------\u001b[0m",
      "\u001b[0;31mOpenSlideUnsupportedFormatError\u001b[0m           Traceback (most recent call last)",
      "File \u001b[0;32m~/.local/lib/python3.8/site-packages/openslide/__init__.py:388\u001b[0m, in \u001b[0;36mopen_slide\u001b[0;34m(filename)\u001b[0m\n\u001b[1;32m    387\u001b[0m \u001b[39mtry\u001b[39;00m:\n\u001b[0;32m--> 388\u001b[0m     \u001b[39mreturn\u001b[39;00m OpenSlide(filename)\n\u001b[1;32m    389\u001b[0m \u001b[39mexcept\u001b[39;00m OpenSlideUnsupportedFormatError:\n",
      "File \u001b[0;32m~/.local/lib/python3.8/site-packages/openslide/__init__.py:160\u001b[0m, in \u001b[0;36mOpenSlide.__init__\u001b[0;34m(self, filename)\u001b[0m\n\u001b[1;32m    159\u001b[0m \u001b[39mself\u001b[39m\u001b[39m.\u001b[39m_filename \u001b[39m=\u001b[39m filename\n\u001b[0;32m--> 160\u001b[0m \u001b[39mself\u001b[39m\u001b[39m.\u001b[39m_osr \u001b[39m=\u001b[39m lowlevel\u001b[39m.\u001b[39;49mopen(filename)\n",
      "File \u001b[0;32m~/.local/lib/python3.8/site-packages/openslide/lowlevel.py:128\u001b[0m, in \u001b[0;36m_check_open\u001b[0;34m(result, _func, _args)\u001b[0m\n\u001b[1;32m    127\u001b[0m \u001b[39mif\u001b[39;00m result \u001b[39mis\u001b[39;00m \u001b[39mNone\u001b[39;00m:\n\u001b[0;32m--> 128\u001b[0m     \u001b[39mraise\u001b[39;00m OpenSlideUnsupportedFormatError(\n\u001b[1;32m    129\u001b[0m             \u001b[39m\"\u001b[39m\u001b[39mUnsupported or missing image file\u001b[39m\u001b[39m\"\u001b[39m)\n\u001b[1;32m    130\u001b[0m slide \u001b[39m=\u001b[39m _OpenSlide(c_void_p(result))\n",
      "\u001b[0;31mOpenSlideUnsupportedFormatError\u001b[0m: Unsupported or missing image file",
      "\nDuring handling of the above exception, another exception occurred:\n",
      "\u001b[0;31mNotADirectoryError\u001b[0m                        Traceback (most recent call last)",
      "File \u001b[0;32m~/.local/lib/python3.8/site-packages/histolab/slide.py:733\u001b[0m, in \u001b[0;36mSlide._wsi\u001b[0;34m(self)\u001b[0m\n\u001b[1;32m    732\u001b[0m \u001b[39mtry\u001b[39;00m:\n\u001b[0;32m--> 733\u001b[0m     slide \u001b[39m=\u001b[39m openslide\u001b[39m.\u001b[39;49mopen_slide(\u001b[39mself\u001b[39;49m\u001b[39m.\u001b[39;49m_path)\n\u001b[1;32m    734\u001b[0m \u001b[39mexcept\u001b[39;00m PIL\u001b[39m.\u001b[39mUnidentifiedImageError:\n",
      "File \u001b[0;32m~/.local/lib/python3.8/site-packages/openslide/__init__.py:390\u001b[0m, in \u001b[0;36mopen_slide\u001b[0;34m(filename)\u001b[0m\n\u001b[1;32m    389\u001b[0m \u001b[39mexcept\u001b[39;00m OpenSlideUnsupportedFormatError:\n\u001b[0;32m--> 390\u001b[0m     \u001b[39mreturn\u001b[39;00m ImageSlide(filename)\n",
      "File \u001b[0;32m~/.local/lib/python3.8/site-packages/openslide/__init__.py:285\u001b[0m, in \u001b[0;36mImageSlide.__init__\u001b[0;34m(self, file)\u001b[0m\n\u001b[1;32m    284\u001b[0m \u001b[39mself\u001b[39m\u001b[39m.\u001b[39m_close \u001b[39m=\u001b[39m \u001b[39mTrue\u001b[39;00m\n\u001b[0;32m--> 285\u001b[0m \u001b[39mself\u001b[39m\u001b[39m.\u001b[39m_image \u001b[39m=\u001b[39m Image\u001b[39m.\u001b[39;49mopen(file)\n",
      "File \u001b[0;32m~/.local/lib/python3.8/site-packages/PIL/Image.py:3227\u001b[0m, in \u001b[0;36mopen\u001b[0;34m(fp, mode, formats)\u001b[0m\n\u001b[1;32m   3226\u001b[0m \u001b[39mif\u001b[39;00m filename:\n\u001b[0;32m-> 3227\u001b[0m     fp \u001b[39m=\u001b[39m builtins\u001b[39m.\u001b[39;49mopen(filename, \u001b[39m\"\u001b[39;49m\u001b[39mrb\u001b[39;49m\u001b[39m\"\u001b[39;49m)\n\u001b[1;32m   3228\u001b[0m     exclusive_fp \u001b[39m=\u001b[39m \u001b[39mTrue\u001b[39;00m\n",
      "\u001b[0;31mNotADirectoryError\u001b[0m: [Errno 20] Not a directory: '/home/ahabis/sshfs/CAMELYON/test/tumor/test_046.tif/.tif'",
      "\nDuring handling of the above exception, another exception occurred:\n",
      "\u001b[0;31mHistolabException\u001b[0m                         Traceback (most recent call last)",
      "\u001b[1;32m/home/ahabis/2-Scribble_project/scribble_generation/cytomine_scribble_visu.ipynb Cell 15\u001b[0m line \u001b[0;36m1\n\u001b[0;32m----> <a href='vscode-notebook-cell://ssh-remote%2Bdell1/home/ahabis/2-Scribble_project/scribble_generation/cytomine_scribble_visu.ipynb#X23sdnNjb2RlLXJlbW90ZQ%3D%3D?line=0'>1</a>\u001b[0m contour_tumor, scribble_tumor, contour_healthy, scribble_healthy \u001b[39m=\u001b[39m get_scribbles_and_annotations(filename\u001b[39m+\u001b[39;49m\u001b[39m'\u001b[39;49m\u001b[39m.tif\u001b[39;49m\u001b[39m'\u001b[39;49m, \u001b[39m'\u001b[39;49m\u001b[39mtest\u001b[39;49m\u001b[39m'\u001b[39;49m)\n",
      "File \u001b[0;32m~/2-Scribble_project/scribble_generation/utils.py:37\u001b[0m, in \u001b[0;36mget_scribbles_and_annotations\u001b[0;34m(filename, split)\u001b[0m\n\u001b[1;32m     29\u001b[0m \u001b[39m### First extract the largest tissue component on the slide \u001b[39;00m\n\u001b[1;32m     30\u001b[0m \u001b[39m#to generate a healthy scribble later\u001b[39;00m\n\u001b[1;32m     32\u001b[0m slide \u001b[39m=\u001b[39m Slide(os\u001b[39m.\u001b[39mpath\u001b[39m.\u001b[39mjoin(path_image,filename,\u001b[39m'\u001b[39m\u001b[39m.tif\u001b[39m\u001b[39m'\u001b[39m), processed_path\u001b[39m=\u001b[39m\u001b[39m\"\u001b[39m\u001b[39m\"\u001b[39m)\n\u001b[1;32m     34\u001b[0m mask \u001b[39m=\u001b[39m TissueMask(\n\u001b[1;32m     35\u001b[0m     RgbToGrayscale(),\n\u001b[1;32m     36\u001b[0m     OtsuThreshold(),\n\u001b[0;32m---> 37\u001b[0m     ApplyMaskImage(slide\u001b[39m.\u001b[39;49mthumbnail),\n\u001b[1;32m     38\u001b[0m     GreenPenFilter(),\n\u001b[1;32m     39\u001b[0m     RgbToGrayscale(),\n\u001b[1;32m     40\u001b[0m     Invert(),\n\u001b[1;32m     41\u001b[0m     OtsuThreshold(),\n\u001b[1;32m     42\u001b[0m     RemoveSmallHoles(),\n\u001b[1;32m     43\u001b[0m     RemoveSmallObjects(min_size\u001b[39m=\u001b[39m\u001b[39m0\u001b[39m, avoid_overmask\u001b[39m=\u001b[39m\u001b[39mFalse\u001b[39;00m),\n\u001b[1;32m     44\u001b[0m )\n\u001b[1;32m     45\u001b[0m sf \u001b[39m=\u001b[39m \u001b[39m4\u001b[39m\n\u001b[1;32m     46\u001b[0m k \u001b[39m=\u001b[39m np\u001b[39m.\u001b[39marray(slide\u001b[39m.\u001b[39mlocate_mask(mask, scale_factor\u001b[39m=\u001b[39msf, outline\u001b[39m=\u001b[39m\u001b[39m\"\u001b[39m\u001b[39mgreen\u001b[39m\u001b[39m\"\u001b[39m))\n",
      "File \u001b[0;32m~/.local/lib/python3.8/site-packages/histolab/slide.py:508\u001b[0m, in \u001b[0;36mSlide.thumbnail\u001b[0;34m(self)\u001b[0m\n\u001b[1;32m    505\u001b[0m     thumbnail \u001b[39m=\u001b[39m \u001b[39mself\u001b[39m\u001b[39m.\u001b[39m_bytes2pil(thumb_bytes)\u001b[39m.\u001b[39mconvert(\u001b[39m\"\u001b[39m\u001b[39mRGB\u001b[39m\u001b[39m\"\u001b[39m)\n\u001b[1;32m    506\u001b[0m     \u001b[39mreturn\u001b[39;00m thumbnail\n\u001b[0;32m--> 508\u001b[0m \u001b[39mreturn\u001b[39;00m \u001b[39mself\u001b[39;49m\u001b[39m.\u001b[39;49m_wsi\u001b[39m.\u001b[39mget_thumbnail(\u001b[39mself\u001b[39m\u001b[39m.\u001b[39m_thumbnail_size)\n",
      "File \u001b[0;32m~/.local/lib/python3.8/site-packages/histolab/slide.py:741\u001b[0m, in \u001b[0;36mSlide._wsi\u001b[0;34m(self)\u001b[0m\n\u001b[1;32m    737\u001b[0m     \u001b[39mraise\u001b[39;00m \u001b[39mFileNotFoundError\u001b[39;00m(\n\u001b[1;32m    738\u001b[0m         \u001b[39mf\u001b[39m\u001b[39m\"\u001b[39m\u001b[39mThe wsi path resource doesn\u001b[39m\u001b[39m'\u001b[39m\u001b[39mt exist: \u001b[39m\u001b[39m{\u001b[39;00m\u001b[39mself\u001b[39m\u001b[39m.\u001b[39m_path\u001b[39m}\u001b[39;00m\u001b[39m\"\u001b[39m\n\u001b[1;32m    739\u001b[0m     )\n\u001b[1;32m    740\u001b[0m \u001b[39mexcept\u001b[39;00m \u001b[39mException\u001b[39;00m \u001b[39mas\u001b[39;00m other_error:\n\u001b[0;32m--> 741\u001b[0m     \u001b[39mraise\u001b[39;00m HistolabException(other_error\u001b[39m.\u001b[39m\u001b[39m__repr__\u001b[39m() \u001b[39m+\u001b[39m \u001b[39mf\u001b[39m\u001b[39m\"\u001b[39m\u001b[39m. \u001b[39m\u001b[39m{\u001b[39;00mbad_format_error\u001b[39m}\u001b[39;00m\u001b[39m\"\u001b[39m)\n\u001b[1;32m    742\u001b[0m \u001b[39mreturn\u001b[39;00m slide\n",
      "\u001b[0;31mHistolabException\u001b[0m: NotADirectoryError(20, 'Not a directory'). This slide may be corrupted or have a non-standard format not handled by the openslide and PIL libraries. Consider setting use_largeimage to True when instantiating this Slide."
     ]
    }
   ],
   "source": [
    "contour_tumor, scribble_tumor, contour_healthy, scribble_healthy = get_scribbles_and_annotations(filename+'.tif', 'test')"
   ]
  },
  {
   "cell_type": "code",
   "execution_count": 14,
   "id": "6172fa8c",
   "metadata": {
    "scrolled": true
   },
   "outputs": [
    {
     "ename": "OpenSlideUnsupportedFormatError",
     "evalue": "Unsupported or missing image file",
     "output_type": "error",
     "traceback": [
      "\u001b[0;31m---------------------------------------------------------------------------\u001b[0m",
      "\u001b[0;31mOpenSlideUnsupportedFormatError\u001b[0m           Traceback (most recent call last)",
      "\u001b[1;32m/home/ahabis/2-Scribble_project/scribble_generation/cytomine_scribble_visu.ipynb Cell 16\u001b[0m line \u001b[0;36m1\n\u001b[0;32m----> <a href='vscode-notebook-cell://ssh-remote%2Bdell1/home/ahabis/2-Scribble_project/scribble_generation/cytomine_scribble_visu.ipynb#X24sdnNjb2RlLXJlbW90ZQ%3D%3D?line=0'>1</a>\u001b[0m S \u001b[39m=\u001b[39m Send(filename,split\u001b[39m=\u001b[39;49m\u001b[39m'\u001b[39;49m\u001b[39mtest\u001b[39;49m\u001b[39m'\u001b[39;49m)\n\u001b[1;32m      <a href='vscode-notebook-cell://ssh-remote%2Bdell1/home/ahabis/2-Scribble_project/scribble_generation/cytomine_scribble_visu.ipynb#X24sdnNjb2RlLXJlbW90ZQ%3D%3D?line=1'>2</a>\u001b[0m S\u001b[39m.\u001b[39msend_annotations_to_cytomine(shapes,\n\u001b[1;32m      <a href='vscode-notebook-cell://ssh-remote%2Bdell1/home/ahabis/2-Scribble_project/scribble_generation/cytomine_scribble_visu.ipynb#X24sdnNjb2RlLXJlbW90ZQ%3D%3D?line=2'>3</a>\u001b[0m                                scribbles,\n\u001b[1;32m      <a href='vscode-notebook-cell://ssh-remote%2Bdell1/home/ahabis/2-Scribble_project/scribble_generation/cytomine_scribble_visu.ipynb#X24sdnNjb2RlLXJlbW90ZQ%3D%3D?line=3'>4</a>\u001b[0m                                contour_foreground,\n\u001b[1;32m      <a href='vscode-notebook-cell://ssh-remote%2Bdell1/home/ahabis/2-Scribble_project/scribble_generation/cytomine_scribble_visu.ipynb#X24sdnNjb2RlLXJlbW90ZQ%3D%3D?line=4'>5</a>\u001b[0m                                scribble_foreground,\n\u001b[1;32m      <a href='vscode-notebook-cell://ssh-remote%2Bdell1/home/ahabis/2-Scribble_project/scribble_generation/cytomine_scribble_visu.ipynb#X24sdnNjb2RlLXJlbW90ZQ%3D%3D?line=5'>6</a>\u001b[0m                                id_image\u001b[39m=\u001b[39mimage,\n\u001b[1;32m      <a href='vscode-notebook-cell://ssh-remote%2Bdell1/home/ahabis/2-Scribble_project/scribble_generation/cytomine_scribble_visu.ipynb#X24sdnNjb2RlLXJlbW90ZQ%3D%3D?line=6'>7</a>\u001b[0m                                id_project\u001b[39m=\u001b[39mproject)\n",
      "File \u001b[0;32m~/2-Scribble_project/scribble_generation/send_annotation.py:29\u001b[0m, in \u001b[0;36mSend.__init__\u001b[0;34m(self, filename, split)\u001b[0m\n\u001b[1;32m     26\u001b[0m \u001b[39melse\u001b[39;00m:\n\u001b[1;32m     27\u001b[0m     \u001b[39mself\u001b[39m\u001b[39m.\u001b[39mpath_image \u001b[39m=\u001b[39m path_slide_tumor_test\n\u001b[0;32m---> 29\u001b[0m img \u001b[39m=\u001b[39m OpenSlide(os\u001b[39m.\u001b[39;49mpath\u001b[39m.\u001b[39;49mjoin(\u001b[39mself\u001b[39;49m\u001b[39m.\u001b[39;49mpath_image, \u001b[39mself\u001b[39;49m\u001b[39m.\u001b[39;49mfilename))\n\u001b[1;32m     30\u001b[0m \u001b[39mself\u001b[39m\u001b[39m.\u001b[39mdim \u001b[39m=\u001b[39m img\u001b[39m.\u001b[39mdimensions[\u001b[39m1\u001b[39m]\n",
      "File \u001b[0;32m~/.local/lib/python3.8/site-packages/openslide/__init__.py:160\u001b[0m, in \u001b[0;36mOpenSlide.__init__\u001b[0;34m(self, filename)\u001b[0m\n\u001b[1;32m    158\u001b[0m AbstractSlide\u001b[39m.\u001b[39m\u001b[39m__init__\u001b[39m(\u001b[39mself\u001b[39m)\n\u001b[1;32m    159\u001b[0m \u001b[39mself\u001b[39m\u001b[39m.\u001b[39m_filename \u001b[39m=\u001b[39m filename\n\u001b[0;32m--> 160\u001b[0m \u001b[39mself\u001b[39m\u001b[39m.\u001b[39m_osr \u001b[39m=\u001b[39m lowlevel\u001b[39m.\u001b[39;49mopen(filename)\n",
      "File \u001b[0;32m~/.local/lib/python3.8/site-packages/openslide/lowlevel.py:128\u001b[0m, in \u001b[0;36m_check_open\u001b[0;34m(result, _func, _args)\u001b[0m\n\u001b[1;32m    126\u001b[0m \u001b[39mdef\u001b[39;00m \u001b[39m_check_open\u001b[39m(result, _func, _args):\n\u001b[1;32m    127\u001b[0m     \u001b[39mif\u001b[39;00m result \u001b[39mis\u001b[39;00m \u001b[39mNone\u001b[39;00m:\n\u001b[0;32m--> 128\u001b[0m         \u001b[39mraise\u001b[39;00m OpenSlideUnsupportedFormatError(\n\u001b[1;32m    129\u001b[0m                 \u001b[39m\"\u001b[39m\u001b[39mUnsupported or missing image file\u001b[39m\u001b[39m\"\u001b[39m)\n\u001b[1;32m    130\u001b[0m     slide \u001b[39m=\u001b[39m _OpenSlide(c_void_p(result))\n\u001b[1;32m    131\u001b[0m     err \u001b[39m=\u001b[39m get_error(slide)\n",
      "\u001b[0;31mOpenSlideUnsupportedFormatError\u001b[0m: Unsupported or missing image file"
     ]
    }
   ],
   "source": [
    "S = Send(filename,split='test')\n",
    "S.send_annotations_to_cytomine(shapes,\n",
    "                               scribbles,\n",
    "                               contour_foreground,\n",
    "                               scribble_foreground,\n",
    "                               id_image=image,\n",
    "                               id_project=project)"
   ]
  }
 ],
 "metadata": {
  "kernelspec": {
   "display_name": "Python 3 (ipykernel)",
   "language": "python",
   "name": "python3"
  },
  "language_info": {
   "codemirror_mode": {
    "name": "ipython",
    "version": 3
   },
   "file_extension": ".py",
   "mimetype": "text/x-python",
   "name": "python",
   "nbconvert_exporter": "python",
   "pygments_lexer": "ipython3",
   "version": "3.8.10"
  }
 },
 "nbformat": 4,
 "nbformat_minor": 5
}
