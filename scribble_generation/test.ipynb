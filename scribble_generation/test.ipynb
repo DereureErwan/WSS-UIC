{
 "cells": [
  {
   "cell_type": "code",
   "execution_count": 117,
   "metadata": {},
   "outputs": [],
   "source": [
    "import sys\n",
    "import os\n",
    "sys.path.append('/home/ahabis/2-Scribble_project')\n",
    "from config import *\n",
    "from scribble_inside_shape import Scribble\n",
    "import numpy as np\n",
    "from openslide import OpenSlide\n",
    "import cv2\n",
    "import tifffile"
   ]
  },
  {
   "cell_type": "code",
   "execution_count": 105,
   "metadata": {},
   "outputs": [],
   "source": [
    "import sys\n",
    "import pathlib\n",
    "import os\n",
    "sys.path.append('/home/ahabis/2-Scribble_project')\n",
    "from config import *\n",
    "from scribble_inside_shape import Scribble\n",
    "import numpy as np\n",
    "from openslide import OpenSlide\n",
    "import cv2\n",
    "import tifffile\n",
    "\n",
    "\n",
    "for filename in os.listdir(path_slide_tumor_test):\n",
    "\n",
    "    image = OpenSlide(os.path.join(path_slide_tumor_test,filename))\n",
    "    mask = np.zeros(image.dimensions,dtype = np.uint8)\n",
    "    s = Scribble(filename.split('.')[0],\n",
    "                0,\n",
    "                'test',\n",
    "                interpolation_method=\"cubic\",\n",
    "                show=False)\n",
    "    \n",
    "    ann  = s.create_dataframe_annotations()\n",
    "    coordinates = []\n",
    "    for column in ann.columns[:1]:\n",
    "        arr = ann[column].dropna()\n",
    "        coordinates.append(np.array(list(arr)))\n",
    "    coordinates = np.stack(coordinates).astype(np.int32)\n",
    "    mask = cv2.fillPoly(mask.copy(), coordinates, 1).astype(bool)\n",
    "    tifffile.imsave(os.path.join(path_slide_true_masks,filename), mask)"
   ]
  }
 ],
 "metadata": {
  "kernelspec": {
   "display_name": "Python 3 (ipykernel)",
   "language": "python",
   "name": "python3"
  },
  "language_info": {
   "codemirror_mode": {
    "name": "ipython",
    "version": 3
   },
   "file_extension": ".py",
   "mimetype": "text/x-python",
   "name": "python",
   "nbconvert_exporter": "python",
   "pygments_lexer": "ipython3",
   "version": "3.8.10"
  },
  "orig_nbformat": 4
 },
 "nbformat": 4,
 "nbformat_minor": 2
}
