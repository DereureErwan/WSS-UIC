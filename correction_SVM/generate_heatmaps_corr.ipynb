{
 "cells": [
  {
   "cell_type": "code",
   "execution_count": 1,
   "metadata": {},
   "outputs": [],
   "source": [
    "import numpy as np\n",
    "import matplotlib.pyplot as plt"
   ]
  },
  {
   "cell_type": "code",
   "execution_count": 9,
   "metadata": {},
   "outputs": [],
   "source": [
    "# def hann_2d_win(shape=(256, 256)):\n",
    "\n",
    "#     i_val = 1 - np.cos((2 * math.pi * i) / (shape[0] - 1))\n",
    "#     j_val = 1 - np.cos((2 * math.pi * j) / (shape[1] - 1))\n",
    "#     normalized = (i_val * j_val) / 4\n",
    "#     return normalized\n",
    "\n",
    "# hann2d_win = np.fromfunction(hann2d, shape)\n",
    "# return hann2d_win"
   ]
  },
  {
   "cell_type": "code",
   "execution_count": 87,
   "metadata": {},
   "outputs": [
    {
     "name": "stdout",
     "output_type": "stream",
     "text": [
      "(256, 256)\n"
     ]
    }
   ],
   "source": [
    "h = 256\n",
    "ov = 0.5\n",
    "\n",
    "\n",
    "m, n  = np.arange(-h,h), np.arange(-h,h)\n",
    "\n",
    "def define_the_indicatrice(x, ov):\n",
    "    u = np.logical_and(m<=x/(1-ov), m>=-x/(1-ov)).astype(int)\n",
    "    return u\n",
    "\n",
    "@np.vectorize\n",
    "\n",
    "def find_alpha(x,y):\n",
    "\n",
    "    indx = define_the_indicatrice(x, ov)\n",
    "    indy = define_the_indicatrice(y, ov)\n",
    "    inds = np.prod(np.stack(np.meshgrid(indx, indy)),0)\n",
    "    m,n = np.arange(-h,h), np.arange(-h,h)\n",
    "    hanningx = (1 - np.cos(2*np.pi*(x - (1 - ov)*np.abs(m))/h))\n",
    "    hanningy = (1 - np.cos(2*np.pi*(y - (1 - ov)*np.abs(n))/h))\n",
    "    hannings = np.stack(np.meshgrid(hanningx, hanningy))\n",
    "    return np.sum(inds*hannings)\n",
    "\n",
    "find_alpha(20,200)\n",
    "\n",
    "\n",
    "\n",
    "# mesh = np.meshgrid(np.arange(256), np.arange(256))\n",
    "# np.meshgrid()\n",
    "x = np.arange(256)[None]\n",
    "final = find_alpha(x, x.T)\n",
    "# plt.imshow(final)\n",
    "print(final.shape)\n",
    "# print(np.array(np.meshgrid(np.arange(256), np.arange(256))).shape)\n",
    "\n",
    "\n",
    "# print(mesh.shape)\n",
    "\n",
    "# alpha = [find_alpha(x,y) for x,y in mesh]\n",
    "# # pri\n"
   ]
  },
  {
   "cell_type": "code",
   "execution_count": 69,
   "metadata": {},
   "outputs": [
    {
     "ename": "NameError",
     "evalue": "name 'os' is not defined",
     "output_type": "error",
     "traceback": [
      "\u001b[0;31m---------------------------------------------------------------------------\u001b[0m",
      "\u001b[0;31mNameError\u001b[0m                                 Traceback (most recent call last)",
      "Cell \u001b[0;32mIn[69], line 1\u001b[0m\n\u001b[0;32m----> 1\u001b[0m np\u001b[38;5;241m.\u001b[39mload(\u001b[43mos\u001b[49m\u001b[38;5;241m.\u001b[39mpath\u001b[38;5;241m.\u001b[39mjoin(path_prediction_features, \u001b[38;5;124m'\u001b[39m\u001b[38;5;124mtest_084\u001b[39m\u001b[38;5;124m'\u001b[39m,\u001b[38;5;124m'\u001b[39m\u001b[38;5;124mpredictions_correction.npy\u001b[39m\u001b[38;5;124m'\u001b[39m))\u001b[38;5;241m.\u001b[39mshape\n",
      "\u001b[0;31mNameError\u001b[0m: name 'os' is not defined"
     ]
    }
   ],
   "source": [
    "np.load(os.path.join(path_prediction_features, 'test_084','predictions_correction.npy')).shape"
   ]
  }
 ],
 "metadata": {
  "kernelspec": {
   "display_name": "Python 3 (ipykernel)",
   "language": "python",
   "name": "python3"
  },
  "language_info": {
   "codemirror_mode": {
    "name": "ipython",
    "version": 3
   },
   "file_extension": ".py",
   "mimetype": "text/x-python",
   "name": "python",
   "nbconvert_exporter": "python",
   "pygments_lexer": "ipython3",
   "version": "3.8.10"
  }
 },
 "nbformat": 4,
 "nbformat_minor": 2
}
