{
 "cells": [
  {
   "cell_type": "markdown",
   "id": "dd1a37d7",
   "metadata": {},
   "source": [
    "# Libraries"
   ]
  },
  {
   "cell_type": "code",
   "execution_count": 1,
   "id": "5bf9a232",
   "metadata": {},
   "outputs": [],
   "source": [
    "%load_ext autoreload"
   ]
  },
  {
   "cell_type": "code",
   "execution_count": 2,
   "id": "034f0cfa",
   "metadata": {},
   "outputs": [],
   "source": [
    "%autoreload 2"
   ]
  },
  {
   "cell_type": "code",
   "execution_count": 3,
   "id": "6bfd18ea",
   "metadata": {},
   "outputs": [
    {
     "name": "stdout",
     "output_type": "stream",
     "text": [
      "[0.00000000e+000 0.00000000e+000 0.00000000e+000 ... 0.00000000e+000\n",
      " 2.38172413e-265 0.00000000e+000]\n"
     ]
    },
    {
     "name": "stderr",
     "output_type": "stream",
     "text": [
      "<ipython-input-3-af3012199412>:29: DeprecationWarning: Please use `binary_erosion` from the `scipy.ndimage` namespace, the `scipy.ndimage.morphology` namespace is deprecated.\n",
      "  from scipy.ndimage.morphology import binary_erosion, binary_dilation\n",
      "<ipython-input-3-af3012199412>:29: DeprecationWarning: Please use `binary_dilation` from the `scipy.ndimage` namespace, the `scipy.ndimage.morphology` namespace is deprecated.\n",
      "  from scipy.ndimage.morphology import binary_erosion, binary_dilation\n"
     ]
    }
   ],
   "source": [
    "from torchvision.models import resnet50\n",
    "import torch\n",
    "import neptune.new as neptune\n",
    "# from generator import *\n",
    "import matplotlib.pyplot as plt\n",
    "import numpy as np\n",
    "import torchstain\n",
    "from histolab.tiler import GridTiler\n",
    "from histolab.slide import Slide\n",
    "from openslide import OpenSlide\n",
    "path_test = '/home/ahabis/sshfs/CAMELYON/test/images/'\n",
    "path_annotations='/home/ahabis/sshfs/CAMELYON/test/annotations/'\n",
    "path_masks = 'truemasks/'\n",
    "from wsitools.tissue_detection.tissue_detector import TissueDetector\n",
    "from wsitools.patch_extraction.patch_extractor import ExtractorParameters, PatchExtractor\n",
    "import multiprocessing\n",
    "import pandas as pd\n",
    "from PIL import Image\n",
    "import cv2\n",
    "from generator_predict import *\n",
    "from tqdm import tqdm\n",
    "from wsitools.patch_reconstruction.save_wsi_downsampled import SubPatches2BigTiff\n",
    "from WSI_handling import wsi\n",
    "import os\n",
    "from PIL import ImageFilter\n",
    "from skimage.measure import label\n",
    "import os\n",
    "import glob\n",
    "from scipy.ndimage.morphology import binary_erosion, binary_dilation\n",
    "import scipy\n",
    "from skimage.morphology import disk\n",
    "dftest = pd.read_csv('dataframe_test.csv')\n",
    "dftrain = pd.read_csv('dataframe_train.csv')\n",
    "path_results = 'results/predictions_test_061.npy'\n",
    "preds = np.load(path_results)[1]\n",
    "print(preds)"
   ]
  },
  {
   "cell_type": "markdown",
   "id": "abcd06f1",
   "metadata": {},
   "source": [
    "## Generate patches"
   ]
  },
  {
   "cell_type": "code",
   "execution_count": 6,
   "id": "5bb8e4e4",
   "metadata": {
    "scrolled": true
   },
   "outputs": [],
   "source": [
    "# num_processors = 16                     # Number of processes that can be running at once\n",
    "# wsi_fn = os.path.join(path_test,\"test_001.tif\")             # Define a sample image that can be read by OpenSlide\n",
    "# output_dir = \"patches\"    # Define an output directory\n",
    "\n",
    "# # Define the parameters for Patch Extraction, including generating an thumbnail from which to traverse over to find \n",
    "# # tissue.\n",
    "# parameters = ExtractorParameters(output_dir, # Where the patches should be extracted to\n",
    "#     save_format = '.png',                      # Can be '.jpg', '.png', or '.tfrecord'              \n",
    "#     sample_cnt = -1,                           # Limit the number of patches to extract (-1 == all patches)\n",
    "#     patch_size = 512,\n",
    "#     stride = 256,                              # Size of patches to extract (Height & Width)\n",
    "#     rescale_rate = 128,                        # Fold size to scale the thumbnail to (for faster processing)\n",
    "#     patch_filter_by_area = 0.5,                # Amount of tissue that should be present in a patch\n",
    "#     with_anno = True,                          # If true, you need to supply an additional XML file\n",
    "#     extract_layer = 0                          # OpenSlide Level\n",
    "#     )\n",
    "\n",
    "# tissue_detector = TissueDetector(\"LAB_Threshold\", \n",
    "#     threshold = 85,                                   \n",
    "#     training_files = None                             \n",
    "#     )\n",
    "\n",
    "# patch_extractor = PatchExtractor(tissue_detector, \n",
    "#     parameters, \n",
    "#     feature_map = None,                       # See note below                     \n",
    "#     annotations = None                        # Object of Annotation Class (see other note below)\n",
    "#     )\n",
    "\n",
    "# multiprocessing.set_start_method('spawn')\n",
    "# pool = multiprocessing.Pool(processes = num_processors)\n",
    "# pool.map(patch_extractor.extract, [wsi_fn])"
   ]
  },
  {
   "cell_type": "markdown",
   "id": "7c02a091",
   "metadata": {},
   "source": [
    "## Predict"
   ]
  },
  {
   "cell_type": "code",
   "execution_count": 16,
   "id": "e4e1b411",
   "metadata": {},
   "outputs": [],
   "source": [
    "model = resnet50(pretrained=True)"
   ]
  },
  {
   "cell_type": "code",
   "execution_count": 17,
   "id": "60dbe7a8",
   "metadata": {},
   "outputs": [],
   "source": [
    "class ResNet(torch.nn.Module):\n",
    "    def __init__(self,model):\n",
    "        super(ResNet, self).__init__()\n",
    "        \n",
    "        self.resnet = model\n",
    "        self.relu = torch.nn.ReLU()\n",
    "        self.fc1 = torch.nn.Linear(1000,1000)\n",
    "        self.fc2 = torch.nn.Linear(1000,1000)\n",
    "        self.fc3 = torch.nn.Linear(1000,1)\n",
    "        self.sigmoid = torch.nn.Sigmoid()\n",
    "        self.drop = torch.nn.Dropout(0.2)\n",
    "        \n",
    "    def forward(self, x):\n",
    "        x_features = self.resnet(x)\n",
    "        x = self.drop(self.relu(self.fc1(x_features)))\n",
    "        x = self.drop(self.relu(self.fc2(x)))\n",
    "        x = self.sigmoid(self.fc3(x))\n",
    "        return x"
   ]
  },
  {
   "cell_type": "code",
   "execution_count": 18,
   "id": "a23934f2",
   "metadata": {},
   "outputs": [],
   "source": [
    "new_model = ResNet(model)"
   ]
  },
  {
   "cell_type": "code",
   "execution_count": 8,
   "id": "eb9c2240",
   "metadata": {
    "scrolled": false
   },
   "outputs": [
    {
     "data": {
      "text/plain": [
       "<All keys matched successfully>"
      ]
     },
     "execution_count": 8,
     "metadata": {},
     "output_type": "execute_result"
    }
   ],
   "source": [
    "new_model.load_state_dict(torch.load('weights1'))"
   ]
  },
  {
   "cell_type": "code",
   "execution_count": 9,
   "id": "9b8eec04",
   "metadata": {},
   "outputs": [],
   "source": [
    "new_model.eval()\n",
    "new_model.drop.p = 0"
   ]
  },
  {
   "cell_type": "code",
   "execution_count": 10,
   "id": "107d850e",
   "metadata": {},
   "outputs": [],
   "source": [
    "def evaluate(model, val_dl):\n",
    "    # --- EVALUATE ON VALIDATION SET -------------------------------------\n",
    "    model.eval()\n",
    "    model.cuda()\n",
    "    all_labels = []\n",
    "    all_predicted_labels = []\n",
    "    mean = torch.zeros(1).cuda()\n",
    "    with torch.no_grad():\n",
    "        for batch in tqdm(val_dl):\n",
    "            images    = batch[0].float().cuda()\n",
    "            ys    = batch[1].float().cpu().detach().numpy()           \n",
    "            pred_ys = torch.squeeze(model(images)).cpu().detach().numpy()\n",
    "            all_labels.append(ys)\n",
    "            all_predicted_labels.append(pred_ys)\n",
    "    return all_labels, all_predicted_labels"
   ]
  },
  {
   "cell_type": "code",
   "execution_count": 11,
   "id": "4f398c27",
   "metadata": {},
   "outputs": [],
   "source": [
    "path_patches = 'patches/test_001'\n",
    "path_predictions = 'patchesprediction/test001'"
   ]
  },
  {
   "cell_type": "code",
   "execution_count": 12,
   "id": "bf571869",
   "metadata": {},
   "outputs": [],
   "source": [
    "dataset_test = CustomImageDataset(path_image = path_patches)   \n",
    "\n",
    "loader_test = DataLoader(\n",
    "    batch_size = bs,\n",
    "    dataset=dataset_test,\n",
    "    num_workers = 16,\n",
    "    shuffle=False)\n",
    "\n",
    "dataloaders = {'test':loader_test}"
   ]
  },
  {
   "cell_type": "code",
   "execution_count": 31,
   "id": "bfa1b087",
   "metadata": {},
   "outputs": [
    {
     "name": "stderr",
     "output_type": "stream",
     "text": [
      "100%|██████████| 665/665 [01:45<00:00,  6.31it/s]\n"
     ]
    }
   ],
   "source": [
    "# _, predictions = evaluate(new_model,dataloaders['test'])"
   ]
  },
  {
   "cell_type": "code",
   "execution_count": 32,
   "id": "6cab39d5",
   "metadata": {},
   "outputs": [],
   "source": [
    "predictions_new = np.concatenate(predictions)"
   ]
  },
  {
   "cell_type": "markdown",
   "id": "e1fdf60e",
   "metadata": {},
   "source": [
    "## Predict patches to heatmap"
   ]
  },
  {
   "cell_type": "code",
   "execution_count": 19,
   "id": "9f51f175",
   "metadata": {},
   "outputs": [
    {
     "name": "stderr",
     "output_type": "stream",
     "text": [
      "21280it [36:59,  9.59it/s]\n"
     ]
    }
   ],
   "source": [
    "for i, filename in tqdm(enumerate(os.listdir(path_patches))):\n",
    "    \n",
    "    real_img = np.asarray(Image.open(os.path.join(path_patches,filename)))\n",
    "    img = real_img[:,:,:3]/255\n",
    "    img = np.transpose(img,(-1,0,1))\n",
    "    img = torch.Tensor(np.expand_dims(img, axis = 0))\n",
    "    \n",
    "    value = preds[i]\n",
    "    heatmap = 255 - (np.ones((512,512)) * value * 255).astype(np.uint8)\n",
    "    heatmap = cv2.applyColorMap(heatmap, cv2.COLORMAP_JET)\n",
    "    img_to_save = cv2.addWeighted(heatmap, 0.4, real_img[:,:,:3], 0.6,0)\n",
    "    plt.imsave(os.path.join(path_predictions,filename), img_to_save)"
   ]
  },
  {
   "cell_type": "markdown",
   "id": "c99719e8",
   "metadata": {},
   "source": [
    "### Reconstruct Heatmap (Stitch Patches) and caclucalte mIOU"
   ]
  },
  {
   "cell_type": "code",
   "execution_count": 20,
   "id": "fa7d171e",
   "metadata": {},
   "outputs": [],
   "source": [
    "def retrieve_mean_max(label):\n",
    "    sums = []\n",
    "    us = []\n",
    "    for i, u in enumerate(np.unique(label)[1:]):\n",
    "        us.append(u)\n",
    "        sum_ = np.sum(label==u)\n",
    "        sums.append(sum_)\n",
    "    k = np.argmax(np.array(sums))\n",
    "    u = us[k]\n",
    "    return np.mean(np.argwhere(label == u), axis = 0)"
   ]
  },
  {
   "cell_type": "code",
   "execution_count": 21,
   "id": "d7c1c9b3",
   "metadata": {
    "scrolled": false
   },
   "outputs": [],
   "source": [
    "# DICES = []\n",
    "# for tmp in glob.glob(path_masks+'/*'):\n",
    "#     try: \n",
    "#         filename = tmp.split('/')[-1]\n",
    "#         new_filename = filename[:4]+'_'+filename[4:]+'.tif'\n",
    "\n",
    "#         sub = SubPatches2BigTiff(patch_dir='patchesmasks/'+filename,\n",
    "#                              save_to = 'wsi/'+new_filename,\n",
    "#                              ext=\"\",\n",
    "#                              down_scale=8,\n",
    "#                              patch_size=(512, 512),\n",
    "#                              xy_step=(256, 256))\n",
    "#         try:\n",
    "#             sub.save()\n",
    "#         except: \n",
    "#             pass\n",
    "#         img = openslide.open_slide('wsi/temp_downsampled.tiff')\n",
    "#         size = np.array(img.dimensions)//2\n",
    "#         new_img = img.get_thumbnail(size)\n",
    "#         size = new_img.size\n",
    "#         new_img = new_img.filter(ImageFilter.GaussianBlur(radius = 1))\n",
    "#         new_img = (np.array(new_img)[:,:,0]<120).astype(int)\n",
    "#         new_img = binary_erosion(new_img, disk(5))\n",
    "\n",
    "#         path_image = os.path.join(path_masks,filename)\n",
    "#         tmp = os.listdir(os.path.join(path_masks,filename))[0]\n",
    "#         img_true = Image.open(os.path.join(path_image,tmp))\n",
    "#         size_true = np.array(img_true.size)//(2*8)\n",
    "#         img_true = img_true.resize(size_true)\n",
    "#         img_true = np.array(img_true)\n",
    "\n",
    "#         t =np.array(img_true.shape)\n",
    "#         p = np.array(new_img.shape)\n",
    "\n",
    "\n",
    "#         pad = t - p\n",
    "\n",
    "#         first_axis = np.zeros((pad[0], p[1]))\n",
    "#         second_axis = np.zeros((t[0],pad[1]))\n",
    "#         new_img = np.concatenate((new_img,first_axis), axis = 0)\n",
    "#         new_img = np.concatenate((new_img,second_axis), axis = 1)\n",
    "\n",
    "#         label_true = label(img_true)\n",
    "#         label_pred = label(new_img)\n",
    "\n",
    "#         mean_true = retrieve_mean_max(label_true)\n",
    "#         mean_pred = retrieve_mean_max(label_pred)\n",
    "\n",
    "#         shift = mean_pred - mean_true\n",
    "\n",
    "\n",
    "#         img_true = np.roll(img_true, shift[0].astype(int), axis=0)\n",
    "#         img_true = np.roll(img_true, shift[1].astype(int), axis=1)\n",
    "\n",
    "#         first = np.sum(img_true * new_img)/np.sum(np.logical_or(img_true,new_img))\n",
    "#         second = np.sum((1 - img_true) * (1 - new_img))/np.sum(np.logical_or(1 - img_true,1 - new_img))\n",
    "#         DICES.append((first+second)/2)\n",
    "#         print(DICES)\n",
    "#     except:\n",
    "#         print(1)\n",
    "#         pass"
   ]
  },
  {
   "cell_type": "markdown",
   "id": "78694beb",
   "metadata": {},
   "source": [
    "## Create Heatmap"
   ]
  },
  {
   "cell_type": "code",
   "execution_count": 4,
   "id": "c2f10d91",
   "metadata": {
    "scrolled": true
   },
   "outputs": [
    {
     "name": "stdout",
     "output_type": "stream",
     "text": [
      "Image W:12176/H:27564\n",
      "Insert 124191 images patches\n",
      "Insert 2000/124191 images patches\n",
      "Insert 4000/124191 images patches\n",
      "Insert 6000/124191 images patches\n",
      "Insert 8000/124191 images patches\n",
      "Insert 10000/124191 images patches\n",
      "Insert 12000/124191 images patches\n",
      "Insert 14000/124191 images patches\n",
      "Insert 16000/124191 images patches\n",
      "Insert 18000/124191 images patches\n",
      "Insert 20000/124191 images patches\n",
      "Insert 22000/124191 images patches\n",
      "Insert 24000/124191 images patches\n",
      "Insert 26000/124191 images patches\n",
      "Insert 28000/124191 images patches\n",
      "Insert 30000/124191 images patches\n",
      "Insert 32000/124191 images patches\n",
      "Insert 34000/124191 images patches\n",
      "Insert 36000/124191 images patches\n",
      "Insert 38000/124191 images patches\n",
      "Insert 40000/124191 images patches\n",
      "Insert 42000/124191 images patches\n",
      "Insert 44000/124191 images patches\n",
      "Insert 46000/124191 images patches\n",
      "Insert 48000/124191 images patches\n",
      "Insert 50000/124191 images patches\n",
      "Insert 52000/124191 images patches\n",
      "Insert 54000/124191 images patches\n",
      "Insert 56000/124191 images patches\n",
      "Insert 58000/124191 images patches\n",
      "Insert 60000/124191 images patches\n",
      "Insert 62000/124191 images patches\n",
      "Insert 64000/124191 images patches\n",
      "Insert 66000/124191 images patches\n",
      "Insert 68000/124191 images patches\n",
      "Insert 70000/124191 images patches\n",
      "Insert 72000/124191 images patches\n",
      "Insert 74000/124191 images patches\n",
      "Insert 76000/124191 images patches\n",
      "Insert 78000/124191 images patches\n",
      "Insert 80000/124191 images patches\n",
      "Insert 82000/124191 images patches\n",
      "Insert 84000/124191 images patches\n",
      "Insert 86000/124191 images patches\n",
      "Insert 88000/124191 images patches\n",
      "Insert 90000/124191 images patches\n",
      "Insert 92000/124191 images patches\n",
      "Insert 94000/124191 images patches\n",
      "Insert 96000/124191 images patches\n",
      "Insert 98000/124191 images patches\n",
      "Insert 100000/124191 images patches\n",
      "Insert 102000/124191 images patches\n",
      "Insert 104000/124191 images patches\n",
      "Insert 106000/124191 images patches\n",
      "Insert 108000/124191 images patches\n",
      "Insert 110000/124191 images patches\n",
      "Insert 112000/124191 images patches\n",
      "Insert 114000/124191 images patches\n",
      "Insert 116000/124191 images patches\n",
      "Insert 118000/124191 images patches\n",
      "Insert 120000/124191 images patches\n",
      "Insert 122000/124191 images patches\n",
      "Insert 124000/124191 images patches\n",
      "create tiff file pyramid\n",
      "vips tiffsave wsi/temp_downsampled.tiff wsi/test_027.tif --compression=deflate --Q=100 --tile --tile-width=512 --tile-height=512 --pyramid\n"
     ]
    },
    {
     "ename": "FileNotFoundError",
     "evalue": "[Errno 2] No such file or directory: 'vips'",
     "output_type": "error",
     "traceback": [
      "\u001b[0;31m---------------------------------------------------------------------------\u001b[0m",
      "\u001b[0;31mFileNotFoundError\u001b[0m                         Traceback (most recent call last)",
      "\u001b[0;32m<ipython-input-4-0a3072f20beb>\u001b[0m in \u001b[0;36m<module>\u001b[0;34m\u001b[0m\n\u001b[1;32m      5\u001b[0m                          \u001b[0mpatch_size\u001b[0m\u001b[0;34m=\u001b[0m\u001b[0;34m(\u001b[0m\u001b[0;36m512\u001b[0m\u001b[0;34m,\u001b[0m \u001b[0;36m512\u001b[0m\u001b[0;34m)\u001b[0m\u001b[0;34m,\u001b[0m\u001b[0;34m\u001b[0m\u001b[0;34m\u001b[0m\u001b[0m\n\u001b[1;32m      6\u001b[0m                          xy_step=(50, 50))\n\u001b[0;32m----> 7\u001b[0;31m \u001b[0msub\u001b[0m\u001b[0;34m.\u001b[0m\u001b[0msave\u001b[0m\u001b[0;34m(\u001b[0m\u001b[0;34m)\u001b[0m\u001b[0;34m\u001b[0m\u001b[0;34m\u001b[0m\u001b[0m\n\u001b[0m",
      "\u001b[0;32m~/Scribble Project/wsitools/patch_reconstruction/save_wsi_downsampled.py\u001b[0m in \u001b[0;36msave\u001b[0;34m(self)\u001b[0m\n\u001b[1;32m     97\u001b[0m               \u001b[0;34m'--tile-width='\u001b[0m \u001b[0;34m+\u001b[0m \u001b[0mstr\u001b[0m\u001b[0;34m(\u001b[0m\u001b[0mself\u001b[0m\u001b[0;34m.\u001b[0m\u001b[0mpatch_size\u001b[0m\u001b[0;34m[\u001b[0m\u001b[0;36m0\u001b[0m\u001b[0;34m]\u001b[0m\u001b[0;34m)\u001b[0m \u001b[0;34m+\u001b[0m \u001b[0;34m' --tile-height='\u001b[0m \u001b[0;34m+\u001b[0m \u001b[0mstr\u001b[0m\u001b[0;34m(\u001b[0m\u001b[0mself\u001b[0m\u001b[0;34m.\u001b[0m\u001b[0mpatch_size\u001b[0m\u001b[0;34m[\u001b[0m\u001b[0;36m1\u001b[0m\u001b[0;34m]\u001b[0m\u001b[0;34m)\u001b[0m \u001b[0;34m+\u001b[0m \u001b[0;34m' --pyramid'\u001b[0m\u001b[0;34m\u001b[0m\u001b[0;34m\u001b[0m\u001b[0m\n\u001b[1;32m     98\u001b[0m         \u001b[0mprint\u001b[0m\u001b[0;34m(\u001b[0m\u001b[0mcmd\u001b[0m\u001b[0;34m)\u001b[0m\u001b[0;34m\u001b[0m\u001b[0;34m\u001b[0m\u001b[0m\n\u001b[0;32m---> 99\u001b[0;31m         \u001b[0mreturned_output\u001b[0m \u001b[0;34m=\u001b[0m \u001b[0mself\u001b[0m\u001b[0;34m.\u001b[0m\u001b[0mshell_cmd\u001b[0m\u001b[0;34m(\u001b[0m\u001b[0mcmd\u001b[0m\u001b[0;34m)\u001b[0m\u001b[0;34m\u001b[0m\u001b[0;34m\u001b[0m\u001b[0m\n\u001b[0m\u001b[1;32m    100\u001b[0m \u001b[0;34m\u001b[0m\u001b[0m\n\u001b[1;32m    101\u001b[0m     \u001b[0;31m# cd /projects/shart/digital_pathology/data/test/tiff_out\u001b[0m\u001b[0;34m\u001b[0m\u001b[0;34m\u001b[0m\u001b[0;34m\u001b[0m\u001b[0m\n",
      "\u001b[0;32m~/Scribble Project/wsitools/patch_reconstruction/save_wsi_downsampled.py\u001b[0m in \u001b[0;36mshell_cmd\u001b[0;34m(cmd)\u001b[0m\n\u001b[1;32m     35\u001b[0m         \u001b[0mcmd\u001b[0m \u001b[0;34m=\u001b[0m \u001b[0mre\u001b[0m\u001b[0;34m.\u001b[0m\u001b[0msub\u001b[0m\u001b[0;34m(\u001b[0m\u001b[0;34m'\\s+'\u001b[0m\u001b[0;34m,\u001b[0m \u001b[0;34m' '\u001b[0m\u001b[0;34m,\u001b[0m \u001b[0mcmd\u001b[0m\u001b[0;34m)\u001b[0m\u001b[0;34m.\u001b[0m\u001b[0mstrip\u001b[0m\u001b[0;34m(\u001b[0m\u001b[0;34m)\u001b[0m\u001b[0;34m\u001b[0m\u001b[0;34m\u001b[0m\u001b[0m\n\u001b[1;32m     36\u001b[0m         \u001b[0mcmd\u001b[0m \u001b[0;34m=\u001b[0m \u001b[0mcmd\u001b[0m\u001b[0;34m.\u001b[0m\u001b[0msplit\u001b[0m\u001b[0;34m(\u001b[0m\u001b[0;34m\" \"\u001b[0m\u001b[0;34m)\u001b[0m\u001b[0;34m\u001b[0m\u001b[0;34m\u001b[0m\u001b[0m\n\u001b[0;32m---> 37\u001b[0;31m         \u001b[0mm\u001b[0m \u001b[0;34m=\u001b[0m \u001b[0msubprocess\u001b[0m\u001b[0;34m.\u001b[0m\u001b[0mPopen\u001b[0m\u001b[0;34m(\u001b[0m\u001b[0mcmd\u001b[0m\u001b[0;34m,\u001b[0m \u001b[0mstdout\u001b[0m\u001b[0;34m=\u001b[0m\u001b[0msubprocess\u001b[0m\u001b[0;34m.\u001b[0m\u001b[0mPIPE\u001b[0m\u001b[0;34m)\u001b[0m\u001b[0;34m\u001b[0m\u001b[0;34m\u001b[0m\u001b[0m\n\u001b[0m\u001b[1;32m     38\u001b[0m         \u001b[0mstdout\u001b[0m\u001b[0;34m,\u001b[0m \u001b[0mstderr\u001b[0m \u001b[0;34m=\u001b[0m \u001b[0mm\u001b[0m\u001b[0;34m.\u001b[0m\u001b[0mcommunicate\u001b[0m\u001b[0;34m(\u001b[0m\u001b[0;34m)\u001b[0m\u001b[0;34m\u001b[0m\u001b[0;34m\u001b[0m\u001b[0m\n\u001b[1;32m     39\u001b[0m         \u001b[0mexitCode\u001b[0m \u001b[0;34m=\u001b[0m \u001b[0mm\u001b[0m\u001b[0;34m.\u001b[0m\u001b[0mreturncode\u001b[0m\u001b[0;34m\u001b[0m\u001b[0;34m\u001b[0m\u001b[0m\n",
      "\u001b[0;32m/usr/lib/python3.8/subprocess.py\u001b[0m in \u001b[0;36m__init__\u001b[0;34m(self, args, bufsize, executable, stdin, stdout, stderr, preexec_fn, close_fds, shell, cwd, env, universal_newlines, startupinfo, creationflags, restore_signals, start_new_session, pass_fds, encoding, errors, text)\u001b[0m\n\u001b[1;32m    856\u001b[0m                             encoding=encoding, errors=errors)\n\u001b[1;32m    857\u001b[0m \u001b[0;34m\u001b[0m\u001b[0m\n\u001b[0;32m--> 858\u001b[0;31m             self._execute_child(args, executable, preexec_fn, close_fds,\n\u001b[0m\u001b[1;32m    859\u001b[0m                                 \u001b[0mpass_fds\u001b[0m\u001b[0;34m,\u001b[0m \u001b[0mcwd\u001b[0m\u001b[0;34m,\u001b[0m \u001b[0menv\u001b[0m\u001b[0;34m,\u001b[0m\u001b[0;34m\u001b[0m\u001b[0;34m\u001b[0m\u001b[0m\n\u001b[1;32m    860\u001b[0m                                 \u001b[0mstartupinfo\u001b[0m\u001b[0;34m,\u001b[0m \u001b[0mcreationflags\u001b[0m\u001b[0;34m,\u001b[0m \u001b[0mshell\u001b[0m\u001b[0;34m,\u001b[0m\u001b[0;34m\u001b[0m\u001b[0;34m\u001b[0m\u001b[0m\n",
      "\u001b[0;32m/usr/lib/python3.8/subprocess.py\u001b[0m in \u001b[0;36m_execute_child\u001b[0;34m(self, args, executable, preexec_fn, close_fds, pass_fds, cwd, env, startupinfo, creationflags, shell, p2cread, p2cwrite, c2pread, c2pwrite, errread, errwrite, restore_signals, start_new_session)\u001b[0m\n\u001b[1;32m   1702\u001b[0m                     \u001b[0;32mif\u001b[0m \u001b[0merrno_num\u001b[0m \u001b[0;34m!=\u001b[0m \u001b[0;36m0\u001b[0m\u001b[0;34m:\u001b[0m\u001b[0;34m\u001b[0m\u001b[0;34m\u001b[0m\u001b[0m\n\u001b[1;32m   1703\u001b[0m                         \u001b[0merr_msg\u001b[0m \u001b[0;34m=\u001b[0m \u001b[0mos\u001b[0m\u001b[0;34m.\u001b[0m\u001b[0mstrerror\u001b[0m\u001b[0;34m(\u001b[0m\u001b[0merrno_num\u001b[0m\u001b[0;34m)\u001b[0m\u001b[0;34m\u001b[0m\u001b[0;34m\u001b[0m\u001b[0m\n\u001b[0;32m-> 1704\u001b[0;31m                     \u001b[0;32mraise\u001b[0m \u001b[0mchild_exception_type\u001b[0m\u001b[0;34m(\u001b[0m\u001b[0merrno_num\u001b[0m\u001b[0;34m,\u001b[0m \u001b[0merr_msg\u001b[0m\u001b[0;34m,\u001b[0m \u001b[0merr_filename\u001b[0m\u001b[0;34m)\u001b[0m\u001b[0;34m\u001b[0m\u001b[0;34m\u001b[0m\u001b[0m\n\u001b[0m\u001b[1;32m   1705\u001b[0m                 \u001b[0;32mraise\u001b[0m \u001b[0mchild_exception_type\u001b[0m\u001b[0;34m(\u001b[0m\u001b[0merr_msg\u001b[0m\u001b[0;34m)\u001b[0m\u001b[0;34m\u001b[0m\u001b[0;34m\u001b[0m\u001b[0m\n\u001b[1;32m   1706\u001b[0m \u001b[0;34m\u001b[0m\u001b[0m\n",
      "\u001b[0;31mFileNotFoundError\u001b[0m: [Errno 2] No such file or directory: 'vips'"
     ]
    }
   ],
   "source": [
    "sub = SubPatches2BigTiff(patch_dir='patchesprediction/test027',\n",
    "                         save_to = 'wsi/test_027.tif',\n",
    "                         ext=\"\",\n",
    "                         down_scale=8,\n",
    "                         patch_size=(512, 512),\n",
    "                         xy_step=(50, 50))\n",
    "sub.save()"
   ]
  },
  {
   "cell_type": "markdown",
   "id": "f8952dce",
   "metadata": {},
   "source": [
    "## Show Heatmap"
   ]
  },
  {
   "cell_type": "code",
   "execution_count": 8,
   "id": "1f4c5492",
   "metadata": {},
   "outputs": [
    {
     "ename": "AttributeError",
     "evalue": "'ImageSlide' object has no attribute 'resize'",
     "output_type": "error",
     "traceback": [
      "\u001b[0;31m---------------------------------------------------------------------------\u001b[0m",
      "\u001b[0;31mAttributeError\u001b[0m                            Traceback (most recent call last)",
      "\u001b[0;32m<ipython-input-8-ee7382b56b4e>\u001b[0m in \u001b[0;36m<module>\u001b[0;34m\u001b[0m\n\u001b[1;32m      3\u001b[0m \u001b[0msize\u001b[0m \u001b[0;34m=\u001b[0m \u001b[0mnp\u001b[0m\u001b[0;34m.\u001b[0m\u001b[0marray\u001b[0m\u001b[0;34m(\u001b[0m\u001b[0mimg\u001b[0m\u001b[0;34m.\u001b[0m\u001b[0mdimensions\u001b[0m\u001b[0;34m)\u001b[0m\u001b[0;34m//\u001b[0m\u001b[0;36m3\u001b[0m\u001b[0;34m\u001b[0m\u001b[0;34m\u001b[0m\u001b[0m\n\u001b[1;32m      4\u001b[0m \u001b[0mtest_size\u001b[0m \u001b[0;34m=\u001b[0m \u001b[0mnp\u001b[0m\u001b[0;34m.\u001b[0m\u001b[0marray\u001b[0m\u001b[0;34m(\u001b[0m\u001b[0msize\u001b[0m\u001b[0;34m)\u001b[0m\u001b[0;34m\u001b[0m\u001b[0;34m\u001b[0m\u001b[0m\n\u001b[0;32m----> 5\u001b[0;31m \u001b[0mnew_img\u001b[0m \u001b[0;34m=\u001b[0m \u001b[0mimg\u001b[0m\u001b[0;34m.\u001b[0m\u001b[0mresize\u001b[0m\u001b[0;34m(\u001b[0m\u001b[0;34m(\u001b[0m\u001b[0mtest_size\u001b[0m\u001b[0;34m)\u001b[0m\u001b[0;34m.\u001b[0m\u001b[0mastype\u001b[0m\u001b[0;34m(\u001b[0m\u001b[0mint\u001b[0m\u001b[0;34m)\u001b[0m\u001b[0;34m)\u001b[0m\u001b[0;34m\u001b[0m\u001b[0;34m\u001b[0m\u001b[0m\n\u001b[0m\u001b[1;32m      6\u001b[0m \u001b[0;31m# new_img = np.array(new_img)\u001b[0m\u001b[0;34m\u001b[0m\u001b[0;34m\u001b[0m\u001b[0;34m\u001b[0m\u001b[0m\n\u001b[1;32m      7\u001b[0m \u001b[0;31m# new_img = cv2.GaussianBlur(new_img.astype(np.uint8), (9, 9), cv2.BORDER_DEFAULT)\u001b[0m\u001b[0;34m\u001b[0m\u001b[0;34m\u001b[0m\u001b[0;34m\u001b[0m\u001b[0m\n",
      "\u001b[0;31mAttributeError\u001b[0m: 'ImageSlide' object has no attribute 'resize'"
     ]
    }
   ],
   "source": [
    "img = openslide.open_slide('wsi/temp_downsampled.tiff')\n",
    "img\n",
    "size = np.array(img.dimensions)//3\n",
    "test_size = np.array(size)\n",
    "# new_img = img.read_region((10*3,500*3), 0, tuple(test_size))\n",
    "new_img = img.resize((test_size).astype(int))\n",
    "# new_img = np.array(new_img)\n",
    "# new_img = cv2.GaussianBlur(new_img.astype(np.uint8), (9, 9), cv2.BORDER_DEFAULT)"
   ]
  },
  {
   "cell_type": "code",
   "execution_count": 7,
   "id": "54b176e8",
   "metadata": {},
   "outputs": [
    {
     "ename": "TypeError",
     "evalue": "Image data of dtype object cannot be converted to float",
     "output_type": "error",
     "traceback": [
      "\u001b[0;31m---------------------------------------------------------------------------\u001b[0m",
      "\u001b[0;31mTypeError\u001b[0m                                 Traceback (most recent call last)",
      "\u001b[0;32m<ipython-input-7-40cb072e2df0>\u001b[0m in \u001b[0;36m<module>\u001b[0;34m\u001b[0m\n\u001b[1;32m      1\u001b[0m \u001b[0;32mfrom\u001b[0m \u001b[0mmatplotlib\u001b[0m\u001b[0;34m.\u001b[0m\u001b[0mpyplot\u001b[0m \u001b[0;32mimport\u001b[0m \u001b[0mfigure\u001b[0m\u001b[0;34m\u001b[0m\u001b[0;34m\u001b[0m\u001b[0m\n\u001b[1;32m      2\u001b[0m \u001b[0mfigure\u001b[0m\u001b[0;34m(\u001b[0m\u001b[0mfigsize\u001b[0m\u001b[0;34m=\u001b[0m\u001b[0;34m(\u001b[0m\u001b[0;36m30\u001b[0m\u001b[0;34m,\u001b[0m \u001b[0;36m30\u001b[0m\u001b[0;34m)\u001b[0m\u001b[0;34m,\u001b[0m \u001b[0mdpi\u001b[0m\u001b[0;34m=\u001b[0m\u001b[0;36m80\u001b[0m\u001b[0;34m)\u001b[0m\u001b[0;34m\u001b[0m\u001b[0;34m\u001b[0m\u001b[0m\n\u001b[0;32m----> 3\u001b[0;31m \u001b[0mplt\u001b[0m\u001b[0;34m.\u001b[0m\u001b[0mimshow\u001b[0m\u001b[0;34m(\u001b[0m\u001b[0mimg\u001b[0m\u001b[0;34m)\u001b[0m\u001b[0;34m\u001b[0m\u001b[0;34m\u001b[0m\u001b[0m\n\u001b[0m\u001b[1;32m      4\u001b[0m \u001b[0mplt\u001b[0m\u001b[0;34m.\u001b[0m\u001b[0mshow\u001b[0m\u001b[0;34m(\u001b[0m\u001b[0;34m)\u001b[0m\u001b[0;34m\u001b[0m\u001b[0;34m\u001b[0m\u001b[0m\n",
      "\u001b[0;32m/usr/local/lib/python3.8/dist-packages/matplotlib/pyplot.py\u001b[0m in \u001b[0;36mimshow\u001b[0;34m(X, cmap, norm, aspect, interpolation, alpha, vmin, vmax, origin, extent, filternorm, filterrad, resample, url, data, **kwargs)\u001b[0m\n\u001b[1;32m   2901\u001b[0m         \u001b[0mfilternorm\u001b[0m\u001b[0;34m=\u001b[0m\u001b[0;32mTrue\u001b[0m\u001b[0;34m,\u001b[0m \u001b[0mfilterrad\u001b[0m\u001b[0;34m=\u001b[0m\u001b[0;36m4.0\u001b[0m\u001b[0;34m,\u001b[0m \u001b[0mresample\u001b[0m\u001b[0;34m=\u001b[0m\u001b[0;32mNone\u001b[0m\u001b[0;34m,\u001b[0m \u001b[0murl\u001b[0m\u001b[0;34m=\u001b[0m\u001b[0;32mNone\u001b[0m\u001b[0;34m,\u001b[0m\u001b[0;34m\u001b[0m\u001b[0;34m\u001b[0m\u001b[0m\n\u001b[1;32m   2902\u001b[0m         data=None, **kwargs):\n\u001b[0;32m-> 2903\u001b[0;31m     __ret = gca().imshow(\n\u001b[0m\u001b[1;32m   2904\u001b[0m         \u001b[0mX\u001b[0m\u001b[0;34m,\u001b[0m \u001b[0mcmap\u001b[0m\u001b[0;34m=\u001b[0m\u001b[0mcmap\u001b[0m\u001b[0;34m,\u001b[0m \u001b[0mnorm\u001b[0m\u001b[0;34m=\u001b[0m\u001b[0mnorm\u001b[0m\u001b[0;34m,\u001b[0m \u001b[0maspect\u001b[0m\u001b[0;34m=\u001b[0m\u001b[0maspect\u001b[0m\u001b[0;34m,\u001b[0m\u001b[0;34m\u001b[0m\u001b[0;34m\u001b[0m\u001b[0m\n\u001b[1;32m   2905\u001b[0m         \u001b[0minterpolation\u001b[0m\u001b[0;34m=\u001b[0m\u001b[0minterpolation\u001b[0m\u001b[0;34m,\u001b[0m \u001b[0malpha\u001b[0m\u001b[0;34m=\u001b[0m\u001b[0malpha\u001b[0m\u001b[0;34m,\u001b[0m \u001b[0mvmin\u001b[0m\u001b[0;34m=\u001b[0m\u001b[0mvmin\u001b[0m\u001b[0;34m,\u001b[0m\u001b[0;34m\u001b[0m\u001b[0;34m\u001b[0m\u001b[0m\n",
      "\u001b[0;32m/usr/local/lib/python3.8/dist-packages/matplotlib/__init__.py\u001b[0m in \u001b[0;36minner\u001b[0;34m(ax, data, *args, **kwargs)\u001b[0m\n\u001b[1;32m   1359\u001b[0m     \u001b[0;32mdef\u001b[0m \u001b[0minner\u001b[0m\u001b[0;34m(\u001b[0m\u001b[0max\u001b[0m\u001b[0;34m,\u001b[0m \u001b[0;34m*\u001b[0m\u001b[0margs\u001b[0m\u001b[0;34m,\u001b[0m \u001b[0mdata\u001b[0m\u001b[0;34m=\u001b[0m\u001b[0;32mNone\u001b[0m\u001b[0;34m,\u001b[0m \u001b[0;34m**\u001b[0m\u001b[0mkwargs\u001b[0m\u001b[0;34m)\u001b[0m\u001b[0;34m:\u001b[0m\u001b[0;34m\u001b[0m\u001b[0;34m\u001b[0m\u001b[0m\n\u001b[1;32m   1360\u001b[0m         \u001b[0;32mif\u001b[0m \u001b[0mdata\u001b[0m \u001b[0;32mis\u001b[0m \u001b[0;32mNone\u001b[0m\u001b[0;34m:\u001b[0m\u001b[0;34m\u001b[0m\u001b[0;34m\u001b[0m\u001b[0m\n\u001b[0;32m-> 1361\u001b[0;31m             \u001b[0;32mreturn\u001b[0m \u001b[0mfunc\u001b[0m\u001b[0;34m(\u001b[0m\u001b[0max\u001b[0m\u001b[0;34m,\u001b[0m \u001b[0;34m*\u001b[0m\u001b[0mmap\u001b[0m\u001b[0;34m(\u001b[0m\u001b[0msanitize_sequence\u001b[0m\u001b[0;34m,\u001b[0m \u001b[0margs\u001b[0m\u001b[0;34m)\u001b[0m\u001b[0;34m,\u001b[0m \u001b[0;34m**\u001b[0m\u001b[0mkwargs\u001b[0m\u001b[0;34m)\u001b[0m\u001b[0;34m\u001b[0m\u001b[0;34m\u001b[0m\u001b[0m\n\u001b[0m\u001b[1;32m   1362\u001b[0m \u001b[0;34m\u001b[0m\u001b[0m\n\u001b[1;32m   1363\u001b[0m         \u001b[0mbound\u001b[0m \u001b[0;34m=\u001b[0m \u001b[0mnew_sig\u001b[0m\u001b[0;34m.\u001b[0m\u001b[0mbind\u001b[0m\u001b[0;34m(\u001b[0m\u001b[0max\u001b[0m\u001b[0;34m,\u001b[0m \u001b[0;34m*\u001b[0m\u001b[0margs\u001b[0m\u001b[0;34m,\u001b[0m \u001b[0;34m**\u001b[0m\u001b[0mkwargs\u001b[0m\u001b[0;34m)\u001b[0m\u001b[0;34m\u001b[0m\u001b[0;34m\u001b[0m\u001b[0m\n",
      "\u001b[0;32m/usr/local/lib/python3.8/dist-packages/matplotlib/axes/_axes.py\u001b[0m in \u001b[0;36mimshow\u001b[0;34m(self, X, cmap, norm, aspect, interpolation, alpha, vmin, vmax, origin, extent, filternorm, filterrad, resample, url, **kwargs)\u001b[0m\n\u001b[1;32m   5607\u001b[0m                               resample=resample, **kwargs)\n\u001b[1;32m   5608\u001b[0m \u001b[0;34m\u001b[0m\u001b[0m\n\u001b[0;32m-> 5609\u001b[0;31m         \u001b[0mim\u001b[0m\u001b[0;34m.\u001b[0m\u001b[0mset_data\u001b[0m\u001b[0;34m(\u001b[0m\u001b[0mX\u001b[0m\u001b[0;34m)\u001b[0m\u001b[0;34m\u001b[0m\u001b[0;34m\u001b[0m\u001b[0m\n\u001b[0m\u001b[1;32m   5610\u001b[0m         \u001b[0mim\u001b[0m\u001b[0;34m.\u001b[0m\u001b[0mset_alpha\u001b[0m\u001b[0;34m(\u001b[0m\u001b[0malpha\u001b[0m\u001b[0;34m)\u001b[0m\u001b[0;34m\u001b[0m\u001b[0;34m\u001b[0m\u001b[0m\n\u001b[1;32m   5611\u001b[0m         \u001b[0;32mif\u001b[0m \u001b[0mim\u001b[0m\u001b[0;34m.\u001b[0m\u001b[0mget_clip_path\u001b[0m\u001b[0;34m(\u001b[0m\u001b[0;34m)\u001b[0m \u001b[0;32mis\u001b[0m \u001b[0;32mNone\u001b[0m\u001b[0;34m:\u001b[0m\u001b[0;34m\u001b[0m\u001b[0;34m\u001b[0m\u001b[0m\n",
      "\u001b[0;32m/usr/local/lib/python3.8/dist-packages/matplotlib/image.py\u001b[0m in \u001b[0;36mset_data\u001b[0;34m(self, A)\u001b[0m\n\u001b[1;32m    698\u001b[0m         if (self._A.dtype != np.uint8 and\n\u001b[1;32m    699\u001b[0m                 not np.can_cast(self._A.dtype, float, \"same_kind\")):\n\u001b[0;32m--> 700\u001b[0;31m             raise TypeError(\"Image data of dtype {} cannot be converted to \"\n\u001b[0m\u001b[1;32m    701\u001b[0m                             \"float\".format(self._A.dtype))\n\u001b[1;32m    702\u001b[0m \u001b[0;34m\u001b[0m\u001b[0m\n",
      "\u001b[0;31mTypeError\u001b[0m: Image data of dtype object cannot be converted to float"
     ]
    }
   ],
   "source": [
    "from matplotlib.pyplot import figure\n",
    "figure(figsize=(30, 30), dpi=80)\n",
    "plt.imshow(img)\n",
    "plt.show()"
   ]
  },
  {
   "cell_type": "code",
   "execution_count": null,
   "id": "9784f854",
   "metadata": {},
   "outputs": [],
   "source": []
  }
 ],
 "metadata": {
  "kernelspec": {
   "display_name": "Python 3",
   "language": "python",
   "name": "python3"
  },
  "language_info": {
   "codemirror_mode": {
    "name": "ipython",
    "version": 3
   },
   "file_extension": ".py",
   "mimetype": "text/x-python",
   "name": "python",
   "nbconvert_exporter": "python",
   "pygments_lexer": "ipython3",
   "version": "3.8.10"
  }
 },
 "nbformat": 4,
 "nbformat_minor": 5
}
