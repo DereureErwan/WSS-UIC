{
 "cells": [
  {
   "cell_type": "code",
   "execution_count": 1,
   "id": "dc1b5505",
   "metadata": {},
   "outputs": [],
   "source": [
    "import numpy as np \n",
    "import matplotlib.pyplot as plt\n",
    "import os\n",
    "from openslide import OpenSlide\n",
    "import wsiprocess as wp\n",
    "from PIL import Image\n",
    "import pandas as pd\n",
    "import xml.etree.ElementTree as ET\n",
    "import networkx as nx\n",
    "import geopandas as gpd\n",
    "import numpy as np\n",
    "from shapely.geometry import Polygon\n",
    "from shapely.ops import triangulate\n",
    "import random\n",
    "from itertools import combinations\n",
    "from scipy.interpolate import interp1d\n",
    "from scribble_inside_shape import  *\n",
    "from tqdm import tqdm\n",
    "import warnings\n",
    "import tifffile\n",
    "import openslide\n",
    "import cv2\n",
    "warnings.filterwarnings(\"ignore\")\n",
    "import large_image\n",
    "import pyvips\n",
    "import alphashape\n",
    "import wsiprocess as wsp\n",
    "import large_image\n",
    "from PIL import Image\n",
    "import histolab\n",
    "from histolab.slide import Slide\n",
    "from histolab.data import ihc_kidney\n",
    "import os\n",
    "from histolab.masks import TissueMask\n",
    "from histolab.filters.image_filters import (\n",
    "   ApplyMaskImage,\n",
    "   GreenPenFilter,\n",
    "   Invert,\n",
    "   OtsuThreshold,\n",
    "   RgbToGrayscale,\n",
    ")\n",
    "from histolab.filters.morphological_filters import RemoveSmallHoles, RemoveSmallObjects\n",
    "from histolab.masks import TissueMask\n",
    "from histolab.slide import Slide\n",
    "from shapely import wkt\n",
    "from cytomine.models import ProjectCollection\n",
    "from cytomine import Cytomine\n",
    "from cytomine.models import CurrentUser\n",
    "from shapely.geometry import LineString, MultiLineString,MultiPolygon,MultiPoint\n",
    "from send_annotation import *\n",
    "from dell_annotation import delete_annotations\n",
    "from shapely import wkt\n",
    "from send_annotation import Send\n",
    "\n",
    "pb_key = '868c4bac-e5b8-4758-9b4a-2980571c6bb2'\n",
    "pv_key = '1476d15a-ec6e-48e0-95ea-d45a0ab0ff94'\n",
    "host = 'https://nsclc.cytomine.com'"
   ]
  },
  {
   "cell_type": "code",
   "execution_count": 2,
   "id": "3fbf76c8",
   "metadata": {
    "scrolled": true
   },
   "outputs": [],
   "source": [
    "path_camelyon = '/home/ahabis/sshfs/CAMELYON/'\n",
    "path_tumor = os.path.join(path_camelyon,'test/images')\n",
    "path_annotations = os.path.join(path_camelyon,'annotations')\n",
    "filenames = os.listdir(path_tumor)\n",
    "filename = filenames[0].split('.')[0]\n",
    "path_image = os.path.join(path_tumor,filename+'.tif')\n",
    "img = openslide.OpenSlide(path_image)\n"
   ]
  },
  {
   "cell_type": "code",
   "execution_count": 6,
   "id": "704cadb5",
   "metadata": {},
   "outputs": [],
   "source": [
    "def get_scribbles_and_shapes(path_image):\n",
    "    slide = Slide(path_image, processed_path='')\n",
    "    mask = TissueMask(\n",
    "       RgbToGrayscale(),\n",
    "       OtsuThreshold(),\n",
    "       ApplyMaskImage(slide.thumbnail),\n",
    "       GreenPenFilter(),\n",
    "       RgbToGrayscale(),\n",
    "       Invert(),\n",
    "       OtsuThreshold(),\n",
    "       RemoveSmallHoles(),\n",
    "       RemoveSmallObjects(min_size =20, avoid_overmask=False ),\n",
    "    )\n",
    "    sf = 64\n",
    "    k = np.array(slide.locate_mask(mask, scale_factor=sf,outline='green'))\n",
    "    k[k==128] = 0\n",
    "    \n",
    "    contours,_ = cv2.findContours(k[:,:,3],cv2.RETR_EXTERNAL, cv2.CHAIN_APPROX_SIMPLE)\n",
    "    sizes = np.array([contours[i].shape[0] for i in range(len(contours))])\n",
    "    r = np.argmax(sizes)\n",
    "    contour_foreground = contours[r] *sf \n",
    "    \n",
    "    \n",
    "    s = Scribble(filename, downsample=40, percent=0.7,show = False, split='test')\n",
    "    dataframe_annotation = s.create_dataframe_annotations()\n",
    "    scribbles = []\n",
    "    shapes = []\n",
    "    for annotation_id in tqdm(list(dataframe_annotation.columns)):\n",
    "        scribble, shape = s.final_scribble(dataframe_annotation,annotation_id)\n",
    "        if scribble is not(None):\n",
    "            scribble = scribble[s.interpolation_method]\n",
    "            scribble =np.expand_dims(scribble, axis = 1)\n",
    "            shape =np.expand_dims(shape, axis = 1)\n",
    "            shapes.append(shape)\n",
    "            scribbles.append(scribble)\n",
    "\n",
    "    s.downsample = 40\n",
    "    \n",
    "    try:\n",
    "        scribble_foreground = s.scribble_background(contour_foreground.squeeze())[0][s.interpolation_method]\n",
    "    except: scribble_foreground = None\n",
    "        \n",
    "    return (shapes ,scribbles, contour_foreground, scribble_foreground)"
   ]
  },
  {
   "cell_type": "markdown",
   "id": "9efb73d0",
   "metadata": {},
   "source": [
    "### Cell to create the dictionnary"
   ]
  },
  {
   "cell_type": "code",
   "execution_count": 7,
   "id": "83ef8730",
   "metadata": {
    "scrolled": true
   },
   "outputs": [
    {
     "name": "stderr",
     "output_type": "stream",
     "text": [
      "100%|██████████| 23/23 [00:01<00:00, 15.37it/s]\n",
      "100%|██████████| 99/99 [00:06<00:00, 15.62it/s]\n",
      "100%|██████████| 9/9 [00:00<00:00, 21.35it/s]\n",
      "100%|██████████| 7/7 [00:00<00:00, 11.38it/s]\n",
      "100%|██████████| 23/23 [00:01<00:00, 13.22it/s]\n",
      "100%|██████████| 2/2 [00:00<00:00, 16.67it/s]\n",
      "100%|██████████| 2/2 [00:00<00:00, 18.58it/s]\n",
      "100%|██████████| 30/30 [00:02<00:00, 10.10it/s]\n",
      "100%|██████████| 5/5 [00:00<00:00, 13.88it/s]\n",
      "100%|██████████| 10/10 [00:01<00:00,  6.03it/s]\n",
      "100%|██████████| 5/5 [00:00<00:00,  9.06it/s]\n",
      "100%|██████████| 1/1 [00:00<00:00,  5.98it/s]\n",
      "100%|██████████| 3/3 [00:00<00:00,  6.42it/s]\n",
      "100%|██████████| 78/78 [00:12<00:00,  6.02it/s]\n",
      "100%|██████████| 77/77 [00:12<00:00,  6.13it/s]\n",
      "100%|██████████| 1/1 [00:00<00:00,  6.02it/s]\n",
      "100%|██████████| 22/22 [00:01<00:00, 12.10it/s]\n",
      "100%|██████████| 53/53 [00:04<00:00, 12.97it/s]\n",
      "100%|██████████| 5/5 [00:00<00:00,  6.13it/s]\n",
      "100%|██████████| 9/9 [00:01<00:00,  8.47it/s]\n",
      "100%|██████████| 52/52 [00:08<00:00,  6.03it/s]\n",
      "100%|██████████| 13/13 [00:01<00:00, 12.79it/s]\n",
      "100%|██████████| 36/36 [00:05<00:00,  6.44it/s]\n",
      "100%|██████████| 4/4 [00:00<00:00, 15.13it/s]\n",
      "100%|██████████| 45/45 [00:02<00:00, 19.99it/s]\n",
      "100%|██████████| 2/2 [00:00<00:00,  5.89it/s]\n",
      "100%|██████████| 7/7 [00:01<00:00,  6.05it/s]\n",
      "100%|██████████| 4/4 [00:00<00:00,  8.75it/s]\n",
      "100%|██████████| 307/307 [00:20<00:00, 14.96it/s]\n",
      "100%|██████████| 2/2 [00:00<00:00, 13.41it/s]\n",
      "100%|██████████| 6/6 [00:00<00:00, 17.72it/s]\n",
      "100%|██████████| 24/24 [00:03<00:00,  7.93it/s]\n",
      "100%|██████████| 14/14 [00:01<00:00, 13.35it/s]\n",
      "100%|██████████| 24/24 [00:03<00:00,  7.83it/s]\n",
      "100%|██████████| 14/14 [00:01<00:00,  9.63it/s]\n",
      "100%|██████████| 89/89 [00:05<00:00, 16.88it/s]\n",
      "100%|██████████| 52/52 [00:04<00:00, 11.31it/s]\n",
      "100%|██████████| 3/3 [00:00<00:00, 10.69it/s]\n",
      "100%|██████████| 32/32 [00:03<00:00, 10.33it/s]\n",
      "100%|██████████| 8/8 [00:01<00:00,  6.60it/s]\n",
      "100%|██████████| 28/28 [00:03<00:00,  7.57it/s]\n",
      "100%|██████████| 25/25 [00:03<00:00,  7.48it/s]\n",
      "100%|██████████| 1/1 [00:00<00:00, 16.46it/s]\n",
      "100%|██████████| 78/78 [00:06<00:00, 11.82it/s]\n",
      "100%|██████████| 3/3 [00:00<00:00,  6.26it/s]\n",
      "100%|██████████| 35/35 [00:05<00:00,  6.69it/s]\n",
      "100%|██████████| 40/40 [00:02<00:00, 15.61it/s]\n",
      "100%|██████████| 203/203 [00:10<00:00, 18.52it/s]\n"
     ]
    }
   ],
   "source": [
    "dic = {}\n",
    "for i, filename in enumerate(filenames):\n",
    "    filename = filenames[i].split('.')[0]\n",
    "    path_image = os.path.join(path_tumor,filename+'.tif')\n",
    "    shapes, scribbles, contour_foreground, scribble_foreground = get_scribbles_and_shapes(path_image)\n",
    "    dic[filename] = scribbles, scribble_foreground\n"
   ]
  },
  {
   "cell_type": "code",
   "execution_count": 8,
   "id": "8d63c660",
   "metadata": {},
   "outputs": [],
   "source": [
    "np.save('dictionnary_test.npy',dic)"
   ]
  },
  {
   "cell_type": "code",
   "execution_count": 25,
   "id": "a4f358d2",
   "metadata": {},
   "outputs": [],
   "source": [
    "dic = np.load('dictionnary.npy', allow_pickle=True).item()"
   ]
  },
  {
   "cell_type": "markdown",
   "id": "fa6a15b8",
   "metadata": {},
   "source": [
    "### Sample tumor scribbles and remove some scribble foreground"
   ]
  },
  {
   "cell_type": "code",
   "execution_count": 9,
   "id": "01346676",
   "metadata": {},
   "outputs": [],
   "source": [
    "def create_rect(u):\n",
    "    \n",
    "    \"return the rectangle centered in u x0, x1, y0, y1\"\n",
    "    \n",
    "    l = 512\n",
    "    return np.array([u[0] - l, u[0] + l, u[1] - l, u[1] + l])\n",
    "\n",
    "def point_is_in_rect(rect,point):\n",
    "    \n",
    "    \"check if point is in rectangle\"\n",
    "    \n",
    "    if point[0]> rect[0] and point[0]< rect[1] and point[1]> rect[2] and point[1]< rect[3]:\n",
    "        return True\n",
    "    else: \n",
    "        return False\n",
    "    \n",
    "\n",
    "def remove_scribble_background(scribble_background, scribble_tumor):\n",
    "    new_scribble_background = np.zeros(scribble_background.shape)\n",
    "\n",
    "    for u in scribble_tumor:\n",
    "        rect = create_rect(u)\n",
    "        for i, v in enumerate(scribble_background):\n",
    "            if not(point_is_in_rect(rect,v)):\n",
    "                new_scribble_background[i] = v\n",
    "    new_scribble_background = new_scribble_background[~np.all(new_scribble_background == 0, axis=1)]\n",
    "    return new_scribble_background\n"
   ]
  },
  {
   "cell_type": "code",
   "execution_count": 15,
   "id": "ea7831be",
   "metadata": {},
   "outputs": [],
   "source": [
    "new_dic = {}\n",
    "\n",
    "for filename in list(dic.keys()):\n",
    "    list_scribbles = dic[filename][0]\n",
    "    number_scribbles = len(list_scribbles)\n",
    "    indices = np.argsort([-u.shape[0] for u in list_scribbles])\n",
    "    nb_scribble_to_draw = np.min((int(number_scribbles/10)+1, 10))\n",
    "    indices[:nb_scribble_to_draw]\n",
    "    scribble_tumor = [list_scribbles[u] for u in indices[:nb_scribble_to_draw]]\n",
    "    if scribble_tumor is not(None):\n",
    "        scribble_tumor = np.concatenate(scribble_tumor, axis = 0).squeeze()\n",
    "        scribble_background = np.array(dic[filename][1]).squeeze()\n",
    "        try:\n",
    "            scribble_background = remove_scribble_background(scribble_background, scribble_tumor)\n",
    "        except: \n",
    "            pass\n",
    "        new_dic[filename] = scribble_tumor, scribble_background\n",
    "\n"
   ]
  },
  {
   "cell_type": "code",
   "execution_count": 17,
   "id": "a2df9cdf",
   "metadata": {},
   "outputs": [],
   "source": [
    "np.save('dictionnary_sampled_test.npy',new_dic)"
   ]
  },
  {
   "cell_type": "code",
   "execution_count": 27,
   "id": "6ed0ba21",
   "metadata": {},
   "outputs": [],
   "source": [
    "new_dic = np.load('dictionnary_sampled.npy', allow_pickle=True).item()"
   ]
  },
  {
   "cell_type": "markdown",
   "id": "4b5b3c47",
   "metadata": {},
   "source": [
    "### Transform dictionnary to pandas dataframe"
   ]
  },
  {
   "cell_type": "code",
   "execution_count": 29,
   "id": "4dd42b35",
   "metadata": {
    "scrolled": true
   },
   "outputs": [
    {
     "name": "stderr",
     "output_type": "stream",
     "text": [
      "100%|██████████| 111/111 [05:48<00:00,  3.14s/it]\n"
     ]
    }
   ],
   "source": [
    "df = pd.DataFrame(columns = ['wsi', 'point', 'class'])\n",
    "\n",
    "for filename in tqdm(new_dic.keys()):\n",
    "    scribble_tumor, scribble_background = new_dic[filename]\n",
    "    if scribble_tumor != []:\n",
    "        for i in range(scribble_tumor.shape[0]): \n",
    "            df = df.append({'wsi':filename, 'point':scribble_tumor[i],'class':1}, ignore_index=True)\n",
    "    try:\n",
    "        for i in range(scribble_background.shape[0]):\n",
    "            df = df.append({'wsi':filename, 'point':scribble_background[i],'class':0}, ignore_index=True)\n",
    "    except:\n",
    "        pass"
   ]
  },
  {
   "cell_type": "code",
   "execution_count": 34,
   "id": "c33350f9",
   "metadata": {},
   "outputs": [
    {
     "data": {
      "text/html": [
       "<div>\n",
       "<style scoped>\n",
       "    .dataframe tbody tr th:only-of-type {\n",
       "        vertical-align: middle;\n",
       "    }\n",
       "\n",
       "    .dataframe tbody tr th {\n",
       "        vertical-align: top;\n",
       "    }\n",
       "\n",
       "    .dataframe thead th {\n",
       "        text-align: right;\n",
       "    }\n",
       "</style>\n",
       "<table border=\"1\" class=\"dataframe\">\n",
       "  <thead>\n",
       "    <tr style=\"text-align: right;\">\n",
       "      <th></th>\n",
       "      <th>wsi</th>\n",
       "      <th>point</th>\n",
       "      <th>class</th>\n",
       "    </tr>\n",
       "  </thead>\n",
       "  <tbody>\n",
       "    <tr>\n",
       "      <th>0</th>\n",
       "      <td>tumor_097</td>\n",
       "      <td>[46993.2844944687, 20685.945903835494]</td>\n",
       "      <td>1</td>\n",
       "    </tr>\n",
       "    <tr>\n",
       "      <th>1</th>\n",
       "      <td>tumor_097</td>\n",
       "      <td>[47043.16440067771, 20616.52728626175]</td>\n",
       "      <td>1</td>\n",
       "    </tr>\n",
       "    <tr>\n",
       "      <th>2</th>\n",
       "      <td>tumor_097</td>\n",
       "      <td>[46947.03862025114, 20585.01286934944]</td>\n",
       "      <td>1</td>\n",
       "    </tr>\n",
       "    <tr>\n",
       "      <th>3</th>\n",
       "      <td>tumor_097</td>\n",
       "      <td>[46878.522718198765, 20513.103383698675]</td>\n",
       "      <td>1</td>\n",
       "    </tr>\n",
       "    <tr>\n",
       "      <th>4</th>\n",
       "      <td>tumor_097</td>\n",
       "      <td>[46808.20861358398, 20421.815784477232]</td>\n",
       "      <td>1</td>\n",
       "    </tr>\n",
       "    <tr>\n",
       "      <th>...</th>\n",
       "      <td>...</td>\n",
       "      <td>...</td>\n",
       "      <td>...</td>\n",
       "    </tr>\n",
       "    <tr>\n",
       "      <th>173124</th>\n",
       "      <td>tumor_005</td>\n",
       "      <td>[35382.370889065896, 132427.2959772708]</td>\n",
       "      <td>0</td>\n",
       "    </tr>\n",
       "    <tr>\n",
       "      <th>173125</th>\n",
       "      <td>tumor_005</td>\n",
       "      <td>[35383.787437955056, 132314.63331768828]</td>\n",
       "      <td>0</td>\n",
       "    </tr>\n",
       "    <tr>\n",
       "      <th>173126</th>\n",
       "      <td>tumor_005</td>\n",
       "      <td>[35388.77246601066, 132194.05612591564]</td>\n",
       "      <td>0</td>\n",
       "    </tr>\n",
       "    <tr>\n",
       "      <th>173127</th>\n",
       "      <td>tumor_005</td>\n",
       "      <td>[35396.21901513249, 132092.74647461058]</td>\n",
       "      <td>0</td>\n",
       "    </tr>\n",
       "    <tr>\n",
       "      <th>173128</th>\n",
       "      <td>tumor_005</td>\n",
       "      <td>[35407.989688918155, 131985.8299060953]</td>\n",
       "      <td>0</td>\n",
       "    </tr>\n",
       "  </tbody>\n",
       "</table>\n",
       "<p>173129 rows × 3 columns</p>\n",
       "</div>"
      ],
      "text/plain": [
       "              wsi                                     point class\n",
       "0       tumor_097    [46993.2844944687, 20685.945903835494]     1\n",
       "1       tumor_097    [47043.16440067771, 20616.52728626175]     1\n",
       "2       tumor_097    [46947.03862025114, 20585.01286934944]     1\n",
       "3       tumor_097  [46878.522718198765, 20513.103383698675]     1\n",
       "4       tumor_097   [46808.20861358398, 20421.815784477232]     1\n",
       "...           ...                                       ...   ...\n",
       "173124  tumor_005   [35382.370889065896, 132427.2959772708]     0\n",
       "173125  tumor_005  [35383.787437955056, 132314.63331768828]     0\n",
       "173126  tumor_005   [35388.77246601066, 132194.05612591564]     0\n",
       "173127  tumor_005   [35396.21901513249, 132092.74647461058]     0\n",
       "173128  tumor_005   [35407.989688918155, 131985.8299060953]     0\n",
       "\n",
       "[173129 rows x 3 columns]"
      ]
     },
     "execution_count": 34,
     "metadata": {},
     "output_type": "execute_result"
    }
   ],
   "source": [
    "df"
   ]
  },
  {
   "cell_type": "markdown",
   "id": "ce870a64",
   "metadata": {},
   "source": [
    "### Load dictionnary or dataframe"
   ]
  },
  {
   "cell_type": "code",
   "execution_count": 35,
   "id": "867f52a7",
   "metadata": {},
   "outputs": [],
   "source": [
    "df.to_csv('dataframe_train.csv')"
   ]
  }
 ],
 "metadata": {
  "kernelspec": {
   "display_name": "Python 3",
   "language": "python",
   "name": "python3"
  },
  "language_info": {
   "codemirror_mode": {
    "name": "ipython",
    "version": 3
   },
   "file_extension": ".py",
   "mimetype": "text/x-python",
   "name": "python",
   "nbconvert_exporter": "python",
   "pygments_lexer": "ipython3",
   "version": "3.8.10"
  }
 },
 "nbformat": 4,
 "nbformat_minor": 5
}
