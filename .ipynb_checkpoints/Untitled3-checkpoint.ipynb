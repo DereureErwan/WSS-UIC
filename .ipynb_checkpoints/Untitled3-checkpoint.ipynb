{
 "cells": [
  {
   "cell_type": "code",
   "execution_count": 9,
   "id": "cc558df3",
   "metadata": {},
   "outputs": [],
   "source": [
    "from openslide import OpenSlide\n",
    "import os\n",
    "import numpy as np\n",
    "import matplotlib.pyplot as plt\n",
    "import cv2\n",
    "path_images  = '/home/ahabis/sshfs/CAMELYON/test/images'"
   ]
  },
  {
   "cell_type": "code",
   "execution_count": 24,
   "id": "69f4c5fd",
   "metadata": {},
   "outputs": [],
   "source": [
    "filename = 'test_001.tif'\n",
    "path = os.path.join(path_images, filename)\n",
    "img = OpenSlide(path)"
   ]
  },
  {
   "cell_type": "code",
   "execution_count": 25,
   "id": "7f5e85f7",
   "metadata": {},
   "outputs": [],
   "source": [
    "dim = np.array(img.dimensions)//3"
   ]
  },
  {
   "cell_type": "code",
   "execution_count": 26,
   "id": "06e8a611",
   "metadata": {},
   "outputs": [],
   "source": [
    "new_img = np.array(img.read_region((0,0),3 ,dim))"
   ]
  },
  {
   "cell_type": "code",
   "execution_count": 27,
   "id": "fc174204",
   "metadata": {},
   "outputs": [],
   "source": [
    "plt.imsave('test_001.png', new_img)"
   ]
  },
  {
   "cell_type": "code",
   "execution_count": 22,
   "id": "059a0fda",
   "metadata": {},
   "outputs": [],
   "source": [
    "im = plt.imread('test_027.png')"
   ]
  }
 ],
 "metadata": {
  "kernelspec": {
   "display_name": "Python 3",
   "language": "python",
   "name": "python3"
  },
  "language_info": {
   "codemirror_mode": {
    "name": "ipython",
    "version": 3
   },
   "file_extension": ".py",
   "mimetype": "text/x-python",
   "name": "python",
   "nbconvert_exporter": "python",
   "pygments_lexer": "ipython3",
   "version": "3.8.10"
  }
 },
 "nbformat": 4,
 "nbformat_minor": 5
}
