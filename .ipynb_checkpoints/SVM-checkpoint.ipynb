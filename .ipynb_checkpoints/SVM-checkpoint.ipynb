{
 "cells": [
  {
   "cell_type": "code",
   "execution_count": 5,
   "id": "24bf400c",
   "metadata": {},
   "outputs": [],
   "source": [
    "%load_ext autoreload"
   ]
  },
  {
   "cell_type": "code",
   "execution_count": 6,
   "id": "9a816f4b",
   "metadata": {},
   "outputs": [],
   "source": [
    "%autoreload 2"
   ]
  },
  {
   "cell_type": "code",
   "execution_count": 17,
   "id": "9f6bcbdd",
   "metadata": {},
   "outputs": [
    {
     "name": "stdout",
     "output_type": "stream",
     "text": [
      "test_027\n"
     ]
    }
   ],
   "source": [
    "\n",
    "from sklearn.svm import SVC\n",
    "import numpy as np\n",
    "import os\n",
    "import matplotlib.pyplot as plt\n",
    "from sklearn.linear_model import SGDClassifier\n",
    "from sklearn.calibration import CalibratedClassifierCV\n",
    "from glob import glob\n",
    "from tqdm import tqdm\n",
    "from lasvm.lasvm import LaSVM\n",
    "from scipy.stats import logistic\n",
    "path_predictions_features = 'features_predictions/'\n",
    "filename = os.listdir(path_predictions_features)[5]\n",
    "\n",
    "##1\n",
    "\n",
    "print(filename)\n",
    "path_predictions_features = os.path.join(path_predictions_features,filename)\n",
    "path_results = 'results/predictions_'+filename+'.npy'\n",
    "path_patches = '/home/ahabis/Scribble Project/patches'\n",
    "path_masks = '/home/ahabis/Scribble Project/patchesmasks'"
   ]
  },
  {
   "cell_type": "code",
   "execution_count": 18,
   "id": "dfe7c853",
   "metadata": {},
   "outputs": [],
   "source": [
    "predictions = np.load(os.path.join(path_predictions_features,'predictions.npy'))\n",
    "features = np.load(os.path.join(path_predictions_features,'features.npy'))\n",
    "trues = np.load(os.path.join(path_predictions_features,'trues.npy'))\n",
    "mean = np.mean(features, axis = 0)\n",
    "std = np.std(features, axis = 0)\n",
    "features = (features - mean) / std\n",
    "\n",
    "# svm= SGDClassifier(shuffle=True,alpha = 1e-4)\n",
    "# preds = np.zeros((4,4))\n",
    "# res_binary = np.zeros((4, predictions.shape[0]))\n",
    "# np.sum(trues)"
   ]
  },
  {
   "cell_type": "code",
   "execution_count": 37,
   "id": "20cf8d3e",
   "metadata": {},
   "outputs": [],
   "source": [
    "predictions_new = np.std(predictions,0)"
   ]
  },
  {
   "cell_type": "code",
   "execution_count": 38,
   "id": "8c3e5e79",
   "metadata": {},
   "outputs": [],
   "source": [
    "predictions_new = (predictions_new - np.min(predictions_new)) / (np.max(predictions_new) - np.min(predictions_new))"
   ]
  },
  {
   "cell_type": "code",
   "execution_count": 39,
   "id": "acea8da8",
   "metadata": {},
   "outputs": [],
   "source": [
    "# np.sum(predictions_new == 0.3)"
   ]
  },
  {
   "cell_type": "code",
   "execution_count": 40,
   "id": "6b541fb6",
   "metadata": {},
   "outputs": [
    {
     "data": {
      "image/png": "[encoded data removed]",
      "text/plain": [
       "<Figure size 640x480 with 1 Axes>"
      ]
     },
     "metadata": {},
     "output_type": "display_data"
    }
   ],
   "source": [
    "plt.hist(predictions_new)\n",
    "plt.show()"
   ]
  },
  {
   "cell_type": "code",
   "execution_count": 6,
   "id": "c0a5c664",
   "metadata": {},
   "outputs": [],
   "source": [
    "thresh = 0.3"
   ]
  },
  {
   "cell_type": "code",
   "execution_count": 7,
   "id": "99a8af39",
   "metadata": {},
   "outputs": [],
   "source": [
    "\n",
    "def metrics_first(predictions, trues, thresh = 0.2):\n",
    "    \n",
    "    tp = np.sum((predictions>thresh) * trues)\n",
    "    tn = np.sum((predictions<thresh) * (1 - trues))\n",
    "    fp = np.sum((predictions>thresh) * (1 - trues))\n",
    "    fn = np.sum((predictions<thresh) * trues)\n",
    "\n",
    "\n",
    "    accuracy = np.sum(trues  == (predictions>thresh))/trues.shape[0]\n",
    "    precision = tp / (tp + fp)\n",
    "    recall = tp / (tp + fn)\n",
    "\n",
    "    f1 = 2 * (precision * recall)/(precision + recall)\n",
    "    return accuracy, precision,recall, f1\n"
   ]
  },
  {
   "cell_type": "code",
   "execution_count": 8,
   "id": "cd559a0f",
   "metadata": {},
   "outputs": [],
   "source": [
    "preds[0,:] = metrics_first(predictions, trues)\n",
    "res_binary[0,:] = predictions"
   ]
  },
  {
   "cell_type": "code",
   "execution_count": 9,
   "id": "442983a4",
   "metadata": {},
   "outputs": [
    {
     "data": {
      "text/plain": [
       "(0.9743862276654508, 0.688682077454218, 0.5168995042812078, 0.5905521946196423)"
      ]
     },
     "execution_count": 9,
     "metadata": {},
     "output_type": "execute_result"
    }
   ],
   "source": [
    "metrics_first(predictions, trues, thresh = 0.3)"
   ]
  },
  {
   "cell_type": "code",
   "execution_count": 10,
   "id": "5f8cf75b",
   "metadata": {},
   "outputs": [],
   "source": [
    "def compute_new_dataset(features,predictions, trues, first):\n",
    "    if first == True:\n",
    "        thresh = 0.3\n",
    "    \n",
    "        tp = np.sum((predictions>thresh) * trues)\n",
    "        tn = np.sum((predictions<thresh) * (1 - trues))\n",
    "        fp = np.sum((predictions>thresh) * (1 - trues))\n",
    "        fn = np.sum((predictions<thresh) * trues)\n",
    "        \n",
    "        nb_fn = 30\n",
    "        nb_fp = 30\n",
    "        \n",
    "        tn_indexes = np.argwhere(predictions <0.05).flatten()[:3000]\n",
    "        tp_indexes = np.argwhere(predictions>0.6).flatten()\n",
    "        nb_tn = len(tn_indexes)\n",
    "        nb_tp = len(tp_indexes)\n",
    "        \n",
    "        pred_p = predictions>thresh\n",
    "        pred_n = predictions<thresh\n",
    "        fn = trues * pred_n\n",
    "        fp = (1-trues) * pred_p\n",
    "        \n",
    "        if np.sum(fn)==0:\n",
    "            max_fn = len(np.argwhere(tp).flatten())\n",
    "            indexes_fn = np.argwhere(tp).flatten()[:min(nb_tp,max_fn)]\n",
    "        else : \n",
    "            max_fn = len(np.argwhere(fn).flatten())\n",
    "            indexes_fn = np.argwhere(fn).flatten()[:min(nb_fn,max_fn)]\n",
    "\n",
    "        max_fp = len(np.argwhere(fp).flatten())\n",
    "        indexes_fp = np.argwhere(fp).flatten()[:min(nb_fp,max_fp)]\n",
    "        \n",
    "        positive_index = np.concatenate((indexes_fn,tp_indexes))\n",
    "        negative_index = np.concatenate((indexes_fp,tn_indexes))\n",
    "        \n",
    "        pos = features[positive_index]\n",
    "        neg = features[negative_index]\n",
    "\n",
    "        data = np.concatenate((pos,neg), axis = 0)\n",
    "\n",
    "        y = np.concatenate((np.ones(nb_tp + min(nb_fn,max_fn)), np.zeros(nb_tn + min(nb_fp,max_fp))))\n",
    "        return data, y, indexes_fn, indexes_fp\n",
    "    else:    \n",
    "        \n",
    "        tp = np.sum((predictions) * trues)\n",
    "        tn = np.sum((predictions) * (1 - trues))\n",
    "        fp = np.sum((predictions) * (1 - trues))\n",
    "        fn = np.sum((predictions) * trues)\n",
    "        \n",
    "        nb_fn = 30\n",
    "        nb_fp = 30\n",
    "        nb_tp = 30\n",
    "        \n",
    "        sort_pred = np.argsort(predictions)\n",
    "        fn = trues * (1 - predictions)\n",
    "        fp = (1-trues) * predictions\n",
    "        \n",
    "        if np.sum(fn)==0:\n",
    "            max_fn = len(np.argwhere(tp).flatten())\n",
    "            indexes_fn = np.argwhere(tp).flatten()[:min(nb_tp,max_fn)]\n",
    "        else : \n",
    "            max_fn = len(np.argwhere(fn).flatten())\n",
    "            indexes_fn = np.argwhere(fn).flatten()[:min(nb_fn,max_fn)]\n",
    "\n",
    "        max_fp = len(np.argwhere(fp).flatten())\n",
    "        indexes_fp = np.argwhere(fp).flatten()[:min(nb_fp,max_fp)]\n",
    "        \n",
    "        positive_index = indexes_fn\n",
    "        negative_index = indexes_fp\n",
    "        pos = features[positive_index]\n",
    "        neg = features[negative_index]   \n",
    "        \n",
    "        data = np.concatenate((pos,neg), axis = 0)\n",
    "        y = np.concatenate((np.ones(min(nb_fn,max_fn)), np.zeros(min(nb_fp,max_fp))))\n",
    "        return data, y, indexes_fn , indexes_fp\n",
    "        "
   ]
  },
  {
   "cell_type": "code",
   "execution_count": 11,
   "id": "e4199e26",
   "metadata": {},
   "outputs": [],
   "source": [
    "def metrics(predictions, trues):\n",
    "\n",
    "    tp = np.sum((predictions) * trues)\n",
    "    tn = np.sum((1 - predictions) * (1 - trues))\n",
    "    fp = np.sum((predictions) * (1 - trues))\n",
    "    fn = np.sum((1 - predictions) * trues)\n",
    "\n",
    "    accuracy = np.sum(trues  == (predictions))/trues.shape[0]\n",
    "    precision = tp / (tp + fp)\n",
    "    recall = tp / (tp + fn)\n",
    "    f1 = 2 * (precision * recall)/(precision + recall)\n",
    "    return accuracy, precision,recall, f1\n"
   ]
  },
  {
   "cell_type": "markdown",
   "id": "ad619639",
   "metadata": {},
   "source": [
    "### 1st round"
   ]
  },
  {
   "cell_type": "code",
   "execution_count": 12,
   "id": "e30eb9c9",
   "metadata": {},
   "outputs": [],
   "source": [
    "data, y, indexes_fn1, indexes_fp1  = compute_new_dataset(features, predictions,trues,first = True)"
   ]
  },
  {
   "cell_type": "code",
   "execution_count": 13,
   "id": "132e2abc",
   "metadata": {},
   "outputs": [],
   "source": [
    "for i in range (500):\n",
    "    svm.partial_fit(data,y,classes=[0,1])"
   ]
  },
  {
   "cell_type": "code",
   "execution_count": 14,
   "id": "a25dbe69",
   "metadata": {},
   "outputs": [],
   "source": [
    "predictions = logistic.cdf(svm.decision_function(features))\n",
    "\n",
    "pred_metric = np.zeros(predictions.shape)\n",
    "pred_metric[predictions<0.5] = 0\n",
    "pred_metric[predictions>0.5] = 1\n",
    "\n",
    "pred_metric[indexes_fn1] = 1\n",
    "pred_metric[indexes_fp1] = 0\n",
    "\n",
    "preds[1,:] = metrics(pred_metric, trues)\n",
    "res_binary[1,:] = predictions"
   ]
  },
  {
   "cell_type": "code",
   "execution_count": 15,
   "id": "9fec7c1c",
   "metadata": {},
   "outputs": [
    {
     "name": "stdout",
     "output_type": "stream",
     "text": [
      "1\n"
     ]
    }
   ],
   "source": [
    "print(np.max(trues))"
   ]
  },
  {
   "cell_type": "code",
   "execution_count": 16,
   "id": "1d42a39f",
   "metadata": {},
   "outputs": [
    {
     "data": {
      "text/plain": [
       "(0.9929946614488973,\n",
       " 0.8387770603873909,\n",
       " 0.9952681388012619,\n",
       " 0.9103462489694971)"
      ]
     },
     "execution_count": 16,
     "metadata": {},
     "output_type": "execute_result"
    }
   ],
   "source": [
    "metrics(pred_metric, trues)"
   ]
  },
  {
   "cell_type": "markdown",
   "id": "c0ff694e",
   "metadata": {},
   "source": [
    "### 2nd round"
   ]
  },
  {
   "cell_type": "code",
   "execution_count": 17,
   "id": "be2a66d9",
   "metadata": {},
   "outputs": [],
   "source": [
    "data, y, indexes_fn2, indexes_fp2  = compute_new_dataset(features, pred_metric,trues,first = False)"
   ]
  },
  {
   "cell_type": "code",
   "execution_count": 18,
   "id": "d237b12c",
   "metadata": {},
   "outputs": [],
   "source": [
    "for i in range(1):\n",
    "    svm.partial_fit(data,y,classes=[0,1])"
   ]
  },
  {
   "cell_type": "code",
   "execution_count": 19,
   "id": "8fa4f020",
   "metadata": {},
   "outputs": [],
   "source": [
    "\n",
    "predictions = logistic.cdf(svm.decision_function(features))\n",
    "\n",
    "\n",
    "pred_metric = np.zeros(predictions.shape)\n",
    "pred_metric[predictions<0.5] = 0\n",
    "pred_metric[predictions>0.5] = 1\n",
    "\n",
    "pred_metric[indexes_fn1] = 1\n",
    "pred_metric[indexes_fp1] = 0\n",
    "pred_metric[indexes_fn2] = 1\n",
    "pred_metric[indexes_fp2] = 0\n",
    "\n",
    "preds[2,:] = metrics(pred_metric, trues)\n",
    "res_binary[2,:] = predictions"
   ]
  },
  {
   "cell_type": "code",
   "execution_count": 20,
   "id": "663e9ca9",
   "metadata": {},
   "outputs": [
    {
     "data": {
      "text/plain": [
       "(0.9948385953893599,\n",
       " 0.8739413039196375,\n",
       " 0.9997746732762506,\n",
       " 0.9326326852338414)"
      ]
     },
     "execution_count": 20,
     "metadata": {},
     "output_type": "execute_result"
    }
   ],
   "source": [
    "metrics(pred_metric, trues)"
   ]
  },
  {
   "cell_type": "markdown",
   "id": "687d911d",
   "metadata": {},
   "source": [
    "### 3rd round"
   ]
  },
  {
   "cell_type": "code",
   "execution_count": 21,
   "id": "fc6dac9d",
   "metadata": {},
   "outputs": [],
   "source": [
    "data, y, indexes_fn3, indexes_fp3  = compute_new_dataset(features, pred_metric,trues,first = False)"
   ]
  },
  {
   "cell_type": "code",
   "execution_count": 22,
   "id": "247f8a83",
   "metadata": {},
   "outputs": [],
   "source": [
    "for i in range(1):\n",
    "    svm.partial_fit(data,y,classes=[0,1])\n",
    "predictions = logistic.cdf(svm.decision_function(features))\n",
    "\n",
    "pred_metric = np.zeros(predictions.shape)\n",
    "\n",
    "pred_metric[predictions<0.5] = 0\n",
    "pred_metric[predictions>0.5] = 1\n",
    "\n",
    "pred_metric[indexes_fn1] = 1\n",
    "pred_metric[indexes_fp1] = 0\n",
    "pred_metric[indexes_fn2] = 1\n",
    "pred_metric[indexes_fp2] = 0\n",
    "pred_metric[indexes_fn3] = 1\n",
    "pred_metric[indexes_fp3] = 0\n"
   ]
  },
  {
   "cell_type": "code",
   "execution_count": 23,
   "id": "94ebd516",
   "metadata": {},
   "outputs": [
    {
     "data": {
      "text/plain": [
       "(0.9966583729899913,\n",
       " 0.9443339960238568,\n",
       " 0.9632717440288419,\n",
       " 0.9537088678192972)"
      ]
     },
     "execution_count": 23,
     "metadata": {},
     "output_type": "execute_result"
    }
   ],
   "source": [
    "preds[3,:] = metrics(pred_metric, trues)\n",
    "res_binary[3,:] = predictions\n",
    "metrics(pred_metric, trues)\n"
   ]
  },
  {
   "cell_type": "code",
   "execution_count": 24,
   "id": "1c36b394",
   "metadata": {},
   "outputs": [],
   "source": [
    "# np.save(os.path.join(path_results, filename+'.npy'), preds)\n",
    "np.save(path_results, res_binary)\n",
    "# print(os.path.join(path_results, 'predictions_'+filename+'.npy'))"
   ]
  },
  {
   "cell_type": "markdown",
   "id": "af287932",
   "metadata": {},
   "source": [
    "### Get results"
   ]
  },
  {
   "cell_type": "code",
   "execution_count": 23,
   "id": "1861c186",
   "metadata": {},
   "outputs": [
    {
     "name": "stdout",
     "output_type": "stream",
     "text": [
      "['results/test_061', 'results/test_048', 'results/test_008', 'results/test_104', 'results/test_116', 'results/test_105', 'results/test_069', 'results/test_094', 'results/test_110', 'results/test_021', 'results/test_117', 'results/test_064', 'results/test_004', 'results/test_065', 'results/test_051', 'results/test_011', 'results/test_071', 'results/test_066', 'results/test_052', 'results/test_030', 'results/test_027', 'results/test_121', 'results/test_029', 'results/test_046', 'results/test_090', 'results/test_026', 'results/test_113', 'results/test_013', 'results/test_108', 'results/test_092', 'results/test_097', 'results/test_073', 'results/test_079', 'results/test_033', 'results/test_001', 'results/test_002', 'results/test_084', 'results/test_102', 'results/test_040', 'results/test_010', 'results/test_016', 'results/test_082', 'results/test_075', 'results/test_122']\n"
     ]
    }
   ],
   "source": [
    "new_filenames = [u[:-4] for u in glob(path_results+'test*') if len(u)==20]\n",
    "print(new_filenames)\n",
    "means = []\n",
    "stds = []\n",
    "for filename in new_filenames:\n",
    "    list_im = []\n",
    "    list_std = []\n",
    "    for i in range(10):\n",
    "        try:\n",
    "            im = np.load(filename+str(i)+'.npy')\n",
    "        except:\n",
    "            pass\n",
    "        if not(np.isnan(im).any()):\n",
    "            list_im.append(im)\n",
    "\n",
    "    mean = np.mean(np.array(list_im), axis = 0)\n",
    "    std = np.std(np.array(list_im), axis = 0)\n",
    "    means.append(mean)\n",
    "    stds.append(std)\n"
   ]
  },
  {
   "cell_type": "code",
   "execution_count": 24,
   "id": "db59c8d2",
   "metadata": {},
   "outputs": [
    {
     "data": {
      "text/plain": [
       "[array([[0.98031122, 0.49081633, 0.92322457, 0.64090606],\n",
       "        [0.99160579, 0.69603444, 0.99232246, 0.8181753 ],\n",
       "        [0.99689144, 0.97086724, 0.86257198, 0.91348588],\n",
       "        [0.99842563, 0.97224183, 0.94452975, 0.95807436]]),\n",
       " array([[0.99822197, 0.44444444, 0.83116883, 0.57918552],\n",
       "        [0.99770576, 0.39770876, 0.98701299, 0.56449717],\n",
       "        [0.99965204, 0.92523653, 0.84935065, 0.87712307],\n",
       "        [0.99979925, 0.92024055, 0.95714286, 0.93140636]]),\n",
       " array([[0.95436607, 0.02486559, 0.86046512, 0.04833442],\n",
       "        [0.98919444, 0.11090535, 1.        , 0.19965366],\n",
       "        [0.99696818, 0.25535374, 0.62790698, 0.36114173],\n",
       "        [0.99882235, 0.58486809, 0.99767442, 0.72105851]]),\n",
       " array([[0.99182428, 0.88083538, 0.80743243, 0.84253819],\n",
       "        [0.99674802, 0.98044799, 0.89786036, 0.93733358],\n",
       "        [0.99826113, 0.99036891, 0.94504505, 0.9671543 ],\n",
       "        [0.99860891, 0.96548995, 0.98423423, 0.97467487]]),\n",
       " array([[0.99948843, 0.05882353, 1.        , 0.11111111],\n",
       "        [0.99969625, 0.10280269, 1.        , 0.18502308],\n",
       "        [0.99999893, 1.        , 0.96666667, 0.98      ],\n",
       "        [1.        , 1.        , 1.        , 1.        ]]),\n",
       " array([[0.86870262, 0.99062268, 0.85459178, 0.91759307],\n",
       "        [0.87840559, 0.99434124, 0.86275627, 0.92388445],\n",
       "        [0.93084192, 0.97753873, 0.94078385, 0.95879744],\n",
       "        [0.9024229 , 0.92307437, 0.96662722, 0.94430838]]),\n",
       " array([[0.99802803, 0.80035971, 0.84280303, 0.82103321],\n",
       "        [0.99757062, 0.70762713, 0.9342803 , 0.80515028],\n",
       "        [0.99821303, 0.75405949, 0.99223485, 0.8566205 ],\n",
       "        [0.99930676, 0.95420575, 0.91477273, 0.9340138 ]]),\n",
       " array([[0.97733258, 0.85116598, 0.80116204, 0.82540738],\n",
       "        [0.98449549, 0.95594346, 0.80529374, 0.87416882],\n",
       "        [0.97673676, 0.86167969, 0.77688832, 0.81703775],\n",
       "        [0.98878287, 0.94904479, 0.87972886, 0.91298444]]),\n",
       " array([[0.99504383, 0.07      , 1.        , 0.13084112],\n",
       "        [0.99857444, 0.21009747, 1.        , 0.34658701],\n",
       "        [0.99973354, 1.        , 0.28571429, 0.44444444],\n",
       "        [0.99957633, 0.47235816, 1.        , 0.64037022]]),\n",
       " array([[0.68317533, 0.99399897, 0.64492272, 0.78228572],\n",
       "        [0.79117581, 0.99510173, 0.76717276, 0.86627214],\n",
       "        [0.86124264, 0.9912798 , 0.85036001, 0.91494597],\n",
       "        [0.77332021, 0.94506893, 0.79121111, 0.85930701]]),\n",
       " array([[0.9992688 , 0.55172414, 1.        , 0.71111111],\n",
       "        [1.        , 1.        , 1.        , 1.        ],\n",
       "        [1.        , 1.        , 1.        , 1.        ],\n",
       "        [1.        , 1.        , 1.        , 1.        ]]),\n",
       " array([[0.98184336, 0.2027027 , 1.        , 0.33707865],\n",
       "        [0.99301431, 0.39254603, 0.93      , 0.55182134],\n",
       "        [0.99835359, 0.93270792, 0.69666667, 0.79481846],\n",
       "        [0.99892291, 0.81349297, 1.        , 0.89641273]]),\n",
       " array([[0.98280016, 0.00429185, 1.        , 0.00854701],\n",
       "        [0.99309288, 0.01065071, 1.        , 0.02107629],\n",
       "        [0.99998353, 1.        , 0.77777778, 0.85185185],\n",
       "        [1.        , 1.        , 1.        , 1.        ]]),\n",
       " array([[0.98266857, 0.3030303 , 0.88235294, 0.45112782],\n",
       "        [0.99845679, 0.88307379, 0.93235294, 0.90699385],\n",
       "        [0.99874169, 0.9006006 , 0.95      , 0.92442296],\n",
       "        [1.        , 1.        , 1.        , 1.        ]]),\n",
       " array([[0.95717072, 0.86120401, 0.51345962, 0.64334791],\n",
       "        [0.97190219, 0.97099832, 0.64586241, 0.77566802],\n",
       "        [0.97880288, 0.99507323, 0.7218345 , 0.83666727],\n",
       "        [0.9870312 , 0.9716762 , 0.85254237, 0.90817768]]),\n",
       " array([[0.9979354 , 0.06060606, 1.        , 0.11428571],\n",
       "        [0.9999334 , 1.        , 0.5       , 0.66666667],\n",
       "        [1.        , 1.        , 1.        , 1.        ],\n",
       "        [1.        , 1.        , 1.        , 1.        ]]),\n",
       " array([[0.93426823, 0.95812952, 0.83042225, 0.88971657],\n",
       "        [0.97088635, 0.97712443, 0.9306427 , 0.953249  ],\n",
       "        [0.16037143, 0.07327413, 0.13033746, 0.0932735 ],\n",
       "        [0.97138448, 0.99156281, 0.91822961, 0.95341579]]),\n",
       " array([[0.99868199, 0.25714286, 0.27272727, 0.26470588],\n",
       "        [0.9990194 , 0.47272142, 1.        , 0.64119265],\n",
       "        [0.99994728, 0.9969697 , 0.94242424, 0.9688447 ],\n",
       "        [0.99999736, 0.99705882, 1.        , 0.99850746]]),\n",
       " array([[0.99145963, 0.05232558, 0.81818182, 0.09836066],\n",
       "        [0.99589545, 0.12319308, 0.99090909, 0.21866696],\n",
       "        [0.99954451, 0.75587302, 0.35454545, 0.47154762],\n",
       "        [0.9990735 , 0.44547842, 1.        , 0.59633986]]),\n",
       " array([[0.97491783, 0.24710425, 0.73988439, 0.37047757],\n",
       "        [0.98749928, 0.43702405, 0.87456647, 0.58273389],\n",
       "        [0.99346134, 0.62615904, 0.85606936, 0.7232273 ],\n",
       "        [0.99681716, 0.76280789, 0.99017341, 0.86142954]]),\n",
       " array([[0.98103151, 0.7833595 , 0.68922652, 0.73328435],\n",
       "        [0.99757015, 0.95294872, 0.98439227, 0.96840982],\n",
       "        [0.99711031, 0.974145  , 0.94875691, 0.96117444],\n",
       "        [0.99990594, 0.99752104, 1.        , 0.99875872]]),\n",
       " array([[0.97675519, 0.02736318, 0.84615385, 0.05301205],\n",
       "        [0.98497664, 0.04115491, 0.83076923, 0.07841713],\n",
       "        [0.99884072, 0.34686047, 0.46153846, 0.38862711],\n",
       "        [0.99981664, 0.91570671, 0.91538462, 0.90143468]]),\n",
       " array([[0.99774073, 0.34146341, 0.875     , 0.49122807],\n",
       "        [0.99965721, 0.81622807, 0.9375    , 0.87240896],\n",
       "        [1.        , 1.        , 1.        , 1.        ],\n",
       "        [1.        , 1.        , 1.        , 1.        ]]),\n",
       " array([[0.9879377 , 0.21774194, 0.81818182, 0.34394904],\n",
       "        [0.99821993, 0.68587253, 1.        , 0.81332017],\n",
       "        [0.99964867, 1.        , 0.90909091, 0.95238095],\n",
       "        [1.        , 1.        , 1.        , 1.        ]]),\n",
       " array([[0.7807788 , 0.9603685 , 0.49718785, 0.65518366],\n",
       "        [0.92503581, 0.9773971 , 0.84032846, 0.90333027],\n",
       "        [0.41706687, 0.36027594, 0.40287964, 0.37624459],\n",
       "        [0.94225158, 0.9878432 , 0.87290889, 0.92677638]]),\n",
       " array([[0.94918005, 0.9440261 , 0.84592892, 0.89228944],\n",
       "        [0.96237197, 0.97313289, 0.87289699, 0.9201929 ],\n",
       "        [0.95378071, 0.97176079, 0.83859649, 0.90020842],\n",
       "        [0.97401914, 0.98855676, 0.90611786, 0.94534083]]),\n",
       " array([[0.81029258, 0.99098403, 0.5348751 , 0.69475965],\n",
       "        [0.6501403 , 0.98732827, 0.13496316, 0.23737352],\n",
       "        [0.82688379, 0.99685403, 0.57292024, 0.72762027],\n",
       "        [0.85982864, 0.98370405, 0.66361867, 0.79215134]]),\n",
       " array([[0.99888778, 0.375     , 1.        , 0.54545455],\n",
       "        [0.99988878, 0.85714286, 1.        , 0.92307692],\n",
       "        [1.        , 1.        , 1.        , 1.        ],\n",
       "        [1.        , 1.        , 1.        , 1.        ]]),\n",
       " array([[0.98738991, 0.97101449, 0.69430052, 0.80966767],\n",
       "        [0.99485588, 0.97398573, 0.89067358, 0.93044609],\n",
       "        [0.98847078, 0.77682448, 1.        , 0.87241233],\n",
       "        [0.99963971, 0.99179487, 0.99896373, 0.99535546]]),\n",
       " array([[0.99584068, 0.55960265, 0.87113402, 0.68145161],\n",
       "        [0.99925764, 0.87674099, 0.99484536, 0.93199633],\n",
       "        [0.99903651, 1.        , 0.81134021, 0.89572352],\n",
       "        [0.9999921 , 0.99846154, 1.        , 0.99922879]]),\n",
       " array([[0.99616938, 0.05147059, 1.        , 0.0979021 ],\n",
       "        [0.9990468 , 0.15975926, 0.82857143, 0.26702072],\n",
       "        [0.9998545 , 0.825     , 0.4       , 0.52681818],\n",
       "        [0.99999406, 0.975     , 1.        , 0.98666667]]),\n",
       " array([[0.96732342, 0.98841433, 0.91818679, 0.95200719],\n",
       "        [0.97528169, 0.99196566, 0.93757753, 0.96398953],\n",
       "        [0.97129934, 0.99268833, 0.9254378 , 0.95777905],\n",
       "        [0.95861181, 0.958291  , 0.92242795, 0.93973761]]),\n",
       " array([[0.99357955, 0.90425532, 0.45945946, 0.609319  ],\n",
       "        [0.99604759, 0.8728684 , 0.74594595, 0.80443081],\n",
       "        [0.99797962, 0.92118218, 0.89135135, 0.90590144],\n",
       "        [0.99786181, 0.8364916 , 1.        , 0.91082742]]),\n",
       " array([[0.99906696, 0.17073171, 1.        , 0.29166667],\n",
       "        [0.9996062 , 0.32212688, 0.92857143, 0.47750304],\n",
       "        [1.        , 1.        , 1.        , 1.        ],\n",
       "        [1.        , 1.        , 1.        , 1.        ]]),\n",
       " array([[0.96193609, 0.76598386, 0.74025195, 0.75289811],\n",
       "        [0.99210526, 0.92932537, 0.97324535, 0.95077555],\n",
       "        [0.98836466, 0.89668329, 0.96244751, 0.92838209],\n",
       "        [0.99602914, 0.95741449, 0.9935213 , 0.97512878]]),\n",
       " array([[0.99252838, 0.9193154 , 0.71755725, 0.80600214],\n",
       "        [0.99685036, 0.94516859, 0.90706107, 0.92570083],\n",
       "        [0.99922807, 0.98153493, 0.98282443, 0.98217151],\n",
       "        [0.99987616, 0.99866157, 0.99561069, 0.99713063]]),\n",
       " array([[0.99775223, 0.72727273, 0.85714286, 0.78688525],\n",
       "        [0.99703467, 0.63117779, 0.95714286, 0.75931155],\n",
       "        [0.99998271, 0.99649123, 1.        , 0.99823009],\n",
       "        [1.        , 1.        , 1.        , 1.        ]]),\n",
       " array([[0.99337529, 0.56585366, 0.91338583, 0.69879518],\n",
       "        [0.99569394, 0.6740616 , 0.96771654, 0.79269724],\n",
       "        [0.99814508, 0.93514384, 0.84409449, 0.86436129],\n",
       "        [0.99843657, 0.95716234, 0.85748031, 0.89776173]]),\n",
       " array([[0.97401404, 0.94898736, 0.99030669, 0.96920684],\n",
       "        [0.98005118, 0.95739217, 0.99605911, 0.97633372],\n",
       "        [0.48148172, 0.43586716, 0.82664866, 0.57013226],\n",
       "        [0.98465779, 0.96788515, 0.99618624, 0.98176046]]),\n",
       " array([[0.9979133 , 0.09090909, 0.83333333, 0.16393443],\n",
       "        [0.99964403, 0.39651447, 0.84166667, 0.53856157],\n",
       "        [0.99999795, 1.        , 0.99166667, 0.99565217],\n",
       "        [1.        , 1.        , 1.        , 1.        ]]),\n",
       " array([[0.90255813, 0.9433219 , 0.6855375 , 0.79403113],\n",
       "        [0.98433491, 0.97553285, 0.9670761 , 0.97127824],\n",
       "        [0.50767946, 0.24561163, 0.31487809, 0.2742579 ],\n",
       "        [0.9893525 , 0.98498246, 0.97602512, 0.98048028]]),\n",
       " array([[0.98270535, 0.68630849, 0.81397739, 0.74471086],\n",
       "        [0.98826002, 0.77866687, 0.86793422, 0.82086709],\n",
       "        [0.99119024, 0.94258941, 0.76217883, 0.84280951],\n",
       "        [0.99101825, 0.9709518 , 0.73216855, 0.8345556 ]]),\n",
       " array([[0.98565436, 0.89845694, 0.90977823, 0.90408214],\n",
       "        [0.99028766, 0.93974129, 0.92888105, 0.93427316],\n",
       "        [0.98946363, 0.98647111, 0.87016129, 0.92464846],\n",
       "        [0.99220541, 0.98818766, 0.90594758, 0.94527761]]),\n",
       " array([[0.98128394, 0.24878837, 0.88      , 0.38790932],\n",
       "        [0.98939423, 0.38658224, 0.95942857, 0.55056966],\n",
       "        [0.99765472, 0.77604523, 0.92114286, 0.84160484],\n",
       "        [0.99921824, 0.96235539, 0.92      , 0.93990944]])]"
      ]
     },
     "execution_count": 24,
     "metadata": {},
     "output_type": "execute_result"
    }
   ],
   "source": [
    "means"
   ]
  },
  {
   "cell_type": "code",
   "execution_count": 25,
   "id": "3a565cd5",
   "metadata": {},
   "outputs": [
    {
     "name": "stdout",
     "output_type": "stream",
     "text": [
      "[[0.96452737 0.54966335 0.81849329 0.55562784]\n",
      " [0.97569284 0.69366267 0.89418817 0.70797952]\n",
      " [0.9316115  0.84929706 0.79920757 0.80551239]\n",
      " [0.98397744 0.93385548 0.95120973 0.93269917]]\n"
     ]
    }
   ],
   "source": [
    "means = np.mean(np.array(means), axis = 0)\n",
    "stds = np.mean(np.array(stds), axis = 0)\n",
    "print(means)"
   ]
  },
  {
   "cell_type": "code",
   "execution_count": 26,
   "id": "a1adf27f",
   "metadata": {},
   "outputs": [
    {
     "name": "stdout",
     "output_type": "stream",
     "text": [
      "[[0.68407832 0.54966335 0.81849329 0.55562784]\n",
      " [0.79392542 0.69366267 0.89418817 0.70797952]\n",
      " [0.82425232 0.84929706 0.79920757 0.80551239]\n",
      " [0.9425326  0.93385548 0.95120973 0.93269917]]\n",
      "[[7.82202586e-17 6.12672791e-17 6.30808537e-17 6.81273220e-17]\n",
      " [1.42320228e-03 1.27256461e-02 8.07075097e-03 1.27443462e-02]\n",
      " [1.27151186e-02 2.96046683e-02 3.61182763e-02 3.11164938e-02]\n",
      " [3.17212034e-03 2.37915779e-02 1.50541040e-02 2.01431602e-02]]\n"
     ]
    }
   ],
   "source": [
    "means[:,0] = (means[:,1] + means[:,2])/2\n",
    "print(means)\n",
    "print(stds)"
   ]
  },
  {
   "cell_type": "markdown",
   "id": "55172270",
   "metadata": {},
   "source": [
    "### Save patches"
   ]
  },
  {
   "cell_type": "code",
   "execution_count": 16,
   "id": "ff79b3c1",
   "metadata": {},
   "outputs": [
    {
     "data": {
      "text/plain": [
       "['results/predictions_test_046.npy',\n",
       " 'results/predictions_test_064.npy',\n",
       " 'results/predictions_test_001.npy',\n",
       " 'results/predictions_test_010.npy',\n",
       " 'results/predictions_test_097.npy',\n",
       " 'results/predictions_test_026.npy',\n",
       " 'results/predictions_test_116.npy',\n",
       " 'results/predictions_test_104.npy',\n",
       " 'results/predictions_test_040.npy',\n",
       " 'results/predictions_test_016.npy',\n",
       " 'results/predictions_test_071.npy',\n",
       " 'results/predictions_test_092.npy',\n",
       " 'results/predictions_test_029.npy',\n",
       " 'results/predictions_test_048.npy',\n",
       " 'results/predictions_test_075.npy',\n",
       " 'results/predictions_test_008.npy',\n",
       " 'results/predictions_test_108.npy',\n",
       " 'results/predictions_test_066.npy',\n",
       " 'results/predictions_test_084.npy',\n",
       " 'results/predictions_test_102.npy',\n",
       " 'results/predictions_test_121.npy',\n",
       " 'results/predictions_test_105.npy',\n",
       " 'results/predictions_test_110.npy',\n",
       " 'results/predictions_test_051.npy',\n",
       " 'results/predictions_test_079.npy',\n",
       " 'results/predictions_test_004.npy',\n",
       " 'results/predictions_test_002.npy',\n",
       " 'results/predictions_test_073.npy',\n",
       " 'results/predictions_test_011.npy',\n",
       " 'results/predictions_test_082.npy',\n",
       " 'results/predictions_test_030.npy',\n",
       " 'results/predictions_test_069.npy',\n",
       " 'results/predictions_test_113.npy',\n",
       " 'results/predictions_test_033.npy',\n",
       " 'results/predictions_test_065.npy',\n",
       " 'results/predictions_test_117.npy',\n",
       " 'results/predictions_test_122.npy',\n",
       " 'results/predictions_test_052.npy',\n",
       " 'results/predictions_test_013.npy',\n",
       " 'results/predictions_test_061.npy',\n",
       " 'results/predictions_test_021.npy',\n",
       " 'results/predictions_test_027.npy',\n",
       " 'results/predictions_test_090.npy',\n",
       " 'results/predictions_test_094.npy']"
      ]
     },
     "execution_count": 16,
     "metadata": {},
     "output_type": "execute_result"
    }
   ],
   "source": [
    "from tqdm import tqdm\n",
    "from glob import glob\n",
    "glob(path_results+'predictions_test*')"
   ]
  },
  {
   "cell_type": "code",
   "execution_count": 32,
   "id": "4abd79a5",
   "metadata": {
    "scrolled": false
   },
   "outputs": [
    {
     "name": "stderr",
     "output_type": "stream",
     "text": [
      "\r",
      "  0%|          | 0/44 [00:00<?, ?it/s]"
     ]
    },
    {
     "name": "stdout",
     "output_type": "stream",
     "text": [
      "results/predictions_test_046.npy\n"
     ]
    },
    {
     "name": "stderr",
     "output_type": "stream",
     "text": [
      "\r",
      "  2%|▏         | 1/44 [01:00<43:39, 60.91s/it]"
     ]
    },
    {
     "name": "stdout",
     "output_type": "stream",
     "text": [
      "results/predictions_test_064.npy\n"
     ]
    },
    {
     "name": "stderr",
     "output_type": "stream",
     "text": [
      "\r",
      "  5%|▍         | 2/44 [01:47<36:34, 52.25s/it]"
     ]
    },
    {
     "name": "stdout",
     "output_type": "stream",
     "text": [
      "results/predictions_test_001.npy\n"
     ]
    },
    {
     "name": "stderr",
     "output_type": "stream",
     "text": [
      "\r",
      "  7%|▋         | 3/44 [04:20<1:07:24, 98.65s/it]"
     ]
    },
    {
     "name": "stdout",
     "output_type": "stream",
     "text": [
      "results/predictions_test_010.npy\n"
     ]
    },
    {
     "name": "stderr",
     "output_type": "stream",
     "text": [
      "\r",
      "  9%|▉         | 4/44 [10:15<2:12:59, 199.50s/it]"
     ]
    },
    {
     "name": "stdout",
     "output_type": "stream",
     "text": [
      "results/predictions_test_097.npy\n"
     ]
    },
    {
     "name": "stderr",
     "output_type": "stream",
     "text": [
      "\r",
      " 11%|█▏        | 5/44 [14:22<2:20:48, 216.63s/it]"
     ]
    },
    {
     "name": "stdout",
     "output_type": "stream",
     "text": [
      "results/predictions_test_026.npy\n"
     ]
    },
    {
     "name": "stderr",
     "output_type": "stream",
     "text": [
      "\r",
      " 14%|█▎        | 6/44 [16:32<1:58:42, 187.43s/it]"
     ]
    },
    {
     "name": "stdout",
     "output_type": "stream",
     "text": [
      "results/predictions_test_116.npy\n"
     ]
    },
    {
     "name": "stderr",
     "output_type": "stream",
     "text": [
      "\r",
      " 16%|█▌        | 7/44 [28:13<3:39:04, 355.26s/it]"
     ]
    },
    {
     "name": "stdout",
     "output_type": "stream",
     "text": [
      "results/predictions_test_104.npy\n"
     ]
    },
    {
     "name": "stderr",
     "output_type": "stream",
     "text": [
      "\r",
      " 18%|█▊        | 8/44 [32:16<3:11:38, 319.39s/it]"
     ]
    },
    {
     "name": "stdout",
     "output_type": "stream",
     "text": [
      "results/predictions_test_040.npy\n"
     ]
    },
    {
     "name": "stderr",
     "output_type": "stream",
     "text": [
      "\r",
      " 20%|██        | 9/44 [34:06<2:28:08, 253.95s/it]"
     ]
    },
    {
     "name": "stdout",
     "output_type": "stream",
     "text": [
      "results/predictions_test_016.npy\n"
     ]
    },
    {
     "name": "stderr",
     "output_type": "stream",
     "text": [
      "\r",
      " 23%|██▎       | 10/44 [38:56<2:30:10, 265.02s/it]"
     ]
    },
    {
     "name": "stdout",
     "output_type": "stream",
     "text": [
      "results/predictions_test_071.npy\n"
     ]
    },
    {
     "name": "stderr",
     "output_type": "stream",
     "text": [
      "\r",
      " 25%|██▌       | 11/44 [41:11<2:03:54, 225.30s/it]"
     ]
    },
    {
     "name": "stdout",
     "output_type": "stream",
     "text": [
      "results/predictions_test_092.npy\n"
     ]
    },
    {
     "name": "stderr",
     "output_type": "stream",
     "text": [
      "\r",
      " 27%|██▋       | 12/44 [45:43<2:07:46, 239.59s/it]"
     ]
    },
    {
     "name": "stdout",
     "output_type": "stream",
     "text": [
      "results/predictions_test_029.npy\n"
     ]
    },
    {
     "name": "stderr",
     "output_type": "stream",
     "text": [
      "\r",
      " 30%|██▉       | 13/44 [47:17<1:41:00, 195.49s/it]"
     ]
    },
    {
     "name": "stdout",
     "output_type": "stream",
     "text": [
      "results/predictions_test_048.npy\n"
     ]
    },
    {
     "name": "stderr",
     "output_type": "stream",
     "text": [
      "\r",
      " 32%|███▏      | 14/44 [53:37<2:05:40, 251.34s/it]"
     ]
    },
    {
     "name": "stdout",
     "output_type": "stream",
     "text": [
      "results/predictions_test_075.npy\n"
     ]
    },
    {
     "name": "stderr",
     "output_type": "stream",
     "text": [
      "\r",
      " 34%|███▍      | 15/44 [56:54<1:53:27, 234.73s/it]"
     ]
    },
    {
     "name": "stdout",
     "output_type": "stream",
     "text": [
      "results/predictions_test_008.npy\n"
     ]
    },
    {
     "name": "stderr",
     "output_type": "stream",
     "text": [
      "\r",
      " 36%|███▋      | 16/44 [1:00:47<1:49:23, 234.41s/it]"
     ]
    },
    {
     "name": "stdout",
     "output_type": "stream",
     "text": [
      "results/predictions_test_108.npy\n"
     ]
    },
    {
     "name": "stderr",
     "output_type": "stream",
     "text": [
      "\r",
      " 39%|███▊      | 17/44 [1:01:24<1:18:43, 174.95s/it]"
     ]
    },
    {
     "name": "stdout",
     "output_type": "stream",
     "text": [
      "results/predictions_test_066.npy\n"
     ]
    },
    {
     "name": "stderr",
     "output_type": "stream",
     "text": [
      "\r",
      " 41%|████      | 18/44 [1:06:06<1:29:43, 207.07s/it]"
     ]
    },
    {
     "name": "stdout",
     "output_type": "stream",
     "text": [
      "results/predictions_test_084.npy\n"
     ]
    },
    {
     "name": "stderr",
     "output_type": "stream",
     "text": [
      "\r",
      " 43%|████▎     | 19/44 [1:07:31<1:11:00, 170.42s/it]"
     ]
    },
    {
     "name": "stdout",
     "output_type": "stream",
     "text": [
      "results/predictions_test_102.npy\n"
     ]
    },
    {
     "name": "stderr",
     "output_type": "stream",
     "text": [
      "\r",
      " 45%|████▌     | 20/44 [1:09:21<1:00:55, 152.31s/it]"
     ]
    },
    {
     "name": "stdout",
     "output_type": "stream",
     "text": [
      "results/predictions_test_121.npy\n"
     ]
    },
    {
     "name": "stderr",
     "output_type": "stream",
     "text": [
      "\r",
      " 48%|████▊     | 21/44 [1:11:23<54:52, 143.17s/it]  "
     ]
    },
    {
     "name": "stdout",
     "output_type": "stream",
     "text": [
      "results/predictions_test_105.npy\n"
     ]
    },
    {
     "name": "stderr",
     "output_type": "stream",
     "text": [
      "\r",
      " 50%|█████     | 22/44 [1:23:20<1:55:37, 315.36s/it]"
     ]
    },
    {
     "name": "stdout",
     "output_type": "stream",
     "text": [
      "results/predictions_test_110.npy\n"
     ]
    },
    {
     "name": "stderr",
     "output_type": "stream",
     "text": [
      "\r",
      " 52%|█████▏    | 23/44 [1:27:51<1:45:41, 301.99s/it]"
     ]
    },
    {
     "name": "stdout",
     "output_type": "stream",
     "text": [
      "results/predictions_test_051.npy\n"
     ]
    },
    {
     "name": "stderr",
     "output_type": "stream",
     "text": [
      "\r",
      " 55%|█████▍    | 24/44 [1:29:28<1:20:12, 240.64s/it]"
     ]
    },
    {
     "name": "stdout",
     "output_type": "stream",
     "text": [
      "results/predictions_test_079.npy\n"
     ]
    },
    {
     "name": "stderr",
     "output_type": "stream",
     "text": [
      "\r",
      " 57%|█████▋    | 25/44 [1:31:33<1:05:09, 205.76s/it]"
     ]
    },
    {
     "name": "stdout",
     "output_type": "stream",
     "text": [
      "results/predictions_test_004.npy\n"
     ]
    },
    {
     "name": "stderr",
     "output_type": "stream",
     "text": [
      "\r",
      " 59%|█████▉    | 26/44 [1:34:48<1:00:45, 202.53s/it]"
     ]
    },
    {
     "name": "stdout",
     "output_type": "stream",
     "text": [
      "results/predictions_test_002.npy\n"
     ]
    },
    {
     "name": "stderr",
     "output_type": "stream",
     "text": [
      "\r",
      " 61%|██████▏   | 27/44 [1:37:44<55:11, 194.82s/it]  "
     ]
    },
    {
     "name": "stdout",
     "output_type": "stream",
     "text": [
      "results/predictions_test_073.npy\n"
     ]
    },
    {
     "name": "stderr",
     "output_type": "stream",
     "text": [
      "\r",
      " 64%|██████▎   | 28/44 [1:41:29<54:20, 203.81s/it]"
     ]
    },
    {
     "name": "stdout",
     "output_type": "stream",
     "text": [
      "results/predictions_test_011.npy\n"
     ]
    },
    {
     "name": "stderr",
     "output_type": "stream",
     "text": [
      "\r",
      " 66%|██████▌   | 29/44 [1:43:19<43:54, 175.62s/it]"
     ]
    },
    {
     "name": "stdout",
     "output_type": "stream",
     "text": [
      "results/predictions_test_082.npy\n"
     ]
    },
    {
     "name": "stderr",
     "output_type": "stream",
     "text": [
      "\r",
      " 68%|██████▊   | 30/44 [1:47:07<44:38, 191.29s/it]"
     ]
    },
    {
     "name": "stdout",
     "output_type": "stream",
     "text": [
      "results/predictions_test_030.npy\n"
     ]
    },
    {
     "name": "stderr",
     "output_type": "stream",
     "text": [
      "\r",
      " 70%|███████   | 31/44 [1:49:13<37:11, 171.68s/it]"
     ]
    },
    {
     "name": "stdout",
     "output_type": "stream",
     "text": [
      "results/predictions_test_069.npy\n"
     ]
    },
    {
     "name": "stderr",
     "output_type": "stream",
     "text": [
      "\r",
      " 73%|███████▎  | 32/44 [2:01:12<1:07:10, 335.87s/it]"
     ]
    },
    {
     "name": "stdout",
     "output_type": "stream",
     "text": [
      "results/predictions_test_113.npy\n"
     ]
    },
    {
     "name": "stderr",
     "output_type": "stream",
     "text": [
      "\r",
      " 75%|███████▌  | 33/44 [2:07:41<1:04:32, 352.01s/it]"
     ]
    },
    {
     "name": "stdout",
     "output_type": "stream",
     "text": [
      "results/predictions_test_033.npy\n"
     ]
    },
    {
     "name": "stderr",
     "output_type": "stream",
     "text": [
      "\r",
      " 77%|███████▋  | 34/44 [2:16:31<1:07:33, 405.38s/it]"
     ]
    },
    {
     "name": "stdout",
     "output_type": "stream",
     "text": [
      "results/predictions_test_065.npy\n"
     ]
    },
    {
     "name": "stderr",
     "output_type": "stream",
     "text": [
      "\r",
      " 80%|███████▉  | 35/44 [2:17:02<43:57, 293.05s/it]  "
     ]
    },
    {
     "name": "stdout",
     "output_type": "stream",
     "text": [
      "results/predictions_test_117.npy\n"
     ]
    },
    {
     "name": "stderr",
     "output_type": "stream",
     "text": [
      "\r",
      " 82%|████████▏ | 36/44 [2:19:12<32:33, 244.16s/it]"
     ]
    },
    {
     "name": "stdout",
     "output_type": "stream",
     "text": [
      "results/predictions_test_122.npy\n"
     ]
    },
    {
     "name": "stderr",
     "output_type": "stream",
     "text": [
      "\r",
      " 84%|████████▍ | 37/44 [2:22:22<26:34, 227.79s/it]"
     ]
    },
    {
     "name": "stdout",
     "output_type": "stream",
     "text": [
      "results/predictions_test_052.npy\n"
     ]
    },
    {
     "name": "stderr",
     "output_type": "stream",
     "text": [
      "\r",
      " 86%|████████▋ | 38/44 [2:24:43<20:10, 201.82s/it]"
     ]
    },
    {
     "name": "stdout",
     "output_type": "stream",
     "text": [
      "results/predictions_test_013.npy\n"
     ]
    },
    {
     "name": "stderr",
     "output_type": "stream",
     "text": [
      "\r",
      " 89%|████████▊ | 39/44 [2:25:48<13:23, 160.74s/it]"
     ]
    },
    {
     "name": "stdout",
     "output_type": "stream",
     "text": [
      "results/predictions_test_061.npy\n"
     ]
    },
    {
     "name": "stderr",
     "output_type": "stream",
     "text": [
      "\r",
      " 91%|█████████ | 40/44 [2:29:07<11:28, 172.05s/it]"
     ]
    },
    {
     "name": "stdout",
     "output_type": "stream",
     "text": [
      "results/predictions_test_021.npy\n"
     ]
    },
    {
     "name": "stderr",
     "output_type": "stream",
     "text": [
      "\r",
      " 93%|█████████▎| 41/44 [2:36:05<12:17, 245.85s/it]"
     ]
    },
    {
     "name": "stdout",
     "output_type": "stream",
     "text": [
      "results/predictions_test_027.npy\n"
     ]
    },
    {
     "name": "stderr",
     "output_type": "stream",
     "text": [
      "\r",
      " 95%|█████████▌| 42/44 [2:38:24<07:07, 213.89s/it]"
     ]
    },
    {
     "name": "stdout",
     "output_type": "stream",
     "text": [
      "results/predictions_test_090.npy\n"
     ]
    },
    {
     "name": "stderr",
     "output_type": "stream",
     "text": [
      "\r",
      " 98%|█████████▊| 43/44 [2:44:59<04:28, 268.17s/it]"
     ]
    },
    {
     "name": "stdout",
     "output_type": "stream",
     "text": [
      "results/predictions_test_094.npy\n"
     ]
    },
    {
     "name": "stderr",
     "output_type": "stream",
     "text": [
      "100%|██████████| 44/44 [2:47:42<00:00, 228.70s/it]\n"
     ]
    }
   ],
   "source": [
    "list_im = []\n",
    "for filename in tqdm(glob(path_results+'predictions_test*')):\n",
    "    print(filename)\n",
    "    real_filename = filename[20:-4]\n",
    "    real_filename2 = real_filename.split('_')[0]+real_filename.split('_')[1]\n",
    "    results = (1 - np.load(filename)[-1])\n",
    "    for i, filename_patch in enumerate(os.listdir(os.path.join(path_patches,real_filename))):\n",
    "        patch_to_save = np.ones((512,512,3))*results[i]\n",
    "        plt.imsave(os.path.join(os.path.join(path_masks,real_filename2),filename_patch), patch_to_save)"
   ]
  },
  {
   "cell_type": "code",
   "execution_count": 13,
   "id": "fe54a367",
   "metadata": {},
   "outputs": [
    {
     "name": "stdout",
     "output_type": "stream",
     "text": [
      "test_084\n"
     ]
    }
   ],
   "source": [
    "thresh = 0.3\n",
    "filename = os.listdir('truemasks/')[5]\n",
    "filename = filename[:4]+'_'+filename[4:]\n",
    "print(filename)\n",
    "path_predictions_features = 'features_predictions/'\n",
    "path_predictions_features = os.path.join(path_predictions_features,filename)\n",
    "path_results = 'results/'\n",
    "path_patches = '/home/ahabis/Scribble Project/patches'\n",
    "path_masks = '/home/ahabis/Scribble Project/patchesmasks'\n"
   ]
  },
  {
   "cell_type": "code",
   "execution_count": 11,
   "id": "d3e4a2cf",
   "metadata": {},
   "outputs": [],
   "source": [
    "from tqdm import tqdm"
   ]
  },
  {
   "cell_type": "code",
   "execution_count": 12,
   "id": "6ec7c520",
   "metadata": {},
   "outputs": [
    {
     "name": "stdout",
     "output_type": "stream",
     "text": [
      "[[1. 1. 1. 1.]\n",
      " [1. 1. 1. 1.]\n",
      " [1. 1. 1. 1.]]\n",
      "[[0. 0. 0. 0.]\n",
      " [0. 0. 0. 0.]\n",
      " [0. 0. 0. 0.]]\n"
     ]
    }
   ],
   "source": [
    "print(np.ones((3,4)))\n",
    "print(preds[1:,:])"
   ]
  },
  {
   "cell_type": "code",
   "execution_count": 22,
   "id": "2ceb0c77",
   "metadata": {},
   "outputs": [
    {
     "name": "stderr",
     "output_type": "stream",
     "text": [
      "\r",
      "  0%|          | 0/49 [00:00<?, ?it/s]"
     ]
    },
    {
     "name": "stdout",
     "output_type": "stream",
     "text": [
      "(0.9961693787860791, 0.051470588235294115, 1.0, 0.09790209790209789)\n"
     ]
    },
    {
     "name": "stderr",
     "output_type": "stream",
     "text": [
      "\r",
      "  2%|▏         | 1/49 [00:02<02:05,  2.62s/it]"
     ]
    },
    {
     "name": "stdout",
     "output_type": "stream",
     "text": [
      "[0.99896068 0.15       0.85714286 0.25531915]\n",
      "2\n",
      "(0.9543660736657479, 0.02486559139784946, 0.8604651162790697, 0.04833442194644023)\n"
     ]
    },
    {
     "name": "stderr",
     "output_type": "stream",
     "text": [
      "\r",
      "  4%|▍         | 2/49 [00:05<02:04,  2.65s/it]"
     ]
    },
    {
     "name": "stdout",
     "output_type": "stream",
     "text": [
      "[0.9896016  0.11466667 1.         0.20574163]\n",
      "2\n"
     ]
    },
    {
     "name": "stderr",
     "output_type": "stream",
     "text": [
      "<ipython-input-11-686a1c9f481f>:11: RuntimeWarning: invalid value encountered in long_scalars\n",
      "  recall = tp / (tp + fn)\n"
     ]
    },
    {
     "name": "stdout",
     "output_type": "stream",
     "text": [
      "(0.9992343618405941, 0.0, nan, nan)\n"
     ]
    },
    {
     "name": "stderr",
     "output_type": "stream",
     "text": [
      "<ipython-input-15-6cd60cc1786d>:10: RuntimeWarning: invalid value encountered in long_scalars\n",
      "  recall = tp / (tp + fn)\n",
      "<ipython-input-15-6cd60cc1786d>:9: RuntimeWarning: invalid value encountered in long_scalars\n",
      "  precision = tp / (tp + fp)\n",
      "<ipython-input-15-6cd60cc1786d>:10: RuntimeWarning: invalid value encountered in long_scalars\n",
      "  recall = tp / (tp + fn)\n",
      "\r",
      "  6%|▌         | 3/49 [00:07<01:57,  2.56s/it]"
     ]
    },
    {
     "name": "stdout",
     "output_type": "stream",
     "text": [
      "[0.99996172 0.                nan        nan]\n",
      "1\n",
      "(0.9914596273291926, 0.05232558139534884, 0.8181818181818182, 0.09836065573770493)\n"
     ]
    },
    {
     "name": "stderr",
     "output_type": "stream",
     "text": [
      "\r",
      "  8%|▊         | 4/49 [00:10<01:54,  2.55s/it]"
     ]
    },
    {
     "name": "stdout",
     "output_type": "stream",
     "text": [
      "[0.9952381  0.10679612 1.         0.19298246]\n",
      "2\n",
      "(0.9986819907212147, 0.2571428571428571, 0.2727272727272727, 0.2647058823529411)\n"
     ]
    },
    {
     "name": "stderr",
     "output_type": "stream",
     "text": [
      "\r",
      " 10%|█         | 5/49 [00:12<01:53,  2.57s/it]"
     ]
    },
    {
     "name": "stdout",
     "output_type": "stream",
     "text": [
      "[0.99897195 0.45833333 1.         0.62857143]\n",
      "2\n",
      "(0.9977522261606294, 0.7272727272727273, 0.8571428571428571, 0.7868852459016394)\n"
     ]
    },
    {
     "name": "stderr",
     "output_type": "stream",
     "text": [
      "\r",
      " 12%|█▏        | 6/49 [00:15<01:47,  2.51s/it]"
     ]
    },
    {
     "name": "stdout",
     "output_type": "stream",
     "text": [
      "[0.99749287 0.66666667 0.96428571 0.78832117]\n",
      "toto\n",
      "2\n",
      "1\n",
      "(0.6831753268058506, 0.9939989746991948, 0.6449227157112111, 0.782285721066559)\n",
      "[0.8222038  0.99644821 0.80140873 0.88834909]\n"
     ]
    },
    {
     "name": "stderr",
     "output_type": "stream",
     "text": [
      "\r",
      " 16%|█▋        | 8/49 [00:20<01:48,  2.65s/it]"
     ]
    },
    {
     "name": "stdout",
     "output_type": "stream",
     "text": [
      "2\n",
      "(0.9950438327693251, 0.07, 1.0, 0.13084112149532712)\n"
     ]
    },
    {
     "name": "stderr",
     "output_type": "stream",
     "text": [
      "\r",
      " 18%|█▊        | 9/49 [00:23<01:46,  2.65s/it]"
     ]
    },
    {
     "name": "stdout",
     "output_type": "stream",
     "text": [
      "[0.99877428 0.23333333 1.         0.37837838]\n",
      "2\n",
      "(0.9810315096410096, 0.783359497645212, 0.6892265193370166, 0.7332843497428361)\n"
     ]
    },
    {
     "name": "stderr",
     "output_type": "stream",
     "text": [
      "\r",
      " 20%|██        | 10/49 [00:26<01:42,  2.64s/it]"
     ]
    },
    {
     "name": "stdout",
     "output_type": "stream",
     "text": [
      "[0.99743952 0.94820717 0.98618785 0.96682464]\n",
      "2\n",
      "(0.9935795488013194, 0.9042553191489362, 0.4594594594594595, 0.6093189964157706)\n"
     ]
    },
    {
     "name": "stderr",
     "output_type": "stream",
     "text": [
      "\r",
      " 22%|██▏       | 11/49 [00:28<01:38,  2.60s/it]"
     ]
    },
    {
     "name": "stdout",
     "output_type": "stream",
     "text": [
      "[0.99605348 0.87341772 0.74594595 0.80466472]\n",
      "2\n",
      "(0.868702621196786, 0.9906226819129729, 0.8545917751322113, 0.9175930667461804)\n",
      "[0.88006321 0.9941432  0.8648789  0.92501695]\n"
     ]
    },
    {
     "name": "stderr",
     "output_type": "stream",
     "text": [
      "\r",
      " 24%|██▍       | 12/49 [00:40<03:17,  5.33s/it]"
     ]
    },
    {
     "name": "stdout",
     "output_type": "stream",
     "text": [
      "2\n",
      "(0.9826685660018993, 0.30303030303030304, 0.8823529411764706, 0.4511278195488722)\n"
     ]
    },
    {
     "name": "stderr",
     "output_type": "stream",
     "text": [
      "\r",
      " 27%|██▋       | 13/49 [00:43<02:40,  4.46s/it]"
     ]
    },
    {
     "name": "stdout",
     "output_type": "stream",
     "text": [
      "[0.9985755  0.88888889 0.94117647 0.91428571]\n",
      "2\n",
      "(0.7807787997587454, 0.9603685033895359, 0.49718785151856015, 0.6551836589487415)\n"
     ]
    },
    {
     "name": "stderr",
     "output_type": "stream",
     "text": [
      "\r",
      " 29%|██▊       | 14/49 [00:48<02:50,  4.87s/it]"
     ]
    },
    {
     "name": "stdout",
     "output_type": "stream",
     "text": [
      "[0.93650106 0.98077511 0.86537683 0.91946934]\n",
      "2\n",
      "(0.9342682332557258, 0.9581295245548817, 0.8304222486009836, 0.889716569767442)\n"
     ]
    },
    {
     "name": "stderr",
     "output_type": "stream",
     "text": [
      "\r",
      " 31%|███       | 15/49 [00:52<02:27,  4.33s/it]"
     ]
    },
    {
     "name": "stdout",
     "output_type": "stream",
     "text": [
      "[0.96745899 0.9795364  0.91724606 0.94736842]\n",
      "2\n",
      "(0.9990669593852909, 0.17073170731707318, 1.0, 0.2916666666666667)\n"
     ]
    },
    {
     "name": "stderr",
     "output_type": "stream",
     "text": [
      "\r",
      " 33%|███▎      | 16/49 [00:54<02:07,  3.87s/it]"
     ]
    },
    {
     "name": "stdout",
     "output_type": "stream",
     "text": [
      "[0.99965697 0.35135135 0.92857143 0.50980392]\n",
      "toto\n",
      "2\n",
      "(0.9856543561315454, 0.898456943753111, 0.9097782258064516, 0.9040821437515653)\n"
     ]
    },
    {
     "name": "stderr",
     "output_type": "stream",
     "text": [
      "\r",
      " 35%|███▍      | 17/49 [00:58<01:58,  3.70s/it]"
     ]
    },
    {
     "name": "stdout",
     "output_type": "stream",
     "text": [
      "[0.99044872 0.94174757 0.92893145 0.93529561]\n",
      "2\n",
      "(0.998028034438244, 0.8003597122302158, 0.8428030303030303, 0.8210332103321033)\n",
      "[0.99759095 0.70875179 0.93560606 0.80653061]\n"
     ]
    },
    {
     "name": "stderr",
     "output_type": "stream",
     "text": [
      "\r",
      " 37%|███▋      | 18/49 [01:01<01:50,  3.55s/it]"
     ]
    },
    {
     "name": "stdout",
     "output_type": "stream",
     "text": [
      "2\n",
      "(0.9673234176807675, 0.9884143348060874, 0.9181867931411893, 0.9520071871010449)\n"
     ]
    },
    {
     "name": "stderr",
     "output_type": "stream",
     "text": [
      "\r",
      " 39%|███▉      | 19/49 [01:04<01:44,  3.48s/it]"
     ]
    },
    {
     "name": "stdout",
     "output_type": "stream",
     "text": [
      "[0.97627326 0.99088029 0.94144473 0.96553014]\n",
      "2\n",
      "(0.9925283797729618, 0.9193154034229829, 0.7175572519083969, 0.8060021436227225)\n"
     ]
    },
    {
     "name": "stderr",
     "output_type": "stream",
     "text": [
      "\r",
      " 41%|████      | 20/49 [01:07<01:32,  3.20s/it]"
     ]
    },
    {
     "name": "stdout",
     "output_type": "stream",
     "text": [
      "[0.99686275 0.9497992  0.90267176 0.92563601]\n",
      "2\n",
      "1\n",
      "(0.9818433605170026, 0.20270270270270271, 1.0, 0.3370786516853933)\n"
     ]
    },
    {
     "name": "stderr",
     "output_type": "stream",
     "text": [
      "\r",
      " 45%|████▍     | 22/49 [01:09<01:01,  2.28s/it]"
     ]
    },
    {
     "name": "stdout",
     "output_type": "stream",
     "text": [
      "[0.99292199 0.38888889 0.93333333 0.54901961]\n",
      "2\n",
      "(0.8102925770727327, 0.9909840288511077, 0.5348750984844974, 0.6947596544562502)\n",
      "[0.64709294 0.98671931 0.12740418 0.22567007]\n",
      "2\n"
     ]
    },
    {
     "name": "stderr",
     "output_type": "stream",
     "text": [
      "\r",
      " 47%|████▋     | 23/49 [01:12<01:04,  2.47s/it]"
     ]
    },
    {
     "name": "stdout",
     "output_type": "stream",
     "text": [
      "(0.9767551901579228, 0.02736318407960199, 0.8461538461538461, 0.05301204819277108)\n"
     ]
    },
    {
     "name": "stderr",
     "output_type": "stream",
     "text": [
      "\r",
      " 49%|████▉     | 24/49 [01:15<01:02,  2.49s/it]"
     ]
    },
    {
     "name": "stdout",
     "output_type": "stream",
     "text": [
      "[0.9846809  0.04104478 0.84615385 0.07829181]\n",
      "2\n",
      "1\n",
      "(0.9828001631019017, 0.004291845493562232, 1.0, 0.008547008547008546)\n"
     ]
    },
    {
     "name": "stderr",
     "output_type": "stream",
     "text": [
      "\r",
      " 53%|█████▎    | 26/49 [01:17<00:45,  1.99s/it]"
     ]
    },
    {
     "name": "stdout",
     "output_type": "stream",
     "text": [
      "[0.9937354  0.01169591 1.         0.02312139]\n",
      "toto\n",
      "2\n",
      "(0.9491800526109587, 0.9440261044176707, 0.8459289248762933, 0.8922894424673783)\n"
     ]
    },
    {
     "name": "stderr",
     "output_type": "stream",
     "text": [
      "\r",
      " 55%|█████▌    | 27/49 [01:20<00:48,  2.19s/it]"
     ]
    },
    {
     "name": "stdout",
     "output_type": "stream",
     "text": [
      "[0.96238876 0.97531486 0.87089519 0.92015209]\n",
      "2\n",
      "(0.9803112215078901, 0.49081632653061225, 0.9232245681381958, 0.6409060626249168)\n"
     ]
    },
    {
     "name": "stderr",
     "output_type": "stream",
     "text": [
      "\r",
      " 57%|█████▋    | 28/49 [01:23<00:50,  2.39s/it]"
     ]
    },
    {
     "name": "stdout",
     "output_type": "stream",
     "text": [
      "[0.99185418 0.70244565 0.99232246 0.82259348]\n",
      "2\n",
      "(0.9740140429162019, 0.9489873610476626, 0.9903066899729859, 0.9692068429237947)\n"
     ]
    },
    {
     "name": "stderr",
     "output_type": "stream",
     "text": [
      "\r",
      " 59%|█████▉    | 29/49 [01:29<01:07,  3.36s/it]"
     ]
    },
    {
     "name": "stdout",
     "output_type": "stream",
     "text": [
      "[0.98136361 0.96060095 0.99570952 0.9778402 ]\n",
      "2\n",
      "(0.9918242830994509, 0.8808353808353808, 0.8074324324324325, 0.8425381903642772)\n"
     ]
    },
    {
     "name": "stderr",
     "output_type": "stream",
     "text": [
      "\r",
      " 61%|██████    | 30/49 [01:32<01:00,  3.20s/it]"
     ]
    },
    {
     "name": "stdout",
     "output_type": "stream",
     "text": [
      "[0.99688835 0.9804401  0.90315315 0.94021102]\n",
      "2\n",
      "(0.981283937305041, 0.24878836833602586, 0.88, 0.3879093198992444)\n"
     ]
    },
    {
     "name": "stderr",
     "output_type": "stream",
     "text": [
      "\r",
      " 63%|██████▎   | 31/49 [01:35<00:55,  3.06s/it]"
     ]
    },
    {
     "name": "stdout",
     "output_type": "stream",
     "text": [
      "[0.99033389 0.40686275 0.94857143 0.56946827]\n",
      "2\n",
      "(0.9827053540147148, 0.6863084922010398, 0.8139773895169579, 0.7447108603667137)\n"
     ]
    },
    {
     "name": "stderr",
     "output_type": "stream",
     "text": [
      "\r",
      " 65%|██████▌   | 32/49 [01:38<00:51,  3.05s/it]"
     ]
    },
    {
     "name": "stdout",
     "output_type": "stream",
     "text": [
      "[0.98837469 0.78200371 0.8663926  0.82203803]\n",
      "2\n",
      "(0.9749178342847258, 0.2471042471042471, 0.7398843930635838, 0.3704775687409551)\n"
     ]
    },
    {
     "name": "stderr",
     "output_type": "stream",
     "text": [
      "\r",
      " 67%|██████▋   | 33/49 [01:40<00:46,  2.94s/it]"
     ]
    },
    {
     "name": "stdout",
     "output_type": "stream",
     "text": [
      "[0.98748775 0.43641618 0.87283237 0.58188825]\n",
      "2\n",
      "(0.993844487122667, 0.0, nan, nan)\n"
     ]
    },
    {
     "name": "stderr",
     "output_type": "stream",
     "text": [
      "<ipython-input-11-686a1c9f481f>:11: RuntimeWarning: invalid value encountered in long_scalars\n",
      "  recall = tp / (tp + fn)\n",
      "<ipython-input-15-6cd60cc1786d>:10: RuntimeWarning: invalid value encountered in long_scalars\n",
      "  recall = tp / (tp + fn)\n",
      "<ipython-input-15-6cd60cc1786d>:9: RuntimeWarning: invalid value encountered in long_scalars\n",
      "  precision = tp / (tp + fp)\n",
      "<ipython-input-15-6cd60cc1786d>:10: RuntimeWarning: invalid value encountered in long_scalars\n",
      "  recall = tp / (tp + fn)\n",
      " 69%|██████▉   | 34/49 [01:43<00:41,  2.79s/it]"
     ]
    },
    {
     "name": "stdout",
     "output_type": "stream",
     "text": [
      "[0.99906436 0.                nan        nan]\n",
      "1\n",
      "(0.9873899119295436, 0.9710144927536232, 0.694300518134715, 0.809667673716012)\n"
     ]
    },
    {
     "name": "stderr",
     "output_type": "stream",
     "text": [
      "\r",
      " 71%|███████▏  | 35/49 [01:45<00:37,  2.66s/it]"
     ]
    },
    {
     "name": "stdout",
     "output_type": "stream",
     "text": [
      "[0.994996   0.97727273 0.89119171 0.93224932]\n",
      "2\n",
      "(0.9992688002699814, 0.5517241379310345, 1.0, 0.7111111111111111)\n"
     ]
    },
    {
     "name": "stderr",
     "output_type": "stream",
     "text": [
      "\r",
      " 73%|███████▎  | 36/49 [01:47<00:33,  2.57s/it]"
     ]
    },
    {
     "name": "stdout",
     "output_type": "stream",
     "text": [
      "[1. 1. 1. 1.]\n",
      "toto\n",
      "2\n",
      "(0.9988877766655544, 0.375, 1.0, 0.5454545454545454)\n"
     ]
    },
    {
     "name": "stderr",
     "output_type": "stream",
     "text": [
      "\r",
      " 76%|███████▌  | 37/49 [01:50<00:30,  2.50s/it]"
     ]
    },
    {
     "name": "stdout",
     "output_type": "stream",
     "text": [
      "[0.99988878 0.85714286 1.         0.92307692]\n",
      "toto\n",
      "2\n",
      "(0.9982219673071409, 0.4444444444444444, 0.8311688311688312, 0.5791855203619909)\n"
     ]
    },
    {
     "name": "stderr",
     "output_type": "stream",
     "text": [
      "\r",
      " 78%|███████▊  | 38/49 [01:53<00:28,  2.60s/it]"
     ]
    },
    {
     "name": "stdout",
     "output_type": "stream",
     "text": [
      "[0.99768665 0.3877551  0.98701299 0.55677656]\n",
      "2\n",
      "(0.9025581336504643, 0.9433218960477824, 0.6855374953823421, 0.7940311279884472)\n"
     ]
    },
    {
     "name": "stderr",
     "output_type": "stream",
     "text": [
      "\r",
      " 80%|███████▉  | 39/49 [01:56<00:28,  2.82s/it]"
     ]
    },
    {
     "name": "stdout",
     "output_type": "stream",
     "text": [
      "[0.98259153 0.97285954 0.9633358  0.96807425]\n",
      "2\n",
      "(0.997935397935398, 0.06060606060606061, 1.0, 0.1142857142857143)\n"
     ]
    },
    {
     "name": "stderr",
     "output_type": "stream",
     "text": [
      "\r",
      " 82%|████████▏ | 40/49 [01:58<00:24,  2.69s/it]"
     ]
    },
    {
     "name": "stdout",
     "output_type": "stream",
     "text": [
      "[0.9999334  1.         0.5        0.66666667]\n",
      "toto\n",
      "2\n",
      "(0.9958406823386948, 0.5596026490066225, 0.8711340206185567, 0.6814516129032258)\n"
     ]
    },
    {
     "name": "stderr",
     "output_type": "stream",
     "text": [
      "\r",
      " 84%|████████▎ | 41/49 [02:01<00:21,  2.71s/it]"
     ]
    },
    {
     "name": "stdout",
     "output_type": "stream",
     "text": [
      "[0.99913128 0.85777778 0.99484536 0.92124105]\n",
      "2\n",
      "(0.9619360902255639, 0.765983860955928, 0.740251949610078, 0.7528981086028066)\n"
     ]
    },
    {
     "name": "stderr",
     "output_type": "stream",
     "text": [
      "\r",
      " 86%|████████▌ | 42/49 [02:04<00:18,  2.70s/it]"
     ]
    },
    {
     "name": "stdout",
     "output_type": "stream",
     "text": [
      "[0.99205827 0.9284897  0.97360528 0.95051245]\n",
      "2\n",
      "(0.9933752898310699, 0.5658536585365853, 0.9133858267716536, 0.6987951807228915)\n"
     ]
    },
    {
     "name": "stderr",
     "output_type": "stream",
     "text": [
      "\r",
      " 88%|████████▊ | 43/49 [02:06<00:15,  2.63s/it]"
     ]
    },
    {
     "name": "stdout",
     "output_type": "stream",
     "text": [
      "[0.994369   0.60096154 0.98425197 0.74626866]\n",
      "2\n",
      "(0.9773325849488365, 0.8511659807956105, 0.8011620400258231, 0.8254073827735283)\n"
     ]
    },
    {
     "name": "stderr",
     "output_type": "stream",
     "text": [
      "\r",
      " 90%|████████▉ | 44/49 [02:09<00:13,  2.62s/it]"
     ]
    },
    {
     "name": "stdout",
     "output_type": "stream",
     "text": [
      "[0.9843271  0.9547546  0.80374435 0.87276551]\n",
      "2\n",
      "(0.9571707170717072, 0.8612040133779264, 0.5134596211365903, 0.6433479075577764)\n"
     ]
    },
    {
     "name": "stderr",
     "output_type": "stream",
     "text": [
      "\r",
      " 92%|█████████▏| 45/49 [02:11<00:10,  2.62s/it]"
     ]
    },
    {
     "name": "stdout",
     "output_type": "stream",
     "text": [
      "[0.9720222  0.96875    0.64905284 0.77731343]\n",
      "2\n",
      "(0.9879376976226725, 0.21774193548387097, 0.8181818181818182, 0.3439490445859873)\n"
     ]
    },
    {
     "name": "stderr",
     "output_type": "stream",
     "text": [
      "\r",
      " 94%|█████████▍| 46/49 [02:14<00:07,  2.54s/it]"
     ]
    },
    {
     "name": "stdout",
     "output_type": "stream",
     "text": [
      "[0.99789202 0.64705882 1.         0.78571429]\n",
      "2\n",
      "(0.9979132996460792, 0.09090909090909091, 0.8333333333333334, 0.16393442622950818)\n"
     ]
    },
    {
     "name": "stderr",
     "output_type": "stream",
     "text": [
      "\r",
      " 96%|█████████▌| 47/49 [02:16<00:05,  2.57s/it]"
     ]
    },
    {
     "name": "stdout",
     "output_type": "stream",
     "text": [
      "[0.99965222 0.4        0.83333333 0.54054054]\n",
      "toto\n",
      "2\n",
      "(0.9994884256298759, 0.058823529411764705, 1.0, 0.1111111111111111)\n"
     ]
    },
    {
     "name": "stderr",
     "output_type": "stream",
     "text": [
      "\r",
      " 98%|█████████▊| 48/49 [02:19<00:02,  2.67s/it]"
     ]
    },
    {
     "name": "stdout",
     "output_type": "stream",
     "text": [
      "[0.99962698 0.07894737 1.         0.14634146]\n",
      "toto\n",
      "2\n",
      "(0.9977407291991275, 0.34146341463414637, 0.875, 0.4912280701754386)\n"
     ]
    },
    {
     "name": "stderr",
     "output_type": "stream",
     "text": [
      "100%|██████████| 49/49 [02:22<00:00,  2.90s/it]\n"
     ]
    },
    {
     "name": "stdout",
     "output_type": "stream",
     "text": [
      "[0.99953256 0.75       0.9375     0.83333333]\n",
      "toto\n",
      "2\n"
     ]
    },
    {
     "name": "stderr",
     "output_type": "stream",
     "text": [
      "\r",
      "  0%|          | 0/49 [00:00<?, ?it/s]"
     ]
    },
    {
     "name": "stdout",
     "output_type": "stream",
     "text": [
      "(0.9961693787860791, 0.051470588235294115, 1.0, 0.09790209790209789)\n"
     ]
    },
    {
     "name": "stderr",
     "output_type": "stream",
     "text": [
      "\r",
      "  2%|▏         | 1/49 [00:02<02:05,  2.60s/it]"
     ]
    },
    {
     "name": "stdout",
     "output_type": "stream",
     "text": [
      "[0.99907946 0.16666667 0.85714286 0.27906977]\n",
      "2\n",
      "(0.9543660736657479, 0.02486559139784946, 0.8604651162790697, 0.04833442194644023)\n"
     ]
    },
    {
     "name": "stderr",
     "output_type": "stream",
     "text": [
      "\r",
      "  4%|▍         | 2/49 [00:05<02:03,  2.64s/it]"
     ]
    },
    {
     "name": "stdout",
     "output_type": "stream",
     "text": [
      "[0.98931972 0.11197917 1.         0.20140515]\n",
      "2\n"
     ]
    },
    {
     "name": "stderr",
     "output_type": "stream",
     "text": [
      "<ipython-input-11-686a1c9f481f>:11: RuntimeWarning: invalid value encountered in long_scalars\n",
      "  recall = tp / (tp + fn)\n"
     ]
    },
    {
     "name": "stdout",
     "output_type": "stream",
     "text": [
      "(0.9992343618405941, 0.0, nan, nan)\n"
     ]
    },
    {
     "name": "stderr",
     "output_type": "stream",
     "text": [
      "<ipython-input-15-6cd60cc1786d>:10: RuntimeWarning: invalid value encountered in long_scalars\n",
      "  recall = tp / (tp + fn)\n",
      "<ipython-input-15-6cd60cc1786d>:9: RuntimeWarning: invalid value encountered in long_scalars\n",
      "  precision = tp / (tp + fp)\n",
      "<ipython-input-15-6cd60cc1786d>:10: RuntimeWarning: invalid value encountered in long_scalars\n",
      "  recall = tp / (tp + fn)\n",
      "\r",
      "  6%|▌         | 3/49 [00:07<01:57,  2.54s/it]"
     ]
    },
    {
     "name": "stdout",
     "output_type": "stream",
     "text": [
      "[0.99996172 0.                nan        nan]\n",
      "1\n",
      "(0.9914596273291926, 0.05232558139534884, 0.8181818181818182, 0.09836065573770493)\n"
     ]
    },
    {
     "name": "stderr",
     "output_type": "stream",
     "text": [
      "\r",
      "  8%|▊         | 4/49 [00:10<01:53,  2.53s/it]"
     ]
    },
    {
     "name": "stdout",
     "output_type": "stream",
     "text": [
      "[0.99637681 0.13580247 1.         0.23913043]\n",
      "2\n",
      "(0.9986819907212147, 0.2571428571428571, 0.2727272727272727, 0.2647058823529411)\n"
     ]
    },
    {
     "name": "stderr",
     "output_type": "stream",
     "text": [
      "\r",
      " 10%|█         | 5/49 [00:12<01:53,  2.57s/it]"
     ]
    },
    {
     "name": "stdout",
     "output_type": "stream",
     "text": [
      "[0.99876107 0.4125     1.         0.5840708 ]\n",
      "2\n",
      "(0.9977522261606294, 0.7272727272727273, 0.8571428571428571, 0.7868852459016394)\n"
     ]
    },
    {
     "name": "stderr",
     "output_type": "stream",
     "text": [
      "\r",
      " 12%|█▏        | 6/49 [00:15<01:48,  2.51s/it]"
     ]
    },
    {
     "name": "stdout",
     "output_type": "stream",
     "text": [
      "[0.99602317 0.55102041 0.96428571 0.7012987 ]\n",
      "2\n",
      "1\n",
      "(0.6831753268058506, 0.9939989746991948, 0.6449227157112111, 0.782285721066559)\n",
      "[0.78295256 0.99713644 0.75625122 0.8601471 ]\n"
     ]
    },
    {
     "name": "stderr",
     "output_type": "stream",
     "text": [
      "\r",
      " 16%|█▋        | 8/49 [00:20<01:48,  2.66s/it]"
     ]
    },
    {
     "name": "stdout",
     "output_type": "stream",
     "text": [
      "2\n",
      "(0.9950438327693251, 0.07, 1.0, 0.13084112149532712)\n"
     ]
    },
    {
     "name": "stderr",
     "output_type": "stream",
     "text": [
      "\r",
      " 18%|█▊        | 9/49 [00:23<01:46,  2.65s/it]"
     ]
    },
    {
     "name": "stdout",
     "output_type": "stream",
     "text": [
      "[0.99888087 0.25       1.         0.4       ]\n",
      "2\n",
      "(0.9810315096410096, 0.783359497645212, 0.6892265193370166, 0.7332843497428361)\n"
     ]
    },
    {
     "name": "stderr",
     "output_type": "stream",
     "text": [
      "\r",
      " 20%|██        | 10/49 [00:26<01:42,  2.64s/it]"
     ]
    },
    {
     "name": "stdout",
     "output_type": "stream",
     "text": [
      "[0.99775304 0.95827725 0.98342541 0.97068848]\n",
      "2\n",
      "(0.9935795488013194, 0.9042553191489362, 0.4594594594594595, 0.6093189964157706)\n"
     ]
    },
    {
     "name": "stderr",
     "output_type": "stream",
     "text": [
      "\r",
      " 22%|██▏       | 11/49 [00:28<01:38,  2.59s/it]"
     ]
    },
    {
     "name": "stdout",
     "output_type": "stream",
     "text": [
      "[0.99605348 0.87341772 0.74594595 0.80466472]\n",
      "2\n",
      "(0.868702621196786, 0.9906226819129729, 0.8545917751322113, 0.9175930667461804)\n",
      "[0.87547766 0.99463185 0.85905919 0.92188786]\n"
     ]
    },
    {
     "name": "stderr",
     "output_type": "stream",
     "text": [
      "\r",
      " 24%|██▍       | 12/49 [00:40<03:17,  5.33s/it]"
     ]
    },
    {
     "name": "stdout",
     "output_type": "stream",
     "text": [
      "2\n",
      "(0.9826685660018993, 0.30303030303030304, 0.8823529411764706, 0.4511278195488722)\n"
     ]
    },
    {
     "name": "stderr",
     "output_type": "stream",
     "text": [
      "\r",
      " 27%|██▋       | 13/49 [00:43<02:40,  4.46s/it]"
     ]
    },
    {
     "name": "stdout",
     "output_type": "stream",
     "text": [
      "[0.99833808 0.88571429 0.91176471 0.89855072]\n",
      "2\n",
      "(0.7807787997587454, 0.9603685033895359, 0.49718785151856015, 0.6551836589487415)\n"
     ]
    },
    {
     "name": "stderr",
     "output_type": "stream",
     "text": [
      "\r",
      " 29%|██▊       | 14/49 [00:48<02:50,  4.87s/it]"
     ]
    },
    {
     "name": "stdout",
     "output_type": "stream",
     "text": [
      "[0.92219542 0.97736745 0.8335658  0.89975716]\n",
      "2\n",
      "(0.9342682332557258, 0.9581295245548817, 0.8304222486009836, 0.889716569767442)\n"
     ]
    },
    {
     "name": "stderr",
     "output_type": "stream",
     "text": [
      "\r",
      " 31%|███       | 15/49 [00:51<02:27,  4.33s/it]"
     ]
    },
    {
     "name": "stdout",
     "output_type": "stream",
     "text": [
      "[0.96816287 0.9801049  0.91894183 0.94853842]\n",
      "2\n",
      "(0.9990669593852909, 0.17073170731707318, 1.0, 0.2916666666666667)\n"
     ]
    },
    {
     "name": "stderr",
     "output_type": "stream",
     "text": [
      "\r",
      " 33%|███▎      | 16/49 [00:54<02:07,  3.87s/it]"
     ]
    },
    {
     "name": "stdout",
     "output_type": "stream",
     "text": [
      "[0.99958836 0.30952381 0.92857143 0.46428571]\n",
      "toto\n",
      "2\n",
      "(0.9856543561315454, 0.898456943753111, 0.9097782258064516, 0.9040821437515653)\n"
     ]
    },
    {
     "name": "stderr",
     "output_type": "stream",
     "text": [
      "\r",
      " 35%|███▍      | 17/49 [00:58<01:58,  3.71s/it]"
     ]
    },
    {
     "name": "stdout",
     "output_type": "stream",
     "text": [
      "[0.99018653 0.93661258 0.93094758 0.93377149]\n",
      "2\n",
      "(0.998028034438244, 0.8003597122302158, 0.8428030303030303, 0.8210332103321033)\n",
      "[0.99752996 0.7027027  0.93560606 0.80259951]\n"
     ]
    },
    {
     "name": "stderr",
     "output_type": "stream",
     "text": [
      "\r",
      " 37%|███▋      | 18/49 [01:01<01:50,  3.56s/it]"
     ]
    },
    {
     "name": "stdout",
     "output_type": "stream",
     "text": [
      "2\n",
      "(0.9673234176807675, 0.9884143348060874, 0.9181867931411893, 0.9520071871010449)\n"
     ]
    },
    {
     "name": "stderr",
     "output_type": "stream",
     "text": [
      "\r",
      " 39%|███▉      | 19/49 [01:04<01:44,  3.49s/it]"
     ]
    },
    {
     "name": "stdout",
     "output_type": "stream",
     "text": [
      "[0.97614449 0.99144313 0.94053265 0.96531711]\n",
      "2\n",
      "(0.9925283797729618, 0.9193154034229829, 0.7175572519083969, 0.8060021436227225)\n"
     ]
    },
    {
     "name": "stderr",
     "output_type": "stream",
     "text": [
      "\r",
      " 41%|████      | 20/49 [01:07<01:33,  3.21s/it]"
     ]
    },
    {
     "name": "stdout",
     "output_type": "stream",
     "text": [
      "[0.99682147 0.9408284  0.91030534 0.92531523]\n",
      "2\n",
      "1\n",
      "(0.9818433605170026, 0.20270270270270271, 1.0, 0.3370786516853933)\n"
     ]
    },
    {
     "name": "stderr",
     "output_type": "stream",
     "text": [
      "\r",
      " 45%|████▍     | 22/49 [01:09<01:01,  2.28s/it]"
     ]
    },
    {
     "name": "stdout",
     "output_type": "stream",
     "text": [
      "[0.9933836  0.4057971  0.93333333 0.56565657]\n",
      "2\n",
      "(0.8102925770727327, 0.9909840288511077, 0.5348750984844974, 0.6947596544562502)\n",
      "[0.6453906  0.98056472 0.12392826 0.22004608]\n",
      "2\n"
     ]
    },
    {
     "name": "stderr",
     "output_type": "stream",
     "text": [
      "\r",
      " 47%|████▋     | 23/49 [01:12<01:04,  2.47s/it]"
     ]
    },
    {
     "name": "stdout",
     "output_type": "stream",
     "text": [
      "(0.9767551901579228, 0.02736318407960199, 0.8461538461538461, 0.05301204819277108)\n"
     ]
    },
    {
     "name": "stderr",
     "output_type": "stream",
     "text": [
      "\r",
      " 49%|████▉     | 24/49 [01:15<01:02,  2.49s/it]"
     ]
    },
    {
     "name": "stdout",
     "output_type": "stream",
     "text": [
      "[0.98456261 0.04074074 0.84615385 0.07773852]\n",
      "2\n",
      "1\n",
      "(0.9828001631019017, 0.004291845493562232, 1.0, 0.008547008547008546)\n"
     ]
    },
    {
     "name": "stderr",
     "output_type": "stream",
     "text": [
      "\r",
      " 53%|█████▎    | 26/49 [01:17<00:46,  2.01s/it]"
     ]
    },
    {
     "name": "stdout",
     "output_type": "stream",
     "text": [
      "[0.99295696 0.01041667 1.         0.02061856]\n",
      "2\n",
      "(0.9491800526109587, 0.9440261044176707, 0.8459289248762933, 0.8922894424673783)\n"
     ]
    },
    {
     "name": "stderr",
     "output_type": "stream",
     "text": [
      "\r",
      " 55%|█████▌    | 27/49 [01:20<00:48,  2.20s/it]"
     ]
    },
    {
     "name": "stdout",
     "output_type": "stream",
     "text": [
      "[0.96244473 0.97365119 0.87269456 0.92041276]\n",
      "2\n",
      "(0.9803112215078901, 0.49081632653061225, 0.9232245681381958, 0.6409060626249168)\n"
     ]
    },
    {
     "name": "stderr",
     "output_type": "stream",
     "text": [
      "\r",
      " 57%|█████▋    | 28/49 [01:23<00:50,  2.39s/it]"
     ]
    },
    {
     "name": "stdout",
     "output_type": "stream",
     "text": [
      "[0.99163501 0.6967655  0.99232246 0.81868567]\n",
      "2\n",
      "(0.9740140429162019, 0.9489873610476626, 0.9903066899729859, 0.9692068429237947)\n"
     ]
    },
    {
     "name": "stderr",
     "output_type": "stream",
     "text": [
      "\r",
      " 59%|█████▉    | 29/49 [01:29<01:07,  3.37s/it]"
     ]
    },
    {
     "name": "stdout",
     "output_type": "stream",
     "text": [
      "[0.98031367 0.95811038 0.99586843 0.97662459]\n",
      "2\n",
      "(0.9918242830994509, 0.8808353808353808, 0.8074324324324325, 0.8425381903642772)\n"
     ]
    },
    {
     "name": "stderr",
     "output_type": "stream",
     "text": [
      "\r",
      " 61%|██████    | 30/49 [01:32<01:00,  3.20s/it]"
     ]
    },
    {
     "name": "stdout",
     "output_type": "stream",
     "text": [
      "[0.9966443  0.98143564 0.89301802 0.93514151]\n",
      "2\n",
      "(0.981283937305041, 0.24878836833602586, 0.88, 0.3879093198992444)\n"
     ]
    },
    {
     "name": "stderr",
     "output_type": "stream",
     "text": [
      "\r",
      " 63%|██████▎   | 31/49 [01:35<00:54,  3.05s/it]"
     ]
    },
    {
     "name": "stdout",
     "output_type": "stream",
     "text": [
      "[0.99048793 0.41089109 0.94857143 0.57340242]\n",
      "2\n",
      "(0.9827053540147148, 0.6863084922010398, 0.8139773895169579, 0.7447108603667137)\n"
     ]
    },
    {
     "name": "stderr",
     "output_type": "stream",
     "text": [
      "\r",
      " 65%|██████▌   | 32/49 [01:38<00:51,  3.05s/it]"
     ]
    },
    {
     "name": "stdout",
     "output_type": "stream",
     "text": [
      "[0.98811988 0.77472527 0.86947585 0.81937046]\n",
      "2\n",
      "(0.9749178342847258, 0.2471042471042471, 0.7398843930635838, 0.3704775687409551)\n"
     ]
    },
    {
     "name": "stderr",
     "output_type": "stream",
     "text": [
      "\r",
      " 67%|██████▋   | 33/49 [01:40<00:46,  2.93s/it]"
     ]
    },
    {
     "name": "stdout",
     "output_type": "stream",
     "text": [
      "[0.98737243 0.43390805 0.87283237 0.57965451]\n",
      "2\n",
      "(0.993844487122667, 0.0, nan, nan)\n"
     ]
    },
    {
     "name": "stderr",
     "output_type": "stream",
     "text": [
      "<ipython-input-11-686a1c9f481f>:11: RuntimeWarning: invalid value encountered in long_scalars\n",
      "  recall = tp / (tp + fn)\n",
      "<ipython-input-15-6cd60cc1786d>:10: RuntimeWarning: invalid value encountered in long_scalars\n",
      "  recall = tp / (tp + fn)\n",
      "<ipython-input-15-6cd60cc1786d>:9: RuntimeWarning: invalid value encountered in long_scalars\n",
      "  precision = tp / (tp + fp)\n",
      "<ipython-input-15-6cd60cc1786d>:10: RuntimeWarning: invalid value encountered in long_scalars\n",
      "  recall = tp / (tp + fn)\n",
      " 69%|██████▉   | 34/49 [01:43<00:41,  2.79s/it]"
     ]
    },
    {
     "name": "stdout",
     "output_type": "stream",
     "text": [
      "[0.99911361 0.                nan        nan]\n",
      "1\n",
      "(0.9873899119295436, 0.9710144927536232, 0.694300518134715, 0.809667673716012)\n"
     ]
    },
    {
     "name": "stderr",
     "output_type": "stream",
     "text": [
      "\r",
      " 71%|███████▏  | 35/49 [01:45<00:37,  2.66s/it]"
     ]
    },
    {
     "name": "stdout",
     "output_type": "stream",
     "text": [
      "[0.994996   0.97727273 0.89119171 0.93224932]\n",
      "2\n",
      "(0.9992688002699814, 0.5517241379310345, 1.0, 0.7111111111111111)\n"
     ]
    },
    {
     "name": "stderr",
     "output_type": "stream",
     "text": [
      "\r",
      " 73%|███████▎  | 36/49 [01:48<00:33,  2.57s/it]"
     ]
    },
    {
     "name": "stdout",
     "output_type": "stream",
     "text": [
      "[1. 1. 1. 1.]\n",
      "toto\n",
      "2\n",
      "(0.9988877766655544, 0.375, 1.0, 0.5454545454545454)\n"
     ]
    },
    {
     "name": "stderr",
     "output_type": "stream",
     "text": [
      "\r",
      " 76%|███████▌  | 37/49 [01:50<00:29,  2.50s/it]"
     ]
    },
    {
     "name": "stdout",
     "output_type": "stream",
     "text": [
      "[0.99988878 0.85714286 1.         0.92307692]\n",
      "toto\n",
      "2\n",
      "(0.9982219673071409, 0.4444444444444444, 0.8311688311688312, 0.5791855203619909)\n"
     ]
    },
    {
     "name": "stderr",
     "output_type": "stream",
     "text": [
      "\r",
      " 78%|███████▊  | 38/49 [01:53<00:28,  2.59s/it]"
     ]
    },
    {
     "name": "stdout",
     "output_type": "stream",
     "text": [
      "[0.9986617  0.52413793 0.98701299 0.68468468]\n",
      "2\n",
      "(0.9025581336504643, 0.9433218960477824, 0.6855374953823421, 0.7940311279884472)\n"
     ]
    },
    {
     "name": "stderr",
     "output_type": "stream",
     "text": [
      "\r",
      " 80%|███████▉  | 39/49 [01:56<00:28,  2.82s/it]"
     ]
    },
    {
     "name": "stdout",
     "output_type": "stream",
     "text": [
      "[0.9873485  0.97629589 0.97755818 0.97692663]\n",
      "2\n",
      "(0.997935397935398, 0.06060606060606061, 1.0, 0.1142857142857143)\n"
     ]
    },
    {
     "name": "stderr",
     "output_type": "stream",
     "text": [
      "\r",
      " 82%|████████▏ | 40/49 [01:58<00:24,  2.69s/it]"
     ]
    },
    {
     "name": "stdout",
     "output_type": "stream",
     "text": [
      "[0.9999334  1.         0.5        0.66666667]\n",
      "toto\n",
      "2\n",
      "(0.9958406823386948, 0.5596026490066225, 0.8711340206185567, 0.6814516129032258)\n"
     ]
    },
    {
     "name": "stderr",
     "output_type": "stream",
     "text": [
      "\r",
      " 84%|████████▎ | 41/49 [02:01<00:21,  2.71s/it]"
     ]
    },
    {
     "name": "stdout",
     "output_type": "stream",
     "text": [
      "[0.99918393 0.86547085 0.99484536 0.92565947]\n",
      "2\n",
      "(0.9619360902255639, 0.765983860955928, 0.740251949610078, 0.7528981086028066)\n"
     ]
    },
    {
     "name": "stderr",
     "output_type": "stream",
     "text": [
      "\r",
      " 86%|████████▌ | 42/49 [02:04<00:18,  2.69s/it]"
     ]
    },
    {
     "name": "stdout",
     "output_type": "stream",
     "text": [
      "[0.99224624 0.9316092  0.97240552 0.9515703 ]\n",
      "2\n",
      "(0.9933752898310699, 0.5658536585365853, 0.9133858267716536, 0.6987951807228915)\n"
     ]
    },
    {
     "name": "stderr",
     "output_type": "stream",
     "text": [
      "\r",
      " 88%|████████▊ | 43/49 [02:06<00:15,  2.62s/it]"
     ]
    },
    {
     "name": "stdout",
     "output_type": "stream",
     "text": [
      "[0.99642266 0.71345029 0.96062992 0.81879195]\n",
      "2\n",
      "(0.9773325849488365, 0.8511659807956105, 0.8011620400258231, 0.8254073827735283)\n"
     ]
    },
    {
     "name": "stderr",
     "output_type": "stream",
     "text": [
      "\r",
      " 90%|████████▉ | 44/49 [02:09<00:13,  2.61s/it]"
     ]
    },
    {
     "name": "stdout",
     "output_type": "stream",
     "text": [
      "[0.98441345 0.9562212  0.80374435 0.87337776]\n",
      "2\n",
      "(0.9571707170717072, 0.8612040133779264, 0.5134596211365903, 0.6433479075577764)\n"
     ]
    },
    {
     "name": "stderr",
     "output_type": "stream",
     "text": [
      "\r",
      " 92%|█████████▏| 45/49 [02:12<00:10,  2.62s/it]"
     ]
    },
    {
     "name": "stdout",
     "output_type": "stream",
     "text": [
      "[0.97224722 0.96750369 0.65304088 0.7797619 ]\n",
      "2\n",
      "(0.9879376976226725, 0.21774193548387097, 0.8181818181818182, 0.3439490445859873)\n"
     ]
    },
    {
     "name": "stderr",
     "output_type": "stream",
     "text": [
      "\r",
      " 94%|█████████▍| 46/49 [02:14<00:07,  2.55s/it]"
     ]
    },
    {
     "name": "stdout",
     "output_type": "stream",
     "text": [
      "[0.99836046 0.70212766 1.         0.825     ]\n",
      "2\n",
      "(0.9979132996460792, 0.09090909090909091, 0.8333333333333334, 0.16393442622950818)\n"
     ]
    },
    {
     "name": "stderr",
     "output_type": "stream",
     "text": [
      "\r",
      " 96%|█████████▌| 47/49 [02:17<00:05,  2.57s/it]"
     ]
    },
    {
     "name": "stdout",
     "output_type": "stream",
     "text": [
      "[0.99963176 0.38461538 0.83333333 0.52631579]\n",
      "toto\n",
      "2\n",
      "(0.9994884256298759, 0.058823529411764705, 1.0, 0.1111111111111111)\n"
     ]
    },
    {
     "name": "stderr",
     "output_type": "stream",
     "text": [
      "\r",
      " 98%|█████████▊| 48/49 [02:19<00:02,  2.68s/it]"
     ]
    },
    {
     "name": "stdout",
     "output_type": "stream",
     "text": [
      "[0.99980816 0.14285714 1.         0.25      ]\n",
      "toto\n",
      "2\n",
      "(0.9977407291991275, 0.34146341463414637, 0.875, 0.4912280701754386)\n"
     ]
    },
    {
     "name": "stderr",
     "output_type": "stream",
     "text": [
      "100%|██████████| 49/49 [02:22<00:00,  2.91s/it]\n"
     ]
    },
    {
     "name": "stdout",
     "output_type": "stream",
     "text": [
      "[0.99968838 0.83333333 0.9375     0.88235294]\n",
      "toto\n",
      "2\n"
     ]
    },
    {
     "name": "stderr",
     "output_type": "stream",
     "text": [
      "\r",
      "  0%|          | 0/49 [00:00<?, ?it/s]"
     ]
    },
    {
     "name": "stdout",
     "output_type": "stream",
     "text": [
      "(0.9961693787860791, 0.051470588235294115, 1.0, 0.09790209790209789)\n"
     ]
    },
    {
     "name": "stderr",
     "output_type": "stream",
     "text": [
      "\r",
      "  2%|▏         | 1/49 [00:02<02:05,  2.62s/it]"
     ]
    },
    {
     "name": "stdout",
     "output_type": "stream",
     "text": [
      "[0.99896068 0.15       0.85714286 0.25531915]\n",
      "2\n",
      "(0.9543660736657479, 0.02486559139784946, 0.8604651162790697, 0.04833442194644023)\n"
     ]
    },
    {
     "name": "stderr",
     "output_type": "stream",
     "text": [
      "\r",
      "  4%|▍         | 2/49 [00:05<02:04,  2.65s/it]"
     ]
    },
    {
     "name": "stdout",
     "output_type": "stream",
     "text": [
      "[0.98972689 0.11590296 1.         0.20772947]\n",
      "2\n"
     ]
    },
    {
     "name": "stderr",
     "output_type": "stream",
     "text": [
      "<ipython-input-11-686a1c9f481f>:11: RuntimeWarning: invalid value encountered in long_scalars\n",
      "  recall = tp / (tp + fn)\n"
     ]
    },
    {
     "name": "stdout",
     "output_type": "stream",
     "text": [
      "(0.9992343618405941, 0.0, nan, nan)\n"
     ]
    },
    {
     "name": "stderr",
     "output_type": "stream",
     "text": [
      "<ipython-input-15-6cd60cc1786d>:10: RuntimeWarning: invalid value encountered in long_scalars\n",
      "  recall = tp / (tp + fn)\n",
      "<ipython-input-15-6cd60cc1786d>:9: RuntimeWarning: invalid value encountered in long_scalars\n",
      "  precision = tp / (tp + fp)\n",
      "<ipython-input-15-6cd60cc1786d>:10: RuntimeWarning: invalid value encountered in long_scalars\n",
      "  recall = tp / (tp + fn)\n",
      "\r",
      "  6%|▌         | 3/49 [00:07<01:57,  2.55s/it]"
     ]
    },
    {
     "name": "stdout",
     "output_type": "stream",
     "text": [
      "[0.99996172 0.                nan        nan]\n",
      "1\n",
      "(0.9914596273291926, 0.05232558139534884, 0.8181818181818182, 0.09836065573770493)\n"
     ]
    },
    {
     "name": "stderr",
     "output_type": "stream",
     "text": [
      "\r",
      "  8%|▊         | 4/49 [00:10<01:54,  2.54s/it]"
     ]
    },
    {
     "name": "stdout",
     "output_type": "stream",
     "text": [
      "[0.99560041 0.11458333 1.         0.20560748]\n",
      "2\n",
      "(0.9986819907212147, 0.2571428571428571, 0.2727272727272727, 0.2647058823529411)\n"
     ]
    },
    {
     "name": "stderr",
     "output_type": "stream",
     "text": [
      "\r",
      " 10%|█         | 5/49 [00:12<01:53,  2.58s/it]"
     ]
    },
    {
     "name": "stdout",
     "output_type": "stream",
     "text": [
      "[0.99894559 0.45205479 1.         0.62264151]\n",
      "2\n",
      "(0.9977522261606294, 0.7272727272727273, 0.8571428571428571, 0.7868852459016394)\n"
     ]
    },
    {
     "name": "stderr",
     "output_type": "stream",
     "text": [
      "\r",
      " 12%|█▏        | 6/49 [00:15<01:48,  2.52s/it]"
     ]
    },
    {
     "name": "stdout",
     "output_type": "stream",
     "text": [
      "[0.9970606  0.62790698 0.96428571 0.76056338]\n",
      "toto\n",
      "2\n",
      "1\n",
      "(0.6831753268058506, 0.9939989746991948, 0.6449227157112111, 0.782285721066559)\n",
      "[0.77742665 0.99682829 0.75020544 0.85610941]\n"
     ]
    },
    {
     "name": "stderr",
     "output_type": "stream",
     "text": [
      "\r",
      " 16%|█▋        | 8/49 [00:20<01:49,  2.66s/it]"
     ]
    },
    {
     "name": "stdout",
     "output_type": "stream",
     "text": [
      "2\n",
      "(0.9950438327693251, 0.07, 1.0, 0.13084112149532712)\n"
     ]
    },
    {
     "name": "stderr",
     "output_type": "stream",
     "text": [
      "\r",
      " 18%|█▊        | 9/49 [00:23<01:46,  2.66s/it]"
     ]
    },
    {
     "name": "stdout",
     "output_type": "stream",
     "text": [
      "[0.99842788 0.19178082 1.         0.32183908]\n",
      "2\n",
      "(0.9810315096410096, 0.783359497645212, 0.6892265193370166, 0.7332843497428361)\n"
     ]
    },
    {
     "name": "stderr",
     "output_type": "stream",
     "text": [
      "\r",
      " 20%|██        | 10/49 [00:26<01:43,  2.65s/it]"
     ]
    },
    {
     "name": "stdout",
     "output_type": "stream",
     "text": [
      "[0.99754402 0.95193591 0.98480663 0.96809233]\n",
      "2\n",
      "(0.9935795488013194, 0.9042553191489362, 0.4594594594594595, 0.6093189964157706)\n"
     ]
    },
    {
     "name": "stderr",
     "output_type": "stream",
     "text": [
      "\r",
      " 22%|██▏       | 11/49 [00:28<01:38,  2.60s/it]"
     ]
    },
    {
     "name": "stdout",
     "output_type": "stream",
     "text": [
      "[0.99605348 0.87341772 0.74594595 0.80466472]\n",
      "2\n",
      "(0.868702621196786, 0.9906226819129729, 0.8545917751322113, 0.9175930667461804)\n",
      "[0.88036271 0.99413185 0.86524112 0.92521917]\n"
     ]
    },
    {
     "name": "stderr",
     "output_type": "stream",
     "text": [
      "\r",
      " 24%|██▍       | 12/49 [00:40<03:17,  5.33s/it]"
     ]
    },
    {
     "name": "stdout",
     "output_type": "stream",
     "text": [
      "2\n",
      "(0.9826685660018993, 0.30303030303030304, 0.8823529411764706, 0.4511278195488722)\n"
     ]
    },
    {
     "name": "stderr",
     "output_type": "stream",
     "text": [
      "\r",
      " 27%|██▋       | 13/49 [00:43<02:40,  4.47s/it]"
     ]
    },
    {
     "name": "stdout",
     "output_type": "stream",
     "text": [
      "[0.9985755  0.88888889 0.94117647 0.91428571]\n",
      "2\n",
      "(0.7807787997587454, 0.9603685033895359, 0.49718785151856015, 0.6551836589487415)\n"
     ]
    },
    {
     "name": "stderr",
     "output_type": "stream",
     "text": [
      "\r",
      " 29%|██▊       | 14/49 [00:49<02:50,  4.88s/it]"
     ]
    },
    {
     "name": "stdout",
     "output_type": "stream",
     "text": [
      "[0.87952352 0.96515659 0.73907762 0.8371216 ]\n",
      "2\n",
      "(0.9342682332557258, 0.9581295245548817, 0.8304222486009836, 0.889716569767442)\n"
     ]
    },
    {
     "name": "stderr",
     "output_type": "stream",
     "text": [
      "\r",
      " 31%|███       | 15/49 [00:52<02:27,  4.33s/it]"
     ]
    },
    {
     "name": "stdout",
     "output_type": "stream",
     "text": [
      "[0.97027451 0.98076232 0.92504663 0.95209006]\n",
      "2\n",
      "(0.9990669593852909, 0.17073170731707318, 1.0, 0.2916666666666667)\n"
     ]
    },
    {
     "name": "stderr",
     "output_type": "stream",
     "text": [
      "\r",
      " 33%|███▎      | 16/49 [00:54<02:07,  3.87s/it]"
     ]
    },
    {
     "name": "stdout",
     "output_type": "stream",
     "text": [
      "[0.99971186 0.39393939 0.92857143 0.55319149]\n",
      "toto\n",
      "2\n",
      "(0.9856543561315454, 0.898456943753111, 0.9097782258064516, 0.9040821437515653)\n"
     ]
    },
    {
     "name": "stderr",
     "output_type": "stream",
     "text": [
      "\r",
      " 35%|███▍      | 17/49 [00:58<01:58,  3.71s/it]"
     ]
    },
    {
     "name": "stdout",
     "output_type": "stream",
     "text": [
      "[0.9902989  0.93982662 0.92893145 0.93434728]\n",
      "2\n",
      "(0.998028034438244, 0.8003597122302158, 0.8428030303030303, 0.8210332103321033)\n",
      "[0.9974893  0.69872702 0.93560606 0.8       ]\n"
     ]
    },
    {
     "name": "stderr",
     "output_type": "stream",
     "text": [
      "\r",
      " 37%|███▋      | 18/49 [01:01<01:50,  3.56s/it]"
     ]
    },
    {
     "name": "stdout",
     "output_type": "stream",
     "text": [
      "2\n",
      "(0.9673234176807675, 0.9884143348060874, 0.9181867931411893, 0.9520071871010449)\n"
     ]
    },
    {
     "name": "stderr",
     "output_type": "stream",
     "text": [
      "\r",
      " 39%|███▉      | 19/49 [01:04<01:44,  3.50s/it]"
     ]
    },
    {
     "name": "stdout",
     "output_type": "stream",
     "text": [
      "[0.97366557 0.99300292 0.93195914 0.96151313]\n",
      "2\n",
      "(0.9925283797729618, 0.9193154034229829, 0.7175572519083969, 0.8060021436227225)\n"
     ]
    },
    {
     "name": "stderr",
     "output_type": "stream",
     "text": [
      "\r",
      " 41%|████      | 20/49 [01:07<01:33,  3.21s/it]"
     ]
    },
    {
     "name": "stdout",
     "output_type": "stream",
     "text": [
      "[0.99682147 0.94789579 0.90267176 0.92473118]\n",
      "2\n",
      "1\n",
      "(0.9818433605170026, 0.20270270270270271, 1.0, 0.3370786516853933)\n"
     ]
    },
    {
     "name": "stderr",
     "output_type": "stream",
     "text": [
      "\r",
      " 45%|████▍     | 22/49 [01:09<01:01,  2.28s/it]"
     ]
    },
    {
     "name": "stdout",
     "output_type": "stream",
     "text": [
      "[0.99292199 0.38888889 0.93333333 0.54901961]\n",
      "2\n",
      "(0.8102925770727327, 0.9909840288511077, 0.5348750984844974, 0.6947596544562502)\n"
     ]
    },
    {
     "name": "stderr",
     "output_type": "stream",
     "text": [
      "\r",
      " 47%|████▋     | 23/49 [01:12<01:04,  2.48s/it]"
     ]
    },
    {
     "name": "stdout",
     "output_type": "stream",
     "text": [
      "[0.65407064 0.99046105 0.14436669 0.25200227]\n",
      "2\n",
      "(0.9767551901579228, 0.02736318407960199, 0.8461538461538461, 0.05301204819277108)\n"
     ]
    },
    {
     "name": "stderr",
     "output_type": "stream",
     "text": [
      "\r",
      " 49%|████▉     | 24/49 [01:15<01:02,  2.50s/it]"
     ]
    },
    {
     "name": "stdout",
     "output_type": "stream",
     "text": [
      "[0.98432602 0.04014599 0.84615385 0.07665505]\n",
      "2\n",
      "1\n",
      "(0.9828001631019017, 0.004291845493562232, 1.0, 0.008547008547008546)\n"
     ]
    },
    {
     "name": "stderr",
     "output_type": "stream",
     "text": [
      "\r",
      " 53%|█████▎    | 26/49 [01:18<00:46,  2.01s/it]"
     ]
    },
    {
     "name": "stdout",
     "output_type": "stream",
     "text": [
      "[0.99291989 0.01036269 1.         0.02051282]\n",
      "2\n",
      "(0.9491800526109587, 0.9440261044176707, 0.8459289248762933, 0.8922894424673783)\n"
     ]
    },
    {
     "name": "stderr",
     "output_type": "stream",
     "text": [
      "\r",
      " 55%|█████▌    | 27/49 [01:20<00:48,  2.21s/it]"
     ]
    },
    {
     "name": "stdout",
     "output_type": "stream",
     "text": [
      "[0.96697823 0.97208619 0.89293747 0.93083236]\n",
      "2\n",
      "(0.9803112215078901, 0.49081632653061225, 0.9232245681381958, 0.6409060626249168)\n"
     ]
    },
    {
     "name": "stderr",
     "output_type": "stream",
     "text": [
      "\r",
      " 57%|█████▋    | 28/49 [01:23<00:50,  2.39s/it]"
     ]
    },
    {
     "name": "stdout",
     "output_type": "stream",
     "text": [
      "[0.99174459 0.69959405 0.99232246 0.82063492]\n",
      "2\n",
      "(0.9740140429162019, 0.9489873610476626, 0.9903066899729859, 0.9692068429237947)\n"
     ]
    },
    {
     "name": "stderr",
     "output_type": "stream",
     "text": [
      "\r",
      " 59%|█████▉    | 29/49 [01:29<01:07,  3.37s/it]"
     ]
    },
    {
     "name": "stdout",
     "output_type": "stream",
     "text": [
      "[0.98169171 0.96105489 0.99602733 0.97822864]\n",
      "2\n",
      "(0.9918242830994509, 0.8808353808353808, 0.8074324324324325, 0.8425381903642772)\n"
     ]
    },
    {
     "name": "stderr",
     "output_type": "stream",
     "text": [
      "\r",
      " 61%|██████    | 30/49 [01:32<01:00,  3.21s/it]"
     ]
    },
    {
     "name": "stdout",
     "output_type": "stream",
     "text": [
      "[0.99682733 0.98039216 0.9009009  0.93896714]\n",
      "2\n",
      "(0.981283937305041, 0.24878836833602586, 0.88, 0.3879093198992444)\n"
     ]
    },
    {
     "name": "stderr",
     "output_type": "stream",
     "text": [
      "\r",
      " 63%|██████▎   | 31/49 [01:35<00:55,  3.06s/it]"
     ]
    },
    {
     "name": "stdout",
     "output_type": "stream",
     "text": [
      "[0.9892941  0.38268793 0.96       0.54723127]\n",
      "2\n",
      "(0.9827053540147148, 0.6863084922010398, 0.8139773895169579, 0.7447108603667137)\n"
     ]
    },
    {
     "name": "stderr",
     "output_type": "stream",
     "text": [
      "\r",
      " 65%|██████▌   | 32/49 [01:38<00:52,  3.06s/it]"
     ]
    },
    {
     "name": "stdout",
     "output_type": "stream",
     "text": [
      "[0.98805618 0.77281022 0.8705036  0.81875302]\n",
      "2\n",
      "(0.9749178342847258, 0.2471042471042471, 0.7398843930635838, 0.3704775687409551)\n"
     ]
    },
    {
     "name": "stderr",
     "output_type": "stream",
     "text": [
      "\r",
      " 67%|██████▋   | 33/49 [01:41<00:47,  2.94s/it]"
     ]
    },
    {
     "name": "stdout",
     "output_type": "stream",
     "text": [
      "[0.98731477 0.43266476 0.87283237 0.57854406]\n",
      "2\n",
      "(0.993844487122667, 0.0, nan, nan)\n"
     ]
    },
    {
     "name": "stderr",
     "output_type": "stream",
     "text": [
      "<ipython-input-11-686a1c9f481f>:11: RuntimeWarning: invalid value encountered in long_scalars\n",
      "  recall = tp / (tp + fn)\n",
      "<ipython-input-15-6cd60cc1786d>:10: RuntimeWarning: invalid value encountered in long_scalars\n",
      "  recall = tp / (tp + fn)\n",
      "<ipython-input-15-6cd60cc1786d>:9: RuntimeWarning: invalid value encountered in long_scalars\n",
      "  precision = tp / (tp + fp)\n",
      "<ipython-input-15-6cd60cc1786d>:10: RuntimeWarning: invalid value encountered in long_scalars\n",
      "  recall = tp / (tp + fn)\n",
      " 69%|██████▉   | 34/49 [01:43<00:41,  2.79s/it]"
     ]
    },
    {
     "name": "stdout",
     "output_type": "stream",
     "text": [
      "[0.99896587 0.                nan        nan]\n",
      "1\n",
      "(0.9873899119295436, 0.9710144927536232, 0.694300518134715, 0.809667673716012)\n"
     ]
    },
    {
     "name": "stderr",
     "output_type": "stream",
     "text": [
      "\r",
      " 71%|███████▏  | 35/49 [01:45<00:37,  2.65s/it]"
     ]
    },
    {
     "name": "stdout",
     "output_type": "stream",
     "text": [
      "[0.99479584 0.96132597 0.9015544  0.93048128]\n",
      "2\n",
      "(0.9992688002699814, 0.5517241379310345, 1.0, 0.7111111111111111)\n"
     ]
    },
    {
     "name": "stderr",
     "output_type": "stream",
     "text": [
      "\r",
      " 73%|███████▎  | 36/49 [01:48<00:33,  2.56s/it]"
     ]
    },
    {
     "name": "stdout",
     "output_type": "stream",
     "text": [
      "[1. 1. 1. 1.]\n",
      "toto\n",
      "2\n",
      "(0.9988877766655544, 0.375, 1.0, 0.5454545454545454)\n"
     ]
    },
    {
     "name": "stderr",
     "output_type": "stream",
     "text": [
      "\r",
      " 76%|███████▌  | 37/49 [01:50<00:29,  2.49s/it]"
     ]
    },
    {
     "name": "stdout",
     "output_type": "stream",
     "text": [
      "[0.99988878 0.85714286 1.         0.92307692]\n",
      "toto\n",
      "2\n",
      "(0.9982219673071409, 0.4444444444444444, 0.8311688311688312, 0.5791855203619909)\n"
     ]
    },
    {
     "name": "stderr",
     "output_type": "stream",
     "text": [
      "\r",
      " 78%|███████▊  | 38/49 [01:53<00:28,  2.59s/it]"
     ]
    },
    {
     "name": "stdout",
     "output_type": "stream",
     "text": [
      "[0.99736163 0.35680751 0.98701299 0.52413793]\n",
      "2\n",
      "(0.9025581336504643, 0.9433218960477824, 0.6855374953823421, 0.7940311279884472)\n"
     ]
    },
    {
     "name": "stderr",
     "output_type": "stream",
     "text": [
      "\r",
      " 80%|███████▉  | 39/49 [01:56<00:28,  2.81s/it]"
     ]
    },
    {
     "name": "stdout",
     "output_type": "stream",
     "text": [
      "[0.98347714 0.97374057 0.96573698 0.96972226]\n",
      "2\n",
      "(0.997935397935398, 0.06060606060606061, 1.0, 0.1142857142857143)\n"
     ]
    },
    {
     "name": "stderr",
     "output_type": "stream",
     "text": [
      "\r",
      " 82%|████████▏ | 40/49 [01:59<00:24,  2.68s/it]"
     ]
    },
    {
     "name": "stdout",
     "output_type": "stream",
     "text": [
      "[0.9999334  1.         0.5        0.66666667]\n",
      "toto\n",
      "2\n",
      "(0.9958406823386948, 0.5596026490066225, 0.8711340206185567, 0.6814516129032258)\n"
     ]
    },
    {
     "name": "stderr",
     "output_type": "stream",
     "text": [
      "\r",
      " 84%|████████▎ | 41/49 [02:01<00:21,  2.70s/it]"
     ]
    },
    {
     "name": "stdout",
     "output_type": "stream",
     "text": [
      "[0.99939453 0.89767442 0.99484536 0.94376528]\n",
      "2\n",
      "(0.9619360902255639, 0.765983860955928, 0.740251949610078, 0.7528981086028066)\n"
     ]
    },
    {
     "name": "stderr",
     "output_type": "stream",
     "text": [
      "\r",
      " 86%|████████▌ | 42/49 [02:04<00:18,  2.69s/it]"
     ]
    },
    {
     "name": "stdout",
     "output_type": "stream",
     "text": [
      "[0.99234023 0.93218391 0.9730054  0.95215732]\n",
      "2\n",
      "(0.9933752898310699, 0.5658536585365853, 0.9133858267716536, 0.6987951807228915)\n"
     ]
    },
    {
     "name": "stderr",
     "output_type": "stream",
     "text": [
      "\r",
      " 88%|████████▊ | 43/49 [02:06<00:15,  2.62s/it]"
     ]
    },
    {
     "name": "stdout",
     "output_type": "stream",
     "text": [
      "[0.99715137 0.77631579 0.92913386 0.84587814]\n",
      "2\n",
      "(0.9773325849488365, 0.8511659807956105, 0.8011620400258231, 0.8254073827735283)\n"
     ]
    },
    {
     "name": "stderr",
     "output_type": "stream",
     "text": [
      "\r",
      " 90%|████████▉ | 44/49 [02:09<00:13,  2.61s/it]"
     ]
    },
    {
     "name": "stdout",
     "output_type": "stream",
     "text": [
      "[0.98454298 0.95842956 0.80374435 0.87429775]\n",
      "2\n",
      "(0.9571707170717072, 0.8612040133779264, 0.5134596211365903, 0.6433479075577764)\n"
     ]
    },
    {
     "name": "stderr",
     "output_type": "stream",
     "text": [
      "\r",
      " 92%|█████████▏| 45/49 [02:12<00:10,  2.62s/it]"
     ]
    },
    {
     "name": "stdout",
     "output_type": "stream",
     "text": [
      "[0.97247225 0.96764706 0.6560319  0.78193702]\n",
      "2\n",
      "(0.9879376976226725, 0.21774193548387097, 0.8181818181818182, 0.3439490445859873)\n"
     ]
    },
    {
     "name": "stderr",
     "output_type": "stream",
     "text": [
      "\r",
      " 94%|█████████▍| 46/49 [02:14<00:07,  2.55s/it]"
     ]
    },
    {
     "name": "stdout",
     "output_type": "stream",
     "text": [
      "[0.99847757 0.7173913  1.         0.83544304]\n",
      "2\n",
      "(0.9979132996460792, 0.09090909090909091, 0.8333333333333334, 0.16393442622950818)\n"
     ]
    },
    {
     "name": "stderr",
     "output_type": "stream",
     "text": [
      "\r",
      " 96%|█████████▌| 47/49 [02:17<00:05,  2.57s/it]"
     ]
    },
    {
     "name": "stdout",
     "output_type": "stream",
     "text": [
      "[0.99965222 0.4        0.83333333 0.54054054]\n",
      "toto\n",
      "2\n",
      "(0.9994884256298759, 0.058823529411764705, 1.0, 0.1111111111111111)\n"
     ]
    },
    {
     "name": "stderr",
     "output_type": "stream",
     "text": [
      "\r",
      " 98%|█████████▊| 48/49 [02:20<00:02,  2.68s/it]"
     ]
    },
    {
     "name": "stdout",
     "output_type": "stream",
     "text": [
      "[0.99968027 0.09090909 1.         0.16666667]\n",
      "toto\n",
      "2\n",
      "(0.9977407291991275, 0.34146341463414637, 0.875, 0.4912280701754386)\n"
     ]
    },
    {
     "name": "stderr",
     "output_type": "stream",
     "text": [
      "100%|██████████| 49/49 [02:22<00:00,  2.91s/it]\n"
     ]
    },
    {
     "name": "stdout",
     "output_type": "stream",
     "text": [
      "[0.99968838 0.83333333 0.9375     0.88235294]\n",
      "toto\n",
      "2\n"
     ]
    },
    {
     "name": "stderr",
     "output_type": "stream",
     "text": [
      "\r",
      "  0%|          | 0/49 [00:00<?, ?it/s]"
     ]
    },
    {
     "name": "stdout",
     "output_type": "stream",
     "text": [
      "(0.9961693787860791, 0.051470588235294115, 1.0, 0.09790209790209789)\n"
     ]
    },
    {
     "name": "stderr",
     "output_type": "stream",
     "text": [
      "\r",
      "  2%|▏         | 1/49 [00:02<02:05,  2.62s/it]"
     ]
    },
    {
     "name": "stdout",
     "output_type": "stream",
     "text": [
      "[0.99902007 0.15789474 0.85714286 0.26666667]\n",
      "2\n",
      "(0.9543660736657479, 0.02486559139784946, 0.8604651162790697, 0.04833442194644023)\n"
     ]
    },
    {
     "name": "stderr",
     "output_type": "stream",
     "text": [
      "\r",
      "  4%|▍         | 2/49 [00:05<02:04,  2.65s/it]"
     ]
    },
    {
     "name": "stdout",
     "output_type": "stream",
     "text": [
      "[0.98931972 0.11197917 1.         0.20140515]\n",
      "2\n"
     ]
    },
    {
     "name": "stderr",
     "output_type": "stream",
     "text": [
      "<ipython-input-11-686a1c9f481f>:11: RuntimeWarning: invalid value encountered in long_scalars\n",
      "  recall = tp / (tp + fn)\n"
     ]
    },
    {
     "name": "stdout",
     "output_type": "stream",
     "text": [
      "(0.9992343618405941, 0.0, nan, nan)\n"
     ]
    },
    {
     "name": "stderr",
     "output_type": "stream",
     "text": [
      "<ipython-input-15-6cd60cc1786d>:10: RuntimeWarning: invalid value encountered in long_scalars\n",
      "  recall = tp / (tp + fn)\n",
      "<ipython-input-15-6cd60cc1786d>:9: RuntimeWarning: invalid value encountered in long_scalars\n",
      "  precision = tp / (tp + fp)\n",
      "<ipython-input-15-6cd60cc1786d>:10: RuntimeWarning: invalid value encountered in long_scalars\n",
      "  recall = tp / (tp + fn)\n",
      "\r",
      "  6%|▌         | 3/49 [00:07<01:57,  2.56s/it]"
     ]
    },
    {
     "name": "stdout",
     "output_type": "stream",
     "text": [
      "[0.99996172 0.                nan        nan]\n",
      "1\n",
      "(0.9914596273291926, 0.05232558139534884, 0.8181818181818182, 0.09836065573770493)\n"
     ]
    },
    {
     "name": "stderr",
     "output_type": "stream",
     "text": [
      "\r",
      "  8%|▊         | 4/49 [00:10<01:54,  2.55s/it]"
     ]
    },
    {
     "name": "stdout",
     "output_type": "stream",
     "text": [
      "[0.99560041 0.11458333 1.         0.20560748]\n",
      "2\n",
      "(0.9986819907212147, 0.2571428571428571, 0.2727272727272727, 0.2647058823529411)\n"
     ]
    },
    {
     "name": "stderr",
     "output_type": "stream",
     "text": [
      "\r",
      " 10%|█         | 5/49 [00:12<01:53,  2.58s/it]"
     ]
    },
    {
     "name": "stdout",
     "output_type": "stream",
     "text": [
      "[0.99902467 0.47142857 1.         0.6407767 ]\n",
      "2\n",
      "(0.9977522261606294, 0.7272727272727273, 0.8571428571428571, 0.7868852459016394)\n"
     ]
    },
    {
     "name": "stderr",
     "output_type": "stream",
     "text": [
      "\r",
      " 12%|█▏        | 6/49 [00:15<01:48,  2.51s/it]"
     ]
    },
    {
     "name": "stdout",
     "output_type": "stream",
     "text": [
      "[0.99654189 0.58695652 0.96428571 0.72972973]\n",
      "toto\n",
      "2\n",
      "1\n",
      "(0.6831753268058506, 0.9939989746991948, 0.6449227157112111, 0.782285721066559)\n",
      "[0.78638899 0.99413265 0.7624731  0.86302735]\n"
     ]
    },
    {
     "name": "stderr",
     "output_type": "stream",
     "text": [
      "\r",
      " 16%|█▋        | 8/49 [00:20<01:49,  2.67s/it]"
     ]
    },
    {
     "name": "stdout",
     "output_type": "stream",
     "text": [
      "2\n",
      "(0.9950438327693251, 0.07, 1.0, 0.13084112149532712)\n"
     ]
    },
    {
     "name": "stderr",
     "output_type": "stream",
     "text": [
      "\r",
      " 18%|█▊        | 9/49 [00:23<01:46,  2.66s/it]"
     ]
    },
    {
     "name": "stdout",
     "output_type": "stream",
     "text": [
      "[0.99864105 0.21538462 1.         0.35443038]\n",
      "2\n",
      "(0.9810315096410096, 0.783359497645212, 0.6892265193370166, 0.7332843497428361)\n"
     ]
    },
    {
     "name": "stderr",
     "output_type": "stream",
     "text": [
      "\r",
      " 20%|██        | 10/49 [00:26<01:43,  2.65s/it]"
     ]
    },
    {
     "name": "stdout",
     "output_type": "stream",
     "text": [
      "[0.99749177 0.95066667 0.98480663 0.96743555]\n",
      "2\n",
      "(0.9935795488013194, 0.9042553191489362, 0.4594594594594595, 0.6093189964157706)\n"
     ]
    },
    {
     "name": "stderr",
     "output_type": "stream",
     "text": [
      "\r",
      " 22%|██▏       | 11/49 [00:28<01:38,  2.60s/it]"
     ]
    },
    {
     "name": "stdout",
     "output_type": "stream",
     "text": [
      "[0.99605348 0.87341772 0.74594595 0.80466472]\n",
      "2\n",
      "(0.868702621196786, 0.9906226819129729, 0.8545917751322113, 0.9175930667461804)\n",
      "[0.87821453 0.99421113 0.86264519 0.92376716]\n"
     ]
    },
    {
     "name": "stderr",
     "output_type": "stream",
     "text": [
      "\r",
      " 24%|██▍       | 12/49 [00:40<03:17,  5.33s/it]"
     ]
    },
    {
     "name": "stdout",
     "output_type": "stream",
     "text": [
      "2\n",
      "(0.9826685660018993, 0.30303030303030304, 0.8823529411764706, 0.4511278195488722)\n"
     ]
    },
    {
     "name": "stderr",
     "output_type": "stream",
     "text": [
      "\r",
      " 27%|██▋       | 13/49 [00:43<02:40,  4.47s/it]"
     ]
    },
    {
     "name": "stdout",
     "output_type": "stream",
     "text": [
      "[0.9985755  0.88888889 0.94117647 0.91428571]\n",
      "2\n",
      "(0.7807787997587454, 0.9603685033895359, 0.49718785151856015, 0.6551836589487415)\n"
     ]
    },
    {
     "name": "stderr",
     "output_type": "stream",
     "text": [
      "\r",
      " 29%|██▊       | 14/49 [00:49<02:50,  4.88s/it]"
     ]
    },
    {
     "name": "stdout",
     "output_type": "stream",
     "text": [
      "[0.93291993 0.97920518 0.85808774 0.91465432]\n",
      "2\n",
      "(0.9342682332557258, 0.9581295245548817, 0.8304222486009836, 0.889716569767442)\n"
     ]
    },
    {
     "name": "stderr",
     "output_type": "stream",
     "text": [
      "\r",
      " 31%|███       | 15/49 [00:52<02:27,  4.34s/it]"
     ]
    },
    {
     "name": "stdout",
     "output_type": "stream",
     "text": [
      "[0.96886675 0.98119349 0.92012888 0.94968058]\n",
      "2\n",
      "(0.9990669593852909, 0.17073170731707318, 1.0, 0.2916666666666667)\n"
     ]
    },
    {
     "name": "stderr",
     "output_type": "stream",
     "text": [
      "\r",
      " 33%|███▎      | 16/49 [00:54<02:07,  3.88s/it]"
     ]
    },
    {
     "name": "stdout",
     "output_type": "stream",
     "text": [
      "[0.99956092 0.29545455 0.92857143 0.44827586]\n",
      "toto\n",
      "2\n",
      "(0.9856543561315454, 0.898456943753111, 0.9097782258064516, 0.9040821437515653)\n"
     ]
    },
    {
     "name": "stderr",
     "output_type": "stream",
     "text": [
      "\r",
      " 35%|███▍      | 17/49 [00:58<01:58,  3.71s/it]"
     ]
    },
    {
     "name": "stdout",
     "output_type": "stream",
     "text": [
      "[0.99052363 0.94361866 0.92792339 0.93570521]\n",
      "2\n",
      "(0.998028034438244, 0.8003597122302158, 0.8428030303030303, 0.8210332103321033)\n",
      "[0.99737749 0.68802228 0.93560606 0.7929374 ]\n"
     ]
    },
    {
     "name": "stderr",
     "output_type": "stream",
     "text": [
      "\r",
      " 37%|███▋      | 18/49 [01:01<01:50,  3.56s/it]"
     ]
    },
    {
     "name": "stdout",
     "output_type": "stream",
     "text": [
      "2\n",
      "(0.9673234176807675, 0.9884143348060874, 0.9181867931411893, 0.9520071871010449)\n"
     ]
    },
    {
     "name": "stderr",
     "output_type": "stream",
     "text": [
      "\r",
      " 39%|███▉      | 19/49 [01:04<01:44,  3.49s/it]"
     ]
    },
    {
     "name": "stdout",
     "output_type": "stream",
     "text": [
      "[0.97269976 0.99539667 0.92694272 0.95995088]\n",
      "2\n",
      "(0.9925283797729618, 0.9193154034229829, 0.7175572519083969, 0.8060021436227225)\n"
     ]
    },
    {
     "name": "stderr",
     "output_type": "stream",
     "text": [
      "\r",
      " 41%|████      | 20/49 [01:07<01:33,  3.21s/it]"
     ]
    },
    {
     "name": "stdout",
     "output_type": "stream",
     "text": [
      "[0.99686275 0.9497992  0.90267176 0.92563601]\n",
      "2\n",
      "1\n",
      "(0.9818433605170026, 0.20270270270270271, 1.0, 0.3370786516853933)\n"
     ]
    },
    {
     "name": "stderr",
     "output_type": "stream",
     "text": [
      "\r",
      " 45%|████▍     | 22/49 [01:09<01:01,  2.28s/it]"
     ]
    },
    {
     "name": "stdout",
     "output_type": "stream",
     "text": [
      "[0.99384521 0.42424242 0.93333333 0.58333333]\n",
      "2\n",
      "(0.8102925770727327, 0.9909840288511077, 0.5348750984844974, 0.6947596544562502)\n",
      "[0.64628854 0.98615665 0.12545766 0.22259683]\n",
      "2\n"
     ]
    },
    {
     "name": "stderr",
     "output_type": "stream",
     "text": [
      "\r",
      " 47%|████▋     | 23/49 [01:12<01:04,  2.47s/it]"
     ]
    },
    {
     "name": "stdout",
     "output_type": "stream",
     "text": [
      "(0.9767551901579228, 0.02736318407960199, 0.8461538461538461, 0.05301204819277108)\n"
     ]
    },
    {
     "name": "stderr",
     "output_type": "stream",
     "text": [
      "\r",
      " 49%|████▉     | 24/49 [01:15<01:02,  2.50s/it]"
     ]
    },
    {
     "name": "stdout",
     "output_type": "stream",
     "text": [
      "[0.98474005 0.0411985  0.84615385 0.07857143]\n",
      "2\n",
      "1\n",
      "(0.9828001631019017, 0.004291845493562232, 1.0, 0.008547008547008546)\n"
     ]
    },
    {
     "name": "stderr",
     "output_type": "stream",
     "text": [
      "\r",
      " 53%|█████▎    | 26/49 [01:18<00:46,  2.00s/it]"
     ]
    },
    {
     "name": "stdout",
     "output_type": "stream",
     "text": [
      "[0.99236387 0.00961538 1.         0.01904762]\n",
      "toto\n",
      "2\n",
      "(0.9491800526109587, 0.9440261044176707, 0.8459289248762933, 0.8922894424673783)\n"
     ]
    },
    {
     "name": "stderr",
     "output_type": "stream",
     "text": [
      "\r",
      " 55%|█████▌    | 27/49 [01:20<00:48,  2.20s/it]"
     ]
    },
    {
     "name": "stdout",
     "output_type": "stream",
     "text": [
      "[0.96272458 0.97535211 0.87224471 0.9209214 ]\n",
      "2\n",
      "(0.9803112215078901, 0.49081632653061225, 0.9232245681381958, 0.6409060626249168)\n"
     ]
    },
    {
     "name": "stderr",
     "output_type": "stream",
     "text": [
      "\r",
      " 57%|█████▋    | 28/49 [01:23<00:50,  2.39s/it]"
     ]
    },
    {
     "name": "stdout",
     "output_type": "stream",
     "text": [
      "[0.99156195 0.69489247 0.99232246 0.8173913 ]\n",
      "2\n",
      "(0.9740140429162019, 0.9489873610476626, 0.9903066899729859, 0.9692068429237947)\n"
     ]
    },
    {
     "name": "stderr",
     "output_type": "stream",
     "text": [
      "\r",
      " 59%|█████▉    | 29/49 [01:29<01:07,  3.37s/it]"
     ]
    },
    {
     "name": "stdout",
     "output_type": "stream",
     "text": [
      "[0.97276724 0.94089409 0.99666296 0.96797592]\n",
      "2\n",
      "(0.9918242830994509, 0.8808353808353808, 0.8074324324324325, 0.8425381903642772)\n"
     ]
    },
    {
     "name": "stderr",
     "output_type": "stream",
     "text": [
      "\r",
      " 61%|██████    | 30/49 [01:32<01:00,  3.20s/it]"
     ]
    },
    {
     "name": "stdout",
     "output_type": "stream",
     "text": [
      "[0.9966748  0.98027127 0.89527027 0.93584461]\n",
      "2\n",
      "(0.981283937305041, 0.24878836833602586, 0.88, 0.3879093198992444)\n"
     ]
    },
    {
     "name": "stderr",
     "output_type": "stream",
     "text": [
      "\r",
      " 63%|██████▎   | 31/49 [01:35<00:54,  3.05s/it]"
     ]
    },
    {
     "name": "stdout",
     "output_type": "stream",
     "text": [
      "[0.98902453 0.37668161 0.96       0.5410628 ]\n",
      "2\n",
      "(0.9827053540147148, 0.6863084922010398, 0.8139773895169579, 0.7447108603667137)\n"
     ]
    },
    {
     "name": "stderr",
     "output_type": "stream",
     "text": [
      "\r",
      " 65%|██████▌   | 32/49 [01:38<00:51,  3.06s/it]"
     ]
    },
    {
     "name": "stdout",
     "output_type": "stream",
     "text": [
      "[0.98821543 0.77736891 0.8684481  0.82038835]\n",
      "2\n",
      "(0.9749178342847258, 0.2471042471042471, 0.7398843930635838, 0.3704775687409551)\n"
     ]
    },
    {
     "name": "stderr",
     "output_type": "stream",
     "text": [
      "\r",
      " 67%|██████▋   | 33/49 [01:41<00:47,  2.95s/it]"
     ]
    },
    {
     "name": "stdout",
     "output_type": "stream",
     "text": [
      "[0.98708413 0.42816901 0.87861272 0.57575758]\n",
      "2\n",
      "(0.993844487122667, 0.0, nan, nan)\n"
     ]
    },
    {
     "name": "stderr",
     "output_type": "stream",
     "text": [
      "<ipython-input-11-686a1c9f481f>:11: RuntimeWarning: invalid value encountered in long_scalars\n",
      "  recall = tp / (tp + fn)\n",
      "<ipython-input-15-6cd60cc1786d>:10: RuntimeWarning: invalid value encountered in long_scalars\n",
      "  recall = tp / (tp + fn)\n",
      "<ipython-input-15-6cd60cc1786d>:9: RuntimeWarning: invalid value encountered in long_scalars\n",
      "  precision = tp / (tp + fp)\n",
      "<ipython-input-15-6cd60cc1786d>:10: RuntimeWarning: invalid value encountered in long_scalars\n",
      "  recall = tp / (tp + fn)\n",
      " 69%|██████▉   | 34/49 [01:43<00:42,  2.80s/it]"
     ]
    },
    {
     "name": "stdout",
     "output_type": "stream",
     "text": [
      "[0.99906436 0.                nan        nan]\n",
      "1\n",
      "(0.9873899119295436, 0.9710144927536232, 0.694300518134715, 0.809667673716012)\n"
     ]
    },
    {
     "name": "stderr",
     "output_type": "stream",
     "text": [
      "\r",
      " 71%|███████▏  | 35/49 [01:45<00:37,  2.66s/it]"
     ]
    },
    {
     "name": "stdout",
     "output_type": "stream",
     "text": [
      "[0.99439552 0.96610169 0.88601036 0.92432432]\n",
      "2\n",
      "(0.9992688002699814, 0.5517241379310345, 1.0, 0.7111111111111111)\n"
     ]
    },
    {
     "name": "stderr",
     "output_type": "stream",
     "text": [
      "\r",
      " 73%|███████▎  | 36/49 [01:48<00:33,  2.57s/it]"
     ]
    },
    {
     "name": "stdout",
     "output_type": "stream",
     "text": [
      "[1. 1. 1. 1.]\n",
      "toto\n",
      "2\n",
      "(0.9988877766655544, 0.375, 1.0, 0.5454545454545454)\n"
     ]
    },
    {
     "name": "stderr",
     "output_type": "stream",
     "text": [
      "\r",
      " 76%|███████▌  | 37/49 [01:50<00:29,  2.50s/it]"
     ]
    },
    {
     "name": "stdout",
     "output_type": "stream",
     "text": [
      "[0.99988878 0.85714286 1.         0.92307692]\n",
      "toto\n",
      "2\n",
      "(0.9982219673071409, 0.4444444444444444, 0.8311688311688312, 0.5791855203619909)\n"
     ]
    },
    {
     "name": "stderr",
     "output_type": "stream",
     "text": [
      "\r",
      " 78%|███████▊  | 38/49 [01:53<00:28,  2.59s/it]"
     ]
    },
    {
     "name": "stdout",
     "output_type": "stream",
     "text": [
      "[0.99701749 0.32900433 0.98701299 0.49350649]\n",
      "2\n",
      "(0.9025581336504643, 0.9433218960477824, 0.6855374953823421, 0.7940311279884472)\n"
     ]
    },
    {
     "name": "stderr",
     "output_type": "stream",
     "text": [
      "\r",
      " 80%|███████▉  | 39/49 [01:56<00:28,  2.82s/it]"
     ]
    },
    {
     "name": "stdout",
     "output_type": "stream",
     "text": [
      "[0.98585562 0.97546069 0.97284817 0.97415268]\n",
      "2\n",
      "(0.997935397935398, 0.06060606060606061, 1.0, 0.1142857142857143)\n"
     ]
    },
    {
     "name": "stderr",
     "output_type": "stream",
     "text": [
      "\r",
      " 82%|████████▏ | 40/49 [01:59<00:24,  2.69s/it]"
     ]
    },
    {
     "name": "stdout",
     "output_type": "stream",
     "text": [
      "[0.9999334  1.         0.5        0.66666667]\n",
      "toto\n",
      "2\n",
      "(0.9958406823386948, 0.5596026490066225, 0.8711340206185567, 0.6814516129032258)\n"
     ]
    },
    {
     "name": "stderr",
     "output_type": "stream",
     "text": [
      "\r",
      " 84%|████████▎ | 41/49 [02:01<00:21,  2.70s/it]"
     ]
    },
    {
     "name": "stdout",
     "output_type": "stream",
     "text": [
      "[0.9993682  0.89351852 0.99484536 0.94146341]\n",
      "2\n",
      "(0.9619360902255639, 0.765983860955928, 0.740251949610078, 0.7528981086028066)\n"
     ]
    },
    {
     "name": "stderr",
     "output_type": "stream",
     "text": [
      "\r",
      " 86%|████████▌ | 42/49 [02:04<00:18,  2.68s/it]"
     ]
    },
    {
     "name": "stdout",
     "output_type": "stream",
     "text": [
      "[0.99205827 0.9284897  0.97360528 0.95051245]\n",
      "2\n",
      "(0.9933752898310699, 0.5658536585365853, 0.9133858267716536, 0.6987951807228915)\n"
     ]
    },
    {
     "name": "stderr",
     "output_type": "stream",
     "text": [
      "\r",
      " 88%|████████▊ | 43/49 [02:06<00:15,  2.62s/it]"
     ]
    },
    {
     "name": "stdout",
     "output_type": "stream",
     "text": [
      "[0.99668764 0.73913043 0.93700787 0.82638889]\n",
      "2\n",
      "(0.9773325849488365, 0.8511659807956105, 0.8011620400258231, 0.8254073827735283)\n"
     ]
    },
    {
     "name": "stderr",
     "output_type": "stream",
     "text": [
      "\r",
      " 90%|████████▉ | 44/49 [02:09<00:13,  2.61s/it]"
     ]
    },
    {
     "name": "stdout",
     "output_type": "stream",
     "text": [
      "[0.98454298 0.95354151 0.8082634  0.87491265]\n",
      "2\n",
      "(0.9571707170717072, 0.8612040133779264, 0.5134596211365903, 0.6433479075577764)\n"
     ]
    },
    {
     "name": "stderr",
     "output_type": "stream",
     "text": [
      "\r",
      " 92%|█████████▏| 45/49 [02:12<00:10,  2.63s/it]"
     ]
    },
    {
     "name": "stdout",
     "output_type": "stream",
     "text": [
      "[0.97134713 0.97842835 0.6331007  0.76876513]\n",
      "2\n",
      "(0.9879376976226725, 0.21774193548387097, 0.8181818181818182, 0.3439490445859873)\n"
     ]
    },
    {
     "name": "stderr",
     "output_type": "stream",
     "text": [
      "\r",
      " 94%|█████████▍| 46/49 [02:14<00:07,  2.55s/it]"
     ]
    },
    {
     "name": "stdout",
     "output_type": "stream",
     "text": [
      "[0.99836046 0.70212766 1.         0.825     ]\n",
      "2\n",
      "(0.9979132996460792, 0.09090909090909091, 0.8333333333333334, 0.16393442622950818)\n"
     ]
    },
    {
     "name": "stderr",
     "output_type": "stream",
     "text": [
      "\r",
      " 96%|█████████▌| 47/49 [02:17<00:05,  2.57s/it]"
     ]
    },
    {
     "name": "stdout",
     "output_type": "stream",
     "text": [
      "[0.99952947 0.32258065 0.83333333 0.46511628]\n",
      "toto\n",
      "2\n",
      "(0.9994884256298759, 0.058823529411764705, 1.0, 0.1111111111111111)\n"
     ]
    },
    {
     "name": "stderr",
     "output_type": "stream",
     "text": [
      "\r",
      " 98%|█████████▊| 48/49 [02:20<00:02,  2.68s/it]"
     ]
    },
    {
     "name": "stdout",
     "output_type": "stream",
     "text": [
      "[0.99968027 0.09090909 1.         0.16666667]\n",
      "toto\n",
      "2\n",
      "(0.9977407291991275, 0.34146341463414637, 0.875, 0.4912280701754386)\n"
     ]
    },
    {
     "name": "stderr",
     "output_type": "stream",
     "text": [
      "100%|██████████| 49/49 [02:22<00:00,  2.91s/it]\n"
     ]
    },
    {
     "name": "stdout",
     "output_type": "stream",
     "text": [
      "[0.99968838 0.83333333 0.9375     0.88235294]\n",
      "toto\n",
      "2\n"
     ]
    },
    {
     "name": "stderr",
     "output_type": "stream",
     "text": [
      "\r",
      "  0%|          | 0/49 [00:00<?, ?it/s]"
     ]
    },
    {
     "name": "stdout",
     "output_type": "stream",
     "text": [
      "(0.9961693787860791, 0.051470588235294115, 1.0, 0.09790209790209789)\n"
     ]
    },
    {
     "name": "stderr",
     "output_type": "stream",
     "text": [
      "\r",
      "  2%|▏         | 1/49 [00:02<02:06,  2.63s/it]"
     ]
    },
    {
     "name": "stdout",
     "output_type": "stream",
     "text": [
      "[0.99896068 0.15       0.85714286 0.25531915]\n",
      "2\n",
      "(0.9543660736657479, 0.02486559139784946, 0.8604651162790697, 0.04833442194644023)\n"
     ]
    },
    {
     "name": "stderr",
     "output_type": "stream",
     "text": [
      "\r",
      "  4%|▍         | 2/49 [00:05<02:04,  2.65s/it]"
     ]
    },
    {
     "name": "stdout",
     "output_type": "stream",
     "text": [
      "[0.98910048 0.10997442 1.         0.19815668]\n",
      "2\n"
     ]
    },
    {
     "name": "stderr",
     "output_type": "stream",
     "text": [
      "<ipython-input-11-686a1c9f481f>:11: RuntimeWarning: invalid value encountered in long_scalars\n",
      "  recall = tp / (tp + fn)\n"
     ]
    },
    {
     "name": "stdout",
     "output_type": "stream",
     "text": [
      "(0.9992343618405941, 0.0, nan, nan)\n"
     ]
    },
    {
     "name": "stderr",
     "output_type": "stream",
     "text": [
      "<ipython-input-15-6cd60cc1786d>:10: RuntimeWarning: invalid value encountered in long_scalars\n",
      "  recall = tp / (tp + fn)\n",
      "<ipython-input-15-6cd60cc1786d>:9: RuntimeWarning: invalid value encountered in long_scalars\n",
      "  precision = tp / (tp + fp)\n",
      "<ipython-input-15-6cd60cc1786d>:10: RuntimeWarning: invalid value encountered in long_scalars\n",
      "  recall = tp / (tp + fn)\n",
      "\r",
      "  6%|▌         | 3/49 [00:07<01:57,  2.56s/it]"
     ]
    },
    {
     "name": "stdout",
     "output_type": "stream",
     "text": [
      "[0.99996172 0.                nan        nan]\n",
      "1\n",
      "(0.9914596273291926, 0.05232558139534884, 0.8181818181818182, 0.09836065573770493)\n"
     ]
    },
    {
     "name": "stderr",
     "output_type": "stream",
     "text": [
      "\r",
      "  8%|▊         | 4/49 [00:10<01:54,  2.55s/it]"
     ]
    },
    {
     "name": "stdout",
     "output_type": "stream",
     "text": [
      "[0.99570393 0.11702128 1.         0.20952381]\n",
      "2\n",
      "(0.9986819907212147, 0.2571428571428571, 0.2727272727272727, 0.2647058823529411)\n"
     ]
    },
    {
     "name": "stderr",
     "output_type": "stream",
     "text": [
      "\r",
      " 10%|█         | 5/49 [00:12<01:53,  2.57s/it]"
     ]
    },
    {
     "name": "stdout",
     "output_type": "stream",
     "text": [
      "[0.99907739 0.48529412 1.         0.65346535]\n",
      "2\n",
      "(0.9977522261606294, 0.7272727272727273, 0.8571428571428571, 0.7868852459016394)\n"
     ]
    },
    {
     "name": "stderr",
     "output_type": "stream",
     "text": [
      "\r",
      " 12%|█▏        | 6/49 [00:15<01:47,  2.51s/it]"
     ]
    },
    {
     "name": "stdout",
     "output_type": "stream",
     "text": [
      "[0.99654189 0.58695652 0.96428571 0.72972973]\n",
      "toto\n",
      "2\n",
      "1\n",
      "(0.6831753268058506, 0.9939989746991948, 0.6449227157112111, 0.782285721066559)\n",
      "[0.77243606 0.99703863 0.74437488 0.85237711]\n"
     ]
    },
    {
     "name": "stderr",
     "output_type": "stream",
     "text": [
      "\r",
      " 16%|█▋        | 8/49 [00:20<01:48,  2.65s/it]"
     ]
    },
    {
     "name": "stdout",
     "output_type": "stream",
     "text": [
      "2\n",
      "(0.9950438327693251, 0.07, 1.0, 0.13084112149532712)\n"
     ]
    },
    {
     "name": "stderr",
     "output_type": "stream",
     "text": [
      "\r",
      " 18%|█▊        | 9/49 [00:23<01:45,  2.65s/it]"
     ]
    },
    {
     "name": "stdout",
     "output_type": "stream",
     "text": [
      "[0.99885422 0.24561404 1.         0.3943662 ]\n",
      "2\n",
      "(0.9810315096410096, 0.783359497645212, 0.6892265193370166, 0.7332843497428361)\n"
     ]
    },
    {
     "name": "stderr",
     "output_type": "stream",
     "text": [
      "\r",
      " 20%|██        | 10/49 [00:26<01:43,  2.65s/it]"
     ]
    },
    {
     "name": "stdout",
     "output_type": "stream",
     "text": [
      "[0.99770079 0.95576408 0.98480663 0.97006803]\n",
      "2\n",
      "(0.9935795488013194, 0.9042553191489362, 0.4594594594594595, 0.6093189964157706)\n"
     ]
    },
    {
     "name": "stderr",
     "output_type": "stream",
     "text": [
      "\r",
      " 22%|██▏       | 11/49 [00:28<01:38,  2.59s/it]"
     ]
    },
    {
     "name": "stdout",
     "output_type": "stream",
     "text": [
      "[0.99599458 0.86792453 0.74594595 0.80232558]\n",
      "2\n",
      "(0.868702621196786, 0.9906226819129729, 0.8545917751322113, 0.9175930667461804)\n",
      "[0.87853469 0.99432364 0.86292289 0.92397494]\n"
     ]
    },
    {
     "name": "stderr",
     "output_type": "stream",
     "text": [
      "\r",
      " 24%|██▍       | 12/49 [00:40<03:17,  5.33s/it]"
     ]
    },
    {
     "name": "stdout",
     "output_type": "stream",
     "text": [
      "2\n",
      "(0.9826685660018993, 0.30303030303030304, 0.8823529411764706, 0.4511278195488722)\n"
     ]
    },
    {
     "name": "stderr",
     "output_type": "stream",
     "text": [
      "\r",
      " 27%|██▋       | 13/49 [00:43<02:40,  4.47s/it]"
     ]
    },
    {
     "name": "stdout",
     "output_type": "stream",
     "text": [
      "[0.99833808 0.86486486 0.94117647 0.90140845]\n",
      "2\n",
      "(0.7807787997587454, 0.9603685033895359, 0.49718785151856015, 0.6551836589487415)\n"
     ]
    },
    {
     "name": "stderr",
     "output_type": "stream",
     "text": [
      "\r",
      " 29%|██▊       | 14/49 [00:48<02:50,  4.87s/it]"
     ]
    },
    {
     "name": "stdout",
     "output_type": "stream",
     "text": [
      "[0.9379712  0.9802171  0.86947132 0.92152889]\n",
      "2\n",
      "(0.9342682332557258, 0.9581295245548817, 0.8304222486009836, 0.889716569767442)\n"
     ]
    },
    {
     "name": "stderr",
     "output_type": "stream",
     "text": [
      "\r",
      " 31%|███       | 15/49 [00:52<02:27,  4.34s/it]"
     ]
    },
    {
     "name": "stdout",
     "output_type": "stream",
     "text": [
      "[0.97899182 0.97647466 0.95726641 0.96677513]\n",
      "2\n",
      "(0.9990669593852909, 0.17073170731707318, 1.0, 0.2916666666666667)\n"
     ]
    },
    {
     "name": "stderr",
     "output_type": "stream",
     "text": [
      "\r",
      " 33%|███▎      | 16/49 [00:54<02:07,  3.88s/it]"
     ]
    },
    {
     "name": "stdout",
     "output_type": "stream",
     "text": [
      "[0.99962953 0.33333333 0.92857143 0.49056604]\n",
      "toto\n",
      "2\n",
      "(0.9856543561315454, 0.898456943753111, 0.9097782258064516, 0.9040821437515653)\n"
     ]
    },
    {
     "name": "stderr",
     "output_type": "stream",
     "text": [
      "\r",
      " 35%|███▍      | 17/49 [00:58<01:58,  3.71s/it]"
     ]
    },
    {
     "name": "stdout",
     "output_type": "stream",
     "text": [
      "[0.99022399 0.93620253 0.93195565 0.93407426]\n",
      "2\n",
      "(0.998028034438244, 0.8003597122302158, 0.8428030303030303, 0.8210332103321033)\n",
      "[0.99745881 0.69577465 0.93560606 0.79806139]\n"
     ]
    },
    {
     "name": "stderr",
     "output_type": "stream",
     "text": [
      "\r",
      " 37%|███▋      | 18/49 [01:01<01:50,  3.56s/it]"
     ]
    },
    {
     "name": "stdout",
     "output_type": "stream",
     "text": [
      "2\n",
      "(0.9673234176807675, 0.9884143348060874, 0.9181867931411893, 0.9520071871010449)\n"
     ]
    },
    {
     "name": "stderr",
     "output_type": "stream",
     "text": [
      "\r",
      " 39%|███▉      | 19/49 [01:04<01:44,  3.49s/it]"
     ]
    },
    {
     "name": "stdout",
     "output_type": "stream",
     "text": [
      "[0.97530745 0.99161122 0.93797884 0.96404968]\n",
      "2\n",
      "(0.9925283797729618, 0.9193154034229829, 0.7175572519083969, 0.8060021436227225)\n"
     ]
    },
    {
     "name": "stderr",
     "output_type": "stream",
     "text": [
      "\r",
      " 41%|████      | 20/49 [01:07<01:32,  3.20s/it]"
     ]
    },
    {
     "name": "stdout",
     "output_type": "stream",
     "text": [
      "[0.99690402 0.94632207 0.90839695 0.92697176]\n",
      "2\n",
      "1\n",
      "(0.9818433605170026, 0.20270270270270271, 1.0, 0.3370786516853933)\n"
     ]
    },
    {
     "name": "stderr",
     "output_type": "stream",
     "text": [
      "\r",
      " 45%|████▍     | 22/49 [01:09<01:01,  2.28s/it]"
     ]
    },
    {
     "name": "stdout",
     "output_type": "stream",
     "text": [
      "[0.99261425 0.37837838 0.93333333 0.53846154]\n",
      "2\n",
      "(0.8102925770727327, 0.9909840288511077, 0.5348750984844974, 0.6947596544562502)\n"
     ]
    },
    {
     "name": "stderr",
     "output_type": "stream",
     "text": [
      "\r",
      " 47%|████▋     | 23/49 [01:12<01:04,  2.47s/it]"
     ]
    },
    {
     "name": "stdout",
     "output_type": "stream",
     "text": [
      "[0.64808441 0.98903431 0.12958243 0.22914276]\n",
      "2\n",
      "(0.9767551901579228, 0.02736318407960199, 0.8461538461538461, 0.05301204819277108)\n"
     ]
    },
    {
     "name": "stderr",
     "output_type": "stream",
     "text": [
      "\r",
      " 49%|████▉     | 24/49 [01:15<01:02,  2.50s/it]"
     ]
    },
    {
     "name": "stdout",
     "output_type": "stream",
     "text": [
      "[0.9846809  0.04104478 0.84615385 0.07829181]\n",
      "2\n",
      "1\n",
      "(0.9828001631019017, 0.004291845493562232, 1.0, 0.008547008547008546)\n"
     ]
    },
    {
     "name": "stderr",
     "output_type": "stream",
     "text": [
      "\r",
      " 53%|█████▎    | 26/49 [01:17<00:45,  2.00s/it]"
     ]
    },
    {
     "name": "stdout",
     "output_type": "stream",
     "text": [
      "[0.99321644 0.01081081 1.         0.02139037]\n",
      "toto\n",
      "2\n",
      "(0.9491800526109587, 0.9440261044176707, 0.8459289248762933, 0.8922894424673783)\n"
     ]
    },
    {
     "name": "stderr",
     "output_type": "stream",
     "text": [
      "\r",
      " 55%|█████▌    | 27/49 [01:20<00:48,  2.19s/it]"
     ]
    },
    {
     "name": "stdout",
     "output_type": "stream",
     "text": [
      "[0.96227682 0.97315605 0.87246964 0.92006641]\n",
      "2\n",
      "(0.9803112215078901, 0.49081632653061225, 0.9232245681381958, 0.6409060626249168)\n"
     ]
    },
    {
     "name": "stderr",
     "output_type": "stream",
     "text": [
      "\r",
      " 57%|█████▋    | 28/49 [01:23<00:49,  2.38s/it]"
     ]
    },
    {
     "name": "stdout",
     "output_type": "stream",
     "text": [
      "[0.99170807 0.69864865 0.99232246 0.81998414]\n",
      "2\n",
      "(0.9740140429162019, 0.9489873610476626, 0.9903066899729859, 0.9692068429237947)\n"
     ]
    },
    {
     "name": "stderr",
     "output_type": "stream",
     "text": [
      "\r",
      " 59%|█████▉    | 29/49 [01:29<01:07,  3.36s/it]"
     ]
    },
    {
     "name": "stdout",
     "output_type": "stream",
     "text": [
      "[0.98110112 0.96015326 0.99555061 0.9775316 ]\n",
      "2\n",
      "(0.9918242830994509, 0.8808353808353808, 0.8074324324324325, 0.8425381903642772)\n"
     ]
    },
    {
     "name": "stderr",
     "output_type": "stream",
     "text": [
      "\r",
      " 61%|██████    | 30/49 [01:32<01:00,  3.19s/it]"
     ]
    },
    {
     "name": "stdout",
     "output_type": "stream",
     "text": [
      "[0.99679683 0.9803681  0.89977477 0.9383441 ]\n",
      "2\n",
      "(0.981283937305041, 0.24878836833602586, 0.88, 0.3879093198992444)\n"
     ]
    },
    {
     "name": "stderr",
     "output_type": "stream",
     "text": [
      "\r",
      " 63%|██████▎   | 31/49 [01:35<00:54,  3.05s/it]"
     ]
    },
    {
     "name": "stdout",
     "output_type": "stream",
     "text": [
      "[0.98821581 0.36093418 0.97142857 0.52631579]\n",
      "2\n",
      "(0.9827053540147148, 0.6863084922010398, 0.8139773895169579, 0.7447108603667137)\n"
     ]
    },
    {
     "name": "stderr",
     "output_type": "stream",
     "text": [
      "\r",
      " 65%|██████▌   | 32/49 [01:38<00:51,  3.05s/it]"
     ]
    },
    {
     "name": "stdout",
     "output_type": "stream",
     "text": [
      "[0.98799248 0.77189781 0.86947585 0.81778637]\n",
      "2\n",
      "(0.9749178342847258, 0.2471042471042471, 0.7398843930635838, 0.3704775687409551)\n"
     ]
    },
    {
     "name": "stderr",
     "output_type": "stream",
     "text": [
      "\r",
      " 67%|██████▋   | 33/49 [01:40<00:46,  2.94s/it]"
     ]
    },
    {
     "name": "stdout",
     "output_type": "stream",
     "text": [
      "[0.98754541 0.43768116 0.87283237 0.58301158]\n",
      "2\n",
      "(0.993844487122667, 0.0, nan, nan)\n"
     ]
    },
    {
     "name": "stderr",
     "output_type": "stream",
     "text": [
      "<ipython-input-11-686a1c9f481f>:11: RuntimeWarning: invalid value encountered in long_scalars\n",
      "  recall = tp / (tp + fn)\n",
      "<ipython-input-15-6cd60cc1786d>:10: RuntimeWarning: invalid value encountered in long_scalars\n",
      "  recall = tp / (tp + fn)\n",
      "<ipython-input-15-6cd60cc1786d>:9: RuntimeWarning: invalid value encountered in long_scalars\n",
      "  precision = tp / (tp + fp)\n",
      "<ipython-input-15-6cd60cc1786d>:10: RuntimeWarning: invalid value encountered in long_scalars\n",
      "  recall = tp / (tp + fn)\n",
      " 69%|██████▉   | 34/49 [01:43<00:41,  2.79s/it]"
     ]
    },
    {
     "name": "stdout",
     "output_type": "stream",
     "text": [
      "[0.99940907 0.                nan        nan]\n",
      "1\n",
      "(0.9873899119295436, 0.9710144927536232, 0.694300518134715, 0.809667673716012)\n"
     ]
    },
    {
     "name": "stderr",
     "output_type": "stream",
     "text": [
      "\r",
      " 71%|███████▏  | 35/49 [01:45<00:37,  2.67s/it]"
     ]
    },
    {
     "name": "stdout",
     "output_type": "stream",
     "text": [
      "[0.99479584 0.97714286 0.88601036 0.92934783]\n",
      "2\n",
      "(0.9992688002699814, 0.5517241379310345, 1.0, 0.7111111111111111)\n"
     ]
    },
    {
     "name": "stderr",
     "output_type": "stream",
     "text": [
      "\r",
      " 73%|███████▎  | 36/49 [01:48<00:33,  2.58s/it]"
     ]
    },
    {
     "name": "stdout",
     "output_type": "stream",
     "text": [
      "[1. 1. 1. 1.]\n",
      "toto\n",
      "2\n",
      "(0.9988877766655544, 0.375, 1.0, 0.5454545454545454)\n"
     ]
    },
    {
     "name": "stderr",
     "output_type": "stream",
     "text": [
      "\r",
      " 76%|███████▌  | 37/49 [01:50<00:30,  2.50s/it]"
     ]
    },
    {
     "name": "stdout",
     "output_type": "stream",
     "text": [
      "[0.99988878 0.85714286 1.         0.92307692]\n",
      "toto\n",
      "2\n",
      "(0.9982219673071409, 0.4444444444444444, 0.8311688311688312, 0.5791855203619909)\n"
     ]
    },
    {
     "name": "stderr",
     "output_type": "stream",
     "text": [
      "\r",
      " 78%|███████▊  | 38/49 [01:53<00:28,  2.60s/it]"
     ]
    },
    {
     "name": "stdout",
     "output_type": "stream",
     "text": [
      "[0.9975337  0.37254902 0.98701299 0.54092527]\n",
      "2\n",
      "(0.9025581336504643, 0.9433218960477824, 0.6855374953823421, 0.7940311279884472)\n"
     ]
    },
    {
     "name": "stderr",
     "output_type": "stream",
     "text": [
      "\r",
      " 80%|███████▉  | 39/49 [01:56<00:28,  2.82s/it]"
     ]
    },
    {
     "name": "stdout",
     "output_type": "stream",
     "text": [
      "[0.98572911 0.97704034 0.97072405 0.97387195]\n",
      "2\n",
      "(0.997935397935398, 0.06060606060606061, 1.0, 0.1142857142857143)\n"
     ]
    },
    {
     "name": "stderr",
     "output_type": "stream",
     "text": [
      "\r",
      " 82%|████████▏ | 40/49 [01:58<00:24,  2.69s/it]"
     ]
    },
    {
     "name": "stdout",
     "output_type": "stream",
     "text": [
      "[0.9999334  1.         0.5        0.66666667]\n",
      "toto\n",
      "2\n",
      "(0.9958406823386948, 0.5596026490066225, 0.8711340206185567, 0.6814516129032258)\n"
     ]
    },
    {
     "name": "stderr",
     "output_type": "stream",
     "text": [
      "\r",
      " 84%|████████▎ | 41/49 [02:01<00:21,  2.70s/it]"
     ]
    },
    {
     "name": "stdout",
     "output_type": "stream",
     "text": [
      "[0.99923658 0.87330317 0.99484536 0.93012048]\n",
      "2\n",
      "(0.9619360902255639, 0.765983860955928, 0.740251949610078, 0.7528981086028066)\n"
     ]
    },
    {
     "name": "stderr",
     "output_type": "stream",
     "text": [
      "\r",
      " 86%|████████▌ | 42/49 [02:04<00:18,  2.70s/it]"
     ]
    },
    {
     "name": "stdout",
     "output_type": "stream",
     "text": [
      "[0.99219925 0.93057946 0.9730054  0.95131965]\n",
      "2\n",
      "(0.9933752898310699, 0.5658536585365853, 0.9133858267716536, 0.6987951807228915)\n"
     ]
    },
    {
     "name": "stderr",
     "output_type": "stream",
     "text": [
      "\r",
      " 88%|████████▊ | 43/49 [02:06<00:15,  2.63s/it]"
     ]
    },
    {
     "name": "stdout",
     "output_type": "stream",
     "text": [
      "[0.99509771 0.63451777 0.98425197 0.77160494]\n",
      "2\n",
      "(0.9773325849488365, 0.8511659807956105, 0.8011620400258231, 0.8254073827735283)\n"
     ]
    },
    {
     "name": "stderr",
     "output_type": "stream",
     "text": [
      "\r",
      " 90%|████████▉ | 44/49 [02:09<00:13,  2.61s/it]"
     ]
    },
    {
     "name": "stdout",
     "output_type": "stream",
     "text": [
      "[0.98488839 0.95520121 0.81213686 0.87787858]\n",
      "2\n",
      "(0.9571707170717072, 0.8612040133779264, 0.5134596211365903, 0.6433479075577764)\n"
     ]
    },
    {
     "name": "stderr",
     "output_type": "stream",
     "text": [
      "\r",
      " 92%|█████████▏| 45/49 [02:12<00:10,  2.61s/it]"
     ]
    },
    {
     "name": "stdout",
     "output_type": "stream",
     "text": [
      "[0.97232223 0.96755162 0.65403789 0.7804878 ]\n",
      "2\n",
      "(0.9879376976226725, 0.21774193548387097, 0.8181818181818182, 0.3439490445859873)\n"
     ]
    },
    {
     "name": "stderr",
     "output_type": "stream",
     "text": [
      "\r",
      " 94%|█████████▍| 46/49 [02:14<00:07,  2.54s/it]"
     ]
    },
    {
     "name": "stdout",
     "output_type": "stream",
     "text": [
      "[0.99789202 0.64705882 1.         0.78571429]\n",
      "2\n",
      "(0.9979132996460792, 0.09090909090909091, 0.8333333333333334, 0.16393442622950818)\n"
     ]
    },
    {
     "name": "stderr",
     "output_type": "stream",
     "text": [
      "\r",
      " 96%|█████████▌| 47/49 [02:17<00:05,  2.57s/it]"
     ]
    },
    {
     "name": "stdout",
     "output_type": "stream",
     "text": [
      "[0.99965222 0.4        0.83333333 0.54054054]\n",
      "toto\n",
      "2\n",
      "(0.9994884256298759, 0.058823529411764705, 1.0, 0.1111111111111111)\n"
     ]
    },
    {
     "name": "stderr",
     "output_type": "stream",
     "text": [
      "\r",
      " 98%|█████████▊| 48/49 [02:19<00:02,  2.68s/it]"
     ]
    },
    {
     "name": "stdout",
     "output_type": "stream",
     "text": [
      "[0.9997229  0.10344828 1.         0.1875    ]\n",
      "toto\n",
      "2\n",
      "(0.9977407291991275, 0.34146341463414637, 0.875, 0.4912280701754386)\n"
     ]
    },
    {
     "name": "stderr",
     "output_type": "stream",
     "text": [
      "100%|██████████| 49/49 [02:22<00:00,  2.91s/it]\n"
     ]
    },
    {
     "name": "stdout",
     "output_type": "stream",
     "text": [
      "[0.99961047 0.78947368 0.9375     0.85714286]\n",
      "toto\n",
      "2\n"
     ]
    },
    {
     "name": "stderr",
     "output_type": "stream",
     "text": [
      "\r",
      "  0%|          | 0/49 [00:00<?, ?it/s]"
     ]
    },
    {
     "name": "stdout",
     "output_type": "stream",
     "text": [
      "(0.9961693787860791, 0.051470588235294115, 1.0, 0.09790209790209789)\n"
     ]
    },
    {
     "name": "stderr",
     "output_type": "stream",
     "text": [
      "\r",
      "  2%|▏         | 1/49 [00:02<02:05,  2.61s/it]"
     ]
    },
    {
     "name": "stdout",
     "output_type": "stream",
     "text": [
      "[0.99916855 0.16129032 0.71428571 0.26315789]\n",
      "2\n",
      "(0.9543660736657479, 0.02486559139784946, 0.8604651162790697, 0.04833442194644023)\n"
     ]
    },
    {
     "name": "stderr",
     "output_type": "stream",
     "text": [
      "\r",
      "  4%|▍         | 2/49 [00:05<02:04,  2.65s/it]"
     ]
    },
    {
     "name": "stdout",
     "output_type": "stream",
     "text": [
      "[0.98891255 0.10831234 1.         0.19545455]\n",
      "2\n"
     ]
    },
    {
     "name": "stderr",
     "output_type": "stream",
     "text": [
      "<ipython-input-11-686a1c9f481f>:11: RuntimeWarning: invalid value encountered in long_scalars\n",
      "  recall = tp / (tp + fn)\n"
     ]
    },
    {
     "name": "stdout",
     "output_type": "stream",
     "text": [
      "(0.9992343618405941, 0.0, nan, nan)\n"
     ]
    },
    {
     "name": "stderr",
     "output_type": "stream",
     "text": [
      "<ipython-input-15-6cd60cc1786d>:10: RuntimeWarning: invalid value encountered in long_scalars\n",
      "  recall = tp / (tp + fn)\n",
      "<ipython-input-15-6cd60cc1786d>:9: RuntimeWarning: invalid value encountered in long_scalars\n",
      "  precision = tp / (tp + fp)\n",
      "<ipython-input-15-6cd60cc1786d>:10: RuntimeWarning: invalid value encountered in long_scalars\n",
      "  recall = tp / (tp + fn)\n",
      "\r",
      "  6%|▌         | 3/49 [00:07<01:57,  2.55s/it]"
     ]
    },
    {
     "name": "stdout",
     "output_type": "stream",
     "text": [
      "[0.99996172 0.                nan        nan]\n",
      "1\n",
      "(0.9914596273291926, 0.05232558139534884, 0.8181818181818182, 0.09836065573770493)\n"
     ]
    },
    {
     "name": "stderr",
     "output_type": "stream",
     "text": [
      "\r",
      "  8%|▊         | 4/49 [00:10<01:54,  2.54s/it]"
     ]
    },
    {
     "name": "stdout",
     "output_type": "stream",
     "text": [
      "[0.99704969 0.15151515 0.90909091 0.25974026]\n",
      "2\n",
      "(0.9986819907212147, 0.2571428571428571, 0.2727272727272727, 0.2647058823529411)\n"
     ]
    },
    {
     "name": "stderr",
     "output_type": "stream",
     "text": [
      "\r",
      " 10%|█         | 5/49 [00:12<01:53,  2.57s/it]"
     ]
    },
    {
     "name": "stdout",
     "output_type": "stream",
     "text": [
      "[0.99897195 0.45833333 1.         0.62857143]\n",
      "2\n",
      "(0.9977522261606294, 0.7272727272727273, 0.8571428571428571, 0.7868852459016394)\n"
     ]
    },
    {
     "name": "stderr",
     "output_type": "stream",
     "text": [
      "\r",
      " 12%|█▏        | 6/49 [00:15<01:47,  2.50s/it]"
     ]
    },
    {
     "name": "stdout",
     "output_type": "stream",
     "text": [
      "[0.99775223 0.7027027  0.92857143 0.8       ]\n",
      "toto\n",
      "2\n",
      "1\n",
      "(0.6831753268058506, 0.9939989746991948, 0.6449227157112111, 0.782285721066559)\n",
      "[0.81472655 0.99643481 0.79291724 0.88310217]\n"
     ]
    },
    {
     "name": "stderr",
     "output_type": "stream",
     "text": [
      "\r",
      " 16%|█▋        | 8/49 [00:20<01:48,  2.64s/it]"
     ]
    },
    {
     "name": "stdout",
     "output_type": "stream",
     "text": [
      "2\n",
      "(0.9950438327693251, 0.07, 1.0, 0.13084112149532712)\n"
     ]
    },
    {
     "name": "stderr",
     "output_type": "stream",
     "text": [
      "\r",
      " 18%|█▊        | 9/49 [00:23<01:45,  2.64s/it]"
     ]
    },
    {
     "name": "stdout",
     "output_type": "stream",
     "text": [
      "[0.99853447 0.20289855 1.         0.3373494 ]\n",
      "2\n",
      "(0.9810315096410096, 0.783359497645212, 0.6892265193370166, 0.7332843497428361)\n"
     ]
    },
    {
     "name": "stderr",
     "output_type": "stream",
     "text": [
      "\r",
      " 20%|██        | 10/49 [00:26<01:42,  2.64s/it]"
     ]
    },
    {
     "name": "stdout",
     "output_type": "stream",
     "text": [
      "[0.99764853 0.95448461 0.98480663 0.96940857]\n",
      "2\n",
      "(0.9935795488013194, 0.9042553191489362, 0.4594594594594595, 0.6093189964157706)\n"
     ]
    },
    {
     "name": "stderr",
     "output_type": "stream",
     "text": [
      "\r",
      " 22%|██▏       | 11/49 [00:28<01:38,  2.59s/it]"
     ]
    },
    {
     "name": "stdout",
     "output_type": "stream",
     "text": [
      "[0.99605348 0.87341772 0.74594595 0.80466472]\n",
      "2\n",
      "(0.868702621196786, 0.9906226819129729, 0.8545917751322113, 0.9175930667461804)\n",
      "[0.88218041 0.99406409 0.8674386  0.92644461]\n"
     ]
    },
    {
     "name": "stderr",
     "output_type": "stream",
     "text": [
      "\r",
      " 24%|██▍       | 12/49 [00:40<03:16,  5.32s/it]"
     ]
    },
    {
     "name": "stdout",
     "output_type": "stream",
     "text": [
      "2\n",
      "(0.9826685660018993, 0.30303030303030304, 0.8823529411764706, 0.4511278195488722)\n"
     ]
    },
    {
     "name": "stderr",
     "output_type": "stream",
     "text": [
      "\r",
      " 27%|██▋       | 13/49 [00:43<02:40,  4.46s/it]"
     ]
    },
    {
     "name": "stdout",
     "output_type": "stream",
     "text": [
      "[0.99810066 0.86111111 0.91176471 0.88571429]\n",
      "2\n",
      "(0.7807787997587454, 0.9603685033895359, 0.49718785151856015, 0.6551836589487415)\n"
     ]
    },
    {
     "name": "stderr",
     "output_type": "stream",
     "text": [
      "\r",
      " 29%|██▊       | 14/49 [00:48<02:50,  4.87s/it]"
     ]
    },
    {
     "name": "stdout",
     "output_type": "stream",
     "text": [
      "[0.93661414 0.9793149  0.86699663 0.91973939]\n",
      "2\n",
      "(0.9342682332557258, 0.9581295245548817, 0.8304222486009836, 0.889716569767442)\n"
     ]
    },
    {
     "name": "stderr",
     "output_type": "stream",
     "text": [
      "\r",
      " 31%|███       | 15/49 [00:51<02:26,  4.32s/it]"
     ]
    },
    {
     "name": "stdout",
     "output_type": "stream",
     "text": [
      "[0.97736748 0.97257202 0.95607936 0.96425517]\n",
      "2\n",
      "(0.9990669593852909, 0.17073170731707318, 1.0, 0.2916666666666667)\n"
     ]
    },
    {
     "name": "stderr",
     "output_type": "stream",
     "text": [
      "\r",
      " 33%|███▎      | 16/49 [00:54<02:07,  3.86s/it]"
     ]
    },
    {
     "name": "stdout",
     "output_type": "stream",
     "text": [
      "[0.99962953 0.33333333 0.92857143 0.49056604]\n",
      "toto\n",
      "2\n",
      "(0.9856543561315454, 0.898456943753111, 0.9097782258064516, 0.9040821437515653)\n"
     ]
    },
    {
     "name": "stderr",
     "output_type": "stream",
     "text": [
      "\r",
      " 35%|███▍      | 17/49 [00:58<01:58,  3.71s/it]"
     ]
    },
    {
     "name": "stdout",
     "output_type": "stream",
     "text": [
      "[0.99022399 0.93753174 0.93044355 0.9339742 ]\n",
      "2\n",
      "(0.998028034438244, 0.8003597122302158, 0.8428030303030303, 0.8210332103321033)\n",
      "[0.99770276 0.72076023 0.93371212 0.81353135]\n"
     ]
    },
    {
     "name": "stderr",
     "output_type": "stream",
     "text": [
      "\r",
      " 37%|███▋      | 18/49 [01:01<01:50,  3.56s/it]"
     ]
    },
    {
     "name": "stdout",
     "output_type": "stream",
     "text": [
      "2\n",
      "(0.9673234176807675, 0.9884143348060874, 0.9181867931411893, 0.9520071871010449)\n"
     ]
    },
    {
     "name": "stderr",
     "output_type": "stream",
     "text": [
      "\r",
      " 39%|███▉      | 19/49 [01:04<01:44,  3.49s/it]"
     ]
    },
    {
     "name": "stdout",
     "output_type": "stream",
     "text": [
      "[0.97344022 0.99434422 0.93004378 0.96111975]\n",
      "2\n",
      "(0.9925283797729618, 0.9193154034229829, 0.7175572519083969, 0.8060021436227225)\n"
     ]
    },
    {
     "name": "stderr",
     "output_type": "stream",
     "text": [
      "\r",
      " 41%|████      | 20/49 [01:07<01:33,  3.21s/it]"
     ]
    },
    {
     "name": "stdout",
     "output_type": "stream",
     "text": [
      "[0.99682147 0.93737769 0.91412214 0.92560386]\n",
      "2\n",
      "1\n",
      "(0.9818433605170026, 0.20270270270270271, 1.0, 0.3370786516853933)\n"
     ]
    },
    {
     "name": "stderr",
     "output_type": "stream",
     "text": [
      "\r",
      " 45%|████▍     | 22/49 [01:09<01:01,  2.28s/it]"
     ]
    },
    {
     "name": "stdout",
     "output_type": "stream",
     "text": [
      "[0.99276812 0.38356164 0.93333333 0.54368932]\n",
      "2\n",
      "(0.8102925770727327, 0.9909840288511077, 0.5348750984844974, 0.6947596544562502)\n",
      "[0.6523683  0.98762215 0.14052    0.246034  ]\n"
     ]
    },
    {
     "name": "stderr",
     "output_type": "stream",
     "text": [
      "\r",
      " 47%|████▋     | 23/49 [01:12<01:04,  2.47s/it]"
     ]
    },
    {
     "name": "stdout",
     "output_type": "stream",
     "text": [
      "2\n",
      "(0.9767551901579228, 0.02736318407960199, 0.8461538461538461, 0.05301204819277108)\n"
     ]
    },
    {
     "name": "stderr",
     "output_type": "stream",
     "text": [
      "\r",
      " 49%|████▉     | 24/49 [01:15<01:02,  2.50s/it]"
     ]
    },
    {
     "name": "stdout",
     "output_type": "stream",
     "text": [
      "[0.9858047  0.04048583 0.76923077 0.07692308]\n",
      "2\n",
      "1\n",
      "(0.9828001631019017, 0.004291845493562232, 1.0, 0.008547008547008546)\n"
     ]
    },
    {
     "name": "stderr",
     "output_type": "stream",
     "text": [
      "<ipython-input-15-6cd60cc1786d>:9: RuntimeWarning: invalid value encountered in long_scalars\n",
      "  precision = tp / (tp + fp)\n",
      "\r",
      " 53%|█████▎    | 26/49 [01:17<00:46,  2.00s/it]"
     ]
    },
    {
     "name": "stdout",
     "output_type": "stream",
     "text": [
      "[0.99262335 0.00995025 1.         0.01970443]\n",
      "2\n",
      "(0.9491800526109587, 0.9440261044176707, 0.8459289248762933, 0.8922894424673783)\n"
     ]
    },
    {
     "name": "stderr",
     "output_type": "stream",
     "text": [
      "\r",
      " 55%|█████▌    | 27/49 [01:20<00:48,  2.20s/it]"
     ]
    },
    {
     "name": "stdout",
     "output_type": "stream",
     "text": [
      "[0.9670342  0.97255575 0.89271255 0.9309253 ]\n",
      "2\n",
      "(0.9803112215078901, 0.49081632653061225, 0.9232245681381958, 0.6409060626249168)\n"
     ]
    },
    {
     "name": "stderr",
     "output_type": "stream",
     "text": [
      "\r",
      " 57%|█████▋    | 28/49 [01:23<00:50,  2.39s/it]"
     ]
    },
    {
     "name": "stdout",
     "output_type": "stream",
     "text": [
      "[0.99134278 0.68933333 0.99232246 0.81353265]\n",
      "2\n",
      "(0.9740140429162019, 0.9489873610476626, 0.9903066899729859, 0.9692068429237947)\n"
     ]
    },
    {
     "name": "stderr",
     "output_type": "stream",
     "text": [
      "\r",
      " 59%|█████▉    | 29/49 [01:29<01:07,  3.37s/it]"
     ]
    },
    {
     "name": "stdout",
     "output_type": "stream",
     "text": [
      "[0.98090426 0.9594305  0.99586843 0.97730994]\n",
      "2\n",
      "(0.9918242830994509, 0.8808353808353808, 0.8074324324324325, 0.8425381903642772)\n"
     ]
    },
    {
     "name": "stderr",
     "output_type": "stream",
     "text": [
      "\r",
      " 61%|██████    | 30/49 [01:32<01:00,  3.20s/it]"
     ]
    },
    {
     "name": "stdout",
     "output_type": "stream",
     "text": [
      "[0.99670531 0.98029557 0.8963964  0.93647059]\n",
      "2\n",
      "(0.981283937305041, 0.24878836833602586, 0.88, 0.3879093198992444)\n"
     ]
    },
    {
     "name": "stderr",
     "output_type": "stream",
     "text": [
      "\r",
      " 63%|██████▎   | 31/49 [01:35<00:54,  3.05s/it]"
     ]
    },
    {
     "name": "stdout",
     "output_type": "stream",
     "text": [
      "[0.99006431 0.40047962 0.95428571 0.56418919]\n",
      "2\n",
      "(0.9827053540147148, 0.6863084922010398, 0.8139773895169579, 0.7447108603667137)\n"
     ]
    },
    {
     "name": "stderr",
     "output_type": "stream",
     "text": [
      "\r",
      " 65%|██████▌   | 32/49 [01:38<00:52,  3.07s/it]"
     ]
    },
    {
     "name": "stdout",
     "output_type": "stream",
     "text": [
      "[0.98843839 0.78345725 0.8663926  0.82284041]\n",
      "2\n",
      "(0.9749178342847258, 0.2471042471042471, 0.7398843930635838, 0.3704775687409551)\n"
     ]
    },
    {
     "name": "stderr",
     "output_type": "stream",
     "text": [
      "\r",
      " 67%|██████▋   | 33/49 [01:40<00:47,  2.94s/it]"
     ]
    },
    {
     "name": "stdout",
     "output_type": "stream",
     "text": [
      "[0.98748775 0.43641618 0.87283237 0.58188825]\n",
      "2\n",
      "(0.993844487122667, 0.0, nan, nan)\n"
     ]
    },
    {
     "name": "stderr",
     "output_type": "stream",
     "text": [
      "<ipython-input-11-686a1c9f481f>:11: RuntimeWarning: invalid value encountered in long_scalars\n",
      "  recall = tp / (tp + fn)\n",
      "<ipython-input-15-6cd60cc1786d>:10: RuntimeWarning: invalid value encountered in long_scalars\n",
      "  recall = tp / (tp + fn)\n",
      "<ipython-input-15-6cd60cc1786d>:9: RuntimeWarning: invalid value encountered in long_scalars\n",
      "  precision = tp / (tp + fp)\n",
      "<ipython-input-15-6cd60cc1786d>:10: RuntimeWarning: invalid value encountered in long_scalars\n",
      "  recall = tp / (tp + fn)\n",
      " 69%|██████▉   | 34/49 [01:43<00:41,  2.79s/it]"
     ]
    },
    {
     "name": "stdout",
     "output_type": "stream",
     "text": [
      "[0.9995568 0.              nan       nan]\n",
      "1\n",
      "(0.9873899119295436, 0.9710144927536232, 0.694300518134715, 0.809667673716012)\n"
     ]
    },
    {
     "name": "stderr",
     "output_type": "stream",
     "text": [
      "\r",
      " 71%|███████▏  | 35/49 [01:45<00:37,  2.66s/it]"
     ]
    },
    {
     "name": "stdout",
     "output_type": "stream",
     "text": [
      "[0.99479584 0.97714286 0.88601036 0.92934783]\n",
      "2\n",
      "(0.9992688002699814, 0.5517241379310345, 1.0, 0.7111111111111111)\n"
     ]
    },
    {
     "name": "stderr",
     "output_type": "stream",
     "text": [
      "\r",
      " 73%|███████▎  | 36/49 [01:48<00:33,  2.57s/it]"
     ]
    },
    {
     "name": "stdout",
     "output_type": "stream",
     "text": [
      "[1. 1. 1. 1.]\n",
      "toto\n",
      "2\n",
      "(0.9988877766655544, 0.375, 1.0, 0.5454545454545454)\n"
     ]
    },
    {
     "name": "stderr",
     "output_type": "stream",
     "text": [
      "\r",
      " 76%|███████▌  | 37/49 [01:50<00:29,  2.50s/it]"
     ]
    },
    {
     "name": "stdout",
     "output_type": "stream",
     "text": [
      "[0.99988878 0.85714286 1.         0.92307692]\n",
      "toto\n",
      "2\n",
      "(0.9982219673071409, 0.4444444444444444, 0.8311688311688312, 0.5791855203619909)\n"
     ]
    },
    {
     "name": "stderr",
     "output_type": "stream",
     "text": [
      "\r",
      " 78%|███████▊  | 38/49 [01:53<00:28,  2.59s/it]"
     ]
    },
    {
     "name": "stdout",
     "output_type": "stream",
     "text": [
      "[0.99801166 0.42458101 0.98701299 0.59375   ]\n",
      "2\n",
      "(0.9025581336504643, 0.9433218960477824, 0.6855374953823421, 0.7940311279884472)\n"
     ]
    },
    {
     "name": "stderr",
     "output_type": "stream",
     "text": [
      "\r",
      " 80%|███████▉  | 39/49 [01:56<00:28,  2.82s/it]"
     ]
    },
    {
     "name": "stdout",
     "output_type": "stream",
     "text": [
      "[0.98689304 0.97873328 0.97330994 0.97601408]\n",
      "2\n",
      "(0.997935397935398, 0.06060606060606061, 1.0, 0.1142857142857143)\n"
     ]
    },
    {
     "name": "stderr",
     "output_type": "stream",
     "text": [
      "\r",
      " 82%|████████▏ | 40/49 [01:58<00:24,  2.69s/it]"
     ]
    },
    {
     "name": "stdout",
     "output_type": "stream",
     "text": [
      "[0.9999334  1.         0.5        0.66666667]\n",
      "toto\n",
      "2\n",
      "(0.9958406823386948, 0.5596026490066225, 0.8711340206185567, 0.6814516129032258)\n"
     ]
    },
    {
     "name": "stderr",
     "output_type": "stream",
     "text": [
      "\r",
      " 84%|████████▎ | 41/49 [02:01<00:21,  2.71s/it]"
     ]
    },
    {
     "name": "stdout",
     "output_type": "stream",
     "text": [
      "[0.99942085 0.90186916 0.99484536 0.94607843]\n",
      "2\n",
      "(0.9619360902255639, 0.765983860955928, 0.740251949610078, 0.7528981086028066)\n"
     ]
    },
    {
     "name": "stderr",
     "output_type": "stream",
     "text": [
      "\r",
      " 86%|████████▌ | 42/49 [02:04<00:18,  2.69s/it]"
     ]
    },
    {
     "name": "stdout",
     "output_type": "stream",
     "text": [
      "[0.99224624 0.930126   0.97420516 0.95165544]\n",
      "2\n",
      "(0.9933752898310699, 0.5658536585365853, 0.9133858267716536, 0.6987951807228915)\n"
     ]
    },
    {
     "name": "stderr",
     "output_type": "stream",
     "text": [
      "\r",
      " 88%|████████▊ | 43/49 [02:06<00:15,  2.62s/it]"
     ]
    },
    {
     "name": "stdout",
     "output_type": "stream",
     "text": [
      "[0.99542895 0.65104167 0.98425197 0.78369906]\n",
      "2\n",
      "(0.9773325849488365, 0.8511659807956105, 0.8011620400258231, 0.8254073827735283)\n"
     ]
    },
    {
     "name": "stderr",
     "output_type": "stream",
     "text": [
      "\r",
      " 90%|████████▉ | 44/49 [02:09<00:13,  2.61s/it]"
     ]
    },
    {
     "name": "stdout",
     "output_type": "stream",
     "text": [
      "[0.98462933 0.95292331 0.81020013 0.87578507]\n",
      "2\n",
      "(0.9571707170717072, 0.8612040133779264, 0.5134596211365903, 0.6433479075577764)\n"
     ]
    },
    {
     "name": "stderr",
     "output_type": "stream",
     "text": [
      "\r",
      " 92%|█████████▏| 45/49 [02:11<00:10,  2.62s/it]"
     ]
    },
    {
     "name": "stdout",
     "output_type": "stream",
     "text": [
      "[0.97172217 0.96996997 0.6440678  0.77411624]\n",
      "2\n",
      "(0.9879376976226725, 0.21774193548387097, 0.8181818181818182, 0.3439490445859873)\n"
     ]
    },
    {
     "name": "stderr",
     "output_type": "stream",
     "text": [
      "\r",
      " 94%|█████████▍| 46/49 [02:14<00:07,  2.55s/it]"
     ]
    },
    {
     "name": "stdout",
     "output_type": "stream",
     "text": [
      "[0.99859468 0.73333333 1.         0.84615385]\n",
      "2\n",
      "(0.9979132996460792, 0.09090909090909091, 0.8333333333333334, 0.16393442622950818)\n"
     ]
    },
    {
     "name": "stderr",
     "output_type": "stream",
     "text": [
      "\r",
      " 96%|█████████▌| 47/49 [02:16<00:05,  2.57s/it]"
     ]
    },
    {
     "name": "stdout",
     "output_type": "stream",
     "text": [
      "[0.99963176 0.38461538 0.83333333 0.52631579]\n",
      "toto\n",
      "2\n",
      "(0.9994884256298759, 0.058823529411764705, 1.0, 0.1111111111111111)\n",
      "[0.99985079 0.17647059 1.         0.3       ]\n"
     ]
    },
    {
     "name": "stderr",
     "output_type": "stream",
     "text": [
      "\r",
      " 98%|█████████▊| 48/49 [02:20<00:02,  2.73s/it]"
     ]
    },
    {
     "name": "stdout",
     "output_type": "stream",
     "text": [
      "2\n",
      "(0.9977407291991275, 0.34146341463414637, 0.875, 0.4912280701754386)\n"
     ]
    },
    {
     "name": "stderr",
     "output_type": "stream",
     "text": [
      "100%|██████████| 49/49 [02:22<00:00,  2.91s/it]\n"
     ]
    },
    {
     "name": "stdout",
     "output_type": "stream",
     "text": [
      "[0.99968838 0.83333333 0.9375     0.88235294]\n",
      "toto\n",
      "2\n"
     ]
    },
    {
     "name": "stderr",
     "output_type": "stream",
     "text": [
      "\r",
      "  0%|          | 0/49 [00:00<?, ?it/s]"
     ]
    },
    {
     "name": "stdout",
     "output_type": "stream",
     "text": [
      "(0.9961693787860791, 0.051470588235294115, 1.0, 0.09790209790209789)\n"
     ]
    },
    {
     "name": "stderr",
     "output_type": "stream",
     "text": [
      "\r",
      "  2%|▏         | 1/49 [00:02<02:05,  2.62s/it]"
     ]
    },
    {
     "name": "stdout",
     "output_type": "stream",
     "text": [
      "[0.99934672 0.2        0.71428571 0.3125    ]\n",
      "2\n",
      "(0.9543660736657479, 0.02486559139784946, 0.8604651162790697, 0.04833442194644023)\n"
     ]
    },
    {
     "name": "stderr",
     "output_type": "stream",
     "text": [
      "\r",
      "  4%|▍         | 2/49 [00:05<02:04,  2.64s/it]"
     ]
    },
    {
     "name": "stdout",
     "output_type": "stream",
     "text": [
      "[0.98925708 0.11139896 1.         0.2004662 ]\n",
      "2\n"
     ]
    },
    {
     "name": "stderr",
     "output_type": "stream",
     "text": [
      "<ipython-input-11-686a1c9f481f>:11: RuntimeWarning: invalid value encountered in long_scalars\n",
      "  recall = tp / (tp + fn)\n"
     ]
    },
    {
     "name": "stdout",
     "output_type": "stream",
     "text": [
      "(0.9992343618405941, 0.0, nan, nan)\n"
     ]
    },
    {
     "name": "stderr",
     "output_type": "stream",
     "text": [
      "<ipython-input-15-6cd60cc1786d>:10: RuntimeWarning: invalid value encountered in long_scalars\n",
      "  recall = tp / (tp + fn)\n",
      "<ipython-input-15-6cd60cc1786d>:9: RuntimeWarning: invalid value encountered in long_scalars\n",
      "  precision = tp / (tp + fp)\n",
      "<ipython-input-15-6cd60cc1786d>:10: RuntimeWarning: invalid value encountered in long_scalars\n",
      "  recall = tp / (tp + fn)\n",
      "\r",
      "  6%|▌         | 3/49 [00:07<01:57,  2.55s/it]"
     ]
    },
    {
     "name": "stdout",
     "output_type": "stream",
     "text": [
      "[0.99996172 0.                nan        nan]\n",
      "1\n",
      "(0.9914596273291926, 0.05232558139534884, 0.8181818181818182, 0.09836065573770493)\n"
     ]
    },
    {
     "name": "stderr",
     "output_type": "stream",
     "text": [
      "\r",
      "  8%|▊         | 4/49 [00:10<01:54,  2.54s/it]"
     ]
    },
    {
     "name": "stdout",
     "output_type": "stream",
     "text": [
      "[0.99648033 0.13924051 1.         0.24444444]\n",
      "2\n",
      "(0.9986819907212147, 0.2571428571428571, 0.2727272727272727, 0.2647058823529411)\n"
     ]
    },
    {
     "name": "stderr",
     "output_type": "stream",
     "text": [
      "\r",
      " 10%|█         | 5/49 [00:12<01:53,  2.57s/it]"
     ]
    },
    {
     "name": "stdout",
     "output_type": "stream",
     "text": [
      "[0.99920919 0.52380952 1.         0.6875    ]\n",
      "2\n",
      "(0.9977522261606294, 0.7272727272727273, 0.8571428571428571, 0.7868852459016394)\n"
     ]
    },
    {
     "name": "stderr",
     "output_type": "stream",
     "text": [
      "\r",
      " 12%|█▏        | 6/49 [00:15<01:47,  2.51s/it]"
     ]
    },
    {
     "name": "stdout",
     "output_type": "stream",
     "text": [
      "[0.99749287 0.67088608 0.94642857 0.78518519]\n",
      "toto\n",
      "2\n",
      "1\n",
      "(0.6831753268058506, 0.9939989746991948, 0.6449227157112111, 0.782285721066559)\n",
      "[0.80854444 0.99483198 0.78716494 0.8788981 ]\n"
     ]
    },
    {
     "name": "stderr",
     "output_type": "stream",
     "text": [
      "\r",
      " 16%|█▋        | 8/49 [00:20<01:48,  2.64s/it]"
     ]
    },
    {
     "name": "stdout",
     "output_type": "stream",
     "text": [
      "2\n",
      "(0.9950438327693251, 0.07, 1.0, 0.13084112149532712)\n"
     ]
    },
    {
     "name": "stderr",
     "output_type": "stream",
     "text": [
      "\r",
      " 18%|█▊        | 9/49 [00:23<01:46,  2.65s/it]"
     ]
    },
    {
     "name": "stdout",
     "output_type": "stream",
     "text": [
      "[0.99853447 0.20289855 1.         0.3373494 ]\n",
      "2\n",
      "(0.9810315096410096, 0.783359497645212, 0.6892265193370166, 0.7332843497428361)\n"
     ]
    },
    {
     "name": "stderr",
     "output_type": "stream",
     "text": [
      "\r",
      " 20%|██        | 10/49 [00:26<01:42,  2.64s/it]"
     ]
    },
    {
     "name": "stdout",
     "output_type": "stream",
     "text": [
      "[0.99754402 0.95073236 0.98618785 0.96813559]\n",
      "2\n",
      "(0.9935795488013194, 0.9042553191489362, 0.4594594594594595, 0.6093189964157706)\n"
     ]
    },
    {
     "name": "stderr",
     "output_type": "stream",
     "text": [
      "\r",
      " 22%|██▏       | 11/49 [00:28<01:38,  2.59s/it]"
     ]
    },
    {
     "name": "stdout",
     "output_type": "stream",
     "text": [
      "[0.99605348 0.87341772 0.74594595 0.80466472]\n",
      "2\n",
      "(0.868702621196786, 0.9906226819129729, 0.8545917751322113, 0.9175930667461804)\n",
      "[0.87585979 0.99463462 0.85950593 0.92214623]\n"
     ]
    },
    {
     "name": "stderr",
     "output_type": "stream",
     "text": [
      "\r",
      " 24%|██▍       | 12/49 [00:40<03:16,  5.32s/it]"
     ]
    },
    {
     "name": "stdout",
     "output_type": "stream",
     "text": [
      "2\n",
      "(0.9826685660018993, 0.30303030303030304, 0.8823529411764706, 0.4511278195488722)\n"
     ]
    },
    {
     "name": "stderr",
     "output_type": "stream",
     "text": [
      "\r",
      " 27%|██▋       | 13/49 [00:43<02:40,  4.47s/it]"
     ]
    },
    {
     "name": "stdout",
     "output_type": "stream",
     "text": [
      "[0.9985755  0.88888889 0.94117647 0.91428571]\n",
      "2\n",
      "(0.7807787997587454, 0.9603685033895359, 0.49718785151856015, 0.6551836589487415)\n"
     ]
    },
    {
     "name": "stderr",
     "output_type": "stream",
     "text": [
      "\r",
      " 29%|██▊       | 14/49 [00:48<02:50,  4.88s/it]"
     ]
    },
    {
     "name": "stdout",
     "output_type": "stream",
     "text": [
      "[0.92264777 0.97684332 0.83514061 0.90045117]\n",
      "2\n",
      "(0.9342682332557258, 0.9581295245548817, 0.8304222486009836, 0.889716569767442)\n"
     ]
    },
    {
     "name": "stderr",
     "output_type": "stream",
     "text": [
      "\r",
      " 31%|███       | 15/49 [00:52<02:27,  4.34s/it]"
     ]
    },
    {
     "name": "stdout",
     "output_type": "stream",
     "text": [
      "[0.96805458 0.97156567 0.92708157 0.9488025 ]\n",
      "2\n",
      "(0.9990669593852909, 0.17073170731707318, 1.0, 0.2916666666666667)\n"
     ]
    },
    {
     "name": "stderr",
     "output_type": "stream",
     "text": [
      "\r",
      " 33%|███▎      | 16/49 [00:54<02:08,  3.88s/it]"
     ]
    },
    {
     "name": "stdout",
     "output_type": "stream",
     "text": [
      "[0.99957464 0.30232558 0.92857143 0.45614035]\n",
      "toto\n",
      "2\n",
      "(0.9856543561315454, 0.898456943753111, 0.9097782258064516, 0.9040821437515653)\n"
     ]
    },
    {
     "name": "stderr",
     "output_type": "stream",
     "text": [
      "\r",
      " 35%|███▍      | 17/49 [00:58<01:59,  3.72s/it]"
     ]
    },
    {
     "name": "stdout",
     "output_type": "stream",
     "text": [
      "[0.99037381 0.93988793 0.92993952 0.93488726]\n",
      "2\n",
      "(0.998028034438244, 0.8003597122302158, 0.8428030303030303, 0.8210332103321033)\n",
      "[0.99750963 0.70070922 0.93560606 0.80129765]\n"
     ]
    },
    {
     "name": "stderr",
     "output_type": "stream",
     "text": [
      "\r",
      " 37%|███▋      | 18/49 [01:01<01:50,  3.57s/it]"
     ]
    },
    {
     "name": "stdout",
     "output_type": "stream",
     "text": [
      "2\n",
      "(0.9673234176807675, 0.9884143348060874, 0.9181867931411893, 0.9520071871010449)\n"
     ]
    },
    {
     "name": "stderr",
     "output_type": "stream",
     "text": [
      "\r",
      " 39%|███▉      | 19/49 [01:04<01:45,  3.50s/it]"
     ]
    },
    {
     "name": "stdout",
     "output_type": "stream",
     "text": [
      "[0.97797952 0.98952381 0.94764684 0.96813269]\n",
      "2\n",
      "(0.9925283797729618, 0.9193154034229829, 0.7175572519083969, 0.8060021436227225)\n"
     ]
    },
    {
     "name": "stderr",
     "output_type": "stream",
     "text": [
      "\r",
      " 41%|████      | 20/49 [01:07<01:33,  3.22s/it]"
     ]
    },
    {
     "name": "stdout",
     "output_type": "stream",
     "text": [
      "[0.99686275 0.94621514 0.90648855 0.92592593]\n",
      "2\n",
      "1\n",
      "(0.9818433605170026, 0.20270270270270271, 1.0, 0.3370786516853933)\n"
     ]
    },
    {
     "name": "stderr",
     "output_type": "stream",
     "text": [
      "\r",
      " 45%|████▍     | 22/49 [01:09<01:01,  2.29s/it]"
     ]
    },
    {
     "name": "stdout",
     "output_type": "stream",
     "text": [
      "[0.99261425 0.37837838 0.93333333 0.53846154]\n",
      "2\n",
      "(0.8102925770727327, 0.9909840288511077, 0.5348750984844974, 0.6947596544562502)\n",
      "[0.65609099 0.98511091 0.15025258 0.26073669]\n",
      "2\n"
     ]
    },
    {
     "name": "stderr",
     "output_type": "stream",
     "text": [
      "\r",
      " 47%|████▋     | 23/49 [01:12<01:04,  2.48s/it]"
     ]
    },
    {
     "name": "stdout",
     "output_type": "stream",
     "text": [
      "(0.9767551901579228, 0.02736318407960199, 0.8461538461538461, 0.05301204819277108)\n"
     ]
    },
    {
     "name": "stderr",
     "output_type": "stream",
     "text": [
      "\r",
      " 49%|████▉     | 24/49 [01:15<01:02,  2.50s/it]"
     ]
    },
    {
     "name": "stdout",
     "output_type": "stream",
     "text": [
      "[0.98497664 0.0418251  0.84615385 0.07971014]\n",
      "2\n",
      "1\n",
      "(0.9828001631019017, 0.004291845493562232, 1.0, 0.008547008547008546)\n"
     ]
    },
    {
     "name": "stderr",
     "output_type": "stream",
     "text": [
      "\r",
      " 53%|█████▎    | 26/49 [01:17<00:45,  2.00s/it]"
     ]
    },
    {
     "name": "stdout",
     "output_type": "stream",
     "text": [
      "[0.99355006 0.01136364 1.         0.02247191]\n",
      "toto\n",
      "2\n",
      "(0.9491800526109587, 0.9440261044176707, 0.8459289248762933, 0.8922894424673783)\n"
     ]
    },
    {
     "name": "stderr",
     "output_type": "stream",
     "text": [
      "\r",
      " 55%|█████▌    | 27/49 [01:20<00:48,  2.20s/it]"
     ]
    },
    {
     "name": "stdout",
     "output_type": "stream",
     "text": [
      "[0.95875077 0.97587888 0.85537562 0.91166247]\n",
      "2\n",
      "(0.9803112215078901, 0.49081632653061225, 0.9232245681381958, 0.6409060626249168)\n"
     ]
    },
    {
     "name": "stderr",
     "output_type": "stream",
     "text": [
      "\r",
      " 57%|█████▋    | 28/49 [01:23<00:50,  2.39s/it]"
     ]
    },
    {
     "name": "stdout",
     "output_type": "stream",
     "text": [
      "[0.99159848 0.69582773 0.99232246 0.81803797]\n",
      "2\n",
      "(0.9740140429162019, 0.9489873610476626, 0.9903066899729859, 0.9692068429237947)\n"
     ]
    },
    {
     "name": "stderr",
     "output_type": "stream",
     "text": [
      "\r",
      " 59%|█████▉    | 29/49 [01:29<01:07,  3.37s/it]"
     ]
    },
    {
     "name": "stdout",
     "output_type": "stream",
     "text": [
      "[0.98083864 0.95914308 0.99602733 0.97723729]\n",
      "2\n",
      "(0.9918242830994509, 0.8808353808353808, 0.8074324324324325, 0.8425381903642772)\n"
     ]
    },
    {
     "name": "stderr",
     "output_type": "stream",
     "text": [
      "\r",
      " 61%|██████    | 30/49 [01:32<01:00,  3.20s/it]"
     ]
    },
    {
     "name": "stdout",
     "output_type": "stream",
     "text": [
      "[0.99691885 0.98046398 0.90427928 0.94083187]\n",
      "2\n",
      "(0.981283937305041, 0.24878836833602586, 0.88, 0.3879093198992444)\n"
     ]
    },
    {
     "name": "stderr",
     "output_type": "stream",
     "text": [
      "\r",
      " 63%|██████▎   | 31/49 [01:35<00:55,  3.06s/it]"
     ]
    },
    {
     "name": "stdout",
     "output_type": "stream",
     "text": [
      "[0.99083452 0.42025316 0.94857143 0.58245614]\n",
      "2\n",
      "(0.9827053540147148, 0.6863084922010398, 0.8139773895169579, 0.7447108603667137)\n"
     ]
    },
    {
     "name": "stderr",
     "output_type": "stream",
     "text": [
      "\r",
      " 65%|██████▌   | 32/49 [01:38<00:52,  3.06s/it]"
     ]
    },
    {
     "name": "stdout",
     "output_type": "stream",
     "text": [
      "[0.98818358 0.77614679 0.86947585 0.82016481]\n",
      "2\n",
      "(0.9749178342847258, 0.2471042471042471, 0.7398843930635838, 0.3704775687409551)\n"
     ]
    },
    {
     "name": "stderr",
     "output_type": "stream",
     "text": [
      "\r",
      " 67%|██████▋   | 33/49 [01:41<00:47,  2.94s/it]"
     ]
    },
    {
     "name": "stdout",
     "output_type": "stream",
     "text": [
      "[0.98737243 0.43428571 0.87861272 0.58126195]\n",
      "2\n",
      "(0.993844487122667, 0.0, nan, nan)\n"
     ]
    },
    {
     "name": "stderr",
     "output_type": "stream",
     "text": [
      "<ipython-input-11-686a1c9f481f>:11: RuntimeWarning: invalid value encountered in long_scalars\n",
      "  recall = tp / (tp + fn)\n",
      "<ipython-input-15-6cd60cc1786d>:10: RuntimeWarning: invalid value encountered in long_scalars\n",
      "  recall = tp / (tp + fn)\n",
      "<ipython-input-15-6cd60cc1786d>:9: RuntimeWarning: invalid value encountered in long_scalars\n",
      "  precision = tp / (tp + fp)\n",
      "<ipython-input-15-6cd60cc1786d>:10: RuntimeWarning: invalid value encountered in long_scalars\n",
      "  recall = tp / (tp + fn)\n",
      " 69%|██████▉   | 34/49 [01:43<00:41,  2.79s/it]"
     ]
    },
    {
     "name": "stdout",
     "output_type": "stream",
     "text": [
      "[0.99911361 0.                nan        nan]\n",
      "1\n",
      "(0.9873899119295436, 0.9710144927536232, 0.694300518134715, 0.809667673716012)\n"
     ]
    },
    {
     "name": "stderr",
     "output_type": "stream",
     "text": [
      "\r",
      " 71%|███████▏  | 35/49 [01:45<00:37,  2.67s/it]"
     ]
    },
    {
     "name": "stdout",
     "output_type": "stream",
     "text": [
      "[0.99479584 0.97714286 0.88601036 0.92934783]\n",
      "2\n",
      "(0.9992688002699814, 0.5517241379310345, 1.0, 0.7111111111111111)\n"
     ]
    },
    {
     "name": "stderr",
     "output_type": "stream",
     "text": [
      "\r",
      " 73%|███████▎  | 36/49 [01:48<00:33,  2.57s/it]"
     ]
    },
    {
     "name": "stdout",
     "output_type": "stream",
     "text": [
      "[1. 1. 1. 1.]\n",
      "toto\n",
      "2\n",
      "(0.9988877766655544, 0.375, 1.0, 0.5454545454545454)\n"
     ]
    },
    {
     "name": "stderr",
     "output_type": "stream",
     "text": [
      "\r",
      " 76%|███████▌  | 37/49 [01:50<00:29,  2.50s/it]"
     ]
    },
    {
     "name": "stdout",
     "output_type": "stream",
     "text": [
      "[0.99988878 0.85714286 1.         0.92307692]\n",
      "toto\n",
      "2\n",
      "(0.9982219673071409, 0.4444444444444444, 0.8311688311688312, 0.5791855203619909)\n"
     ]
    },
    {
     "name": "stderr",
     "output_type": "stream",
     "text": [
      "\r",
      " 78%|███████▊  | 38/49 [01:53<00:28,  2.60s/it]"
     ]
    },
    {
     "name": "stdout",
     "output_type": "stream",
     "text": [
      "[0.99730427 0.35185185 0.98701299 0.51877133]\n",
      "2\n",
      "(0.9025581336504643, 0.9433218960477824, 0.6855374953823421, 0.7940311279884472)\n"
     ]
    },
    {
     "name": "stderr",
     "output_type": "stream",
     "text": [
      "\r",
      " 80%|███████▉  | 39/49 [01:56<00:28,  2.82s/it]"
     ]
    },
    {
     "name": "stdout",
     "output_type": "stream",
     "text": [
      "[0.98274335 0.97243435 0.96435168 0.96837615]\n",
      "2\n",
      "(0.997935397935398, 0.06060606060606061, 1.0, 0.1142857142857143)\n"
     ]
    },
    {
     "name": "stderr",
     "output_type": "stream",
     "text": [
      "\r",
      " 82%|████████▏ | 40/49 [01:59<00:24,  2.69s/it]"
     ]
    },
    {
     "name": "stdout",
     "output_type": "stream",
     "text": [
      "[0.9999334  1.         0.5        0.66666667]\n",
      "toto\n",
      "2\n",
      "(0.9958406823386948, 0.5596026490066225, 0.8711340206185567, 0.6814516129032258)\n"
     ]
    },
    {
     "name": "stderr",
     "output_type": "stream",
     "text": [
      "\r",
      " 84%|████████▎ | 41/49 [02:01<00:21,  2.70s/it]"
     ]
    },
    {
     "name": "stdout",
     "output_type": "stream",
     "text": [
      "[0.99915761 0.86160714 0.99484536 0.92344498]\n",
      "2\n",
      "(0.9619360902255639, 0.765983860955928, 0.740251949610078, 0.7528981086028066)\n"
     ]
    },
    {
     "name": "stderr",
     "output_type": "stream",
     "text": [
      "\r",
      " 86%|████████▌ | 42/49 [02:04<00:18,  2.70s/it]"
     ]
    },
    {
     "name": "stdout",
     "output_type": "stream",
     "text": [
      "[0.99172932 0.92478632 0.97360528 0.94856809]\n",
      "2\n",
      "(0.9933752898310699, 0.5658536585365853, 0.9133858267716536, 0.6987951807228915)\n"
     ]
    },
    {
     "name": "stderr",
     "output_type": "stream",
     "text": [
      "\r",
      " 88%|████████▊ | 43/49 [02:06<00:15,  2.63s/it]"
     ]
    },
    {
     "name": "stdout",
     "output_type": "stream",
     "text": [
      "[0.99595893 0.68539326 0.96062992 0.8       ]\n",
      "2\n",
      "(0.9773325849488365, 0.8511659807956105, 0.8011620400258231, 0.8254073827735283)\n"
     ]
    },
    {
     "name": "stderr",
     "output_type": "stream",
     "text": [
      "\r",
      " 90%|████████▉ | 44/49 [02:09<00:13,  2.61s/it]"
     ]
    },
    {
     "name": "stdout",
     "output_type": "stream",
     "text": [
      "[0.9843271  0.9568567  0.80180762 0.87249737]\n",
      "2\n",
      "(0.9571707170717072, 0.8612040133779264, 0.5134596211365903, 0.6433479075577764)\n"
     ]
    },
    {
     "name": "stderr",
     "output_type": "stream",
     "text": [
      "\r",
      " 92%|█████████▏| 45/49 [02:12<00:10,  2.61s/it]"
     ]
    },
    {
     "name": "stdout",
     "output_type": "stream",
     "text": [
      "[0.97209721 0.9715994  0.64805583 0.77751196]\n",
      "2\n",
      "(0.9879376976226725, 0.21774193548387097, 0.8181818181818182, 0.3439490445859873)\n"
     ]
    },
    {
     "name": "stderr",
     "output_type": "stream",
     "text": [
      "\r",
      " 94%|█████████▍| 46/49 [02:14<00:07,  2.55s/it]"
     ]
    },
    {
     "name": "stdout",
     "output_type": "stream",
     "text": [
      "[0.99800913 0.66       1.         0.79518072]\n",
      "2\n",
      "(0.9979132996460792, 0.09090909090909091, 0.8333333333333334, 0.16393442622950818)\n"
     ]
    },
    {
     "name": "stderr",
     "output_type": "stream",
     "text": [
      "\r",
      " 96%|█████████▌| 47/49 [02:17<00:05,  2.57s/it]"
     ]
    },
    {
     "name": "stdout",
     "output_type": "stream",
     "text": [
      "[0.99965222 0.4        0.83333333 0.54054054]\n",
      "toto\n",
      "2\n",
      "(0.9994884256298759, 0.058823529411764705, 1.0, 0.1111111111111111)\n"
     ]
    },
    {
     "name": "stderr",
     "output_type": "stream",
     "text": [
      "\r",
      " 98%|█████████▊| 48/49 [02:20<00:02,  2.68s/it]"
     ]
    },
    {
     "name": "stdout",
     "output_type": "stream",
     "text": [
      "[0.99971224 0.1        1.         0.18181818]\n",
      "toto\n",
      "2\n",
      "(0.9977407291991275, 0.34146341463414637, 0.875, 0.4912280701754386)\n"
     ]
    },
    {
     "name": "stderr",
     "output_type": "stream",
     "text": [
      "100%|██████████| 49/49 [02:22<00:00,  2.91s/it]\n"
     ]
    },
    {
     "name": "stdout",
     "output_type": "stream",
     "text": [
      "[0.99961047 0.78947368 0.9375     0.85714286]\n",
      "toto\n",
      "2\n"
     ]
    },
    {
     "name": "stderr",
     "output_type": "stream",
     "text": [
      "\r",
      "  0%|          | 0/49 [00:00<?, ?it/s]"
     ]
    },
    {
     "name": "stdout",
     "output_type": "stream",
     "text": [
      "(0.9961693787860791, 0.051470588235294115, 1.0, 0.09790209790209789)\n"
     ]
    },
    {
     "name": "stderr",
     "output_type": "stream",
     "text": [
      "\r",
      "  2%|▏         | 1/49 [00:02<02:05,  2.62s/it]"
     ]
    },
    {
     "name": "stdout",
     "output_type": "stream",
     "text": [
      "[0.99896068 0.15       0.85714286 0.25531915]\n",
      "2\n",
      "(0.9543660736657479, 0.02486559139784946, 0.8604651162790697, 0.04833442194644023)\n"
     ]
    },
    {
     "name": "stderr",
     "output_type": "stream",
     "text": [
      "\r",
      "  4%|▍         | 2/49 [00:05<02:04,  2.65s/it]"
     ]
    },
    {
     "name": "stdout",
     "output_type": "stream",
     "text": [
      "[0.98900651 0.10913706 1.         0.19679634]\n",
      "2\n"
     ]
    },
    {
     "name": "stderr",
     "output_type": "stream",
     "text": [
      "<ipython-input-11-686a1c9f481f>:11: RuntimeWarning: invalid value encountered in long_scalars\n",
      "  recall = tp / (tp + fn)\n"
     ]
    },
    {
     "name": "stdout",
     "output_type": "stream",
     "text": [
      "(0.9992343618405941, 0.0, nan, nan)\n"
     ]
    },
    {
     "name": "stderr",
     "output_type": "stream",
     "text": [
      "<ipython-input-15-6cd60cc1786d>:10: RuntimeWarning: invalid value encountered in long_scalars\n",
      "  recall = tp / (tp + fn)\n",
      "<ipython-input-15-6cd60cc1786d>:9: RuntimeWarning: invalid value encountered in long_scalars\n",
      "  precision = tp / (tp + fp)\n",
      "<ipython-input-15-6cd60cc1786d>:10: RuntimeWarning: invalid value encountered in long_scalars\n",
      "  recall = tp / (tp + fn)\n",
      "\r",
      "  6%|▌         | 3/49 [00:07<01:57,  2.55s/it]"
     ]
    },
    {
     "name": "stdout",
     "output_type": "stream",
     "text": [
      "[0.99996172 0.                nan        nan]\n",
      "1\n",
      "(0.9914596273291926, 0.05232558139534884, 0.8181818181818182, 0.09836065573770493)\n"
     ]
    },
    {
     "name": "stderr",
     "output_type": "stream",
     "text": [
      "\r",
      "  8%|▊         | 4/49 [00:10<01:54,  2.54s/it]"
     ]
    },
    {
     "name": "stdout",
     "output_type": "stream",
     "text": [
      "[0.99482402 0.0990991  1.         0.18032787]\n",
      "2\n",
      "(0.9986819907212147, 0.2571428571428571, 0.2727272727272727, 0.2647058823529411)\n"
     ]
    },
    {
     "name": "stderr",
     "output_type": "stream",
     "text": [
      "\r",
      " 10%|█         | 5/49 [00:12<01:53,  2.58s/it]"
     ]
    },
    {
     "name": "stdout",
     "output_type": "stream",
     "text": [
      "[0.99918283 0.515625   1.         0.68041237]\n",
      "2\n",
      "(0.9977522261606294, 0.7272727272727273, 0.8571428571428571, 0.7868852459016394)\n"
     ]
    },
    {
     "name": "stderr",
     "output_type": "stream",
     "text": [
      "\r",
      " 12%|█▏        | 6/49 [00:15<01:48,  2.53s/it]"
     ]
    },
    {
     "name": "stdout",
     "output_type": "stream",
     "text": [
      "[0.99662834 0.59340659 0.96428571 0.73469388]\n",
      "2\n",
      "1\n",
      "(0.6831753268058506, 0.9939989746991948, 0.6449227157112111, 0.782285721066559)\n",
      "[0.77906716 0.99591013 0.75276854 0.85743576]\n"
     ]
    },
    {
     "name": "stderr",
     "output_type": "stream",
     "text": [
      "\r",
      " 16%|█▋        | 8/49 [00:20<01:49,  2.66s/it]"
     ]
    },
    {
     "name": "stdout",
     "output_type": "stream",
     "text": [
      "2\n",
      "(0.9950438327693251, 0.07, 1.0, 0.13084112149532712)\n"
     ]
    },
    {
     "name": "stderr",
     "output_type": "stream",
     "text": [
      "\r",
      " 18%|█▊        | 9/49 [00:23<01:46,  2.65s/it]"
     ]
    },
    {
     "name": "stdout",
     "output_type": "stream",
     "text": [
      "[0.99845453 0.19444444 1.         0.3255814 ]\n",
      "2\n",
      "(0.9810315096410096, 0.783359497645212, 0.6892265193370166, 0.7332843497428361)\n"
     ]
    },
    {
     "name": "stderr",
     "output_type": "stream",
     "text": [
      "\r",
      " 20%|██        | 10/49 [00:26<01:43,  2.64s/it]"
     ]
    },
    {
     "name": "stdout",
     "output_type": "stream",
     "text": [
      "[0.99754402 0.95073236 0.98618785 0.96813559]\n",
      "2\n",
      "(0.9935795488013194, 0.9042553191489362, 0.4594594594594595, 0.6093189964157706)\n"
     ]
    },
    {
     "name": "stderr",
     "output_type": "stream",
     "text": [
      "\r",
      " 22%|██▏       | 11/49 [00:28<01:38,  2.59s/it]"
     ]
    },
    {
     "name": "stdout",
     "output_type": "stream",
     "text": [
      "[0.99605348 0.87341772 0.74594595 0.80466472]\n",
      "2\n",
      "(0.868702621196786, 0.9906226819129729, 0.8545917751322113, 0.9175930667461804)\n",
      "[0.87557061 0.99466018 0.85914371 0.92194869]\n"
     ]
    },
    {
     "name": "stderr",
     "output_type": "stream",
     "text": [
      "\r",
      " 24%|██▍       | 12/49 [00:40<03:17,  5.32s/it]"
     ]
    },
    {
     "name": "stdout",
     "output_type": "stream",
     "text": [
      "2\n",
      "(0.9826685660018993, 0.30303030303030304, 0.8823529411764706, 0.4511278195488722)\n"
     ]
    },
    {
     "name": "stderr",
     "output_type": "stream",
     "text": [
      "\r",
      " 27%|██▋       | 13/49 [00:43<02:40,  4.46s/it]"
     ]
    },
    {
     "name": "stdout",
     "output_type": "stream",
     "text": [
      "[0.9985755  0.88888889 0.94117647 0.91428571]\n",
      "2\n",
      "(0.7807787997587454, 0.9603685033895359, 0.49718785151856015, 0.6551836589487415)\n"
     ]
    },
    {
     "name": "stderr",
     "output_type": "stream",
     "text": [
      "\r",
      " 29%|██▊       | 14/49 [00:49<02:50,  4.87s/it]"
     ]
    },
    {
     "name": "stdout",
     "output_type": "stream",
     "text": [
      "[0.93544557 0.98121225 0.8624072  0.91798175]\n",
      "2\n",
      "(0.9342682332557258, 0.9581295245548817, 0.8304222486009836, 0.889716569767442)\n"
     ]
    },
    {
     "name": "stderr",
     "output_type": "stream",
     "text": [
      "\r",
      " 31%|███       | 15/49 [00:52<02:27,  4.33s/it]"
     ]
    },
    {
     "name": "stdout",
     "output_type": "stream",
     "text": [
      "[0.9667551  0.97432214 0.92012888 0.94645038]\n",
      "2\n",
      "(0.9990669593852909, 0.17073170731707318, 1.0, 0.2916666666666667)\n"
     ]
    },
    {
     "name": "stderr",
     "output_type": "stream",
     "text": [
      "\r",
      " 33%|███▎      | 16/49 [00:54<02:07,  3.87s/it]"
     ]
    },
    {
     "name": "stdout",
     "output_type": "stream",
     "text": [
      "[0.99957464 0.30232558 0.92857143 0.45614035]\n",
      "toto\n",
      "2\n",
      "(0.9856543561315454, 0.898456943753111, 0.9097782258064516, 0.9040821437515653)\n"
     ]
    },
    {
     "name": "stderr",
     "output_type": "stream",
     "text": [
      "\r",
      " 35%|███▍      | 17/49 [00:58<01:58,  3.71s/it]"
     ]
    },
    {
     "name": "stdout",
     "output_type": "stream",
     "text": [
      "[0.99018653 0.94018405 0.92691532 0.93350254]\n",
      "2\n",
      "(0.998028034438244, 0.8003597122302158, 0.8428030303030303, 0.8210332103321033)\n",
      "[0.99798738 0.75541796 0.92424242 0.83134583]\n"
     ]
    },
    {
     "name": "stderr",
     "output_type": "stream",
     "text": [
      "\r",
      " 37%|███▋      | 18/49 [01:01<01:50,  3.56s/it]"
     ]
    },
    {
     "name": "stdout",
     "output_type": "stream",
     "text": [
      "2\n",
      "(0.9673234176807675, 0.9884143348060874, 0.9181867931411893, 0.9520071871010449)\n"
     ]
    },
    {
     "name": "stderr",
     "output_type": "stream",
     "text": [
      "\r",
      " 39%|███▉      | 19/49 [01:04<01:44,  3.49s/it]"
     ]
    },
    {
     "name": "stdout",
     "output_type": "stream",
     "text": [
      "[0.97588694 0.99068114 0.94053265 0.96495579]\n",
      "2\n",
      "(0.9925283797729618, 0.9193154034229829, 0.7175572519083969, 0.8060021436227225)\n"
     ]
    },
    {
     "name": "stderr",
     "output_type": "stream",
     "text": [
      "\r",
      " 41%|████      | 20/49 [01:07<01:33,  3.22s/it]"
     ]
    },
    {
     "name": "stdout",
     "output_type": "stream",
     "text": [
      "[0.9969453  0.95362903 0.90267176 0.92745098]\n",
      "2\n",
      "1\n",
      "(0.9818433605170026, 0.20270270270270271, 1.0, 0.3370786516853933)\n"
     ]
    },
    {
     "name": "stderr",
     "output_type": "stream",
     "text": [
      "\r",
      " 45%|████▍     | 22/49 [01:09<01:01,  2.28s/it]"
     ]
    },
    {
     "name": "stdout",
     "output_type": "stream",
     "text": [
      "[0.99261425 0.37837838 0.93333333 0.53846154]\n",
      "2\n",
      "(0.8102925770727327, 0.9909840288511077, 0.5348750984844974, 0.6947596544562502)\n",
      "[0.65266761 0.99022801 0.14089076 0.24668317]\n",
      "2\n"
     ]
    },
    {
     "name": "stderr",
     "output_type": "stream",
     "text": [
      "\r",
      " 47%|████▋     | 23/49 [01:12<01:04,  2.48s/it]"
     ]
    },
    {
     "name": "stdout",
     "output_type": "stream",
     "text": [
      "(0.9767551901579228, 0.02736318407960199, 0.8461538461538461, 0.05301204819277108)\n"
     ]
    },
    {
     "name": "stderr",
     "output_type": "stream",
     "text": [
      "\r",
      " 49%|████▉     | 24/49 [01:15<01:02,  2.50s/it]"
     ]
    },
    {
     "name": "stdout",
     "output_type": "stream",
     "text": [
      "[0.98408943 0.03956835 0.84615385 0.07560137]\n",
      "2\n",
      "1\n",
      "(0.9828001631019017, 0.004291845493562232, 1.0, 0.008547008547008546)\n"
     ]
    },
    {
     "name": "stderr",
     "output_type": "stream",
     "text": [
      "\r",
      " 53%|█████▎    | 26/49 [01:18<00:46,  2.01s/it]"
     ]
    },
    {
     "name": "stdout",
     "output_type": "stream",
     "text": [
      "[0.99299403 0.0104712  1.         0.02072539]\n",
      "2\n",
      "(0.9491800526109587, 0.9440261044176707, 0.8459289248762933, 0.8922894424673783)\n"
     ]
    },
    {
     "name": "stderr",
     "output_type": "stream",
     "text": [
      "\r",
      " 55%|█████▌    | 27/49 [01:20<00:48,  2.21s/it]"
     ]
    },
    {
     "name": "stdout",
     "output_type": "stream",
     "text": [
      "[0.95975821 0.970462   0.86459739 0.91447603]\n",
      "2\n",
      "(0.9803112215078901, 0.49081632653061225, 0.9232245681381958, 0.6409060626249168)\n"
     ]
    },
    {
     "name": "stderr",
     "output_type": "stream",
     "text": [
      "\r",
      " 57%|█████▋    | 28/49 [01:23<00:50,  2.41s/it]"
     ]
    },
    {
     "name": "stdout",
     "output_type": "stream",
     "text": [
      "[0.99167154 0.6977058  0.99232246 0.81933439]\n",
      "2\n",
      "(0.9740140429162019, 0.9489873610476626, 0.9903066899729859, 0.9692068429237947)\n"
     ]
    },
    {
     "name": "stderr",
     "output_type": "stream",
     "text": [
      "\r",
      " 59%|█████▉    | 29/49 [01:30<01:07,  3.40s/it]"
     ]
    },
    {
     "name": "stdout",
     "output_type": "stream",
     "text": [
      "[0.9797887  0.95638249 0.99650405 0.97603113]\n",
      "2\n",
      "(0.9918242830994509, 0.8808353808353808, 0.8074324324324325, 0.8425381903642772)\n"
     ]
    },
    {
     "name": "stderr",
     "output_type": "stream",
     "text": [
      "\r",
      " 61%|██████    | 30/49 [01:32<01:01,  3.22s/it]"
     ]
    },
    {
     "name": "stdout",
     "output_type": "stream",
     "text": [
      "[0.99679683 0.9803681  0.89977477 0.9383441 ]\n",
      "2\n",
      "(0.981283937305041, 0.24878836833602586, 0.88, 0.3879093198992444)\n"
     ]
    },
    {
     "name": "stderr",
     "output_type": "stream",
     "text": [
      "\r",
      " 63%|██████▎   | 31/49 [01:35<00:55,  3.08s/it]"
     ]
    },
    {
     "name": "stdout",
     "output_type": "stream",
     "text": [
      "[0.98902453 0.37668161 0.96       0.5410628 ]\n",
      "2\n",
      "(0.9827053540147148, 0.6863084922010398, 0.8139773895169579, 0.7447108603667137)\n"
     ]
    },
    {
     "name": "stderr",
     "output_type": "stream",
     "text": [
      "\r",
      " 65%|██████▌   | 32/49 [01:38<00:52,  3.07s/it]"
     ]
    },
    {
     "name": "stdout",
     "output_type": "stream",
     "text": [
      "[0.98837469 0.78200371 0.8663926  0.82203803]\n",
      "2\n",
      "(0.9749178342847258, 0.2471042471042471, 0.7398843930635838, 0.3704775687409551)\n"
     ]
    },
    {
     "name": "stderr",
     "output_type": "stream",
     "text": [
      "\r",
      " 67%|██████▋   | 33/49 [01:41<00:47,  2.95s/it]"
     ]
    },
    {
     "name": "stdout",
     "output_type": "stream",
     "text": [
      "[0.98673817 0.42105263 0.87861272 0.56928839]\n",
      "2\n",
      "(0.993844487122667, 0.0, nan, nan)\n"
     ]
    },
    {
     "name": "stderr",
     "output_type": "stream",
     "text": [
      "<ipython-input-11-686a1c9f481f>:11: RuntimeWarning: invalid value encountered in long_scalars\n",
      "  recall = tp / (tp + fn)\n",
      "<ipython-input-15-6cd60cc1786d>:10: RuntimeWarning: invalid value encountered in long_scalars\n",
      "  recall = tp / (tp + fn)\n",
      "<ipython-input-15-6cd60cc1786d>:9: RuntimeWarning: invalid value encountered in long_scalars\n",
      "  precision = tp / (tp + fp)\n",
      "<ipython-input-15-6cd60cc1786d>:10: RuntimeWarning: invalid value encountered in long_scalars\n",
      "  recall = tp / (tp + fn)\n",
      " 69%|██████▉   | 34/49 [01:43<00:42,  2.80s/it]"
     ]
    },
    {
     "name": "stdout",
     "output_type": "stream",
     "text": [
      "[0.99911361 0.                nan        nan]\n",
      "1\n",
      "(0.9873899119295436, 0.9710144927536232, 0.694300518134715, 0.809667673716012)\n"
     ]
    },
    {
     "name": "stderr",
     "output_type": "stream",
     "text": [
      "\r",
      " 71%|███████▏  | 35/49 [01:45<00:37,  2.67s/it]"
     ]
    },
    {
     "name": "stdout",
     "output_type": "stream",
     "text": [
      "[0.994996   0.97191011 0.89637306 0.93261456]\n",
      "2\n",
      "(0.9992688002699814, 0.5517241379310345, 1.0, 0.7111111111111111)\n"
     ]
    },
    {
     "name": "stderr",
     "output_type": "stream",
     "text": [
      "\r",
      " 73%|███████▎  | 36/49 [01:48<00:33,  2.57s/it]"
     ]
    },
    {
     "name": "stdout",
     "output_type": "stream",
     "text": [
      "[1. 1. 1. 1.]\n",
      "toto\n",
      "2\n",
      "(0.9988877766655544, 0.375, 1.0, 0.5454545454545454)\n"
     ]
    },
    {
     "name": "stderr",
     "output_type": "stream",
     "text": [
      "\r",
      " 76%|███████▌  | 37/49 [01:50<00:29,  2.50s/it]"
     ]
    },
    {
     "name": "stdout",
     "output_type": "stream",
     "text": [
      "[0.99988878 0.85714286 1.         0.92307692]\n",
      "toto\n",
      "2\n",
      "(0.9982219673071409, 0.4444444444444444, 0.8311688311688312, 0.5791855203619909)\n"
     ]
    },
    {
     "name": "stderr",
     "output_type": "stream",
     "text": [
      "\r",
      " 78%|███████▊  | 38/49 [01:53<00:28,  2.60s/it]"
     ]
    },
    {
     "name": "stdout",
     "output_type": "stream",
     "text": [
      "[0.99818373 0.44705882 0.98701299 0.61538462]\n",
      "2\n",
      "(0.9025581336504643, 0.9433218960477824, 0.6855374953823421, 0.7940311279884472)\n"
     ]
    },
    {
     "name": "stderr",
     "output_type": "stream",
     "text": [
      "\r",
      " 80%|███████▉  | 39/49 [01:56<00:28,  2.82s/it]"
     ]
    },
    {
     "name": "stdout",
     "output_type": "stream",
     "text": [
      "[0.98084563 0.97206337 0.9576099  0.96478251]\n",
      "2\n",
      "(0.997935397935398, 0.06060606060606061, 1.0, 0.1142857142857143)\n"
     ]
    },
    {
     "name": "stderr",
     "output_type": "stream",
     "text": [
      "\r",
      " 82%|████████▏ | 40/49 [01:59<00:24,  2.68s/it]"
     ]
    },
    {
     "name": "stdout",
     "output_type": "stream",
     "text": [
      "[0.9999334  1.         0.5        0.66666667]\n",
      "toto\n",
      "2\n",
      "(0.9958406823386948, 0.5596026490066225, 0.8711340206185567, 0.6814516129032258)\n"
     ]
    },
    {
     "name": "stderr",
     "output_type": "stream",
     "text": [
      "\r",
      " 84%|████████▎ | 41/49 [02:01<00:21,  2.70s/it]"
     ]
    },
    {
     "name": "stdout",
     "output_type": "stream",
     "text": [
      "[0.99915761 0.86160714 0.99484536 0.92344498]\n",
      "2\n",
      "(0.9619360902255639, 0.765983860955928, 0.740251949610078, 0.7528981086028066)\n"
     ]
    },
    {
     "name": "stderr",
     "output_type": "stream",
     "text": [
      "\r",
      " 86%|████████▌ | 42/49 [02:04<00:18,  2.69s/it]"
     ]
    },
    {
     "name": "stdout",
     "output_type": "stream",
     "text": [
      "[0.99234023 0.93317972 0.97180564 0.95210109]\n",
      "2\n",
      "(0.9933752898310699, 0.5658536585365853, 0.9133858267716536, 0.6987951807228915)\n"
     ]
    },
    {
     "name": "stderr",
     "output_type": "stream",
     "text": [
      "\r",
      " 88%|████████▊ | 43/49 [02:07<00:15,  2.62s/it]"
     ]
    },
    {
     "name": "stdout",
     "output_type": "stream",
     "text": [
      "[0.9954952  0.65775401 0.96850394 0.78343949]\n",
      "2\n",
      "(0.9773325849488365, 0.8511659807956105, 0.8011620400258231, 0.8254073827735283)\n"
     ]
    },
    {
     "name": "stderr",
     "output_type": "stream",
     "text": [
      "\r",
      " 90%|████████▉ | 44/49 [02:09<00:13,  2.61s/it]"
     ]
    },
    {
     "name": "stdout",
     "output_type": "stream",
     "text": [
      "[0.98424075 0.95538462 0.80180762 0.87188487]\n",
      "2\n",
      "(0.9571707170717072, 0.8612040133779264, 0.5134596211365903, 0.6433479075577764)\n"
     ]
    },
    {
     "name": "stderr",
     "output_type": "stream",
     "text": [
      "\r",
      " 92%|█████████▏| 45/49 [02:12<00:10,  2.61s/it]"
     ]
    },
    {
     "name": "stdout",
     "output_type": "stream",
     "text": [
      "[0.9720222  0.97297297 0.64606181 0.77651288]\n",
      "2\n",
      "(0.9879376976226725, 0.21774193548387097, 0.8181818181818182, 0.3439490445859873)\n"
     ]
    },
    {
     "name": "stderr",
     "output_type": "stream",
     "text": [
      "\r",
      " 94%|█████████▍| 46/49 [02:14<00:07,  2.54s/it]"
     ]
    },
    {
     "name": "stdout",
     "output_type": "stream",
     "text": [
      "[0.99836046 0.70212766 1.         0.825     ]\n",
      "2\n",
      "(0.9979132996460792, 0.09090909090909091, 0.8333333333333334, 0.16393442622950818)\n"
     ]
    },
    {
     "name": "stderr",
     "output_type": "stream",
     "text": [
      "\r",
      " 96%|█████████▌| 47/49 [02:17<00:05,  2.56s/it]"
     ]
    },
    {
     "name": "stdout",
     "output_type": "stream",
     "text": [
      "[0.99967267 0.41666667 0.83333333 0.55555556]\n",
      "toto\n",
      "2\n",
      "(0.9994884256298759, 0.058823529411764705, 1.0, 0.1111111111111111)\n"
     ]
    },
    {
     "name": "stderr",
     "output_type": "stream",
     "text": [
      "\r",
      " 98%|█████████▊| 48/49 [02:20<00:02,  2.67s/it]"
     ]
    },
    {
     "name": "stdout",
     "output_type": "stream",
     "text": [
      "[0.99969092 0.09375    1.         0.17142857]\n",
      "toto\n",
      "2\n",
      "(0.9977407291991275, 0.34146341463414637, 0.875, 0.4912280701754386)\n"
     ]
    },
    {
     "name": "stderr",
     "output_type": "stream",
     "text": [
      "100%|██████████| 49/49 [02:22<00:00,  2.91s/it]\n"
     ]
    },
    {
     "name": "stdout",
     "output_type": "stream",
     "text": [
      "[0.99968838 0.83333333 0.9375     0.88235294]\n",
      "toto\n",
      "2\n"
     ]
    },
    {
     "name": "stderr",
     "output_type": "stream",
     "text": [
      "\r",
      "  0%|          | 0/49 [00:00<?, ?it/s]"
     ]
    },
    {
     "name": "stdout",
     "output_type": "stream",
     "text": [
      "(0.9961693787860791, 0.051470588235294115, 1.0, 0.09790209790209789)\n"
     ]
    },
    {
     "name": "stderr",
     "output_type": "stream",
     "text": [
      "\r",
      "  2%|▏         | 1/49 [00:02<02:05,  2.61s/it]"
     ]
    },
    {
     "name": "stdout",
     "output_type": "stream",
     "text": [
      "[0.99899038 0.15384615 0.85714286 0.26086957]\n",
      "2\n",
      "(0.9543660736657479, 0.02486559139784946, 0.8604651162790697, 0.04833442194644023)\n"
     ]
    },
    {
     "name": "stderr",
     "output_type": "stream",
     "text": [
      "\r",
      "  4%|▍         | 2/49 [00:05<02:04,  2.64s/it]"
     ]
    },
    {
     "name": "stdout",
     "output_type": "stream",
     "text": [
      "[0.98850539 0.10487805 1.         0.18984547]\n",
      "2\n"
     ]
    },
    {
     "name": "stderr",
     "output_type": "stream",
     "text": [
      "<ipython-input-11-686a1c9f481f>:11: RuntimeWarning: invalid value encountered in long_scalars\n",
      "  recall = tp / (tp + fn)\n"
     ]
    },
    {
     "name": "stdout",
     "output_type": "stream",
     "text": [
      "(0.9992343618405941, 0.0, nan, nan)\n"
     ]
    },
    {
     "name": "stderr",
     "output_type": "stream",
     "text": [
      "<ipython-input-15-6cd60cc1786d>:10: RuntimeWarning: invalid value encountered in long_scalars\n",
      "  recall = tp / (tp + fn)\n",
      "<ipython-input-15-6cd60cc1786d>:9: RuntimeWarning: invalid value encountered in long_scalars\n",
      "  precision = tp / (tp + fp)\n",
      "<ipython-input-15-6cd60cc1786d>:10: RuntimeWarning: invalid value encountered in long_scalars\n",
      "  recall = tp / (tp + fn)\n",
      "\r",
      "  6%|▌         | 3/49 [00:07<01:57,  2.55s/it]"
     ]
    },
    {
     "name": "stdout",
     "output_type": "stream",
     "text": [
      "[0.99996172 0.                nan        nan]\n",
      "1\n",
      "(0.9914596273291926, 0.05232558139534884, 0.8181818181818182, 0.09836065573770493)\n"
     ]
    },
    {
     "name": "stderr",
     "output_type": "stream",
     "text": [
      "\r",
      "  8%|▊         | 4/49 [00:10<01:53,  2.53s/it]"
     ]
    },
    {
     "name": "stdout",
     "output_type": "stream",
     "text": [
      "[0.99642857 0.1375     1.         0.24175824]\n",
      "2\n",
      "(0.9986819907212147, 0.2571428571428571, 0.2727272727272727, 0.2647058823529411)\n"
     ]
    },
    {
     "name": "stderr",
     "output_type": "stream",
     "text": [
      "\r",
      " 10%|█         | 5/49 [00:12<01:53,  2.57s/it]"
     ]
    },
    {
     "name": "stdout",
     "output_type": "stream",
     "text": [
      "[0.99886651 0.43421053 1.         0.60550459]\n",
      "2\n",
      "(0.9977522261606294, 0.7272727272727273, 0.8571428571428571, 0.7868852459016394)\n"
     ]
    },
    {
     "name": "stderr",
     "output_type": "stream",
     "text": [
      "\r",
      " 12%|█▏        | 6/49 [00:15<01:47,  2.51s/it]"
     ]
    },
    {
     "name": "stdout",
     "output_type": "stream",
     "text": [
      "[0.99775223 0.69736842 0.94642857 0.8030303 ]\n",
      "toto\n",
      "2\n",
      "1\n",
      "(0.6831753268058506, 0.9939989746991948, 0.6449227157112111, 0.782285721066559)\n",
      "[0.77621786 0.98790189 0.75570338 0.85634153]\n"
     ]
    },
    {
     "name": "stderr",
     "output_type": "stream",
     "text": [
      "\r",
      " 16%|█▋        | 8/49 [00:20<01:48,  2.65s/it]"
     ]
    },
    {
     "name": "stdout",
     "output_type": "stream",
     "text": [
      "2\n",
      "(0.9950438327693251, 0.07, 1.0, 0.13084112149532712)\n"
     ]
    },
    {
     "name": "stderr",
     "output_type": "stream",
     "text": [
      "\r",
      " 18%|█▊        | 9/49 [00:23<01:45,  2.65s/it]"
     ]
    },
    {
     "name": "stdout",
     "output_type": "stream",
     "text": [
      "[0.99842788 0.19178082 1.         0.32183908]\n",
      "2\n",
      "(0.9810315096410096, 0.783359497645212, 0.6892265193370166, 0.7332843497428361)\n"
     ]
    },
    {
     "name": "stderr",
     "output_type": "stream",
     "text": [
      "\r",
      " 20%|██        | 10/49 [00:26<01:42,  2.64s/it]"
     ]
    },
    {
     "name": "stdout",
     "output_type": "stream",
     "text": [
      "[0.99749177 0.95187166 0.98342541 0.9673913 ]\n",
      "2\n",
      "(0.9935795488013194, 0.9042553191489362, 0.4594594594594595, 0.6093189964157706)\n"
     ]
    },
    {
     "name": "stderr",
     "output_type": "stream",
     "text": [
      "\r",
      " 22%|██▏       | 11/49 [00:28<01:38,  2.59s/it]"
     ]
    },
    {
     "name": "stdout",
     "output_type": "stream",
     "text": [
      "[0.99605348 0.87341772 0.74594595 0.80466472]\n",
      "2\n",
      "(0.868702621196786, 0.9906226819129729, 0.8545917751322113, 0.9175930667461804)\n",
      "[0.87803896 0.99440244 0.86227089 0.92363505]\n"
     ]
    },
    {
     "name": "stderr",
     "output_type": "stream",
     "text": [
      "\r",
      " 24%|██▍       | 12/49 [00:40<03:16,  5.32s/it]"
     ]
    },
    {
     "name": "stdout",
     "output_type": "stream",
     "text": [
      "2\n",
      "(0.9826685660018993, 0.30303030303030304, 0.8823529411764706, 0.4511278195488722)\n"
     ]
    },
    {
     "name": "stderr",
     "output_type": "stream",
     "text": [
      "\r",
      " 27%|██▋       | 13/49 [00:43<02:40,  4.46s/it]"
     ]
    },
    {
     "name": "stdout",
     "output_type": "stream",
     "text": [
      "[0.99833808 0.88571429 0.91176471 0.89855072]\n",
      "2\n",
      "(0.7807787997587454, 0.9603685033895359, 0.49718785151856015, 0.6551836589487415)\n"
     ]
    },
    {
     "name": "stderr",
     "output_type": "stream",
     "text": [
      "\r",
      " 29%|██▊       | 14/49 [00:48<02:50,  4.87s/it]"
     ]
    },
    {
     "name": "stdout",
     "output_type": "stream",
     "text": [
      "[0.91976402 0.97746599 0.82753656 0.89627446]\n",
      "2\n",
      "(0.9342682332557258, 0.9581295245548817, 0.8304222486009836, 0.889716569767442)\n"
     ]
    },
    {
     "name": "stderr",
     "output_type": "stream",
     "text": [
      "\r",
      " 31%|███       | 15/49 [00:51<02:27,  4.34s/it]"
     ]
    },
    {
     "name": "stdout",
     "output_type": "stream",
     "text": [
      "[0.97227787 0.98140533 0.93081228 0.95543951]\n",
      "2\n",
      "(0.9990669593852909, 0.17073170731707318, 1.0, 0.2916666666666667)\n"
     ]
    },
    {
     "name": "stderr",
     "output_type": "stream",
     "text": [
      "\r",
      " 33%|███▎      | 16/49 [00:54<02:07,  3.87s/it]"
     ]
    },
    {
     "name": "stdout",
     "output_type": "stream",
     "text": [
      "[0.99960209 0.31707317 0.92857143 0.47272727]\n",
      "toto\n",
      "2\n",
      "(0.9856543561315454, 0.898456943753111, 0.9097782258064516, 0.9040821437515653)\n"
     ]
    },
    {
     "name": "stderr",
     "output_type": "stream",
     "text": [
      "\r",
      " 35%|███▍      | 17/49 [00:58<01:58,  3.71s/it]"
     ]
    },
    {
     "name": "stdout",
     "output_type": "stream",
     "text": [
      "[0.99022399 0.94430119 0.92288306 0.93346928]\n",
      "2\n",
      "(0.998028034438244, 0.8003597122302158, 0.8428030303030303, 0.8210332103321033)\n",
      "[0.99752996 0.7027027  0.93560606 0.80259951]\n"
     ]
    },
    {
     "name": "stderr",
     "output_type": "stream",
     "text": [
      "\r",
      " 37%|███▋      | 18/49 [01:01<01:50,  3.56s/it]"
     ]
    },
    {
     "name": "stdout",
     "output_type": "stream",
     "text": [
      "2\n",
      "(0.9673234176807675, 0.9884143348060874, 0.9181867931411893, 0.9520071871010449)\n"
     ]
    },
    {
     "name": "stderr",
     "output_type": "stream",
     "text": [
      "\r",
      " 39%|███▉      | 19/49 [01:04<01:44,  3.50s/it]"
     ]
    },
    {
     "name": "stdout",
     "output_type": "stream",
     "text": [
      "[0.97633765 0.99078783 0.94171835 0.96563011]\n",
      "2\n",
      "(0.9925283797729618, 0.9193154034229829, 0.7175572519083969, 0.8060021436227225)\n"
     ]
    },
    {
     "name": "stderr",
     "output_type": "stream",
     "text": [
      "\r",
      " 41%|████      | 20/49 [01:07<01:33,  3.22s/it]"
     ]
    },
    {
     "name": "stdout",
     "output_type": "stream",
     "text": [
      "[0.99673891 0.93713163 0.91030534 0.92352372]\n",
      "2\n",
      "1\n",
      "(0.9818433605170026, 0.20270270270270271, 1.0, 0.3370786516853933)\n"
     ]
    },
    {
     "name": "stderr",
     "output_type": "stream",
     "text": [
      "\r",
      " 45%|████▍     | 22/49 [01:09<01:01,  2.28s/it]"
     ]
    },
    {
     "name": "stdout",
     "output_type": "stream",
     "text": [
      "[0.99369134 0.41538462 0.9        0.56842105]\n",
      "2\n",
      "(0.8102925770727327, 0.9909840288511077, 0.5348750984844974, 0.6947596544562502)\n",
      "[0.65014217 0.98778419 0.13491218 0.2374001 ]\n",
      "2\n"
     ]
    },
    {
     "name": "stderr",
     "output_type": "stream",
     "text": [
      "\r",
      " 47%|████▋     | 23/49 [01:12<01:04,  2.47s/it]"
     ]
    },
    {
     "name": "stdout",
     "output_type": "stream",
     "text": [
      "(0.9767551901579228, 0.02736318407960199, 0.8461538461538461, 0.05301204819277108)\n"
     ]
    },
    {
     "name": "stderr",
     "output_type": "stream",
     "text": [
      "\r",
      " 49%|████▉     | 24/49 [01:15<01:02,  2.49s/it]"
     ]
    },
    {
     "name": "stdout",
     "output_type": "stream",
     "text": [
      "[0.98556811 0.04347826 0.84615385 0.08270677]\n",
      "2\n",
      "1\n",
      "(0.9828001631019017, 0.004291845493562232, 1.0, 0.008547008547008546)\n"
     ]
    },
    {
     "name": "stderr",
     "output_type": "stream",
     "text": [
      "\r",
      " 53%|█████▎    | 26/49 [01:17<00:45,  2.00s/it]"
     ]
    },
    {
     "name": "stdout",
     "output_type": "stream",
     "text": [
      "[0.99288283 0.01030928 1.         0.02040816]\n",
      "toto\n",
      "2\n",
      "(0.9491800526109587, 0.9440261044176707, 0.8459289248762933, 0.8922894424673783)\n"
     ]
    },
    {
     "name": "stderr",
     "output_type": "stream",
     "text": [
      "\r",
      " 55%|█████▌    | 27/49 [01:20<00:48,  2.19s/it]"
     ]
    },
    {
     "name": "stdout",
     "output_type": "stream",
     "text": [
      "[0.96804164 0.9708384  0.8985605  0.93330218]\n",
      "2\n",
      "(0.9803112215078901, 0.49081632653061225, 0.9232245681381958, 0.6409060626249168)\n"
     ]
    },
    {
     "name": "stderr",
     "output_type": "stream",
     "text": [
      "\r",
      " 57%|█████▋    | 28/49 [01:23<00:50,  2.39s/it]"
     ]
    },
    {
     "name": "stdout",
     "output_type": "stream",
     "text": [
      "[0.9914889  0.69302949 0.99232246 0.81610103]\n",
      "2\n",
      "(0.9740140429162019, 0.9489873610476626, 0.9903066899729859, 0.9692068429237947)\n"
     ]
    },
    {
     "name": "stderr",
     "output_type": "stream",
     "text": [
      "\r",
      " 59%|█████▉    | 29/49 [01:29<01:07,  3.37s/it]"
     ]
    },
    {
     "name": "stdout",
     "output_type": "stream",
     "text": [
      "[0.98110112 0.95944912 0.99634515 0.97754911]\n",
      "2\n",
      "(0.9918242830994509, 0.8808353808353808, 0.8074324324324325, 0.8425381903642772)\n"
     ]
    },
    {
     "name": "stderr",
     "output_type": "stream",
     "text": [
      "\r",
      " 61%|██████    | 30/49 [01:32<01:00,  3.19s/it]"
     ]
    },
    {
     "name": "stdout",
     "output_type": "stream",
     "text": [
      "[0.99661379 0.9802225  0.89301802 0.93459045]\n",
      "2\n",
      "(0.981283937305041, 0.24878836833602586, 0.88, 0.3879093198992444)\n"
     ]
    },
    {
     "name": "stderr",
     "output_type": "stream",
     "text": [
      "\r",
      " 63%|██████▎   | 31/49 [01:35<00:54,  3.05s/it]"
     ]
    },
    {
     "name": "stdout",
     "output_type": "stream",
     "text": [
      "[0.9896407  0.39170507 0.97142857 0.55829228]\n",
      "2\n",
      "(0.9827053540147148, 0.6863084922010398, 0.8139773895169579, 0.7447108603667137)\n"
     ]
    },
    {
     "name": "stderr",
     "output_type": "stream",
     "text": [
      "\r",
      " 65%|██████▌   | 32/49 [01:38<00:51,  3.05s/it]"
     ]
    },
    {
     "name": "stdout",
     "output_type": "stream",
     "text": [
      "[0.98827913 0.77880184 0.8684481  0.82118562]\n",
      "2\n",
      "(0.9749178342847258, 0.2471042471042471, 0.7398843930635838, 0.3704775687409551)\n"
     ]
    },
    {
     "name": "stderr",
     "output_type": "stream",
     "text": [
      "\r",
      " 67%|██████▋   | 33/49 [01:40<00:46,  2.93s/it]"
     ]
    },
    {
     "name": "stdout",
     "output_type": "stream",
     "text": [
      "[0.98835265 0.45619335 0.87283237 0.59920635]\n",
      "2\n",
      "(0.993844487122667, 0.0, nan, nan)\n"
     ]
    },
    {
     "name": "stderr",
     "output_type": "stream",
     "text": [
      "<ipython-input-11-686a1c9f481f>:11: RuntimeWarning: invalid value encountered in long_scalars\n",
      "  recall = tp / (tp + fn)\n",
      "<ipython-input-15-6cd60cc1786d>:10: RuntimeWarning: invalid value encountered in long_scalars\n",
      "  recall = tp / (tp + fn)\n",
      "<ipython-input-15-6cd60cc1786d>:9: RuntimeWarning: invalid value encountered in long_scalars\n",
      "  precision = tp / (tp + fp)\n",
      "<ipython-input-15-6cd60cc1786d>:10: RuntimeWarning: invalid value encountered in long_scalars\n",
      "  recall = tp / (tp + fn)\n",
      " 69%|██████▉   | 34/49 [01:43<00:41,  2.79s/it]"
     ]
    },
    {
     "name": "stdout",
     "output_type": "stream",
     "text": [
      "[0.99901512 0.                nan        nan]\n",
      "1\n",
      "(0.9873899119295436, 0.9710144927536232, 0.694300518134715, 0.809667673716012)\n"
     ]
    },
    {
     "name": "stderr",
     "output_type": "stream",
     "text": [
      "\r",
      " 71%|███████▏  | 35/49 [01:45<00:37,  2.67s/it]"
     ]
    },
    {
     "name": "stdout",
     "output_type": "stream",
     "text": [
      "[0.994996   0.97727273 0.89119171 0.93224932]\n",
      "2\n",
      "(0.9992688002699814, 0.5517241379310345, 1.0, 0.7111111111111111)\n"
     ]
    },
    {
     "name": "stderr",
     "output_type": "stream",
     "text": [
      "\r",
      " 73%|███████▎  | 36/49 [01:48<00:33,  2.58s/it]"
     ]
    },
    {
     "name": "stdout",
     "output_type": "stream",
     "text": [
      "[1. 1. 1. 1.]\n",
      "toto\n",
      "2\n",
      "(0.9988877766655544, 0.375, 1.0, 0.5454545454545454)\n"
     ]
    },
    {
     "name": "stderr",
     "output_type": "stream",
     "text": [
      "\r",
      " 76%|███████▌  | 37/49 [01:50<00:30,  2.50s/it]"
     ]
    },
    {
     "name": "stdout",
     "output_type": "stream",
     "text": [
      "[0.99988878 0.85714286 1.         0.92307692]\n",
      "toto\n",
      "2\n",
      "(0.9982219673071409, 0.4444444444444444, 0.8311688311688312, 0.5791855203619909)\n"
     ]
    },
    {
     "name": "stderr",
     "output_type": "stream",
     "text": [
      "\r",
      " 78%|███████▊  | 38/49 [01:53<00:28,  2.60s/it]"
     ]
    },
    {
     "name": "stdout",
     "output_type": "stream",
     "text": [
      "[0.99818373 0.44705882 0.98701299 0.61538462]\n",
      "2\n",
      "(0.9025581336504643, 0.9433218960477824, 0.6855374953823421, 0.7940311279884472)\n"
     ]
    },
    {
     "name": "stderr",
     "output_type": "stream",
     "text": [
      "\r",
      " 80%|███████▉  | 39/49 [01:56<00:28,  2.83s/it]"
     ]
    },
    {
     "name": "stdout",
     "output_type": "stream",
     "text": [
      "[0.9873485  0.98324911 0.97035464 0.97675932]\n",
      "2\n",
      "(0.997935397935398, 0.06060606060606061, 1.0, 0.1142857142857143)\n"
     ]
    },
    {
     "name": "stderr",
     "output_type": "stream",
     "text": [
      "\r",
      " 82%|████████▏ | 40/49 [01:58<00:24,  2.69s/it]"
     ]
    },
    {
     "name": "stdout",
     "output_type": "stream",
     "text": [
      "[0.9999334  1.         0.5        0.66666667]\n",
      "toto\n",
      "2\n",
      "(0.9958406823386948, 0.5596026490066225, 0.8711340206185567, 0.6814516129032258)\n"
     ]
    },
    {
     "name": "stderr",
     "output_type": "stream",
     "text": [
      "\r",
      " 84%|████████▎ | 41/49 [02:01<00:21,  2.70s/it]"
     ]
    },
    {
     "name": "stdout",
     "output_type": "stream",
     "text": [
      "[0.99928923 0.88127854 0.99484536 0.9346247 ]\n",
      "2\n",
      "(0.9619360902255639, 0.765983860955928, 0.740251949610078, 0.7528981086028066)\n"
     ]
    },
    {
     "name": "stderr",
     "output_type": "stream",
     "text": [
      "\r",
      " 86%|████████▌ | 42/49 [02:04<00:18,  2.69s/it]"
     ]
    },
    {
     "name": "stdout",
     "output_type": "stream",
     "text": [
      "[0.99177632 0.92482916 0.97420516 0.94887526]\n",
      "2\n",
      "(0.9933752898310699, 0.5658536585365853, 0.9133858267716536, 0.6987951807228915)\n"
     ]
    },
    {
     "name": "stderr",
     "output_type": "stream",
     "text": [
      "\r",
      " 88%|████████▊ | 43/49 [02:06<00:15,  2.63s/it]"
     ]
    },
    {
     "name": "stdout",
     "output_type": "stream",
     "text": [
      "[0.9942365  0.5952381  0.98425197 0.74183976]\n",
      "2\n",
      "(0.9773325849488365, 0.8511659807956105, 0.8011620400258231, 0.8254073827735283)\n"
     ]
    },
    {
     "name": "stderr",
     "output_type": "stream",
     "text": [
      "\r",
      " 90%|████████▉ | 44/49 [02:09<00:13,  2.62s/it]"
     ]
    },
    {
     "name": "stdout",
     "output_type": "stream",
     "text": [
      "[0.98454298 0.95842956 0.80374435 0.87429775]\n",
      "2\n",
      "(0.9571707170717072, 0.8612040133779264, 0.5134596211365903, 0.6433479075577764)\n"
     ]
    },
    {
     "name": "stderr",
     "output_type": "stream",
     "text": [
      "\r",
      " 92%|█████████▏| 45/49 [02:12<00:10,  2.62s/it]"
     ]
    },
    {
     "name": "stdout",
     "output_type": "stream",
     "text": [
      "[0.97224722 0.96750369 0.65304088 0.7797619 ]\n",
      "2\n",
      "(0.9879376976226725, 0.21774193548387097, 0.8181818181818182, 0.3439490445859873)\n"
     ]
    },
    {
     "name": "stderr",
     "output_type": "stream",
     "text": [
      "\r",
      " 94%|█████████▍| 46/49 [02:14<00:07,  2.55s/it]"
     ]
    },
    {
     "name": "stdout",
     "output_type": "stream",
     "text": [
      "[0.99824335 0.6875     1.         0.81481481]\n",
      "2\n",
      "(0.9979132996460792, 0.09090909090909091, 0.8333333333333334, 0.16393442622950818)\n"
     ]
    },
    {
     "name": "stderr",
     "output_type": "stream",
     "text": [
      "\r",
      " 96%|█████████▌| 47/49 [02:17<00:05,  2.60s/it]"
     ]
    },
    {
     "name": "stdout",
     "output_type": "stream",
     "text": [
      "[0.99969313 0.44       0.91666667 0.59459459]\n",
      "2\n",
      "(0.9994884256298759, 0.058823529411764705, 1.0, 0.1111111111111111)\n"
     ]
    },
    {
     "name": "stderr",
     "output_type": "stream",
     "text": [
      "\r",
      " 98%|█████████▊| 48/49 [02:20<00:02,  2.70s/it]"
     ]
    },
    {
     "name": "stdout",
     "output_type": "stream",
     "text": [
      "[0.99966961 0.08823529 1.         0.16216216]\n",
      "toto\n",
      "2\n",
      "(0.9977407291991275, 0.34146341463414637, 0.875, 0.4912280701754386)\n"
     ]
    },
    {
     "name": "stderr",
     "output_type": "stream",
     "text": [
      "100%|██████████| 49/49 [02:22<00:00,  2.91s/it]\n"
     ]
    },
    {
     "name": "stdout",
     "output_type": "stream",
     "text": [
      "[0.99968838 0.83333333 0.9375     0.88235294]\n",
      "toto\n",
      "2\n"
     ]
    },
    {
     "name": "stderr",
     "output_type": "stream",
     "text": [
      "\r",
      "  0%|          | 0/49 [00:00<?, ?it/s]"
     ]
    },
    {
     "name": "stdout",
     "output_type": "stream",
     "text": [
      "(0.9961693787860791, 0.051470588235294115, 1.0, 0.09790209790209789)\n"
     ]
    },
    {
     "name": "stderr",
     "output_type": "stream",
     "text": [
      "\r",
      "  2%|▏         | 1/49 [00:02<02:06,  2.64s/it]"
     ]
    },
    {
     "name": "stdout",
     "output_type": "stream",
     "text": [
      "[0.99902007 0.15789474 0.85714286 0.26666667]\n",
      "2\n",
      "(0.9543660736657479, 0.02486559139784946, 0.8604651162790697, 0.04833442194644023)\n"
     ]
    },
    {
     "name": "stderr",
     "output_type": "stream",
     "text": [
      "\r",
      "  4%|▍         | 2/49 [00:05<02:04,  2.65s/it]"
     ]
    },
    {
     "name": "stdout",
     "output_type": "stream",
     "text": [
      "[0.98919444 0.11082474 1.         0.19953596]\n",
      "2\n"
     ]
    },
    {
     "name": "stderr",
     "output_type": "stream",
     "text": [
      "<ipython-input-11-686a1c9f481f>:11: RuntimeWarning: invalid value encountered in long_scalars\n",
      "  recall = tp / (tp + fn)\n"
     ]
    },
    {
     "name": "stdout",
     "output_type": "stream",
     "text": [
      "(0.9992343618405941, 0.0, nan, nan)\n"
     ]
    },
    {
     "name": "stderr",
     "output_type": "stream",
     "text": [
      "<ipython-input-15-6cd60cc1786d>:10: RuntimeWarning: invalid value encountered in long_scalars\n",
      "  recall = tp / (tp + fn)\n",
      "<ipython-input-15-6cd60cc1786d>:9: RuntimeWarning: invalid value encountered in long_scalars\n",
      "  precision = tp / (tp + fp)\n",
      "<ipython-input-15-6cd60cc1786d>:10: RuntimeWarning: invalid value encountered in long_scalars\n",
      "  recall = tp / (tp + fn)\n",
      "\r",
      "  6%|▌         | 3/49 [00:07<01:57,  2.55s/it]"
     ]
    },
    {
     "name": "stdout",
     "output_type": "stream",
     "text": [
      "[0.99996172 0.                nan        nan]\n",
      "1\n",
      "(0.9914596273291926, 0.05232558139534884, 0.8181818181818182, 0.09836065573770493)\n"
     ]
    },
    {
     "name": "stderr",
     "output_type": "stream",
     "text": [
      "\r",
      "  8%|▊         | 4/49 [00:10<01:54,  2.54s/it]"
     ]
    },
    {
     "name": "stdout",
     "output_type": "stream",
     "text": [
      "[0.99565217 0.11578947 1.         0.20754717]\n",
      "2\n",
      "(0.9986819907212147, 0.2571428571428571, 0.2727272727272727, 0.2647058823529411)\n"
     ]
    },
    {
     "name": "stderr",
     "output_type": "stream",
     "text": [
      "\r",
      " 10%|█         | 5/49 [00:12<01:53,  2.58s/it]"
     ]
    },
    {
     "name": "stdout",
     "output_type": "stream",
     "text": [
      "[0.99918283 0.515625   1.         0.68041237]\n",
      "2\n",
      "(0.9977522261606294, 0.7272727272727273, 0.8571428571428571, 0.7868852459016394)\n"
     ]
    },
    {
     "name": "stderr",
     "output_type": "stream",
     "text": [
      "\r",
      " 12%|█▏        | 6/49 [00:15<01:47,  2.51s/it]"
     ]
    },
    {
     "name": "stdout",
     "output_type": "stream",
     "text": [
      "[0.9970606  0.62790698 0.96428571 0.76056338]\n",
      "toto\n",
      "2\n",
      "1\n",
      "(0.6831753268058506, 0.9939989746991948, 0.6449227157112111, 0.782285721066559)\n",
      "[0.79179402 0.99435429 0.76846018 0.86693375]\n"
     ]
    },
    {
     "name": "stderr",
     "output_type": "stream",
     "text": [
      "\r",
      " 16%|█▋        | 8/49 [00:20<01:48,  2.65s/it]"
     ]
    },
    {
     "name": "stdout",
     "output_type": "stream",
     "text": [
      "2\n",
      "(0.9950438327693251, 0.07, 1.0, 0.13084112149532712)\n"
     ]
    },
    {
     "name": "stderr",
     "output_type": "stream",
     "text": [
      "\r",
      " 18%|█▊        | 9/49 [00:23<01:45,  2.65s/it]"
     ]
    },
    {
     "name": "stdout",
     "output_type": "stream",
     "text": [
      "[0.99821471 0.17283951 1.         0.29473684]\n",
      "2\n",
      "(0.9810315096410096, 0.783359497645212, 0.6892265193370166, 0.7332843497428361)\n"
     ]
    },
    {
     "name": "stderr",
     "output_type": "stream",
     "text": [
      "\r",
      " 20%|██        | 10/49 [00:26<01:43,  2.64s/it]"
     ]
    },
    {
     "name": "stdout",
     "output_type": "stream",
     "text": [
      "[0.99754402 0.95681511 0.97928177 0.96791809]\n",
      "2\n",
      "(0.9935795488013194, 0.9042553191489362, 0.4594594594594595, 0.6093189964157706)\n"
     ]
    },
    {
     "name": "stderr",
     "output_type": "stream",
     "text": [
      "\r",
      " 22%|██▏       | 11/49 [00:28<01:38,  2.59s/it]"
     ]
    },
    {
     "name": "stdout",
     "output_type": "stream",
     "text": [
      "[0.99605348 0.87341772 0.74594595 0.80466472]\n",
      "2\n",
      "(0.868702621196786, 0.9906226819129729, 0.8545917751322113, 0.9175930667461804)\n",
      "[0.87975337 0.99420938 0.8644563  0.92480382]\n"
     ]
    },
    {
     "name": "stderr",
     "output_type": "stream",
     "text": [
      "\r",
      " 24%|██▍       | 12/49 [00:40<03:16,  5.32s/it]"
     ]
    },
    {
     "name": "stdout",
     "output_type": "stream",
     "text": [
      "2\n",
      "(0.9826685660018993, 0.30303030303030304, 0.8823529411764706, 0.4511278195488722)\n"
     ]
    },
    {
     "name": "stderr",
     "output_type": "stream",
     "text": [
      "\r",
      " 27%|██▋       | 13/49 [00:43<02:40,  4.46s/it]"
     ]
    },
    {
     "name": "stdout",
     "output_type": "stream",
     "text": [
      "[0.9985755  0.88888889 0.94117647 0.91428571]\n",
      "2\n",
      "(0.7807787997587454, 0.9603685033895359, 0.49718785151856015, 0.6551836589487415)\n"
     ]
    },
    {
     "name": "stderr",
     "output_type": "stream",
     "text": [
      "\r",
      " 29%|██▊       | 14/49 [00:48<02:50,  4.87s/it]"
     ]
    },
    {
     "name": "stdout",
     "output_type": "stream",
     "text": [
      "[0.92677548 0.97641313 0.8456243  0.9063246 ]\n",
      "2\n",
      "(0.9342682332557258, 0.9581295245548817, 0.8304222486009836, 0.889716569767442)\n"
     ]
    },
    {
     "name": "stderr",
     "output_type": "stream",
     "text": [
      "\r",
      " 31%|███       | 15/49 [00:51<02:27,  4.33s/it]"
     ]
    },
    {
     "name": "stdout",
     "output_type": "stream",
     "text": [
      "[0.97065353 0.97330741 0.9336951  0.95308984]\n",
      "2\n",
      "(0.9990669593852909, 0.17073170731707318, 1.0, 0.2916666666666667)\n"
     ]
    },
    {
     "name": "stderr",
     "output_type": "stream",
     "text": [
      "\r",
      " 33%|███▎      | 16/49 [00:54<02:07,  3.87s/it]"
     ]
    },
    {
     "name": "stdout",
     "output_type": "stream",
     "text": [
      "[0.99953348 0.2826087  0.92857143 0.43333333]\n",
      "toto\n",
      "2\n",
      "(0.9856543561315454, 0.898456943753111, 0.9097782258064516, 0.9040821437515653)\n"
     ]
    },
    {
     "name": "stderr",
     "output_type": "stream",
     "text": [
      "\r",
      " 35%|███▍      | 17/49 [00:58<01:58,  3.71s/it]"
     ]
    },
    {
     "name": "stdout",
     "output_type": "stream",
     "text": [
      "[0.99018653 0.9375     0.92993952 0.93370445]\n",
      "2\n",
      "(0.998028034438244, 0.8003597122302158, 0.8428030303030303, 0.8210332103321033)\n",
      "[0.99752996 0.7027027  0.93560606 0.80259951]\n"
     ]
    },
    {
     "name": "stderr",
     "output_type": "stream",
     "text": [
      "\r",
      " 37%|███▋      | 18/49 [01:01<01:50,  3.56s/it]"
     ]
    },
    {
     "name": "stdout",
     "output_type": "stream",
     "text": [
      "2\n",
      "(0.9673234176807675, 0.9884143348060874, 0.9181867931411893, 0.9520071871010449)\n"
     ]
    },
    {
     "name": "stderr",
     "output_type": "stream",
     "text": [
      "\r",
      " 39%|███▉      | 19/49 [01:04<01:45,  3.50s/it]"
     ]
    },
    {
     "name": "stdout",
     "output_type": "stream",
     "text": [
      "[0.97508209 0.99198532 0.93697556 0.96369606]\n",
      "2\n",
      "(0.9925283797729618, 0.9193154034229829, 0.7175572519083969, 0.8060021436227225)\n"
     ]
    },
    {
     "name": "stderr",
     "output_type": "stream",
     "text": [
      "\r",
      " 41%|████      | 20/49 [01:07<01:33,  3.22s/it]"
     ]
    },
    {
     "name": "stdout",
     "output_type": "stream",
     "text": [
      "[0.99686275 0.94268775 0.91030534 0.92621359]\n",
      "2\n",
      "1\n",
      "(0.9818433605170026, 0.20270270270270271, 1.0, 0.3370786516853933)\n"
     ]
    },
    {
     "name": "stderr",
     "output_type": "stream",
     "text": [
      "\r",
      " 45%|████▍     | 22/49 [01:09<01:01,  2.29s/it]"
     ]
    },
    {
     "name": "stdout",
     "output_type": "stream",
     "text": [
      "[0.99276812 0.38356164 0.93333333 0.54368932]\n",
      "2\n",
      "(0.8102925770727327, 0.9909840288511077, 0.5348750984844974, 0.6947596544562502)\n"
     ]
    },
    {
     "name": "stderr",
     "output_type": "stream",
     "text": [
      "\r",
      " 47%|████▋     | 23/49 [01:12<01:04,  2.47s/it]"
     ]
    },
    {
     "name": "stdout",
     "output_type": "stream",
     "text": [
      "[0.64920682 0.98960139 0.13231682 0.23342327]\n",
      "2\n",
      "(0.9767551901579228, 0.02736318407960199, 0.8461538461538461, 0.05301204819277108)\n"
     ]
    },
    {
     "name": "stderr",
     "output_type": "stream",
     "text": [
      "\r",
      " 49%|████▉     | 24/49 [01:15<01:02,  2.49s/it]"
     ]
    },
    {
     "name": "stdout",
     "output_type": "stream",
     "text": [
      "[0.98633702 0.04201681 0.76923077 0.07968127]\n",
      "2\n",
      "1\n",
      "(0.9828001631019017, 0.004291845493562232, 1.0, 0.008547008547008546)\n"
     ]
    },
    {
     "name": "stderr",
     "output_type": "stream",
     "text": [
      "\r",
      " 53%|█████▎    | 26/49 [01:17<00:46,  2.01s/it]"
     ]
    },
    {
     "name": "stdout",
     "output_type": "stream",
     "text": [
      "[0.99321644 0.01081081 1.         0.02139037]\n",
      "2\n",
      "(0.9491800526109587, 0.9440261044176707, 0.8459289248762933, 0.8922894424673783)\n"
     ]
    },
    {
     "name": "stderr",
     "output_type": "stream",
     "text": [
      "\r",
      " 55%|█████▌    | 27/49 [01:20<00:48,  2.20s/it]"
     ]
    },
    {
     "name": "stdout",
     "output_type": "stream",
     "text": [
      "[0.95332177 0.97203346 0.83648223 0.89917795]\n",
      "2\n",
      "(0.9803112215078901, 0.49081632653061225, 0.9232245681381958, 0.6409060626249168)\n"
     ]
    },
    {
     "name": "stderr",
     "output_type": "stream",
     "text": [
      "\r",
      " 57%|█████▋    | 28/49 [01:23<00:50,  2.39s/it]"
     ]
    },
    {
     "name": "stdout",
     "output_type": "stream",
     "text": [
      "[0.99145237 0.69210174 0.99232246 0.81545741]\n",
      "2\n",
      "(0.9740140429162019, 0.9489873610476626, 0.9903066899729859, 0.9692068429237947)\n"
     ]
    },
    {
     "name": "stderr",
     "output_type": "stream",
     "text": [
      "\r",
      " 59%|█████▉    | 29/49 [01:29<01:07,  3.37s/it]"
     ]
    },
    {
     "name": "stdout",
     "output_type": "stream",
     "text": [
      "[0.98064177 0.95870297 0.99602733 0.97700881]\n",
      "2\n",
      "(0.9918242830994509, 0.8808353808353808, 0.8074324324324325, 0.8425381903642772)\n"
     ]
    },
    {
     "name": "stderr",
     "output_type": "stream",
     "text": [
      "\r",
      " 61%|██████    | 30/49 [01:32<01:00,  3.21s/it]"
     ]
    },
    {
     "name": "stdout",
     "output_type": "stream",
     "text": [
      "[0.99661379 0.9802225  0.89301802 0.93459045]\n",
      "2\n",
      "(0.981283937305041, 0.24878836833602586, 0.88, 0.3879093198992444)\n"
     ]
    },
    {
     "name": "stderr",
     "output_type": "stream",
     "text": [
      "\r",
      " 63%|██████▎   | 31/49 [01:35<00:55,  3.06s/it]"
     ]
    },
    {
     "name": "stdout",
     "output_type": "stream",
     "text": [
      "[0.98702199 0.33864542 0.97142857 0.50221566]\n",
      "2\n",
      "(0.9827053540147148, 0.6863084922010398, 0.8139773895169579, 0.7447108603667137)\n"
     ]
    },
    {
     "name": "stderr",
     "output_type": "stream",
     "text": [
      "\r",
      " 65%|██████▌   | 32/49 [01:38<00:51,  3.06s/it]"
     ]
    },
    {
     "name": "stdout",
     "output_type": "stream",
     "text": [
      "[0.98856579 0.78745318 0.8643371  0.82410583]\n",
      "2\n",
      "(0.9749178342847258, 0.2471042471042471, 0.7398843930635838, 0.3704775687409551)\n"
     ]
    },
    {
     "name": "stderr",
     "output_type": "stream",
     "text": [
      "\r",
      " 67%|██████▋   | 33/49 [01:41<00:47,  2.94s/it]"
     ]
    },
    {
     "name": "stdout",
     "output_type": "stream",
     "text": [
      "[0.98823733 0.45345345 0.87283237 0.59683794]\n",
      "2\n",
      "(0.993844487122667, 0.0, nan, nan)\n"
     ]
    },
    {
     "name": "stderr",
     "output_type": "stream",
     "text": [
      "<ipython-input-11-686a1c9f481f>:11: RuntimeWarning: invalid value encountered in long_scalars\n",
      "  recall = tp / (tp + fn)\n",
      "<ipython-input-15-6cd60cc1786d>:10: RuntimeWarning: invalid value encountered in long_scalars\n",
      "  recall = tp / (tp + fn)\n",
      "<ipython-input-15-6cd60cc1786d>:9: RuntimeWarning: invalid value encountered in long_scalars\n",
      "  precision = tp / (tp + fp)\n",
      "<ipython-input-15-6cd60cc1786d>:10: RuntimeWarning: invalid value encountered in long_scalars\n",
      "  recall = tp / (tp + fn)\n",
      " 69%|██████▉   | 34/49 [01:43<00:41,  2.80s/it]"
     ]
    },
    {
     "name": "stdout",
     "output_type": "stream",
     "text": [
      "[0.99911361 0.                nan        nan]\n",
      "1\n",
      "(0.9873899119295436, 0.9710144927536232, 0.694300518134715, 0.809667673716012)\n"
     ]
    },
    {
     "name": "stderr",
     "output_type": "stream",
     "text": [
      "\r",
      " 71%|███████▏  | 35/49 [01:45<00:37,  2.67s/it]"
     ]
    },
    {
     "name": "stdout",
     "output_type": "stream",
     "text": [
      "[0.994996   0.97727273 0.89119171 0.93224932]\n",
      "2\n",
      "(0.9992688002699814, 0.5517241379310345, 1.0, 0.7111111111111111)\n"
     ]
    },
    {
     "name": "stderr",
     "output_type": "stream",
     "text": [
      "\r",
      " 73%|███████▎  | 36/49 [01:48<00:33,  2.57s/it]"
     ]
    },
    {
     "name": "stdout",
     "output_type": "stream",
     "text": [
      "[1. 1. 1. 1.]\n",
      "toto\n",
      "2\n",
      "(0.9988877766655544, 0.375, 1.0, 0.5454545454545454)\n"
     ]
    },
    {
     "name": "stderr",
     "output_type": "stream",
     "text": [
      "\r",
      " 76%|███████▌  | 37/49 [01:50<00:29,  2.50s/it]"
     ]
    },
    {
     "name": "stdout",
     "output_type": "stream",
     "text": [
      "[0.99988878 0.85714286 1.         0.92307692]\n",
      "toto\n",
      "2\n",
      "(0.9982219673071409, 0.4444444444444444, 0.8311688311688312, 0.5791855203619909)\n"
     ]
    },
    {
     "name": "stderr",
     "output_type": "stream",
     "text": [
      "\r",
      " 78%|███████▊  | 38/49 [01:53<00:28,  2.59s/it]"
     ]
    },
    {
     "name": "stdout",
     "output_type": "stream",
     "text": [
      "[0.99711309 0.33628319 0.98701299 0.50165017]\n",
      "2\n",
      "(0.9025581336504643, 0.9433218960477824, 0.6855374953823421, 0.7940311279884472)\n"
     ]
    },
    {
     "name": "stderr",
     "output_type": "stream",
     "text": [
      "\r",
      " 80%|███████▉  | 39/49 [01:56<00:28,  2.82s/it]"
     ]
    },
    {
     "name": "stdout",
     "output_type": "stream",
     "text": [
      "[0.98051669 0.97345133 0.95493166 0.96410256]\n",
      "2\n",
      "(0.997935397935398, 0.06060606060606061, 1.0, 0.1142857142857143)\n"
     ]
    },
    {
     "name": "stderr",
     "output_type": "stream",
     "text": [
      "\r",
      " 82%|████████▏ | 40/49 [01:59<00:24,  2.69s/it]"
     ]
    },
    {
     "name": "stdout",
     "output_type": "stream",
     "text": [
      "[0.9999334  1.         0.5        0.66666667]\n",
      "toto\n",
      "2\n",
      "(0.9958406823386948, 0.5596026490066225, 0.8711340206185567, 0.6814516129032258)\n"
     ]
    },
    {
     "name": "stderr",
     "output_type": "stream",
     "text": [
      "\r",
      " 84%|████████▎ | 41/49 [02:01<00:21,  2.71s/it]"
     ]
    },
    {
     "name": "stdout",
     "output_type": "stream",
     "text": [
      "[0.99923658 0.87330317 0.99484536 0.93012048]\n",
      "2\n",
      "(0.9619360902255639, 0.765983860955928, 0.740251949610078, 0.7528981086028066)\n"
     ]
    },
    {
     "name": "stderr",
     "output_type": "stream",
     "text": [
      "\r",
      " 86%|████████▌ | 42/49 [02:04<00:18,  2.69s/it]"
     ]
    },
    {
     "name": "stdout",
     "output_type": "stream",
     "text": [
      "[0.99205827 0.92898053 0.9730054  0.95048345]\n",
      "2\n",
      "(0.9933752898310699, 0.5658536585365853, 0.9133858267716536, 0.6987951807228915)\n"
     ]
    },
    {
     "name": "stderr",
     "output_type": "stream",
     "text": [
      "\r",
      " 88%|████████▊ | 43/49 [02:06<00:15,  2.63s/it]"
     ]
    },
    {
     "name": "stdout",
     "output_type": "stream",
     "text": [
      "[0.99609142 0.68681319 0.98425197 0.80906149]\n",
      "2\n",
      "(0.9773325849488365, 0.8511659807956105, 0.8011620400258231, 0.8254073827735283)\n"
     ]
    },
    {
     "name": "stderr",
     "output_type": "stream",
     "text": [
      "\r",
      " 90%|████████▉ | 44/49 [02:09<00:13,  2.61s/it]"
     ]
    },
    {
     "name": "stdout",
     "output_type": "stream",
     "text": [
      "[0.98449981 0.95769231 0.80374435 0.87399087]\n",
      "2\n",
      "(0.9571707170717072, 0.8612040133779264, 0.5134596211365903, 0.6433479075577764)\n"
     ]
    },
    {
     "name": "stderr",
     "output_type": "stream",
     "text": [
      "\r",
      " 92%|█████████▏| 45/49 [02:12<00:10,  2.62s/it]"
     ]
    },
    {
     "name": "stdout",
     "output_type": "stream",
     "text": [
      "[0.97052205 0.97805643 0.6221336  0.76051188]\n",
      "2\n",
      "(0.9879376976226725, 0.21774193548387097, 0.8181818181818182, 0.3439490445859873)\n"
     ]
    },
    {
     "name": "stderr",
     "output_type": "stream",
     "text": [
      "\r",
      " 94%|█████████▍| 46/49 [02:14<00:07,  2.55s/it]"
     ]
    },
    {
     "name": "stdout",
     "output_type": "stream",
     "text": [
      "[0.99800913 0.66       1.         0.79518072]\n",
      "2\n",
      "(0.9979132996460792, 0.09090909090909091, 0.8333333333333334, 0.16393442622950818)\n"
     ]
    },
    {
     "name": "stderr",
     "output_type": "stream",
     "text": [
      "\r",
      " 96%|█████████▌| 47/49 [02:17<00:05,  2.57s/it]"
     ]
    },
    {
     "name": "stdout",
     "output_type": "stream",
     "text": [
      "[0.99967267 0.41666667 0.83333333 0.55555556]\n",
      "toto\n",
      "2\n",
      "(0.9994884256298759, 0.058823529411764705, 1.0, 0.1111111111111111)\n"
     ]
    },
    {
     "name": "stderr",
     "output_type": "stream",
     "text": [
      "\r",
      " 98%|█████████▊| 48/49 [02:20<00:02,  2.68s/it]"
     ]
    },
    {
     "name": "stdout",
     "output_type": "stream",
     "text": [
      "[0.9995204  0.0625     1.         0.11764706]\n",
      "toto\n",
      "2\n",
      "(0.9977407291991275, 0.34146341463414637, 0.875, 0.4912280701754386)\n"
     ]
    },
    {
     "name": "stderr",
     "output_type": "stream",
     "text": [
      "100%|██████████| 49/49 [02:22<00:00,  2.91s/it]"
     ]
    },
    {
     "name": "stdout",
     "output_type": "stream",
     "text": [
      "[0.99968838 0.83333333 0.9375     0.88235294]\n",
      "toto\n",
      "2\n"
     ]
    },
    {
     "name": "stderr",
     "output_type": "stream",
     "text": [
      "\n"
     ]
    }
   ],
   "source": [
    "        \n",
    "    \n",
    "    \n",
    "    \n",
    "for ki in range(10):\n",
    "    for filename in tqdm(os.listdir('truemasks/')):\n",
    "        try:\n",
    "\n",
    "            thresh = 0.3\n",
    "            filename = filename[:4]+'_'+filename[4:]\n",
    "            path_predictions_features = 'features_predictions/'\n",
    "            path_predictions_features = os.path.join(path_predictions_features,filename)\n",
    "            path_results = 'results/'\n",
    "            path_patches = '/home/ahabis/Scribble Project/patches'\n",
    "            path_masks = '/home/ahabis/Scribble Project/patchesmasks'\n",
    "\n",
    "\n",
    "            predictions = np.load(os.path.join(path_predictions_features,'predictions.npy'))\n",
    "            features = np.load(os.path.join(path_predictions_features,'features.npy'))\n",
    "            trues = np.load(os.path.join(path_predictions_features,'trues.npy'))\n",
    "            mean = np.mean(features, axis = 0)\n",
    "            std = np.std(features, axis = 0)\n",
    "            features = (features - mean) / std\n",
    "\n",
    "\n",
    "            svm = SGDClassifier(shuffle=True,alpha = 1e-4)\n",
    "            preds = np.zeros((4,4))\n",
    "            res_binary = np.zeros((4, predictions.shape[0]))\n",
    "\n",
    "\n",
    "            preds[0,:] = metrics_first(predictions, trues)\n",
    "            res_binary[0,:] = (predictions>thresh).astype(int)\n",
    "\n",
    "            print(metrics_first(predictions,trues))\n",
    "\n",
    "\n",
    "            data, y, indexes_fn1, indexes_fp1  = compute_new_dataset(features, predictions,trues,first = True)\n",
    "\n",
    "            ###########1 st round################\n",
    "            for i in range (400):\n",
    "                svm.partial_fit(data,y,classes=[0,1])\n",
    "\n",
    "            predictions = svm.predict(features)\n",
    "\n",
    "            predictions[indexes_fn1] = 1\n",
    "            predictions[indexes_fp1] = 0\n",
    "\n",
    "            preds[1,:] = metrics(predictions, trues)\n",
    "            res_binary[1,:] = predictions\n",
    "            print(preds[1,:])\n",
    "            if np.sum(np.array(preds[1,:])) == 4:\n",
    "                preds[1:,:] = np.ones((3,4))\n",
    "                print('toto')\n",
    "            else:\n",
    "\n",
    "                ###########2 nd round################\n",
    "\n",
    "                data, y, indexes_fn2, indexes_fp2  = compute_new_dataset(features, predictions,trues,first = False)\n",
    "\n",
    "                for i in range(10):\n",
    "                    svm.partial_fit(data,y,classes=[0,1])\n",
    "                predictions = svm.predict(features)\n",
    "\n",
    "                predictions[indexes_fn1] = 1\n",
    "                predictions[indexes_fp1] = 0\n",
    "                predictions[indexes_fn2] = 1\n",
    "                predictions[indexes_fp2] = 0\n",
    "\n",
    "                preds[2,:] = metrics(predictions, trues)\n",
    "                res_binary[2,:] = predictions\n",
    "                if np.sum(np.array(preds[2,:])) == 4:\n",
    "                    preds[2:,:] = np.ones((2,4))\n",
    "                    print('toto')\n",
    "\n",
    "                else:\n",
    "\n",
    "\n",
    "                    ###########3 rd round################\n",
    "\n",
    "                    data, y, indexes_fn3, indexes_fp3  = compute_new_dataset(features, predictions,trues,first = False)\n",
    "\n",
    "\n",
    "                    for i in range(10):\n",
    "                        svm.partial_fit(data,y,classes=[0,1])\n",
    "                    predictions = svm.predict(features)\n",
    "\n",
    "                    predictions[indexes_fn1] = 1\n",
    "                    predictions[indexes_fp1] = 0\n",
    "                    predictions[indexes_fn2] = 1\n",
    "                    predictions[indexes_fp2] = 0\n",
    "                    predictions[indexes_fn3] = 1\n",
    "                    predictions[indexes_fp3] = 0\n",
    "\n",
    "                    preds[3,:] = metrics(predictions, trues)\n",
    "                    res_binary[3,:] = predictions\n",
    "                    metrics(predictions, trues)\n",
    "            print(2)\n",
    "            np.save(os.path.join(path_results, filename+str(ki)+'.npy'), preds)\n",
    "        except: \n",
    "            print(1)\n",
    "            pass\n",
    "\n",
    "                        "
   ]
  },
  {
   "cell_type": "code",
   "execution_count": null,
   "id": "2da76f59",
   "metadata": {},
   "outputs": [],
   "source": [
    "print(os.path.join(path_results, filename+str(1)+'.npy'))"
   ]
  },
  {
   "cell_type": "code",
   "execution_count": 34,
   "id": "54c4d073",
   "metadata": {},
   "outputs": [
    {
     "name": "stdout",
     "output_type": "stream",
     "text": [
      "['test_061.npy', 'test_048.npy', 'test_0216.npy', 'predictions_test_046.npy', 'test_008.npy', 'test_0921.npy', 'test_0799.npy', 'test_0017.npy', 'test_104.npy', 'test_0486.npy', 'test_0717.npy', 'test_0489.npy', 'test_0790.npy', 'test_1210.npy', 'predictions_test_064.npy', 'test_0484.npy', 'test_1046.npy', 'test_0271.npy', 'test_1022.npy', 'test_0655.npy', 'test_0085.npy', 'test_1057.npy', 'test_0296.npy', 'test_116.npy', 'test_1225.npy', 'test_0642.npy', 'test_105.npy', 'test_0827.npy', 'test_1041.npy', 'test_0712.npy', 'test_0404.npy', 'test_0750.npy', 'test_0081.npy', 'test_0946.npy', 'test_1020.npy', 'test_0979.npy', 'test_0949.npy', 'test_0400.npy', 'predictions_test_001.npy', 'predictions_test_010.npy', 'test_0044.npy', 'predictions_test_097.npy', 'test_0481.npy', 'test_0522.npy', 'test_069.npy', 'test_0264.npy', 'test_1059.npy', 'test_0948.npy', 'test_0737.npy', 'test_0088.npy', 'test_0652.npy', 'test_0529.npy', 'test_0526.npy', 'test_0518.npy', 'test_0643.npy', 'test_0664.npy', 'test_1040.npy', 'test_0515.npy', 'test_0214.npy', 'test_0527.npy', 'predictions_test_026.npy', 'test_1138.npy', 'test_0211.npy', 'predictions_test_116.npy', 'test_1106.npy', 'test_0926.npy', 'test_0524.npy', 'test_0693.npy', 'test_1023.npy', 'predictions_test_104.npy', 'test_0021.npy', 'test_0945.npy', 'test_0650.npy', 'test_1223.npy', 'test_0010.npy', 'test_0467.npy', 'test_0940.npy', 'test_0040.npy', 'test_0695.npy', 'test_1135.npy', 'test_1080.npy', 'test_0464.npy', 'test_1102.npy', 'test_0087.npy', 'test_0164.npy', 'test_0823.npy', 'test_0641.npy', 'test_0792.npy', 'test_0739.npy', 'test_0657.npy', 'test_0731.npy', 'test_1137.npy', 'test_094.npy', 'test_0610.npy', 'test_0797.npy', 'predictions_test_040.npy', 'test_0301.npy', 'predictions_test_016.npy', 'test_1220.npy', 'test_0268.npy', 'test_0735.npy', 'test_0752.npy', 'test_0942.npy', 'test_0217.npy', 'test_1029.npy', 'predictions_test_071.npy', 'test_0169.npy', 'test_110.npy', 'test_1028.npy', 'test_021.npy', 'test_0904.npy', 'test_117.npy', 'test_0276.npy', 'test_1132.npy', 'test_0163.npy', 'test_0161.npy', 'test_0928.npy', 'test_0971.npy', 'test_0084.npy', 'test_1026.npy', 'predictions_test_092.npy', 'test_0265.npy', 'test_0903.npy', 'test_1228.npy', 'predictions_test_029.npy', 'test_0692.npy', 'test_0791.npy', 'test_0694.npy', 'test_0511.npy', 'test_0758.npy', 'test_0647.npy', 'test_064.npy', 'test_0905.npy', 'test_004.npy', 'test_1087.npy', 'predictions_test_048.npy', 'predictions_test_075.npy', 'test_0840.npy', 'test_1229.npy', 'test_0826.npy', 'test_065.npy', 'test_051.npy', 'test_0714.npy', 'test_0645.npy', 'test_0941.npy', 'test_1108.npy', 'test_0521.npy', 'test_0510.npy', 'test_1133.npy', 'test_0617.npy', 'test_0049.npy', 'test_011.npy', 'test_071.npy', 'test_0305.npy', 'test_0025.npy', 'test_066.npy', 'test_0920.npy', 'predictions_test_008.npy', 'test_0407.npy', 'test_0653.npy', 'predictions_test_108.npy', 'test_1219.npy', 'test_0300.npy', 'test_0043.npy', 'test_1043.npy', 'test_1024.npy', 'test_0083.npy', 'test_0822.npy', 'test_0649.npy', 'test_0909.npy', 'test_0306.npy', 'test_0669.npy', 'test_0309.npy', 'test_0906.npy', 'test_1212.npy', 'test_0022.npy', 'test_1053.npy', 'test_0512.npy', 'predictions_test_066.npy', 'test_0697.npy', 'test_052.npy', 'test_0086.npy', 'test_030.npy', 'test_0611.npy', 'test_0270.npy', 'test_0730.npy', 'test_027.npy', 'test_0667.npy', 'test_0213.npy', 'test_0732.npy', 'test_1055.npy', 'test_1051.npy', 'test_1058.npy', 'test_0943.npy', 'test_0663.npy', 'test_0020.npy', 'test_1100.npy', 'test_1081.npy', 'test_0975.npy', 'test_0015.npy', 'test_1169.npy', 'test_0482.npy', 'test_1056.npy', 'test_0483.npy', 'test_0465.npy', 'test_0648.npy', 'test_0408.npy', 'test_0016.npy', 'test_0644.npy', 'test_0019.npy', 'test_0757.npy', 'test_0976.npy', 'test_1109.npy', 'predictions_test_084.npy', 'predictions_test_102.npy', 'test_0014.npy', 'test_121.npy', 'test_1104.npy', 'test_0218.npy', 'test_0640.npy', 'test_029.npy', 'test_0759.npy', 'test_0517.npy', 'test_1134.npy', 'test_0273.npy', 'test_0925.npy', 'test_0487.npy', 'test_0336.npy', 'test_046.npy', 'test_0798.npy', 'test_1226.npy', 'test_0167.npy', 'test_0082.npy', 'test_090.npy', 'predictions_test_121.npy', 'test_1105.npy', 'test_0469.npy', 'test_1025.npy', 'predictions_test_105.npy', 'test_0523.npy', 'test_1042.npy', 'test_0754.npy', 'test_0651.npy', 'test_0829.npy', 'test_1211.npy', 'test_026.npy', 'test_1101.npy', 'test_0011.npy', 'predictions_test_110.npy', 'predictions_test_051.npy', 'test_0654.npy', 'predictions_test_079.npy', 'test_113.npy', 'test_0718.npy', 'test_0215.npy', 'test_0028.npy', 'test_0944.npy', 'test_0485.npy', 'test_0047.npy', 'test_0658.npy', 'test_0710.npy', 'test_0274.npy', 'predictions_test_004.npy', 'test_0480.npy', 'test_0615.npy', 'test_1085.npy', 'test_0261.npy', 'test_0278.npy', 'test_0793.npy', 'test_0488.npy', 'test_0613.npy', 'test_0828.npy', 'test_1052.npy', 'test_1107.npy', 'test_0719.npy', 'test_0974.npy', 'test_0275.npy', 'test_1083.npy', 'test_0403.npy', 'test_0463.npy', 'test_0614.npy', 'test_0947.npy', 'test_0738.npy', 'test_013.npy', 'predictions_test_002.npy', 'predictions_test_073.npy', 'test_0927.npy', 'test_0736.npy', 'predictions_test_011.npy', 'test_108.npy', 'test_1130.npy', 'test_0924.npy', 'test_0794.npy', 'test_0973.npy', 'test_1215.npy', 'test_0267.npy', 'test_1217.npy', 'test_0796.npy', 'test_092.npy', 'test_0462.npy', 'test_0212.npy', 'test_1086.npy', 'test_0528.npy', 'predictions_test_082.npy', 'test_0902.npy', 'test_1131.npy', 'test_0922.npy', 'test_1044.npy', 'test_0795.npy', 'test_0272.npy', 'test_097.npy', 'test_0409.npy', 'test_0733.npy', 'predictions_test_030.npy', 'test_0304.npy', 'test_073.npy', 'test_0970.npy', 'test_079.npy', 'predictions_test_069.npy', 'test_0715.npy', 'test_0279.npy', 'test_0461.npy', 'test_1047.npy', 'test_033.npy', 'test_0751.npy', 'test_0466.npy', 'test_0219.npy', 'test_0901.npy', 'predictions_test_113.npy', 'test_0513.npy', 'test_0923.npy', 'test_1021.npy', 'test_0165.npy', 'test_0713.npy', 'test_0401.npy', 'test_0666.npy', 'test_0668.npy', 'test_0978.npy', 'predictions_test_033.npy', 'test_0303.npy', 'test_0260.npy', 'test_0162.npy', 'test_0402.npy', 'predictions_test_065.npy', 'test_0646.npy', 'test_0691.npy', 'test_1049.npy', 'test_0525.npy', 'test_0734.npy', 'test_1221.npy', 'test_001.npy', 'test_002.npy', 'test_084.npy', 'test_0302.npy', 'predictions_test_117.npy', 'test_0269.npy', 'test_0080.npy', 'test_1160.npy', 'test_0660.npy', 'predictions_test_122.npy', 'test_0820.npy', 'predictions_test_052.npy', 'test_0619.npy', 'test_0294.npy', 'test_0101.npy', 'test_102.npy', 'test_1045.npy', 'test_1213.npy', 'test_0520.npy', 'predictions_test_013.npy', 'test_0026.npy', 'test_0659.npy', 'predictions_test_061.npy', 'test_0519.npy', 'test_0753.npy', 'test_1214.npy', 'test_0277.npy', 'test_0166.npy', 'test_0405.npy', 'test_0023.npy', 'test_0908.npy', 'test_0041.npy', 'test_1027.npy', 'test_0907.npy', 'test_040.npy', 'test_1227.npy', 'predictions_test_021.npy', 'test_010.npy', 'test_1048.npy', 'test_0824.npy', 'test_0012.npy', 'test_0665.npy', 'test_0711.npy', 'test_1139.npy', 'test_016.npy', 'predictions_test_027.npy', 'test_0308.npy', 'test_0460.npy', 'test_0160.npy', 'test_1050.npy', 'test_1222.npy', 'test_1224.npy', 'predictions_test_090.npy', 'test_0656.npy', 'test_0929.npy', 'test_0841.npy', 'test_0406.npy', 'test_0102.npy', 'test_1136.npy', 'test_1089.npy', 'predictions_test_094.npy', 'test_0698.npy', 'test_1216.npy', 'test_082.npy', 'test_0210.npy', 'test_075.npy', 'test_0104.npy', 'test_0029.npy', 'test_0972.npy', 'test_0024.npy', 'test_0696.npy', 'test_0716.npy', 'test_0699.npy', 'test_0013.npy', 'test_0516.npy', 'test_0262.npy', 'test_0756.npy', 'test_1103.npy', 'test_0755.npy', 'test_0168.npy', 'test_0690.npy', 'test_0616.npy', 'test_122.npy', 'test_1218.npy', 'test_1084.npy', 'test_0089.npy', 'test_0612.npy', 'test_0514.npy', 'test_0977.npy', 'test_0018.npy', 'test_0662.npy', 'test_1054.npy', 'test_0307.npy', 'test_0661.npy', 'test_0468.npy', 'test_1088.npy', 'test_0266.npy', 'test_0900.npy', 'test_0821.npy', 'test_0825.npy', 'test_0263.npy', 'test_1082.npy', 'test_0027.npy', 'test_0618.npy']\n"
     ]
    }
   ],
   "source": [
    "print(os.listdir(path_results))"
   ]
  },
  {
   "cell_type": "code",
   "execution_count": null,
   "id": "977df7a5",
   "metadata": {},
   "outputs": [],
   "source": []
  }
 ],
 "metadata": {
  "kernelspec": {
   "display_name": "Python 3",
   "language": "python",
   "name": "python3"
  },
  "language_info": {
   "codemirror_mode": {
    "name": "ipython",
    "version": 3
   },
   "file_extension": ".py",
   "mimetype": "text/x-python",
   "name": "python",
   "nbconvert_exporter": "python",
   "pygments_lexer": "ipython3",
   "version": "3.8.10"
  }
 },
 "nbformat": 4,
 "nbformat_minor": 5
}
